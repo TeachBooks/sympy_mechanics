{
 "cells": [
  {
   "cell_type": "markdown",
   "id": "f000b296",
   "metadata": {},
   "source": [
    "Stelsel vergelijkingen (knoopevenwicht van een vakwerk)"
   ]
  },
  {
   "cell_type": "code",
   "execution_count": 1,
   "id": "058a5858",
   "metadata": {},
   "outputs": [],
   "source": [
    "import sympy as sp\n",
    "Ah, Av, Bv, N1, N2, N3, N4, N5, F = sp.symbols('Ah Av Bv N1 N2 N3 N4 N5 F')"
   ]
  },
  {
   "cell_type": "code",
   "execution_count": 2,
   "id": "c0b16337",
   "metadata": {},
   "outputs": [
    {
     "data": {
      "text/plain": [
       "{N1: F/2,\n",
       " N2: sqrt(5)*F/10,\n",
       " N3: -sqrt(5)*F/10,\n",
       " N4: 2*sqrt(5)*F/5,\n",
       " N5: F/5,\n",
       " Ah: -3*F/5,\n",
       " Av: -F/5,\n",
       " Bv: -3*F/5}"
      ]
     },
     "metadata": {},
     "output_type": "display_data"
    }
   ],
   "source": [
    "eq1 = sp.Eq(sp.nsimplify(Ah+N1+(1/sp.sqrt(5))*N2),0)\n",
    "eq2 = sp.Eq(sp.nsimplify(Av+(2/sp.sqrt(5))*N2),0)\n",
    "eq3 = sp.Eq(sp.nsimplify(-N1-(1/sp.sqrt(5))*N3+(1/sp.sqrt(5))*N4),0)\n",
    "eq4 = sp.Eq(sp.nsimplify(Bv+(2/sp.sqrt(5))*N3+(2/sp.sqrt(5))*N4),0)\n",
    "eq5 = sp.Eq(sp.nsimplify((-1/sp.sqrt(5))*N2+(1/sp.sqrt(5))*N3+N5),0)\n",
    "eq6 = sp.Eq(sp.nsimplify((-2/sp.sqrt(5))*N2-(2/sp.sqrt(5))*N3),0)\n",
    "eq7 = sp.Eq(sp.nsimplify((-1/sp.sqrt(5))*N4-N5+(3/5)*F),0)\n",
    "eq8 = sp.Eq(sp.nsimplify((-2/sp.sqrt(5))*N4+(4/5)*F),0)\n",
    "sol = sp.solve((eq1,eq2,eq3,eq4,eq5,eq6,eq7,eq8),(N1,N2,N3,N4,N5,Ah,Av,Bv))\n",
    "display(sol)"
   ]
  },
  {
   "cell_type": "code",
   "execution_count": 6,
   "id": "332df8b5",
   "metadata": {},
   "outputs": [
    {
     "data": {
      "text/latex": [
       "$\\displaystyle 25$"
      ],
      "text/plain": [
       "25"
      ]
     },
     "metadata": {},
     "output_type": "display_data"
    },
    {
     "data": {
      "text/latex": [
       "$\\displaystyle 5 \\sqrt{5}$"
      ],
      "text/plain": [
       "5*sqrt(5)"
      ]
     },
     "metadata": {},
     "output_type": "display_data"
    },
    {
     "data": {
      "text/latex": [
       "$\\displaystyle - 5 \\sqrt{5}$"
      ],
      "text/plain": [
       "-5*sqrt(5)"
      ]
     },
     "metadata": {},
     "output_type": "display_data"
    },
    {
     "data": {
      "text/latex": [
       "$\\displaystyle 20 \\sqrt{5}$"
      ],
      "text/plain": [
       "20*sqrt(5)"
      ]
     },
     "metadata": {},
     "output_type": "display_data"
    },
    {
     "data": {
      "text/latex": [
       "$\\displaystyle 10$"
      ],
      "text/plain": [
       "10"
      ]
     },
     "metadata": {},
     "output_type": "display_data"
    },
    {
     "data": {
      "text/latex": [
       "$\\displaystyle -30$"
      ],
      "text/plain": [
       "-30"
      ]
     },
     "metadata": {},
     "output_type": "display_data"
    },
    {
     "data": {
      "text/latex": [
       "$\\displaystyle -10$"
      ],
      "text/plain": [
       "-10"
      ]
     },
     "metadata": {},
     "output_type": "display_data"
    },
    {
     "data": {
      "text/latex": [
       "$\\displaystyle -30$"
      ],
      "text/plain": [
       "-30"
      ]
     },
     "metadata": {},
     "output_type": "display_data"
    }
   ],
   "source": [
    "display(sol[N1].subs(F,50))\n",
    "display(sol[N2].subs(F,50))\n",
    "display(sol[N3].subs(F,50))\n",
    "display(sol[N4].subs(F,50))\n",
    "display(sol[N5].subs(F,50))\n",
    "display(sol[Ah].subs(F,50))\n",
    "display(sol[Av].subs(F,50))\n",
    "display(sol[Bv].subs(F,50))"
   ]
  }
 ],
 "metadata": {
  "kernelspec": {
   "display_name": "Python 3 (ipykernel)",
   "language": "python",
   "name": "python3"
  },
  "language_info": {
   "codemirror_mode": {
    "name": "ipython",
    "version": 3
   },
   "file_extension": ".py",
   "mimetype": "text/x-python",
   "name": "python",
   "nbconvert_exporter": "python",
   "pygments_lexer": "ipython3",
   "version": "3.9.13"
  }
 },
 "nbformat": 4,
 "nbformat_minor": 5
}
