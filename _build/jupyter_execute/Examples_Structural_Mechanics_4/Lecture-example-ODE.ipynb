{
 "cells": [
  {
   "cell_type": "markdown",
   "id": "18835df9",
   "metadata": {},
   "source": [
    "# Lecture example ODE #"
   ]
  },
  {
   "cell_type": "markdown",
   "id": "20fe3f56",
   "metadata": {},
   "source": [
    "Double bending for unsymmetrical and or inhomogeneous cross sections, one side clamped beam and simply supported at the other end,  loaded with a constant distributed load $q_y$ and $q_z$ :"
   ]
  },
  {
   "cell_type": "code",
   "execution_count": 1,
   "id": "0a745fa9",
   "metadata": {},
   "outputs": [],
   "source": [
    "import sympy as sp\n",
    "uy, uz = sp.symbols('uy uz',cls=sp.Function)\n",
    "L, x, qy, qz, EIzz, EIyz, EIyy, EIyz = sp.symbols('L x qy qz EIzz EIyz EIyy EIyz')\n",
    "C1, C2, C3, C4, C5, C6, C7, C8 = sp.symbols('C1 C2 C3 C4 C5 C6 C7 C8')"
   ]
  },
  {
   "cell_type": "code",
   "execution_count": 2,
   "id": "9c036308",
   "metadata": {},
   "outputs": [],
   "source": [
    "DV1 = sp.Eq(sp.diff(uy(x),x,4),(EIzz*qy-EIyz*qz)/(EIyy*EIzz-EIyz**2))\n",
    "DV2 = sp.Eq(sp.diff(uz(x),x,4),(EIyy*qz-EIyz*qy)/(EIyy*EIzz-EIyz**2))"
   ]
  },
  {
   "cell_type": "markdown",
   "id": "051144ad",
   "metadata": {},
   "source": [
    "General solution of the two differential equations:"
   ]
  },
  {
   "cell_type": "code",
   "execution_count": 3,
   "id": "9ef7c8f7",
   "metadata": {},
   "outputs": [],
   "source": [
    "uy, uz = sp.dsolve([DV1,DV2],[uy(x),uz(x)])\n",
    "uy = uy.rhs\n",
    "uz = uz.rhs"
   ]
  },
  {
   "cell_type": "markdown",
   "id": "2a528b26",
   "metadata": {},
   "source": [
    "related quantaties:\n"
   ]
  },
  {
   "cell_type": "code",
   "execution_count": 4,
   "id": "69ec517e",
   "metadata": {},
   "outputs": [],
   "source": [
    "phiz = sp.diff(uy, x)\n",
    "kappay = sp.diff(-phiz, x)\n",
    "phiy = -sp.diff(uz,x)\n",
    "kappaz = sp.diff(phiy,x)\n",
    "My = EIyy * kappay + EIyz * kappaz\n",
    "Mz = EIyz * kappay + EIzz * kappaz\n",
    "Vy = sp.diff(My,x)\n",
    "Vz = sp.diff(Mz,x)"
   ]
  },
  {
   "cell_type": "markdown",
   "id": "c3768cdd",
   "metadata": {},
   "source": [
    "8 boundary conditions, clamped end at $x=0$ and a simply supported end at $x=L$:"
   ]
  },
  {
   "cell_type": "code",
   "execution_count": 5,
   "id": "351a2af0",
   "metadata": {},
   "outputs": [],
   "source": [
    "Eq1 = sp.Eq(uy.subs(x, 0), 0) \n",
    "Eq2 = sp.Eq(phiy.subs(x, 0), 0)\n",
    "Eq3 = sp.Eq(uz.subs(x, 0), 0)\n",
    "Eq4 = sp.Eq(phiz.subs(x, 0), 0)\n",
    "Eq5 = sp.Eq(uy.subs(x, L), 0) \n",
    "Eq6 = sp.Eq(My.subs(x, L), 0)\n",
    "Eq7 = sp.Eq(uz.subs(x, L), 0)\n",
    "Eq8 = sp.Eq(Mz.subs(x, L), 0)"
   ]
  },
  {
   "cell_type": "markdown",
   "id": "c92f701a",
   "metadata": {},
   "source": [
    "solve the integration constants:"
   ]
  },
  {
   "cell_type": "code",
   "execution_count": 6,
   "id": "f9f8b34d",
   "metadata": {},
   "outputs": [],
   "source": [
    "sol = sp.solve([Eq1,Eq2,Eq3,Eq4,Eq5,Eq6,Eq7,Eq8],[C1,C2,C3,C4,C5,C6,C7,C8])\n",
    "My_sol = sp.simplify(My.subs(sol))\n",
    "Mz_sol = sp.simplify(Mz.subs(sol))\n",
    "Vy_sol = Vy.subs(sol)\n",
    "Vz_sol = Vz.subs(sol)\n",
    "uy_sol = uy.subs(sol)\n",
    "uz_sol = uz.subs(sol)"
   ]
  },
  {
   "cell_type": "markdown",
   "id": "be321f8f",
   "metadata": {},
   "source": [
    "Moment and Shear distribution in the beam. (this is normal distribution as with a standard beam) Check moment at support (well known solution)"
   ]
  },
  {
   "cell_type": "code",
   "execution_count": 7,
   "id": "0b693c39",
   "metadata": {},
   "outputs": [
    {
     "data": {
      "text/latex": [
       "$\\displaystyle \\frac{qy \\left(- L^{2} + 5 L x - 4 x^{2}\\right)}{8}$"
      ],
      "text/plain": [
       "qy*(-L**2 + 5*L*x - 4*x**2)/8"
      ]
     },
     "metadata": {},
     "output_type": "display_data"
    },
    {
     "data": {
      "text/latex": [
       "$\\displaystyle \\frac{qz \\left(- L^{2} + 5 L x - 4 x^{2}\\right)}{8}$"
      ],
      "text/plain": [
       "qz*(-L**2 + 5*L*x - 4*x**2)/8"
      ]
     },
     "metadata": {},
     "output_type": "display_data"
    }
   ],
   "source": [
    "display(My_sol)\n",
    "display(Mz_sol)"
   ]
  },
  {
   "cell_type": "code",
   "execution_count": 8,
   "id": "c3472567",
   "metadata": {},
   "outputs": [
    {
     "data": {
      "text/latex": [
       "$\\displaystyle - \\frac{L^{2} qy}{8}$"
      ],
      "text/plain": [
       "-L**2*qy/8"
      ]
     },
     "metadata": {},
     "output_type": "display_data"
    },
    {
     "data": {
      "text/latex": [
       "$\\displaystyle - \\frac{L^{2} qz}{8}$"
      ],
      "text/plain": [
       "-L**2*qz/8"
      ]
     },
     "metadata": {},
     "output_type": "display_data"
    }
   ],
   "source": [
    "display(My_sol.subs(x,0))\n",
    "display(Mz_sol.subs(x,0))"
   ]
  },
  {
   "cell_type": "markdown",
   "id": "ee759dc3",
   "metadata": {},
   "source": [
    "Example (see also the notes):"
   ]
  },
  {
   "cell_type": "code",
   "execution_count": 9,
   "id": "9c8ea239",
   "metadata": {},
   "outputs": [],
   "source": [
    "EIyynum = 1/9 * 100e6 * 0.1 **4 * 4\n",
    "numset = {L : 10, qy : 0 , qz : 8, EIyy : EIyynum , EIzz : EIyynum, EIyz : EIyynum/2}\n",
    "My_sub = My_sol.subs(numset)\n",
    "Mz_sub = Mz_sol.subs(numset)\n",
    "Vy_sub = Vy_sol.subs(numset)\n",
    "Vz_sub = Vz_sol.subs(numset)\n",
    "uy_sub = uy_sol.subs(numset)\n",
    "uz_sub = uz_sol.subs(numset)"
   ]
  },
  {
   "cell_type": "markdown",
   "id": "660d4cc5",
   "metadata": {},
   "source": [
    "Plot displacements with a minus for visual positive values downwards:"
   ]
  },
  {
   "cell_type": "code",
   "execution_count": 10,
   "id": "2824fe06",
   "metadata": {},
   "outputs": [
    {
     "data": {
      "image/png": "[encoded data removed]",
      "text/plain": [
       "<Figure size 640x480 with 1 Axes>"
      ]
     },
     "metadata": {
      "filenames": {
       "image/png": "C:\\Users\\tomvanwoudenbe\\Git\\SymPy-repository\\_build\\jupyter_execute\\Examples_Structural_Mechanics_4\\Lecture-example-ODE_18_0.png"
      }
     },
     "output_type": "display_data"
    }
   ],
   "source": [
    "plot1 = sp.plot(-uy_sub,(x,0,10),label='$u_y$',title=\"Displacements $u_y$ and $u_z$\",show=False,legend=True)\n",
    "plot2 = sp.plot(-uz_sub,(x,0,10),label='$u_z$',show=False)\n",
    "plot1.append(plot2[0])\n",
    "plot1.show()"
   ]
  },
  {
   "cell_type": "markdown",
   "id": "b667e090",
   "metadata": {},
   "source": [
    "Plot moments with a minus for visual positive values downwards: (this is normal beam behaviour)"
   ]
  },
  {
   "cell_type": "code",
   "execution_count": 11,
   "id": "e18d7226",
   "metadata": {},
   "outputs": [
    {
     "data": {
      "image/png": "[encoded data removed]",
      "text/plain": [
       "<Figure size 640x480 with 1 Axes>"
      ]
     },
     "metadata": {
      "filenames": {
       "image/png": "C:\\Users\\tomvanwoudenbe\\Git\\SymPy-repository\\_build\\jupyter_execute\\Examples_Structural_Mechanics_4\\Lecture-example-ODE_20_0.png"
      }
     },
     "output_type": "display_data"
    }
   ],
   "source": [
    "plot1 = sp.plot(-My_sub,(x,0,10),label='$M_y$',title=\"Moments $M_y$ and $M_z$\",show=False,legend=True)\n",
    "plot2 = sp.plot(-Mz_sub,(x,0,10),label='$M_z$',show=False)\n",
    "plot1.append(plot2[0])\n",
    "plot1.show()"
   ]
  },
  {
   "cell_type": "code",
   "execution_count": 12,
   "id": "0c9a7465",
   "metadata": {},
   "outputs": [
    {
     "data": {
      "text/latex": [
       "$\\displaystyle 0$"
      ],
      "text/plain": [
       "0"
      ]
     },
     "metadata": {},
     "output_type": "display_data"
    },
    {
     "data": {
      "text/latex": [
       "$\\displaystyle 0$"
      ],
      "text/plain": [
       "0"
      ]
     },
     "metadata": {},
     "output_type": "display_data"
    },
    {
     "data": {
      "text/latex": [
       "$\\displaystyle -100$"
      ],
      "text/plain": [
       "-100"
      ]
     },
     "metadata": {},
     "output_type": "display_data"
    },
    {
     "data": {
      "text/latex": [
       "$\\displaystyle 50.0$"
      ],
      "text/plain": [
       "50.0000000000000"
      ]
     },
     "metadata": {},
     "output_type": "display_data"
    }
   ],
   "source": [
    "display(My_sub.subs(x,0))\n",
    "display(Vy_sub.subs(x,0))\n",
    "display(Mz_sub.subs(x,0))\n",
    "display(Vz_sub.subs(x,0))"
   ]
  },
  {
   "cell_type": "code",
   "execution_count": 13,
   "id": "3836f087",
   "metadata": {},
   "outputs": [
    {
     "data": {
      "text/latex": [
       "$\\displaystyle -0.0625$"
      ],
      "text/plain": [
       "-0.0625000000000000"
      ]
     },
     "metadata": {},
     "output_type": "display_data"
    },
    {
     "data": {
      "text/latex": [
       "$\\displaystyle 0.125$"
      ],
      "text/plain": [
       "0.125000000000000"
      ]
     },
     "metadata": {},
     "output_type": "display_data"
    },
    {
     "data": {
      "text/latex": [
       "$\\displaystyle 0$"
      ],
      "text/plain": [
       "0"
      ]
     },
     "metadata": {},
     "output_type": "display_data"
    },
    {
     "data": {
      "text/latex": [
       "$\\displaystyle 50$"
      ],
      "text/plain": [
       "50"
      ]
     },
     "metadata": {},
     "output_type": "display_data"
    }
   ],
   "source": [
    "display(uy_sub.subs(x,5))\n",
    "display(uz_sub.subs(x,5))\n",
    "display(My_sub.subs(x,5))\n",
    "display(Mz_sub.subs(x,5))"
   ]
  }
 ],
 "metadata": {
  "kernelspec": {
   "display_name": "Python 3 (ipykernel)",
   "language": "python",
   "name": "python3"
  },
  "language_info": {
   "codemirror_mode": {
    "name": "ipython",
    "version": 3
   },
   "file_extension": ".py",
   "mimetype": "text/x-python",
   "name": "python",
   "nbconvert_exporter": "python",
   "pygments_lexer": "ipython3",
   "version": "3.9.13"
  }
 },
 "nbformat": 4,
 "nbformat_minor": 5
}