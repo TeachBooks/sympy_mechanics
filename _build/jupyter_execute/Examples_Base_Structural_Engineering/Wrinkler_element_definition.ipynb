{
 "cells": [
  {
   "cell_type": "markdown",
   "id": "85e32a5f",
   "metadata": {},
   "source": [
    "# Wrinkler element definition"
   ]
  },
  {
   "cell_type": "code",
   "execution_count": 1,
   "id": "1b36bb2e",
   "metadata": {},
   "outputs": [
    {
     "data": {
      "text/latex": [
       "$\\displaystyle 4 EI \\beta^{4} w{\\left(x \\right)} + EI \\frac{d^{4}}{d x^{4}} w{\\left(x \\right)} = q$"
      ],
      "text/plain": [
       "Eq(4*EI*beta**4*w(x) + EI*Derivative(w(x), (x, 4)), q)"
      ]
     },
     "metadata": {},
     "output_type": "display_data"
    },
    {
     "data": {
      "text/latex": [
       "$\\displaystyle \\left(C_{1} \\sin{\\left(\\beta x \\right)} + C_{2} \\cos{\\left(\\beta x \\right)}\\right) e^{- \\beta x} + \\left(C_{3} \\sin{\\left(\\beta x \\right)} + C_{4} \\cos{\\left(\\beta x \\right)}\\right) e^{\\beta x} + \\frac{q}{4 EI \\beta^{4}}$"
      ],
      "text/plain": [
       "(C1*sin(beta*x) + C2*cos(beta*x))*exp(-beta*x) + (C3*sin(beta*x) + C4*cos(beta*x))*exp(beta*x) + q/(4*EI*beta**4)"
      ]
     },
     "metadata": {},
     "output_type": "display_data"
    }
   ],
   "source": [
    "import sympy as sp\n",
    "w, phi = sp.symbols('w phi', cls=sp.Function)\n",
    "C1, C2, C3, C4 = sp.symbols('C1 C2 C3 C4')\n",
    "x, EI, L, q, beta = sp.symbols('x EI L q beta',positive=True)\n",
    "w1, w2, phi1, phi2 = sp.symbols('w1 w2 phi1 phi2')\n",
    "\n",
    "k = sp.S(4)*EI*beta**4\n",
    "\n",
    "ODE = sp.Eq(EI*sp.diff(w(x),x,4)+k*w(x),q)\n",
    "display(ODE)\n",
    "\n",
    "w = sp.dsolve(ODE,w(x))\n",
    "w = w.rhs\n",
    "\n",
    "display(w)"
   ]
  },
  {
   "cell_type": "code",
   "execution_count": 2,
   "id": "7359355f",
   "metadata": {},
   "outputs": [
    {
     "data": {
      "text/latex": [
       "$\\displaystyle C_{2} + C_{4} + \\frac{q}{4 EI \\beta^{4}} = w_{1}$"
      ],
      "text/plain": [
       "Eq(C2 + C4 + q/(4*EI*beta**4), w1)"
      ]
     },
     "metadata": {},
     "output_type": "display_data"
    },
    {
     "data": {
      "text/latex": [
       "$\\displaystyle - C_{1} \\beta + C_{2} \\beta - C_{3} \\beta - C_{4} \\beta = \\phi_{1}$"
      ],
      "text/plain": [
       "Eq(-C1*beta + C2*beta - C3*beta - C4*beta, phi1)"
      ]
     },
     "metadata": {},
     "output_type": "display_data"
    },
    {
     "data": {
      "text/latex": [
       "$\\displaystyle \\left(C_{1} \\sin{\\left(L \\beta \\right)} + C_{2} \\cos{\\left(L \\beta \\right)}\\right) e^{- L \\beta} + \\left(C_{3} \\sin{\\left(L \\beta \\right)} + C_{4} \\cos{\\left(L \\beta \\right)}\\right) e^{L \\beta} + \\frac{q}{4 EI \\beta^{4}} = w_{2}$"
      ],
      "text/plain": [
       "Eq((C1*sin(L*beta) + C2*cos(L*beta))*exp(-L*beta) + (C3*sin(L*beta) + C4*cos(L*beta))*exp(L*beta) + q/(4*EI*beta**4), w2)"
      ]
     },
     "metadata": {},
     "output_type": "display_data"
    },
    {
     "data": {
      "text/latex": [
       "$\\displaystyle \\beta \\left(C_{1} \\sin{\\left(L \\beta \\right)} + C_{2} \\cos{\\left(L \\beta \\right)}\\right) e^{- L \\beta} - \\beta \\left(C_{3} \\sin{\\left(L \\beta \\right)} + C_{4} \\cos{\\left(L \\beta \\right)}\\right) e^{L \\beta} - \\left(C_{1} \\beta \\cos{\\left(L \\beta \\right)} - C_{2} \\beta \\sin{\\left(L \\beta \\right)}\\right) e^{- L \\beta} - \\left(C_{3} \\beta \\cos{\\left(L \\beta \\right)} - C_{4} \\beta \\sin{\\left(L \\beta \\right)}\\right) e^{L \\beta} = \\phi_{2}$"
      ],
      "text/plain": [
       "Eq(beta*(C1*sin(L*beta) + C2*cos(L*beta))*exp(-L*beta) - beta*(C3*sin(L*beta) + C4*cos(L*beta))*exp(L*beta) - (C1*beta*cos(L*beta) - C2*beta*sin(L*beta))*exp(-L*beta) - (C3*beta*cos(L*beta) - C4*beta*sin(L*beta))*exp(L*beta), phi2)"
      ]
     },
     "metadata": {},
     "output_type": "display_data"
    },
    {
     "ename": "KeyboardInterrupt",
     "evalue": "",
     "output_type": "error",
     "traceback": [
      "\u001b[1;31m---------------------------------------------------------------------------\u001b[0m",
      "\u001b[1;31mKeyboardInterrupt\u001b[0m                         Traceback (most recent call last)",
      "\u001b[1;32m~\\AppData\\Local\\Temp\\ipykernel_5272\\335378514.py\u001b[0m in \u001b[0;36m<module>\u001b[1;34m\u001b[0m\n\u001b[0;32m     23\u001b[0m \u001b[0mFz2\u001b[0m \u001b[1;33m=\u001b[0m \u001b[0msp\u001b[0m\u001b[1;33m.\u001b[0m\u001b[0mexpand\u001b[0m\u001b[1;33m(\u001b[0m\u001b[0msp\u001b[0m\u001b[1;33m.\u001b[0m\u001b[0msimplify\u001b[0m\u001b[1;33m(\u001b[0m\u001b[0mV_sol\u001b[0m\u001b[1;33m.\u001b[0m\u001b[0msubs\u001b[0m\u001b[1;33m(\u001b[0m\u001b[0mx\u001b[0m\u001b[1;33m,\u001b[0m\u001b[0mL\u001b[0m\u001b[1;33m)\u001b[0m\u001b[1;33m)\u001b[0m\u001b[1;33m)\u001b[0m\u001b[1;33m\u001b[0m\u001b[1;33m\u001b[0m\u001b[0m\n\u001b[0;32m     24\u001b[0m \u001b[0mTy1\u001b[0m \u001b[1;33m=\u001b[0m \u001b[0msp\u001b[0m\u001b[1;33m.\u001b[0m\u001b[0mexpand\u001b[0m\u001b[1;33m(\u001b[0m\u001b[0msp\u001b[0m\u001b[1;33m.\u001b[0m\u001b[0msimplify\u001b[0m\u001b[1;33m(\u001b[0m\u001b[1;33m-\u001b[0m\u001b[0mM_sol\u001b[0m\u001b[1;33m.\u001b[0m\u001b[0msubs\u001b[0m\u001b[1;33m(\u001b[0m\u001b[0mx\u001b[0m\u001b[1;33m,\u001b[0m\u001b[1;36m0\u001b[0m\u001b[1;33m)\u001b[0m\u001b[1;33m)\u001b[0m\u001b[1;33m)\u001b[0m\u001b[1;33m\u001b[0m\u001b[1;33m\u001b[0m\u001b[0m\n\u001b[1;32m---> 25\u001b[1;33m \u001b[0mTy2\u001b[0m \u001b[1;33m=\u001b[0m \u001b[0msp\u001b[0m\u001b[1;33m.\u001b[0m\u001b[0mexpand\u001b[0m\u001b[1;33m(\u001b[0m\u001b[0msp\u001b[0m\u001b[1;33m.\u001b[0m\u001b[0msimplify\u001b[0m\u001b[1;33m(\u001b[0m\u001b[0mM_sol\u001b[0m\u001b[1;33m.\u001b[0m\u001b[0msubs\u001b[0m\u001b[1;33m(\u001b[0m\u001b[0mx\u001b[0m\u001b[1;33m,\u001b[0m\u001b[0mL\u001b[0m\u001b[1;33m)\u001b[0m\u001b[1;33m)\u001b[0m\u001b[1;33m)\u001b[0m\u001b[1;33m\u001b[0m\u001b[1;33m\u001b[0m\u001b[0m\n\u001b[0m",
      "\u001b[1;32m~\\Anaconda3\\lib\\site-packages\\sympy\\simplify\\simplify.py\u001b[0m in \u001b[0;36msimplify\u001b[1;34m(expr, ratio, measure, rational, inverse, doit, **kwargs)\u001b[0m\n\u001b[0;32m    614\u001b[0m     \u001b[1;31m# do deep simplification\u001b[0m\u001b[1;33m\u001b[0m\u001b[1;33m\u001b[0m\u001b[0m\n\u001b[0;32m    615\u001b[0m     \u001b[0mhandled\u001b[0m \u001b[1;33m=\u001b[0m \u001b[0mAdd\u001b[0m\u001b[1;33m,\u001b[0m \u001b[0mMul\u001b[0m\u001b[1;33m,\u001b[0m \u001b[0mPow\u001b[0m\u001b[1;33m,\u001b[0m \u001b[0mExpBase\u001b[0m\u001b[1;33m\u001b[0m\u001b[1;33m\u001b[0m\u001b[0m\n\u001b[1;32m--> 616\u001b[1;33m     expr = expr.replace(\n\u001b[0m\u001b[0;32m    617\u001b[0m         \u001b[1;31m# here, checking for x.args is not enough because Basic has\u001b[0m\u001b[1;33m\u001b[0m\u001b[1;33m\u001b[0m\u001b[0m\n\u001b[0;32m    618\u001b[0m         \u001b[1;31m# args but Basic does not always play well with replace, e.g.\u001b[0m\u001b[1;33m\u001b[0m\u001b[1;33m\u001b[0m\u001b[0m\n",
      "\u001b[1;32m~\\Anaconda3\\lib\\site-packages\\sympy\\core\\basic.py\u001b[0m in \u001b[0;36mreplace\u001b[1;34m(self, query, value, map, simultaneous, exact)\u001b[0m\n\u001b[0;32m   1575\u001b[0m             \u001b[1;32mreturn\u001b[0m \u001b[0mexpr\u001b[0m\u001b[1;33m\u001b[0m\u001b[1;33m\u001b[0m\u001b[0m\n\u001b[0;32m   1576\u001b[0m \u001b[1;33m\u001b[0m\u001b[0m\n\u001b[1;32m-> 1577\u001b[1;33m         \u001b[0mrv\u001b[0m \u001b[1;33m=\u001b[0m \u001b[0mwalk\u001b[0m\u001b[1;33m(\u001b[0m\u001b[0mself\u001b[0m\u001b[1;33m,\u001b[0m \u001b[0mrec_replace\u001b[0m\u001b[1;33m)\u001b[0m\u001b[1;33m\u001b[0m\u001b[1;33m\u001b[0m\u001b[0m\n\u001b[0m\u001b[0;32m   1578\u001b[0m         \u001b[1;32mreturn\u001b[0m \u001b[1;33m(\u001b[0m\u001b[0mrv\u001b[0m\u001b[1;33m,\u001b[0m \u001b[0mmapping\u001b[0m\u001b[1;33m)\u001b[0m \u001b[1;32mif\u001b[0m \u001b[0mmap\u001b[0m \u001b[1;32melse\u001b[0m \u001b[0mrv\u001b[0m\u001b[1;33m\u001b[0m\u001b[1;33m\u001b[0m\u001b[0m\n\u001b[0;32m   1579\u001b[0m \u001b[1;33m\u001b[0m\u001b[0m\n",
      "\u001b[1;32m~\\Anaconda3\\lib\\site-packages\\sympy\\core\\basic.py\u001b[0m in \u001b[0;36mwalk\u001b[1;34m(rv, F)\u001b[0m\n\u001b[0;32m   1550\u001b[0m             \u001b[1;32mif\u001b[0m \u001b[0margs\u001b[0m \u001b[1;32mis\u001b[0m \u001b[1;32mnot\u001b[0m \u001b[1;32mNone\u001b[0m\u001b[1;33m:\u001b[0m\u001b[1;33m\u001b[0m\u001b[1;33m\u001b[0m\u001b[0m\n\u001b[0;32m   1551\u001b[0m                 \u001b[1;32mif\u001b[0m \u001b[0margs\u001b[0m\u001b[1;33m:\u001b[0m\u001b[1;33m\u001b[0m\u001b[1;33m\u001b[0m\u001b[0m\n\u001b[1;32m-> 1552\u001b[1;33m                     \u001b[0mnewargs\u001b[0m \u001b[1;33m=\u001b[0m \u001b[0mtuple\u001b[0m\u001b[1;33m(\u001b[0m\u001b[1;33m[\u001b[0m\u001b[0mwalk\u001b[0m\u001b[1;33m(\u001b[0m\u001b[0ma\u001b[0m\u001b[1;33m,\u001b[0m \u001b[0mF\u001b[0m\u001b[1;33m)\u001b[0m \u001b[1;32mfor\u001b[0m \u001b[0ma\u001b[0m \u001b[1;32min\u001b[0m \u001b[0margs\u001b[0m\u001b[1;33m]\u001b[0m\u001b[1;33m)\u001b[0m\u001b[1;33m\u001b[0m\u001b[1;33m\u001b[0m\u001b[0m\n\u001b[0m\u001b[0;32m   1553\u001b[0m                     \u001b[1;32mif\u001b[0m \u001b[0margs\u001b[0m \u001b[1;33m!=\u001b[0m \u001b[0mnewargs\u001b[0m\u001b[1;33m:\u001b[0m\u001b[1;33m\u001b[0m\u001b[1;33m\u001b[0m\u001b[0m\n\u001b[0;32m   1554\u001b[0m                         \u001b[0mrv\u001b[0m \u001b[1;33m=\u001b[0m \u001b[0mrv\u001b[0m\u001b[1;33m.\u001b[0m\u001b[0mfunc\u001b[0m\u001b[1;33m(\u001b[0m\u001b[1;33m*\u001b[0m\u001b[0mnewargs\u001b[0m\u001b[1;33m)\u001b[0m\u001b[1;33m\u001b[0m\u001b[1;33m\u001b[0m\u001b[0m\n",
      "\u001b[1;32m~\\Anaconda3\\lib\\site-packages\\sympy\\core\\basic.py\u001b[0m in \u001b[0;36m<listcomp>\u001b[1;34m(.0)\u001b[0m\n\u001b[0;32m   1550\u001b[0m             \u001b[1;32mif\u001b[0m \u001b[0margs\u001b[0m \u001b[1;32mis\u001b[0m \u001b[1;32mnot\u001b[0m \u001b[1;32mNone\u001b[0m\u001b[1;33m:\u001b[0m\u001b[1;33m\u001b[0m\u001b[1;33m\u001b[0m\u001b[0m\n\u001b[0;32m   1551\u001b[0m                 \u001b[1;32mif\u001b[0m \u001b[0margs\u001b[0m\u001b[1;33m:\u001b[0m\u001b[1;33m\u001b[0m\u001b[1;33m\u001b[0m\u001b[0m\n\u001b[1;32m-> 1552\u001b[1;33m                     \u001b[0mnewargs\u001b[0m \u001b[1;33m=\u001b[0m \u001b[0mtuple\u001b[0m\u001b[1;33m(\u001b[0m\u001b[1;33m[\u001b[0m\u001b[0mwalk\u001b[0m\u001b[1;33m(\u001b[0m\u001b[0ma\u001b[0m\u001b[1;33m,\u001b[0m \u001b[0mF\u001b[0m\u001b[1;33m)\u001b[0m \u001b[1;32mfor\u001b[0m \u001b[0ma\u001b[0m \u001b[1;32min\u001b[0m \u001b[0margs\u001b[0m\u001b[1;33m]\u001b[0m\u001b[1;33m)\u001b[0m\u001b[1;33m\u001b[0m\u001b[1;33m\u001b[0m\u001b[0m\n\u001b[0m\u001b[0;32m   1553\u001b[0m                     \u001b[1;32mif\u001b[0m \u001b[0margs\u001b[0m \u001b[1;33m!=\u001b[0m \u001b[0mnewargs\u001b[0m\u001b[1;33m:\u001b[0m\u001b[1;33m\u001b[0m\u001b[1;33m\u001b[0m\u001b[0m\n\u001b[0;32m   1554\u001b[0m                         \u001b[0mrv\u001b[0m \u001b[1;33m=\u001b[0m \u001b[0mrv\u001b[0m\u001b[1;33m.\u001b[0m\u001b[0mfunc\u001b[0m\u001b[1;33m(\u001b[0m\u001b[1;33m*\u001b[0m\u001b[0mnewargs\u001b[0m\u001b[1;33m)\u001b[0m\u001b[1;33m\u001b[0m\u001b[1;33m\u001b[0m\u001b[0m\n",
      "\u001b[1;32m~\\Anaconda3\\lib\\site-packages\\sympy\\core\\basic.py\u001b[0m in \u001b[0;36mwalk\u001b[1;34m(rv, F)\u001b[0m\n\u001b[0;32m   1550\u001b[0m             \u001b[1;32mif\u001b[0m \u001b[0margs\u001b[0m \u001b[1;32mis\u001b[0m \u001b[1;32mnot\u001b[0m \u001b[1;32mNone\u001b[0m\u001b[1;33m:\u001b[0m\u001b[1;33m\u001b[0m\u001b[1;33m\u001b[0m\u001b[0m\n\u001b[0;32m   1551\u001b[0m                 \u001b[1;32mif\u001b[0m \u001b[0margs\u001b[0m\u001b[1;33m:\u001b[0m\u001b[1;33m\u001b[0m\u001b[1;33m\u001b[0m\u001b[0m\n\u001b[1;32m-> 1552\u001b[1;33m                     \u001b[0mnewargs\u001b[0m \u001b[1;33m=\u001b[0m \u001b[0mtuple\u001b[0m\u001b[1;33m(\u001b[0m\u001b[1;33m[\u001b[0m\u001b[0mwalk\u001b[0m\u001b[1;33m(\u001b[0m\u001b[0ma\u001b[0m\u001b[1;33m,\u001b[0m \u001b[0mF\u001b[0m\u001b[1;33m)\u001b[0m \u001b[1;32mfor\u001b[0m \u001b[0ma\u001b[0m \u001b[1;32min\u001b[0m \u001b[0margs\u001b[0m\u001b[1;33m]\u001b[0m\u001b[1;33m)\u001b[0m\u001b[1;33m\u001b[0m\u001b[1;33m\u001b[0m\u001b[0m\n\u001b[0m\u001b[0;32m   1553\u001b[0m                     \u001b[1;32mif\u001b[0m \u001b[0margs\u001b[0m \u001b[1;33m!=\u001b[0m \u001b[0mnewargs\u001b[0m\u001b[1;33m:\u001b[0m\u001b[1;33m\u001b[0m\u001b[1;33m\u001b[0m\u001b[0m\n\u001b[0;32m   1554\u001b[0m                         \u001b[0mrv\u001b[0m \u001b[1;33m=\u001b[0m \u001b[0mrv\u001b[0m\u001b[1;33m.\u001b[0m\u001b[0mfunc\u001b[0m\u001b[1;33m(\u001b[0m\u001b[1;33m*\u001b[0m\u001b[0mnewargs\u001b[0m\u001b[1;33m)\u001b[0m\u001b[1;33m\u001b[0m\u001b[1;33m\u001b[0m\u001b[0m\n",
      "\u001b[1;32m~\\Anaconda3\\lib\\site-packages\\sympy\\core\\basic.py\u001b[0m in \u001b[0;36m<listcomp>\u001b[1;34m(.0)\u001b[0m\n\u001b[0;32m   1550\u001b[0m             \u001b[1;32mif\u001b[0m \u001b[0margs\u001b[0m \u001b[1;32mis\u001b[0m \u001b[1;32mnot\u001b[0m \u001b[1;32mNone\u001b[0m\u001b[1;33m:\u001b[0m\u001b[1;33m\u001b[0m\u001b[1;33m\u001b[0m\u001b[0m\n\u001b[0;32m   1551\u001b[0m                 \u001b[1;32mif\u001b[0m \u001b[0margs\u001b[0m\u001b[1;33m:\u001b[0m\u001b[1;33m\u001b[0m\u001b[1;33m\u001b[0m\u001b[0m\n\u001b[1;32m-> 1552\u001b[1;33m                     \u001b[0mnewargs\u001b[0m \u001b[1;33m=\u001b[0m \u001b[0mtuple\u001b[0m\u001b[1;33m(\u001b[0m\u001b[1;33m[\u001b[0m\u001b[0mwalk\u001b[0m\u001b[1;33m(\u001b[0m\u001b[0ma\u001b[0m\u001b[1;33m,\u001b[0m \u001b[0mF\u001b[0m\u001b[1;33m)\u001b[0m \u001b[1;32mfor\u001b[0m \u001b[0ma\u001b[0m \u001b[1;32min\u001b[0m \u001b[0margs\u001b[0m\u001b[1;33m]\u001b[0m\u001b[1;33m)\u001b[0m\u001b[1;33m\u001b[0m\u001b[1;33m\u001b[0m\u001b[0m\n\u001b[0m\u001b[0;32m   1553\u001b[0m                     \u001b[1;32mif\u001b[0m \u001b[0margs\u001b[0m \u001b[1;33m!=\u001b[0m \u001b[0mnewargs\u001b[0m\u001b[1;33m:\u001b[0m\u001b[1;33m\u001b[0m\u001b[1;33m\u001b[0m\u001b[0m\n\u001b[0;32m   1554\u001b[0m                         \u001b[0mrv\u001b[0m \u001b[1;33m=\u001b[0m \u001b[0mrv\u001b[0m\u001b[1;33m.\u001b[0m\u001b[0mfunc\u001b[0m\u001b[1;33m(\u001b[0m\u001b[1;33m*\u001b[0m\u001b[0mnewargs\u001b[0m\u001b[1;33m)\u001b[0m\u001b[1;33m\u001b[0m\u001b[1;33m\u001b[0m\u001b[0m\n",
      "\u001b[1;32m~\\Anaconda3\\lib\\site-packages\\sympy\\core\\basic.py\u001b[0m in \u001b[0;36mwalk\u001b[1;34m(rv, F)\u001b[0m\n\u001b[0;32m   1550\u001b[0m             \u001b[1;32mif\u001b[0m \u001b[0margs\u001b[0m \u001b[1;32mis\u001b[0m \u001b[1;32mnot\u001b[0m \u001b[1;32mNone\u001b[0m\u001b[1;33m:\u001b[0m\u001b[1;33m\u001b[0m\u001b[1;33m\u001b[0m\u001b[0m\n\u001b[0;32m   1551\u001b[0m                 \u001b[1;32mif\u001b[0m \u001b[0margs\u001b[0m\u001b[1;33m:\u001b[0m\u001b[1;33m\u001b[0m\u001b[1;33m\u001b[0m\u001b[0m\n\u001b[1;32m-> 1552\u001b[1;33m                     \u001b[0mnewargs\u001b[0m \u001b[1;33m=\u001b[0m \u001b[0mtuple\u001b[0m\u001b[1;33m(\u001b[0m\u001b[1;33m[\u001b[0m\u001b[0mwalk\u001b[0m\u001b[1;33m(\u001b[0m\u001b[0ma\u001b[0m\u001b[1;33m,\u001b[0m \u001b[0mF\u001b[0m\u001b[1;33m)\u001b[0m \u001b[1;32mfor\u001b[0m \u001b[0ma\u001b[0m \u001b[1;32min\u001b[0m \u001b[0margs\u001b[0m\u001b[1;33m]\u001b[0m\u001b[1;33m)\u001b[0m\u001b[1;33m\u001b[0m\u001b[1;33m\u001b[0m\u001b[0m\n\u001b[0m\u001b[0;32m   1553\u001b[0m                     \u001b[1;32mif\u001b[0m \u001b[0margs\u001b[0m \u001b[1;33m!=\u001b[0m \u001b[0mnewargs\u001b[0m\u001b[1;33m:\u001b[0m\u001b[1;33m\u001b[0m\u001b[1;33m\u001b[0m\u001b[0m\n\u001b[0;32m   1554\u001b[0m                         \u001b[0mrv\u001b[0m \u001b[1;33m=\u001b[0m \u001b[0mrv\u001b[0m\u001b[1;33m.\u001b[0m\u001b[0mfunc\u001b[0m\u001b[1;33m(\u001b[0m\u001b[1;33m*\u001b[0m\u001b[0mnewargs\u001b[0m\u001b[1;33m)\u001b[0m\u001b[1;33m\u001b[0m\u001b[1;33m\u001b[0m\u001b[0m\n",
      "\u001b[1;32m~\\Anaconda3\\lib\\site-packages\\sympy\\core\\basic.py\u001b[0m in \u001b[0;36m<listcomp>\u001b[1;34m(.0)\u001b[0m\n\u001b[0;32m   1550\u001b[0m             \u001b[1;32mif\u001b[0m \u001b[0margs\u001b[0m \u001b[1;32mis\u001b[0m \u001b[1;32mnot\u001b[0m \u001b[1;32mNone\u001b[0m\u001b[1;33m:\u001b[0m\u001b[1;33m\u001b[0m\u001b[1;33m\u001b[0m\u001b[0m\n\u001b[0;32m   1551\u001b[0m                 \u001b[1;32mif\u001b[0m \u001b[0margs\u001b[0m\u001b[1;33m:\u001b[0m\u001b[1;33m\u001b[0m\u001b[1;33m\u001b[0m\u001b[0m\n\u001b[1;32m-> 1552\u001b[1;33m                     \u001b[0mnewargs\u001b[0m \u001b[1;33m=\u001b[0m \u001b[0mtuple\u001b[0m\u001b[1;33m(\u001b[0m\u001b[1;33m[\u001b[0m\u001b[0mwalk\u001b[0m\u001b[1;33m(\u001b[0m\u001b[0ma\u001b[0m\u001b[1;33m,\u001b[0m \u001b[0mF\u001b[0m\u001b[1;33m)\u001b[0m \u001b[1;32mfor\u001b[0m \u001b[0ma\u001b[0m \u001b[1;32min\u001b[0m \u001b[0margs\u001b[0m\u001b[1;33m]\u001b[0m\u001b[1;33m)\u001b[0m\u001b[1;33m\u001b[0m\u001b[1;33m\u001b[0m\u001b[0m\n\u001b[0m\u001b[0;32m   1553\u001b[0m                     \u001b[1;32mif\u001b[0m \u001b[0margs\u001b[0m \u001b[1;33m!=\u001b[0m \u001b[0mnewargs\u001b[0m\u001b[1;33m:\u001b[0m\u001b[1;33m\u001b[0m\u001b[1;33m\u001b[0m\u001b[0m\n\u001b[0;32m   1554\u001b[0m                         \u001b[0mrv\u001b[0m \u001b[1;33m=\u001b[0m \u001b[0mrv\u001b[0m\u001b[1;33m.\u001b[0m\u001b[0mfunc\u001b[0m\u001b[1;33m(\u001b[0m\u001b[1;33m*\u001b[0m\u001b[0mnewargs\u001b[0m\u001b[1;33m)\u001b[0m\u001b[1;33m\u001b[0m\u001b[1;33m\u001b[0m\u001b[0m\n",
      "\u001b[1;32m~\\Anaconda3\\lib\\site-packages\\sympy\\core\\basic.py\u001b[0m in \u001b[0;36mwalk\u001b[1;34m(rv, F)\u001b[0m\n\u001b[0;32m   1550\u001b[0m             \u001b[1;32mif\u001b[0m \u001b[0margs\u001b[0m \u001b[1;32mis\u001b[0m \u001b[1;32mnot\u001b[0m \u001b[1;32mNone\u001b[0m\u001b[1;33m:\u001b[0m\u001b[1;33m\u001b[0m\u001b[1;33m\u001b[0m\u001b[0m\n\u001b[0;32m   1551\u001b[0m                 \u001b[1;32mif\u001b[0m \u001b[0margs\u001b[0m\u001b[1;33m:\u001b[0m\u001b[1;33m\u001b[0m\u001b[1;33m\u001b[0m\u001b[0m\n\u001b[1;32m-> 1552\u001b[1;33m                     \u001b[0mnewargs\u001b[0m \u001b[1;33m=\u001b[0m \u001b[0mtuple\u001b[0m\u001b[1;33m(\u001b[0m\u001b[1;33m[\u001b[0m\u001b[0mwalk\u001b[0m\u001b[1;33m(\u001b[0m\u001b[0ma\u001b[0m\u001b[1;33m,\u001b[0m \u001b[0mF\u001b[0m\u001b[1;33m)\u001b[0m \u001b[1;32mfor\u001b[0m \u001b[0ma\u001b[0m \u001b[1;32min\u001b[0m \u001b[0margs\u001b[0m\u001b[1;33m]\u001b[0m\u001b[1;33m)\u001b[0m\u001b[1;33m\u001b[0m\u001b[1;33m\u001b[0m\u001b[0m\n\u001b[0m\u001b[0;32m   1553\u001b[0m                     \u001b[1;32mif\u001b[0m \u001b[0margs\u001b[0m \u001b[1;33m!=\u001b[0m \u001b[0mnewargs\u001b[0m\u001b[1;33m:\u001b[0m\u001b[1;33m\u001b[0m\u001b[1;33m\u001b[0m\u001b[0m\n\u001b[0;32m   1554\u001b[0m                         \u001b[0mrv\u001b[0m \u001b[1;33m=\u001b[0m \u001b[0mrv\u001b[0m\u001b[1;33m.\u001b[0m\u001b[0mfunc\u001b[0m\u001b[1;33m(\u001b[0m\u001b[1;33m*\u001b[0m\u001b[0mnewargs\u001b[0m\u001b[1;33m)\u001b[0m\u001b[1;33m\u001b[0m\u001b[1;33m\u001b[0m\u001b[0m\n",
      "\u001b[1;32m~\\Anaconda3\\lib\\site-packages\\sympy\\core\\basic.py\u001b[0m in \u001b[0;36m<listcomp>\u001b[1;34m(.0)\u001b[0m\n\u001b[0;32m   1550\u001b[0m             \u001b[1;32mif\u001b[0m \u001b[0margs\u001b[0m \u001b[1;32mis\u001b[0m \u001b[1;32mnot\u001b[0m \u001b[1;32mNone\u001b[0m\u001b[1;33m:\u001b[0m\u001b[1;33m\u001b[0m\u001b[1;33m\u001b[0m\u001b[0m\n\u001b[0;32m   1551\u001b[0m                 \u001b[1;32mif\u001b[0m \u001b[0margs\u001b[0m\u001b[1;33m:\u001b[0m\u001b[1;33m\u001b[0m\u001b[1;33m\u001b[0m\u001b[0m\n\u001b[1;32m-> 1552\u001b[1;33m                     \u001b[0mnewargs\u001b[0m \u001b[1;33m=\u001b[0m \u001b[0mtuple\u001b[0m\u001b[1;33m(\u001b[0m\u001b[1;33m[\u001b[0m\u001b[0mwalk\u001b[0m\u001b[1;33m(\u001b[0m\u001b[0ma\u001b[0m\u001b[1;33m,\u001b[0m \u001b[0mF\u001b[0m\u001b[1;33m)\u001b[0m \u001b[1;32mfor\u001b[0m \u001b[0ma\u001b[0m \u001b[1;32min\u001b[0m \u001b[0margs\u001b[0m\u001b[1;33m]\u001b[0m\u001b[1;33m)\u001b[0m\u001b[1;33m\u001b[0m\u001b[1;33m\u001b[0m\u001b[0m\n\u001b[0m\u001b[0;32m   1553\u001b[0m                     \u001b[1;32mif\u001b[0m \u001b[0margs\u001b[0m \u001b[1;33m!=\u001b[0m \u001b[0mnewargs\u001b[0m\u001b[1;33m:\u001b[0m\u001b[1;33m\u001b[0m\u001b[1;33m\u001b[0m\u001b[0m\n\u001b[0;32m   1554\u001b[0m                         \u001b[0mrv\u001b[0m \u001b[1;33m=\u001b[0m \u001b[0mrv\u001b[0m\u001b[1;33m.\u001b[0m\u001b[0mfunc\u001b[0m\u001b[1;33m(\u001b[0m\u001b[1;33m*\u001b[0m\u001b[0mnewargs\u001b[0m\u001b[1;33m)\u001b[0m\u001b[1;33m\u001b[0m\u001b[1;33m\u001b[0m\u001b[0m\n",
      "\u001b[1;32m~\\Anaconda3\\lib\\site-packages\\sympy\\core\\basic.py\u001b[0m in \u001b[0;36mwalk\u001b[1;34m(rv, F)\u001b[0m\n\u001b[0;32m   1550\u001b[0m             \u001b[1;32mif\u001b[0m \u001b[0margs\u001b[0m \u001b[1;32mis\u001b[0m \u001b[1;32mnot\u001b[0m \u001b[1;32mNone\u001b[0m\u001b[1;33m:\u001b[0m\u001b[1;33m\u001b[0m\u001b[1;33m\u001b[0m\u001b[0m\n\u001b[0;32m   1551\u001b[0m                 \u001b[1;32mif\u001b[0m \u001b[0margs\u001b[0m\u001b[1;33m:\u001b[0m\u001b[1;33m\u001b[0m\u001b[1;33m\u001b[0m\u001b[0m\n\u001b[1;32m-> 1552\u001b[1;33m                     \u001b[0mnewargs\u001b[0m \u001b[1;33m=\u001b[0m \u001b[0mtuple\u001b[0m\u001b[1;33m(\u001b[0m\u001b[1;33m[\u001b[0m\u001b[0mwalk\u001b[0m\u001b[1;33m(\u001b[0m\u001b[0ma\u001b[0m\u001b[1;33m,\u001b[0m \u001b[0mF\u001b[0m\u001b[1;33m)\u001b[0m \u001b[1;32mfor\u001b[0m \u001b[0ma\u001b[0m \u001b[1;32min\u001b[0m \u001b[0margs\u001b[0m\u001b[1;33m]\u001b[0m\u001b[1;33m)\u001b[0m\u001b[1;33m\u001b[0m\u001b[1;33m\u001b[0m\u001b[0m\n\u001b[0m\u001b[0;32m   1553\u001b[0m                     \u001b[1;32mif\u001b[0m \u001b[0margs\u001b[0m \u001b[1;33m!=\u001b[0m \u001b[0mnewargs\u001b[0m\u001b[1;33m:\u001b[0m\u001b[1;33m\u001b[0m\u001b[1;33m\u001b[0m\u001b[0m\n\u001b[0;32m   1554\u001b[0m                         \u001b[0mrv\u001b[0m \u001b[1;33m=\u001b[0m \u001b[0mrv\u001b[0m\u001b[1;33m.\u001b[0m\u001b[0mfunc\u001b[0m\u001b[1;33m(\u001b[0m\u001b[1;33m*\u001b[0m\u001b[0mnewargs\u001b[0m\u001b[1;33m)\u001b[0m\u001b[1;33m\u001b[0m\u001b[1;33m\u001b[0m\u001b[0m\n",
      "\u001b[1;32m~\\Anaconda3\\lib\\site-packages\\sympy\\core\\basic.py\u001b[0m in \u001b[0;36m<listcomp>\u001b[1;34m(.0)\u001b[0m\n\u001b[0;32m   1550\u001b[0m             \u001b[1;32mif\u001b[0m \u001b[0margs\u001b[0m \u001b[1;32mis\u001b[0m \u001b[1;32mnot\u001b[0m \u001b[1;32mNone\u001b[0m\u001b[1;33m:\u001b[0m\u001b[1;33m\u001b[0m\u001b[1;33m\u001b[0m\u001b[0m\n\u001b[0;32m   1551\u001b[0m                 \u001b[1;32mif\u001b[0m \u001b[0margs\u001b[0m\u001b[1;33m:\u001b[0m\u001b[1;33m\u001b[0m\u001b[1;33m\u001b[0m\u001b[0m\n\u001b[1;32m-> 1552\u001b[1;33m                     \u001b[0mnewargs\u001b[0m \u001b[1;33m=\u001b[0m \u001b[0mtuple\u001b[0m\u001b[1;33m(\u001b[0m\u001b[1;33m[\u001b[0m\u001b[0mwalk\u001b[0m\u001b[1;33m(\u001b[0m\u001b[0ma\u001b[0m\u001b[1;33m,\u001b[0m \u001b[0mF\u001b[0m\u001b[1;33m)\u001b[0m \u001b[1;32mfor\u001b[0m \u001b[0ma\u001b[0m \u001b[1;32min\u001b[0m \u001b[0margs\u001b[0m\u001b[1;33m]\u001b[0m\u001b[1;33m)\u001b[0m\u001b[1;33m\u001b[0m\u001b[1;33m\u001b[0m\u001b[0m\n\u001b[0m\u001b[0;32m   1553\u001b[0m                     \u001b[1;32mif\u001b[0m \u001b[0margs\u001b[0m \u001b[1;33m!=\u001b[0m \u001b[0mnewargs\u001b[0m\u001b[1;33m:\u001b[0m\u001b[1;33m\u001b[0m\u001b[1;33m\u001b[0m\u001b[0m\n\u001b[0;32m   1554\u001b[0m                         \u001b[0mrv\u001b[0m \u001b[1;33m=\u001b[0m \u001b[0mrv\u001b[0m\u001b[1;33m.\u001b[0m\u001b[0mfunc\u001b[0m\u001b[1;33m(\u001b[0m\u001b[1;33m*\u001b[0m\u001b[0mnewargs\u001b[0m\u001b[1;33m)\u001b[0m\u001b[1;33m\u001b[0m\u001b[1;33m\u001b[0m\u001b[0m\n",
      "\u001b[1;32m~\\Anaconda3\\lib\\site-packages\\sympy\\core\\basic.py\u001b[0m in \u001b[0;36mwalk\u001b[1;34m(rv, F)\u001b[0m\n\u001b[0;32m   1550\u001b[0m             \u001b[1;32mif\u001b[0m \u001b[0margs\u001b[0m \u001b[1;32mis\u001b[0m \u001b[1;32mnot\u001b[0m \u001b[1;32mNone\u001b[0m\u001b[1;33m:\u001b[0m\u001b[1;33m\u001b[0m\u001b[1;33m\u001b[0m\u001b[0m\n\u001b[0;32m   1551\u001b[0m                 \u001b[1;32mif\u001b[0m \u001b[0margs\u001b[0m\u001b[1;33m:\u001b[0m\u001b[1;33m\u001b[0m\u001b[1;33m\u001b[0m\u001b[0m\n\u001b[1;32m-> 1552\u001b[1;33m                     \u001b[0mnewargs\u001b[0m \u001b[1;33m=\u001b[0m \u001b[0mtuple\u001b[0m\u001b[1;33m(\u001b[0m\u001b[1;33m[\u001b[0m\u001b[0mwalk\u001b[0m\u001b[1;33m(\u001b[0m\u001b[0ma\u001b[0m\u001b[1;33m,\u001b[0m \u001b[0mF\u001b[0m\u001b[1;33m)\u001b[0m \u001b[1;32mfor\u001b[0m \u001b[0ma\u001b[0m \u001b[1;32min\u001b[0m \u001b[0margs\u001b[0m\u001b[1;33m]\u001b[0m\u001b[1;33m)\u001b[0m\u001b[1;33m\u001b[0m\u001b[1;33m\u001b[0m\u001b[0m\n\u001b[0m\u001b[0;32m   1553\u001b[0m                     \u001b[1;32mif\u001b[0m \u001b[0margs\u001b[0m \u001b[1;33m!=\u001b[0m \u001b[0mnewargs\u001b[0m\u001b[1;33m:\u001b[0m\u001b[1;33m\u001b[0m\u001b[1;33m\u001b[0m\u001b[0m\n\u001b[0;32m   1554\u001b[0m                         \u001b[0mrv\u001b[0m \u001b[1;33m=\u001b[0m \u001b[0mrv\u001b[0m\u001b[1;33m.\u001b[0m\u001b[0mfunc\u001b[0m\u001b[1;33m(\u001b[0m\u001b[1;33m*\u001b[0m\u001b[0mnewargs\u001b[0m\u001b[1;33m)\u001b[0m\u001b[1;33m\u001b[0m\u001b[1;33m\u001b[0m\u001b[0m\n",
      "\u001b[1;32m~\\Anaconda3\\lib\\site-packages\\sympy\\core\\basic.py\u001b[0m in \u001b[0;36m<listcomp>\u001b[1;34m(.0)\u001b[0m\n\u001b[0;32m   1550\u001b[0m             \u001b[1;32mif\u001b[0m \u001b[0margs\u001b[0m \u001b[1;32mis\u001b[0m \u001b[1;32mnot\u001b[0m \u001b[1;32mNone\u001b[0m\u001b[1;33m:\u001b[0m\u001b[1;33m\u001b[0m\u001b[1;33m\u001b[0m\u001b[0m\n\u001b[0;32m   1551\u001b[0m                 \u001b[1;32mif\u001b[0m \u001b[0margs\u001b[0m\u001b[1;33m:\u001b[0m\u001b[1;33m\u001b[0m\u001b[1;33m\u001b[0m\u001b[0m\n\u001b[1;32m-> 1552\u001b[1;33m                     \u001b[0mnewargs\u001b[0m \u001b[1;33m=\u001b[0m \u001b[0mtuple\u001b[0m\u001b[1;33m(\u001b[0m\u001b[1;33m[\u001b[0m\u001b[0mwalk\u001b[0m\u001b[1;33m(\u001b[0m\u001b[0ma\u001b[0m\u001b[1;33m,\u001b[0m \u001b[0mF\u001b[0m\u001b[1;33m)\u001b[0m \u001b[1;32mfor\u001b[0m \u001b[0ma\u001b[0m \u001b[1;32min\u001b[0m \u001b[0margs\u001b[0m\u001b[1;33m]\u001b[0m\u001b[1;33m)\u001b[0m\u001b[1;33m\u001b[0m\u001b[1;33m\u001b[0m\u001b[0m\n\u001b[0m\u001b[0;32m   1553\u001b[0m                     \u001b[1;32mif\u001b[0m \u001b[0margs\u001b[0m \u001b[1;33m!=\u001b[0m \u001b[0mnewargs\u001b[0m\u001b[1;33m:\u001b[0m\u001b[1;33m\u001b[0m\u001b[1;33m\u001b[0m\u001b[0m\n\u001b[0;32m   1554\u001b[0m                         \u001b[0mrv\u001b[0m \u001b[1;33m=\u001b[0m \u001b[0mrv\u001b[0m\u001b[1;33m.\u001b[0m\u001b[0mfunc\u001b[0m\u001b[1;33m(\u001b[0m\u001b[1;33m*\u001b[0m\u001b[0mnewargs\u001b[0m\u001b[1;33m)\u001b[0m\u001b[1;33m\u001b[0m\u001b[1;33m\u001b[0m\u001b[0m\n",
      "\u001b[1;32m~\\Anaconda3\\lib\\site-packages\\sympy\\core\\basic.py\u001b[0m in \u001b[0;36mwalk\u001b[1;34m(rv, F)\u001b[0m\n\u001b[0;32m   1550\u001b[0m             \u001b[1;32mif\u001b[0m \u001b[0margs\u001b[0m \u001b[1;32mis\u001b[0m \u001b[1;32mnot\u001b[0m \u001b[1;32mNone\u001b[0m\u001b[1;33m:\u001b[0m\u001b[1;33m\u001b[0m\u001b[1;33m\u001b[0m\u001b[0m\n\u001b[0;32m   1551\u001b[0m                 \u001b[1;32mif\u001b[0m \u001b[0margs\u001b[0m\u001b[1;33m:\u001b[0m\u001b[1;33m\u001b[0m\u001b[1;33m\u001b[0m\u001b[0m\n\u001b[1;32m-> 1552\u001b[1;33m                     \u001b[0mnewargs\u001b[0m \u001b[1;33m=\u001b[0m \u001b[0mtuple\u001b[0m\u001b[1;33m(\u001b[0m\u001b[1;33m[\u001b[0m\u001b[0mwalk\u001b[0m\u001b[1;33m(\u001b[0m\u001b[0ma\u001b[0m\u001b[1;33m,\u001b[0m \u001b[0mF\u001b[0m\u001b[1;33m)\u001b[0m \u001b[1;32mfor\u001b[0m \u001b[0ma\u001b[0m \u001b[1;32min\u001b[0m \u001b[0margs\u001b[0m\u001b[1;33m]\u001b[0m\u001b[1;33m)\u001b[0m\u001b[1;33m\u001b[0m\u001b[1;33m\u001b[0m\u001b[0m\n\u001b[0m\u001b[0;32m   1553\u001b[0m                     \u001b[1;32mif\u001b[0m \u001b[0margs\u001b[0m \u001b[1;33m!=\u001b[0m \u001b[0mnewargs\u001b[0m\u001b[1;33m:\u001b[0m\u001b[1;33m\u001b[0m\u001b[1;33m\u001b[0m\u001b[0m\n\u001b[0;32m   1554\u001b[0m                         \u001b[0mrv\u001b[0m \u001b[1;33m=\u001b[0m \u001b[0mrv\u001b[0m\u001b[1;33m.\u001b[0m\u001b[0mfunc\u001b[0m\u001b[1;33m(\u001b[0m\u001b[1;33m*\u001b[0m\u001b[0mnewargs\u001b[0m\u001b[1;33m)\u001b[0m\u001b[1;33m\u001b[0m\u001b[1;33m\u001b[0m\u001b[0m\n",
      "\u001b[1;32m~\\Anaconda3\\lib\\site-packages\\sympy\\core\\basic.py\u001b[0m in \u001b[0;36m<listcomp>\u001b[1;34m(.0)\u001b[0m\n\u001b[0;32m   1550\u001b[0m             \u001b[1;32mif\u001b[0m \u001b[0margs\u001b[0m \u001b[1;32mis\u001b[0m \u001b[1;32mnot\u001b[0m \u001b[1;32mNone\u001b[0m\u001b[1;33m:\u001b[0m\u001b[1;33m\u001b[0m\u001b[1;33m\u001b[0m\u001b[0m\n\u001b[0;32m   1551\u001b[0m                 \u001b[1;32mif\u001b[0m \u001b[0margs\u001b[0m\u001b[1;33m:\u001b[0m\u001b[1;33m\u001b[0m\u001b[1;33m\u001b[0m\u001b[0m\n\u001b[1;32m-> 1552\u001b[1;33m                     \u001b[0mnewargs\u001b[0m \u001b[1;33m=\u001b[0m \u001b[0mtuple\u001b[0m\u001b[1;33m(\u001b[0m\u001b[1;33m[\u001b[0m\u001b[0mwalk\u001b[0m\u001b[1;33m(\u001b[0m\u001b[0ma\u001b[0m\u001b[1;33m,\u001b[0m \u001b[0mF\u001b[0m\u001b[1;33m)\u001b[0m \u001b[1;32mfor\u001b[0m \u001b[0ma\u001b[0m \u001b[1;32min\u001b[0m \u001b[0margs\u001b[0m\u001b[1;33m]\u001b[0m\u001b[1;33m)\u001b[0m\u001b[1;33m\u001b[0m\u001b[1;33m\u001b[0m\u001b[0m\n\u001b[0m\u001b[0;32m   1553\u001b[0m                     \u001b[1;32mif\u001b[0m \u001b[0margs\u001b[0m \u001b[1;33m!=\u001b[0m \u001b[0mnewargs\u001b[0m\u001b[1;33m:\u001b[0m\u001b[1;33m\u001b[0m\u001b[1;33m\u001b[0m\u001b[0m\n\u001b[0;32m   1554\u001b[0m                         \u001b[0mrv\u001b[0m \u001b[1;33m=\u001b[0m \u001b[0mrv\u001b[0m\u001b[1;33m.\u001b[0m\u001b[0mfunc\u001b[0m\u001b[1;33m(\u001b[0m\u001b[1;33m*\u001b[0m\u001b[0mnewargs\u001b[0m\u001b[1;33m)\u001b[0m\u001b[1;33m\u001b[0m\u001b[1;33m\u001b[0m\u001b[0m\n",
      "\u001b[1;32m~\\Anaconda3\\lib\\site-packages\\sympy\\core\\basic.py\u001b[0m in \u001b[0;36mwalk\u001b[1;34m(rv, F)\u001b[0m\n\u001b[0;32m   1550\u001b[0m             \u001b[1;32mif\u001b[0m \u001b[0margs\u001b[0m \u001b[1;32mis\u001b[0m \u001b[1;32mnot\u001b[0m \u001b[1;32mNone\u001b[0m\u001b[1;33m:\u001b[0m\u001b[1;33m\u001b[0m\u001b[1;33m\u001b[0m\u001b[0m\n\u001b[0;32m   1551\u001b[0m                 \u001b[1;32mif\u001b[0m \u001b[0margs\u001b[0m\u001b[1;33m:\u001b[0m\u001b[1;33m\u001b[0m\u001b[1;33m\u001b[0m\u001b[0m\n\u001b[1;32m-> 1552\u001b[1;33m                     \u001b[0mnewargs\u001b[0m \u001b[1;33m=\u001b[0m \u001b[0mtuple\u001b[0m\u001b[1;33m(\u001b[0m\u001b[1;33m[\u001b[0m\u001b[0mwalk\u001b[0m\u001b[1;33m(\u001b[0m\u001b[0ma\u001b[0m\u001b[1;33m,\u001b[0m \u001b[0mF\u001b[0m\u001b[1;33m)\u001b[0m \u001b[1;32mfor\u001b[0m \u001b[0ma\u001b[0m \u001b[1;32min\u001b[0m \u001b[0margs\u001b[0m\u001b[1;33m]\u001b[0m\u001b[1;33m)\u001b[0m\u001b[1;33m\u001b[0m\u001b[1;33m\u001b[0m\u001b[0m\n\u001b[0m\u001b[0;32m   1553\u001b[0m                     \u001b[1;32mif\u001b[0m \u001b[0margs\u001b[0m \u001b[1;33m!=\u001b[0m \u001b[0mnewargs\u001b[0m\u001b[1;33m:\u001b[0m\u001b[1;33m\u001b[0m\u001b[1;33m\u001b[0m\u001b[0m\n\u001b[0;32m   1554\u001b[0m                         \u001b[0mrv\u001b[0m \u001b[1;33m=\u001b[0m \u001b[0mrv\u001b[0m\u001b[1;33m.\u001b[0m\u001b[0mfunc\u001b[0m\u001b[1;33m(\u001b[0m\u001b[1;33m*\u001b[0m\u001b[0mnewargs\u001b[0m\u001b[1;33m)\u001b[0m\u001b[1;33m\u001b[0m\u001b[1;33m\u001b[0m\u001b[0m\n",
      "\u001b[1;32m~\\Anaconda3\\lib\\site-packages\\sympy\\core\\basic.py\u001b[0m in \u001b[0;36m<listcomp>\u001b[1;34m(.0)\u001b[0m\n\u001b[0;32m   1550\u001b[0m             \u001b[1;32mif\u001b[0m \u001b[0margs\u001b[0m \u001b[1;32mis\u001b[0m \u001b[1;32mnot\u001b[0m \u001b[1;32mNone\u001b[0m\u001b[1;33m:\u001b[0m\u001b[1;33m\u001b[0m\u001b[1;33m\u001b[0m\u001b[0m\n\u001b[0;32m   1551\u001b[0m                 \u001b[1;32mif\u001b[0m \u001b[0margs\u001b[0m\u001b[1;33m:\u001b[0m\u001b[1;33m\u001b[0m\u001b[1;33m\u001b[0m\u001b[0m\n\u001b[1;32m-> 1552\u001b[1;33m                     \u001b[0mnewargs\u001b[0m \u001b[1;33m=\u001b[0m \u001b[0mtuple\u001b[0m\u001b[1;33m(\u001b[0m\u001b[1;33m[\u001b[0m\u001b[0mwalk\u001b[0m\u001b[1;33m(\u001b[0m\u001b[0ma\u001b[0m\u001b[1;33m,\u001b[0m \u001b[0mF\u001b[0m\u001b[1;33m)\u001b[0m \u001b[1;32mfor\u001b[0m \u001b[0ma\u001b[0m \u001b[1;32min\u001b[0m \u001b[0margs\u001b[0m\u001b[1;33m]\u001b[0m\u001b[1;33m)\u001b[0m\u001b[1;33m\u001b[0m\u001b[1;33m\u001b[0m\u001b[0m\n\u001b[0m\u001b[0;32m   1553\u001b[0m                     \u001b[1;32mif\u001b[0m \u001b[0margs\u001b[0m \u001b[1;33m!=\u001b[0m \u001b[0mnewargs\u001b[0m\u001b[1;33m:\u001b[0m\u001b[1;33m\u001b[0m\u001b[1;33m\u001b[0m\u001b[0m\n\u001b[0;32m   1554\u001b[0m                         \u001b[0mrv\u001b[0m \u001b[1;33m=\u001b[0m \u001b[0mrv\u001b[0m\u001b[1;33m.\u001b[0m\u001b[0mfunc\u001b[0m\u001b[1;33m(\u001b[0m\u001b[1;33m*\u001b[0m\u001b[0mnewargs\u001b[0m\u001b[1;33m)\u001b[0m\u001b[1;33m\u001b[0m\u001b[1;33m\u001b[0m\u001b[0m\n",
      "\u001b[1;32m~\\Anaconda3\\lib\\site-packages\\sympy\\core\\basic.py\u001b[0m in \u001b[0;36mwalk\u001b[1;34m(rv, F)\u001b[0m\n\u001b[0;32m   1550\u001b[0m             \u001b[1;32mif\u001b[0m \u001b[0margs\u001b[0m \u001b[1;32mis\u001b[0m \u001b[1;32mnot\u001b[0m \u001b[1;32mNone\u001b[0m\u001b[1;33m:\u001b[0m\u001b[1;33m\u001b[0m\u001b[1;33m\u001b[0m\u001b[0m\n\u001b[0;32m   1551\u001b[0m                 \u001b[1;32mif\u001b[0m \u001b[0margs\u001b[0m\u001b[1;33m:\u001b[0m\u001b[1;33m\u001b[0m\u001b[1;33m\u001b[0m\u001b[0m\n\u001b[1;32m-> 1552\u001b[1;33m                     \u001b[0mnewargs\u001b[0m \u001b[1;33m=\u001b[0m \u001b[0mtuple\u001b[0m\u001b[1;33m(\u001b[0m\u001b[1;33m[\u001b[0m\u001b[0mwalk\u001b[0m\u001b[1;33m(\u001b[0m\u001b[0ma\u001b[0m\u001b[1;33m,\u001b[0m \u001b[0mF\u001b[0m\u001b[1;33m)\u001b[0m \u001b[1;32mfor\u001b[0m \u001b[0ma\u001b[0m \u001b[1;32min\u001b[0m \u001b[0margs\u001b[0m\u001b[1;33m]\u001b[0m\u001b[1;33m)\u001b[0m\u001b[1;33m\u001b[0m\u001b[1;33m\u001b[0m\u001b[0m\n\u001b[0m\u001b[0;32m   1553\u001b[0m                     \u001b[1;32mif\u001b[0m \u001b[0margs\u001b[0m \u001b[1;33m!=\u001b[0m \u001b[0mnewargs\u001b[0m\u001b[1;33m:\u001b[0m\u001b[1;33m\u001b[0m\u001b[1;33m\u001b[0m\u001b[0m\n\u001b[0;32m   1554\u001b[0m                         \u001b[0mrv\u001b[0m \u001b[1;33m=\u001b[0m \u001b[0mrv\u001b[0m\u001b[1;33m.\u001b[0m\u001b[0mfunc\u001b[0m\u001b[1;33m(\u001b[0m\u001b[1;33m*\u001b[0m\u001b[0mnewargs\u001b[0m\u001b[1;33m)\u001b[0m\u001b[1;33m\u001b[0m\u001b[1;33m\u001b[0m\u001b[0m\n",
      "\u001b[1;32m~\\Anaconda3\\lib\\site-packages\\sympy\\core\\basic.py\u001b[0m in \u001b[0;36m<listcomp>\u001b[1;34m(.0)\u001b[0m\n\u001b[0;32m   1550\u001b[0m             \u001b[1;32mif\u001b[0m \u001b[0margs\u001b[0m \u001b[1;32mis\u001b[0m \u001b[1;32mnot\u001b[0m \u001b[1;32mNone\u001b[0m\u001b[1;33m:\u001b[0m\u001b[1;33m\u001b[0m\u001b[1;33m\u001b[0m\u001b[0m\n\u001b[0;32m   1551\u001b[0m                 \u001b[1;32mif\u001b[0m \u001b[0margs\u001b[0m\u001b[1;33m:\u001b[0m\u001b[1;33m\u001b[0m\u001b[1;33m\u001b[0m\u001b[0m\n\u001b[1;32m-> 1552\u001b[1;33m                     \u001b[0mnewargs\u001b[0m \u001b[1;33m=\u001b[0m \u001b[0mtuple\u001b[0m\u001b[1;33m(\u001b[0m\u001b[1;33m[\u001b[0m\u001b[0mwalk\u001b[0m\u001b[1;33m(\u001b[0m\u001b[0ma\u001b[0m\u001b[1;33m,\u001b[0m \u001b[0mF\u001b[0m\u001b[1;33m)\u001b[0m \u001b[1;32mfor\u001b[0m \u001b[0ma\u001b[0m \u001b[1;32min\u001b[0m \u001b[0margs\u001b[0m\u001b[1;33m]\u001b[0m\u001b[1;33m)\u001b[0m\u001b[1;33m\u001b[0m\u001b[1;33m\u001b[0m\u001b[0m\n\u001b[0m\u001b[0;32m   1553\u001b[0m                     \u001b[1;32mif\u001b[0m \u001b[0margs\u001b[0m \u001b[1;33m!=\u001b[0m \u001b[0mnewargs\u001b[0m\u001b[1;33m:\u001b[0m\u001b[1;33m\u001b[0m\u001b[1;33m\u001b[0m\u001b[0m\n\u001b[0;32m   1554\u001b[0m                         \u001b[0mrv\u001b[0m \u001b[1;33m=\u001b[0m \u001b[0mrv\u001b[0m\u001b[1;33m.\u001b[0m\u001b[0mfunc\u001b[0m\u001b[1;33m(\u001b[0m\u001b[1;33m*\u001b[0m\u001b[0mnewargs\u001b[0m\u001b[1;33m)\u001b[0m\u001b[1;33m\u001b[0m\u001b[1;33m\u001b[0m\u001b[0m\n",
      "\u001b[1;32m~\\Anaconda3\\lib\\site-packages\\sympy\\core\\basic.py\u001b[0m in \u001b[0;36mwalk\u001b[1;34m(rv, F)\u001b[0m\n\u001b[0;32m   1550\u001b[0m             \u001b[1;32mif\u001b[0m \u001b[0margs\u001b[0m \u001b[1;32mis\u001b[0m \u001b[1;32mnot\u001b[0m \u001b[1;32mNone\u001b[0m\u001b[1;33m:\u001b[0m\u001b[1;33m\u001b[0m\u001b[1;33m\u001b[0m\u001b[0m\n\u001b[0;32m   1551\u001b[0m                 \u001b[1;32mif\u001b[0m \u001b[0margs\u001b[0m\u001b[1;33m:\u001b[0m\u001b[1;33m\u001b[0m\u001b[1;33m\u001b[0m\u001b[0m\n\u001b[1;32m-> 1552\u001b[1;33m                     \u001b[0mnewargs\u001b[0m \u001b[1;33m=\u001b[0m \u001b[0mtuple\u001b[0m\u001b[1;33m(\u001b[0m\u001b[1;33m[\u001b[0m\u001b[0mwalk\u001b[0m\u001b[1;33m(\u001b[0m\u001b[0ma\u001b[0m\u001b[1;33m,\u001b[0m \u001b[0mF\u001b[0m\u001b[1;33m)\u001b[0m \u001b[1;32mfor\u001b[0m \u001b[0ma\u001b[0m \u001b[1;32min\u001b[0m \u001b[0margs\u001b[0m\u001b[1;33m]\u001b[0m\u001b[1;33m)\u001b[0m\u001b[1;33m\u001b[0m\u001b[1;33m\u001b[0m\u001b[0m\n\u001b[0m\u001b[0;32m   1553\u001b[0m                     \u001b[1;32mif\u001b[0m \u001b[0margs\u001b[0m \u001b[1;33m!=\u001b[0m \u001b[0mnewargs\u001b[0m\u001b[1;33m:\u001b[0m\u001b[1;33m\u001b[0m\u001b[1;33m\u001b[0m\u001b[0m\n\u001b[0;32m   1554\u001b[0m                         \u001b[0mrv\u001b[0m \u001b[1;33m=\u001b[0m \u001b[0mrv\u001b[0m\u001b[1;33m.\u001b[0m\u001b[0mfunc\u001b[0m\u001b[1;33m(\u001b[0m\u001b[1;33m*\u001b[0m\u001b[0mnewargs\u001b[0m\u001b[1;33m)\u001b[0m\u001b[1;33m\u001b[0m\u001b[1;33m\u001b[0m\u001b[0m\n",
      "\u001b[1;32m~\\Anaconda3\\lib\\site-packages\\sympy\\core\\basic.py\u001b[0m in \u001b[0;36m<listcomp>\u001b[1;34m(.0)\u001b[0m\n\u001b[0;32m   1550\u001b[0m             \u001b[1;32mif\u001b[0m \u001b[0margs\u001b[0m \u001b[1;32mis\u001b[0m \u001b[1;32mnot\u001b[0m \u001b[1;32mNone\u001b[0m\u001b[1;33m:\u001b[0m\u001b[1;33m\u001b[0m\u001b[1;33m\u001b[0m\u001b[0m\n\u001b[0;32m   1551\u001b[0m                 \u001b[1;32mif\u001b[0m \u001b[0margs\u001b[0m\u001b[1;33m:\u001b[0m\u001b[1;33m\u001b[0m\u001b[1;33m\u001b[0m\u001b[0m\n\u001b[1;32m-> 1552\u001b[1;33m                     \u001b[0mnewargs\u001b[0m \u001b[1;33m=\u001b[0m \u001b[0mtuple\u001b[0m\u001b[1;33m(\u001b[0m\u001b[1;33m[\u001b[0m\u001b[0mwalk\u001b[0m\u001b[1;33m(\u001b[0m\u001b[0ma\u001b[0m\u001b[1;33m,\u001b[0m \u001b[0mF\u001b[0m\u001b[1;33m)\u001b[0m \u001b[1;32mfor\u001b[0m \u001b[0ma\u001b[0m \u001b[1;32min\u001b[0m \u001b[0margs\u001b[0m\u001b[1;33m]\u001b[0m\u001b[1;33m)\u001b[0m\u001b[1;33m\u001b[0m\u001b[1;33m\u001b[0m\u001b[0m\n\u001b[0m\u001b[0;32m   1553\u001b[0m                     \u001b[1;32mif\u001b[0m \u001b[0margs\u001b[0m \u001b[1;33m!=\u001b[0m \u001b[0mnewargs\u001b[0m\u001b[1;33m:\u001b[0m\u001b[1;33m\u001b[0m\u001b[1;33m\u001b[0m\u001b[0m\n\u001b[0;32m   1554\u001b[0m                         \u001b[0mrv\u001b[0m \u001b[1;33m=\u001b[0m \u001b[0mrv\u001b[0m\u001b[1;33m.\u001b[0m\u001b[0mfunc\u001b[0m\u001b[1;33m(\u001b[0m\u001b[1;33m*\u001b[0m\u001b[0mnewargs\u001b[0m\u001b[1;33m)\u001b[0m\u001b[1;33m\u001b[0m\u001b[1;33m\u001b[0m\u001b[0m\n",
      "\u001b[1;32m~\\Anaconda3\\lib\\site-packages\\sympy\\core\\basic.py\u001b[0m in \u001b[0;36mwalk\u001b[1;34m(rv, F)\u001b[0m\n\u001b[0;32m   1550\u001b[0m             \u001b[1;32mif\u001b[0m \u001b[0margs\u001b[0m \u001b[1;32mis\u001b[0m \u001b[1;32mnot\u001b[0m \u001b[1;32mNone\u001b[0m\u001b[1;33m:\u001b[0m\u001b[1;33m\u001b[0m\u001b[1;33m\u001b[0m\u001b[0m\n\u001b[0;32m   1551\u001b[0m                 \u001b[1;32mif\u001b[0m \u001b[0margs\u001b[0m\u001b[1;33m:\u001b[0m\u001b[1;33m\u001b[0m\u001b[1;33m\u001b[0m\u001b[0m\n\u001b[1;32m-> 1552\u001b[1;33m                     \u001b[0mnewargs\u001b[0m \u001b[1;33m=\u001b[0m \u001b[0mtuple\u001b[0m\u001b[1;33m(\u001b[0m\u001b[1;33m[\u001b[0m\u001b[0mwalk\u001b[0m\u001b[1;33m(\u001b[0m\u001b[0ma\u001b[0m\u001b[1;33m,\u001b[0m \u001b[0mF\u001b[0m\u001b[1;33m)\u001b[0m \u001b[1;32mfor\u001b[0m \u001b[0ma\u001b[0m \u001b[1;32min\u001b[0m \u001b[0margs\u001b[0m\u001b[1;33m]\u001b[0m\u001b[1;33m)\u001b[0m\u001b[1;33m\u001b[0m\u001b[1;33m\u001b[0m\u001b[0m\n\u001b[0m\u001b[0;32m   1553\u001b[0m                     \u001b[1;32mif\u001b[0m \u001b[0margs\u001b[0m \u001b[1;33m!=\u001b[0m \u001b[0mnewargs\u001b[0m\u001b[1;33m:\u001b[0m\u001b[1;33m\u001b[0m\u001b[1;33m\u001b[0m\u001b[0m\n\u001b[0;32m   1554\u001b[0m                         \u001b[0mrv\u001b[0m \u001b[1;33m=\u001b[0m \u001b[0mrv\u001b[0m\u001b[1;33m.\u001b[0m\u001b[0mfunc\u001b[0m\u001b[1;33m(\u001b[0m\u001b[1;33m*\u001b[0m\u001b[0mnewargs\u001b[0m\u001b[1;33m)\u001b[0m\u001b[1;33m\u001b[0m\u001b[1;33m\u001b[0m\u001b[0m\n",
      "\u001b[1;32m~\\Anaconda3\\lib\\site-packages\\sympy\\core\\basic.py\u001b[0m in \u001b[0;36m<listcomp>\u001b[1;34m(.0)\u001b[0m\n\u001b[0;32m   1550\u001b[0m             \u001b[1;32mif\u001b[0m \u001b[0margs\u001b[0m \u001b[1;32mis\u001b[0m \u001b[1;32mnot\u001b[0m \u001b[1;32mNone\u001b[0m\u001b[1;33m:\u001b[0m\u001b[1;33m\u001b[0m\u001b[1;33m\u001b[0m\u001b[0m\n\u001b[0;32m   1551\u001b[0m                 \u001b[1;32mif\u001b[0m \u001b[0margs\u001b[0m\u001b[1;33m:\u001b[0m\u001b[1;33m\u001b[0m\u001b[1;33m\u001b[0m\u001b[0m\n\u001b[1;32m-> 1552\u001b[1;33m                     \u001b[0mnewargs\u001b[0m \u001b[1;33m=\u001b[0m \u001b[0mtuple\u001b[0m\u001b[1;33m(\u001b[0m\u001b[1;33m[\u001b[0m\u001b[0mwalk\u001b[0m\u001b[1;33m(\u001b[0m\u001b[0ma\u001b[0m\u001b[1;33m,\u001b[0m \u001b[0mF\u001b[0m\u001b[1;33m)\u001b[0m \u001b[1;32mfor\u001b[0m \u001b[0ma\u001b[0m \u001b[1;32min\u001b[0m \u001b[0margs\u001b[0m\u001b[1;33m]\u001b[0m\u001b[1;33m)\u001b[0m\u001b[1;33m\u001b[0m\u001b[1;33m\u001b[0m\u001b[0m\n\u001b[0m\u001b[0;32m   1553\u001b[0m                     \u001b[1;32mif\u001b[0m \u001b[0margs\u001b[0m \u001b[1;33m!=\u001b[0m \u001b[0mnewargs\u001b[0m\u001b[1;33m:\u001b[0m\u001b[1;33m\u001b[0m\u001b[1;33m\u001b[0m\u001b[0m\n\u001b[0;32m   1554\u001b[0m                         \u001b[0mrv\u001b[0m \u001b[1;33m=\u001b[0m \u001b[0mrv\u001b[0m\u001b[1;33m.\u001b[0m\u001b[0mfunc\u001b[0m\u001b[1;33m(\u001b[0m\u001b[1;33m*\u001b[0m\u001b[0mnewargs\u001b[0m\u001b[1;33m)\u001b[0m\u001b[1;33m\u001b[0m\u001b[1;33m\u001b[0m\u001b[0m\n",
      "\u001b[1;32m~\\Anaconda3\\lib\\site-packages\\sympy\\core\\basic.py\u001b[0m in \u001b[0;36mwalk\u001b[1;34m(rv, F)\u001b[0m\n\u001b[0;32m   1560\u001b[0m                                 \u001b[1;32mif\u001b[0m \u001b[0mrv\u001b[0m \u001b[1;33m==\u001b[0m \u001b[0me\u001b[0m \u001b[1;32mand\u001b[0m \u001b[0me\u001b[0m \u001b[1;33m!=\u001b[0m \u001b[0mnewargs\u001b[0m\u001b[1;33m[\u001b[0m\u001b[0mi\u001b[0m\u001b[1;33m]\u001b[0m\u001b[1;33m:\u001b[0m\u001b[1;33m\u001b[0m\u001b[1;33m\u001b[0m\u001b[0m\n\u001b[0;32m   1561\u001b[0m                                     \u001b[1;32mreturn\u001b[0m \u001b[0mrv\u001b[0m\u001b[1;33m\u001b[0m\u001b[1;33m\u001b[0m\u001b[0m\n\u001b[1;32m-> 1562\u001b[1;33m                 \u001b[0mrv\u001b[0m \u001b[1;33m=\u001b[0m \u001b[0mF\u001b[0m\u001b[1;33m(\u001b[0m\u001b[0mrv\u001b[0m\u001b[1;33m)\u001b[0m\u001b[1;33m\u001b[0m\u001b[1;33m\u001b[0m\u001b[0m\n\u001b[0m\u001b[0;32m   1563\u001b[0m             \u001b[1;32mreturn\u001b[0m \u001b[0mrv\u001b[0m\u001b[1;33m\u001b[0m\u001b[1;33m\u001b[0m\u001b[0m\n\u001b[0;32m   1564\u001b[0m \u001b[1;33m\u001b[0m\u001b[0m\n",
      "\u001b[1;32m~\\Anaconda3\\lib\\site-packages\\sympy\\core\\basic.py\u001b[0m in \u001b[0;36mrec_replace\u001b[1;34m(expr)\u001b[0m\n\u001b[0;32m   1568\u001b[0m             \u001b[0mresult\u001b[0m \u001b[1;33m=\u001b[0m \u001b[0m_query\u001b[0m\u001b[1;33m(\u001b[0m\u001b[0mexpr\u001b[0m\u001b[1;33m)\u001b[0m\u001b[1;33m\u001b[0m\u001b[1;33m\u001b[0m\u001b[0m\n\u001b[0;32m   1569\u001b[0m             \u001b[1;32mif\u001b[0m \u001b[0mresult\u001b[0m \u001b[1;32mor\u001b[0m \u001b[0mresult\u001b[0m \u001b[1;33m==\u001b[0m \u001b[1;33m{\u001b[0m\u001b[1;33m}\u001b[0m\u001b[1;33m:\u001b[0m\u001b[1;33m\u001b[0m\u001b[1;33m\u001b[0m\u001b[0m\n\u001b[1;32m-> 1570\u001b[1;33m                 \u001b[0mv\u001b[0m \u001b[1;33m=\u001b[0m \u001b[0m_value\u001b[0m\u001b[1;33m(\u001b[0m\u001b[0mexpr\u001b[0m\u001b[1;33m,\u001b[0m \u001b[0mresult\u001b[0m\u001b[1;33m)\u001b[0m\u001b[1;33m\u001b[0m\u001b[1;33m\u001b[0m\u001b[0m\n\u001b[0m\u001b[0;32m   1571\u001b[0m                 \u001b[1;32mif\u001b[0m \u001b[0mv\u001b[0m \u001b[1;32mis\u001b[0m \u001b[1;32mnot\u001b[0m \u001b[1;32mNone\u001b[0m \u001b[1;32mand\u001b[0m \u001b[0mv\u001b[0m \u001b[1;33m!=\u001b[0m \u001b[0mexpr\u001b[0m\u001b[1;33m:\u001b[0m\u001b[1;33m\u001b[0m\u001b[1;33m\u001b[0m\u001b[0m\n\u001b[0;32m   1572\u001b[0m                     \u001b[1;32mif\u001b[0m \u001b[0mmap\u001b[0m\u001b[1;33m:\u001b[0m\u001b[1;33m\u001b[0m\u001b[1;33m\u001b[0m\u001b[0m\n",
      "\u001b[1;32m~\\Anaconda3\\lib\\site-packages\\sympy\\core\\basic.py\u001b[0m in \u001b[0;36m<lambda>\u001b[1;34m(expr, result)\u001b[0m\n\u001b[0;32m   1534\u001b[0m \u001b[1;33m\u001b[0m\u001b[0m\n\u001b[0;32m   1535\u001b[0m             \u001b[1;32mif\u001b[0m \u001b[0mcallable\u001b[0m\u001b[1;33m(\u001b[0m\u001b[0mvalue\u001b[0m\u001b[1;33m)\u001b[0m\u001b[1;33m:\u001b[0m\u001b[1;33m\u001b[0m\u001b[1;33m\u001b[0m\u001b[0m\n\u001b[1;32m-> 1536\u001b[1;33m                 \u001b[0m_value\u001b[0m \u001b[1;33m=\u001b[0m \u001b[1;32mlambda\u001b[0m \u001b[0mexpr\u001b[0m\u001b[1;33m,\u001b[0m \u001b[0mresult\u001b[0m\u001b[1;33m:\u001b[0m \u001b[0mvalue\u001b[0m\u001b[1;33m(\u001b[0m\u001b[0mexpr\u001b[0m\u001b[1;33m)\u001b[0m\u001b[1;33m\u001b[0m\u001b[1;33m\u001b[0m\u001b[0m\n\u001b[0m\u001b[0;32m   1537\u001b[0m             \u001b[1;32melse\u001b[0m\u001b[1;33m:\u001b[0m\u001b[1;33m\u001b[0m\u001b[1;33m\u001b[0m\u001b[0m\n\u001b[0;32m   1538\u001b[0m                 raise TypeError(\n",
      "\u001b[1;32m~\\Anaconda3\\lib\\site-packages\\sympy\\simplify\\simplify.py\u001b[0m in \u001b[0;36m<lambda>\u001b[1;34m(x)\u001b[0m\n\u001b[0;32m    622\u001b[0m         lambda x: isinstance(x, Expr) and x.args and not isinstance(\n\u001b[0;32m    623\u001b[0m             x, handled),\n\u001b[1;32m--> 624\u001b[1;33m         \u001b[1;32mlambda\u001b[0m \u001b[0mx\u001b[0m\u001b[1;33m:\u001b[0m \u001b[0mx\u001b[0m\u001b[1;33m.\u001b[0m\u001b[0mfunc\u001b[0m\u001b[1;33m(\u001b[0m\u001b[1;33m*\u001b[0m\u001b[1;33m[\u001b[0m\u001b[0msimplify\u001b[0m\u001b[1;33m(\u001b[0m\u001b[0mi\u001b[0m\u001b[1;33m,\u001b[0m \u001b[1;33m**\u001b[0m\u001b[0mkwargs\u001b[0m\u001b[1;33m)\u001b[0m \u001b[1;32mfor\u001b[0m \u001b[0mi\u001b[0m \u001b[1;32min\u001b[0m \u001b[0mx\u001b[0m\u001b[1;33m.\u001b[0m\u001b[0margs\u001b[0m\u001b[1;33m]\u001b[0m\u001b[1;33m)\u001b[0m\u001b[1;33m,\u001b[0m\u001b[1;33m\u001b[0m\u001b[1;33m\u001b[0m\u001b[0m\n\u001b[0m\u001b[0;32m    625\u001b[0m         simultaneous=False)\n\u001b[0;32m    626\u001b[0m     \u001b[1;32mif\u001b[0m \u001b[1;32mnot\u001b[0m \u001b[0misinstance\u001b[0m\u001b[1;33m(\u001b[0m\u001b[0mexpr\u001b[0m\u001b[1;33m,\u001b[0m \u001b[0mhandled\u001b[0m\u001b[1;33m)\u001b[0m\u001b[1;33m:\u001b[0m\u001b[1;33m\u001b[0m\u001b[1;33m\u001b[0m\u001b[0m\n",
      "\u001b[1;32m~\\Anaconda3\\lib\\site-packages\\sympy\\simplify\\simplify.py\u001b[0m in \u001b[0;36m<listcomp>\u001b[1;34m(.0)\u001b[0m\n\u001b[0;32m    622\u001b[0m         lambda x: isinstance(x, Expr) and x.args and not isinstance(\n\u001b[0;32m    623\u001b[0m             x, handled),\n\u001b[1;32m--> 624\u001b[1;33m         \u001b[1;32mlambda\u001b[0m \u001b[0mx\u001b[0m\u001b[1;33m:\u001b[0m \u001b[0mx\u001b[0m\u001b[1;33m.\u001b[0m\u001b[0mfunc\u001b[0m\u001b[1;33m(\u001b[0m\u001b[1;33m*\u001b[0m\u001b[1;33m[\u001b[0m\u001b[0msimplify\u001b[0m\u001b[1;33m(\u001b[0m\u001b[0mi\u001b[0m\u001b[1;33m,\u001b[0m \u001b[1;33m**\u001b[0m\u001b[0mkwargs\u001b[0m\u001b[1;33m)\u001b[0m \u001b[1;32mfor\u001b[0m \u001b[0mi\u001b[0m \u001b[1;32min\u001b[0m \u001b[0mx\u001b[0m\u001b[1;33m.\u001b[0m\u001b[0margs\u001b[0m\u001b[1;33m]\u001b[0m\u001b[1;33m)\u001b[0m\u001b[1;33m,\u001b[0m\u001b[1;33m\u001b[0m\u001b[1;33m\u001b[0m\u001b[0m\n\u001b[0m\u001b[0;32m    625\u001b[0m         simultaneous=False)\n\u001b[0;32m    626\u001b[0m     \u001b[1;32mif\u001b[0m \u001b[1;32mnot\u001b[0m \u001b[0misinstance\u001b[0m\u001b[1;33m(\u001b[0m\u001b[0mexpr\u001b[0m\u001b[1;33m,\u001b[0m \u001b[0mhandled\u001b[0m\u001b[1;33m)\u001b[0m\u001b[1;33m:\u001b[0m\u001b[1;33m\u001b[0m\u001b[1;33m\u001b[0m\u001b[0m\n",
      "\u001b[1;32m~\\Anaconda3\\lib\\site-packages\\sympy\\simplify\\simplify.py\u001b[0m in \u001b[0;36msimplify\u001b[1;34m(expr, ratio, measure, rational, inverse, doit, **kwargs)\u001b[0m\n\u001b[0;32m    602\u001b[0m         \u001b[1;32mreturn\u001b[0m \u001b[0m_eval_simplify\u001b[0m\u001b[1;33m(\u001b[0m\u001b[1;33m**\u001b[0m\u001b[0mkwargs\u001b[0m\u001b[1;33m)\u001b[0m\u001b[1;33m\u001b[0m\u001b[1;33m\u001b[0m\u001b[0m\n\u001b[0;32m    603\u001b[0m \u001b[1;33m\u001b[0m\u001b[0m\n\u001b[1;32m--> 604\u001b[1;33m     \u001b[0moriginal_expr\u001b[0m \u001b[1;33m=\u001b[0m \u001b[0mexpr\u001b[0m \u001b[1;33m=\u001b[0m \u001b[0mcollect_abs\u001b[0m\u001b[1;33m(\u001b[0m\u001b[0msignsimp\u001b[0m\u001b[1;33m(\u001b[0m\u001b[0mexpr\u001b[0m\u001b[1;33m)\u001b[0m\u001b[1;33m)\u001b[0m\u001b[1;33m\u001b[0m\u001b[1;33m\u001b[0m\u001b[0m\n\u001b[0m\u001b[0;32m    605\u001b[0m \u001b[1;33m\u001b[0m\u001b[0m\n\u001b[0;32m    606\u001b[0m     \u001b[1;32mif\u001b[0m \u001b[1;32mnot\u001b[0m \u001b[0misinstance\u001b[0m\u001b[1;33m(\u001b[0m\u001b[0mexpr\u001b[0m\u001b[1;33m,\u001b[0m \u001b[0mBasic\u001b[0m\u001b[1;33m)\u001b[0m \u001b[1;32mor\u001b[0m \u001b[1;32mnot\u001b[0m \u001b[0mexpr\u001b[0m\u001b[1;33m.\u001b[0m\u001b[0margs\u001b[0m\u001b[1;33m:\u001b[0m  \u001b[1;31m# XXX: temporary hack\u001b[0m\u001b[1;33m\u001b[0m\u001b[1;33m\u001b[0m\u001b[0m\n",
      "\u001b[1;32m~\\Anaconda3\\lib\\site-packages\\sympy\\simplify\\radsimp.py\u001b[0m in \u001b[0;36mcollect_abs\u001b[1;34m(expr)\u001b[0m\n\u001b[0;32m    604\u001b[0m       \u001b[1;32mreturn\u001b[0m \u001b[0mMul\u001b[0m\u001b[1;33m.\u001b[0m\u001b[0m_from_args\u001b[0m\u001b[1;33m(\u001b[0m\u001b[0margs\u001b[0m\u001b[1;33m,\u001b[0m \u001b[0mis_commutative\u001b[0m\u001b[1;33m=\u001b[0m\u001b[1;32mnot\u001b[0m \u001b[0mnc\u001b[0m\u001b[1;33m)\u001b[0m\u001b[1;33m\u001b[0m\u001b[1;33m\u001b[0m\u001b[0m\n\u001b[0;32m    605\u001b[0m \u001b[1;33m\u001b[0m\u001b[0m\n\u001b[1;32m--> 606\u001b[1;33m     return expr.replace(\n\u001b[0m\u001b[0;32m    607\u001b[0m         \u001b[1;32mlambda\u001b[0m \u001b[0mx\u001b[0m\u001b[1;33m:\u001b[0m \u001b[0misinstance\u001b[0m\u001b[1;33m(\u001b[0m\u001b[0mx\u001b[0m\u001b[1;33m,\u001b[0m \u001b[0mMul\u001b[0m\u001b[1;33m)\u001b[0m\u001b[1;33m,\u001b[0m\u001b[1;33m\u001b[0m\u001b[1;33m\u001b[0m\u001b[0m\n\u001b[0;32m    608\u001b[0m         \u001b[1;32mlambda\u001b[0m \u001b[0mx\u001b[0m\u001b[1;33m:\u001b[0m \u001b[0m_abs\u001b[0m\u001b[1;33m(\u001b[0m\u001b[0mx\u001b[0m\u001b[1;33m)\u001b[0m\u001b[1;33m)\u001b[0m\u001b[1;33m.\u001b[0m\u001b[0mreplace\u001b[0m\u001b[1;33m(\u001b[0m\u001b[1;33m\u001b[0m\u001b[1;33m\u001b[0m\u001b[0m\n",
      "\u001b[1;32m~\\Anaconda3\\lib\\site-packages\\sympy\\core\\basic.py\u001b[0m in \u001b[0;36mreplace\u001b[1;34m(self, query, value, map, simultaneous, exact)\u001b[0m\n\u001b[0;32m   1576\u001b[0m \u001b[1;33m\u001b[0m\u001b[0m\n\u001b[0;32m   1577\u001b[0m         \u001b[0mrv\u001b[0m \u001b[1;33m=\u001b[0m \u001b[0mwalk\u001b[0m\u001b[1;33m(\u001b[0m\u001b[0mself\u001b[0m\u001b[1;33m,\u001b[0m \u001b[0mrec_replace\u001b[0m\u001b[1;33m)\u001b[0m\u001b[1;33m\u001b[0m\u001b[1;33m\u001b[0m\u001b[0m\n\u001b[1;32m-> 1578\u001b[1;33m         \u001b[1;32mreturn\u001b[0m \u001b[1;33m(\u001b[0m\u001b[0mrv\u001b[0m\u001b[1;33m,\u001b[0m \u001b[0mmapping\u001b[0m\u001b[1;33m)\u001b[0m \u001b[1;32mif\u001b[0m \u001b[0mmap\u001b[0m \u001b[1;32melse\u001b[0m \u001b[0mrv\u001b[0m\u001b[1;33m\u001b[0m\u001b[1;33m\u001b[0m\u001b[0m\n\u001b[0m\u001b[0;32m   1579\u001b[0m \u001b[1;33m\u001b[0m\u001b[0m\n\u001b[0;32m   1580\u001b[0m     \u001b[1;32mdef\u001b[0m \u001b[0mfind\u001b[0m\u001b[1;33m(\u001b[0m\u001b[0mself\u001b[0m\u001b[1;33m,\u001b[0m \u001b[0mquery\u001b[0m\u001b[1;33m,\u001b[0m \u001b[0mgroup\u001b[0m\u001b[1;33m=\u001b[0m\u001b[1;32mFalse\u001b[0m\u001b[1;33m)\u001b[0m\u001b[1;33m:\u001b[0m\u001b[1;33m\u001b[0m\u001b[1;33m\u001b[0m\u001b[0m\n",
      "\u001b[1;31mKeyboardInterrupt\u001b[0m: "
     ]
    }
   ],
   "source": [
    "phi = -sp.diff(w, x)\n",
    "kappa = sp.diff(phi, x)\n",
    "M = EI * kappa\n",
    "V = sp.diff(M, x)\n",
    "\n",
    "eq1  = sp.Eq(w.subs(x , 0) , w1)\n",
    "eq2  = sp.Eq(phi.subs(x , 0) , phi1)\n",
    "eq3  = sp.Eq(w.subs(x , L) , w2)\n",
    "eq4  = sp.Eq(phi.subs(x , L) , phi2)\n",
    "\n",
    "display(eq1)\n",
    "display(eq2)\n",
    "display(eq3)\n",
    "display(eq4)\n",
    "\n",
    "sol = sp.solve((eq1,eq2,eq3,eq4) ,\n",
    "               (C1 ,C2 ,C3 ,C4))\n",
    "w_sol = w.subs(sol)\n",
    "V_sol = V.subs(sol)\n",
    "M_sol = M.subs(sol)\n",
    "\n",
    "Fz1 = sp.expand(sp.simplify(-V_sol.subs(x,0)))\n",
    "Fz2 = sp.expand(sp.simplify(V_sol.subs(x,L)))\n",
    "Ty1 = sp.expand(sp.simplify(-M_sol.subs(x,0)))\n",
    "Ty2 = sp.expand(sp.simplify(M_sol.subs(x,L)))"
   ]
  },
  {
   "cell_type": "code",
   "execution_count": null,
   "id": "e3f8bcd2",
   "metadata": {},
   "outputs": [],
   "source": []
  },
  {
   "cell_type": "code",
   "execution_count": 50,
   "id": "8c7ff356",
   "metadata": {},
   "outputs": [
    {
     "data": {
      "text/latex": [
       "$\\displaystyle \\left[\\begin{matrix}\\frac{4 EI \\beta^{3} \\left(e^{4 L \\beta} + 2 e^{2 L \\beta} \\sin{\\left(2 L \\beta \\right)} - 1\\right)}{e^{4 L \\beta} + 2 e^{2 L \\beta} \\cos{\\left(2 L \\beta \\right)} - 4 e^{2 L \\beta} + 1} & \\frac{2 EI \\beta^{2} \\left(- e^{4 L \\beta} + 2 e^{2 L \\beta} \\cos{\\left(2 L \\beta \\right)} - 1\\right)}{e^{4 L \\beta} + 2 e^{2 L \\beta} \\cos{\\left(2 L \\beta \\right)} - 4 e^{2 L \\beta} + 1} & \\frac{8 \\sqrt{2} EI \\beta^{3} \\left(- e^{2 L \\beta} \\sin{\\left(L \\beta + \\frac{\\pi}{4} \\right)} + \\cos{\\left(L \\beta + \\frac{\\pi}{4} \\right)}\\right) e^{L \\beta}}{e^{4 L \\beta} + 2 e^{2 L \\beta} \\cos{\\left(2 L \\beta \\right)} - 4 e^{2 L \\beta} + 1} & \\frac{8 EI \\beta^{2} \\cdot \\left(1 - e^{2 L \\beta}\\right) e^{L \\beta} \\sin{\\left(L \\beta \\right)}}{e^{4 L \\beta} + 2 e^{2 L \\beta} \\cos{\\left(2 L \\beta \\right)} - 4 e^{2 L \\beta} + 1}\\\\\\frac{2 EI \\beta^{2} \\left(- e^{4 L \\beta} + 2 e^{2 L \\beta} \\cos{\\left(2 L \\beta \\right)} - 1\\right)}{e^{4 L \\beta} + 2 e^{2 L \\beta} \\cos{\\left(2 L \\beta \\right)} - 4 e^{2 L \\beta} + 1} & \\frac{2 EI \\beta \\left(e^{4 L \\beta} - 2 e^{2 L \\beta} \\sin{\\left(2 L \\beta \\right)} - 1\\right)}{e^{4 L \\beta} + 2 e^{2 L \\beta} \\cos{\\left(2 L \\beta \\right)} - 4 e^{2 L \\beta} + 1} & \\frac{8 EI \\beta^{2} \\left(e^{2 L \\beta} - 1\\right) e^{L \\beta} \\sin{\\left(L \\beta \\right)}}{e^{4 L \\beta} + 2 e^{2 L \\beta} \\cos{\\left(2 L \\beta \\right)} - 4 e^{2 L \\beta} + 1} & \\frac{4 \\sqrt{2} EI \\beta \\left(- e^{2 L \\beta} \\cos{\\left(L \\beta + \\frac{\\pi}{4} \\right)} + \\sin{\\left(L \\beta + \\frac{\\pi}{4} \\right)}\\right) e^{L \\beta}}{e^{4 L \\beta} + 2 e^{2 L \\beta} \\cos{\\left(2 L \\beta \\right)} - 4 e^{2 L \\beta} + 1}\\\\\\frac{8 \\sqrt{2} EI \\beta^{3} \\left(- e^{2 L \\beta} \\sin{\\left(L \\beta + \\frac{\\pi}{4} \\right)} + \\cos{\\left(L \\beta + \\frac{\\pi}{4} \\right)}\\right) e^{L \\beta}}{e^{4 L \\beta} + 2 e^{2 L \\beta} \\cos{\\left(2 L \\beta \\right)} - 4 e^{2 L \\beta} + 1} & \\frac{8 EI \\beta^{2} \\left(e^{2 L \\beta} - 1\\right) e^{L \\beta} \\sin{\\left(L \\beta \\right)}}{e^{4 L \\beta} + 2 e^{2 L \\beta} \\cos{\\left(2 L \\beta \\right)} - 4 e^{2 L \\beta} + 1} & \\frac{4 EI \\beta^{3} \\left(e^{4 L \\beta} + 2 e^{2 L \\beta} \\sin{\\left(2 L \\beta \\right)} - 1\\right)}{e^{4 L \\beta} + 2 e^{2 L \\beta} \\cos{\\left(2 L \\beta \\right)} - 4 e^{2 L \\beta} + 1} & \\frac{2 EI \\beta^{2} \\left(e^{4 L \\beta} - 2 e^{2 L \\beta} \\cos{\\left(2 L \\beta \\right)} + 1\\right)}{e^{4 L \\beta} + 2 e^{2 L \\beta} \\cos{\\left(2 L \\beta \\right)} - 4 e^{2 L \\beta} + 1}\\\\\\frac{8 EI \\beta^{2} \\cdot \\left(1 - e^{2 L \\beta}\\right) e^{L \\beta} \\sin{\\left(L \\beta \\right)}}{e^{4 L \\beta} + 2 e^{2 L \\beta} \\cos{\\left(2 L \\beta \\right)} - 4 e^{2 L \\beta} + 1} & \\frac{4 \\sqrt{2} EI \\beta \\left(- e^{2 L \\beta} \\cos{\\left(L \\beta + \\frac{\\pi}{4} \\right)} + \\sin{\\left(L \\beta + \\frac{\\pi}{4} \\right)}\\right) e^{L \\beta}}{e^{4 L \\beta} + 2 e^{2 L \\beta} \\cos{\\left(2 L \\beta \\right)} - 4 e^{2 L \\beta} + 1} & \\frac{2 EI \\beta^{2} \\left(e^{4 L \\beta} - 2 e^{2 L \\beta} \\cos{\\left(2 L \\beta \\right)} + 1\\right)}{e^{4 L \\beta} + 2 e^{2 L \\beta} \\cos{\\left(2 L \\beta \\right)} - 4 e^{2 L \\beta} + 1} & \\frac{2 EI \\beta \\left(e^{4 L \\beta} - 2 e^{2 L \\beta} \\sin{\\left(2 L \\beta \\right)} - 1\\right)}{e^{4 L \\beta} + 2 e^{2 L \\beta} \\cos{\\left(2 L \\beta \\right)} - 4 e^{2 L \\beta} + 1}\\end{matrix}\\right]$"
      ],
      "text/plain": [
       "Matrix([\n",
       "[                         4*EI*beta**3*(exp(4*L*beta) + 2*exp(2*L*beta)*sin(2*L*beta) - 1)/(exp(4*L*beta) + 2*exp(2*L*beta)*cos(2*L*beta) - 4*exp(2*L*beta) + 1),                      2*EI*beta**2*(-exp(4*L*beta) + 2*exp(2*L*beta)*cos(2*L*beta) - 1)/(exp(4*L*beta) + 2*exp(2*L*beta)*cos(2*L*beta) - 4*exp(2*L*beta) + 1), 8*sqrt(2)*EI*beta**3*(-exp(2*L*beta)*sin(L*beta + pi/4) + cos(L*beta + pi/4))*exp(L*beta)/(exp(4*L*beta) + 2*exp(2*L*beta)*cos(2*L*beta) - 4*exp(2*L*beta) + 1),                               8*EI*beta**2*(1 - exp(2*L*beta))*exp(L*beta)*sin(L*beta)/(exp(4*L*beta) + 2*exp(2*L*beta)*cos(2*L*beta) - 4*exp(2*L*beta) + 1)],\n",
       "[                        2*EI*beta**2*(-exp(4*L*beta) + 2*exp(2*L*beta)*cos(2*L*beta) - 1)/(exp(4*L*beta) + 2*exp(2*L*beta)*cos(2*L*beta) - 4*exp(2*L*beta) + 1),                          2*EI*beta*(exp(4*L*beta) - 2*exp(2*L*beta)*sin(2*L*beta) - 1)/(exp(4*L*beta) + 2*exp(2*L*beta)*cos(2*L*beta) - 4*exp(2*L*beta) + 1),                                  8*EI*beta**2*(exp(2*L*beta) - 1)*exp(L*beta)*sin(L*beta)/(exp(4*L*beta) + 2*exp(2*L*beta)*cos(2*L*beta) - 4*exp(2*L*beta) + 1), 4*sqrt(2)*EI*beta*(-exp(2*L*beta)*cos(L*beta + pi/4) + sin(L*beta + pi/4))*exp(L*beta)/(exp(4*L*beta) + 2*exp(2*L*beta)*cos(2*L*beta) - 4*exp(2*L*beta) + 1)],\n",
       "[8*sqrt(2)*EI*beta**3*(-exp(2*L*beta)*sin(L*beta + pi/4) + cos(L*beta + pi/4))*exp(L*beta)/(exp(4*L*beta) + 2*exp(2*L*beta)*cos(2*L*beta) - 4*exp(2*L*beta) + 1),                               8*EI*beta**2*(exp(2*L*beta) - 1)*exp(L*beta)*sin(L*beta)/(exp(4*L*beta) + 2*exp(2*L*beta)*cos(2*L*beta) - 4*exp(2*L*beta) + 1),                          4*EI*beta**3*(exp(4*L*beta) + 2*exp(2*L*beta)*sin(2*L*beta) - 1)/(exp(4*L*beta) + 2*exp(2*L*beta)*cos(2*L*beta) - 4*exp(2*L*beta) + 1),                       2*EI*beta**2*(exp(4*L*beta) - 2*exp(2*L*beta)*cos(2*L*beta) + 1)/(exp(4*L*beta) + 2*exp(2*L*beta)*cos(2*L*beta) - 4*exp(2*L*beta) + 1)],\n",
       "[                                 8*EI*beta**2*(1 - exp(2*L*beta))*exp(L*beta)*sin(L*beta)/(exp(4*L*beta) + 2*exp(2*L*beta)*cos(2*L*beta) - 4*exp(2*L*beta) + 1), 4*sqrt(2)*EI*beta*(-exp(2*L*beta)*cos(L*beta + pi/4) + sin(L*beta + pi/4))*exp(L*beta)/(exp(4*L*beta) + 2*exp(2*L*beta)*cos(2*L*beta) - 4*exp(2*L*beta) + 1),                          2*EI*beta**2*(exp(4*L*beta) - 2*exp(2*L*beta)*cos(2*L*beta) + 1)/(exp(4*L*beta) + 2*exp(2*L*beta)*cos(2*L*beta) - 4*exp(2*L*beta) + 1),                          2*EI*beta*(exp(4*L*beta) - 2*exp(2*L*beta)*sin(2*L*beta) - 1)/(exp(4*L*beta) + 2*exp(2*L*beta)*cos(2*L*beta) - 4*exp(2*L*beta) + 1)]])"
      ]
     },
     "metadata": {},
     "output_type": "display_data"
    }
   ],
   "source": [
    "k11 = sp.simplify(Fz1.coeff(w1))\n",
    "k12 = sp.simplify(Fz1.coeff(phi1))\n",
    "k13 = sp.simplify(Fz1.coeff(w2))\n",
    "k14 = sp.simplify(Fz1.coeff(phi2))\n",
    "k21 = sp.simplify(Ty1.coeff(w1))\n",
    "k22 = sp.simplify(Ty1.coeff(phi1))\n",
    "k23 = sp.simplify(Ty1.coeff(w2))\n",
    "k24 = sp.simplify(Ty1.coeff(phi2))\n",
    "k31 = sp.simplify(Fz2.coeff(w1))\n",
    "k32 = sp.simplify(Fz2.coeff(phi1))\n",
    "k33 = sp.simplify(Fz2.coeff(w2))\n",
    "k34 = sp.simplify(Fz2.coeff(phi2))\n",
    "k41 = sp.simplify(Ty2.coeff(w1))\n",
    "k42 = sp.simplify(Ty2.coeff(phi1))\n",
    "k43 = sp.simplify(Ty2.coeff(w2))\n",
    "k44 = sp.simplify(Ty2.coeff(phi2))\n",
    "\n",
    "Ksys = sp.Matrix([[k11,k12,k13,k14],\n",
    "        [k21,k22,k23,k24],\n",
    "        [k31,k32,k33,k34],\n",
    "        [k41,k42,k43,k44]])\n",
    "display(Ksys)"
   ]
  },
  {
   "cell_type": "code",
   "execution_count": 48,
   "id": "21fc17ca",
   "metadata": {},
   "outputs": [
    {
     "data": {
      "text/latex": [
       "$\\displaystyle \\left[\\begin{matrix}\\frac{q \\left(e^{2 L \\beta} - 2 e^{L \\beta} \\cos{\\left(L \\beta \\right)} + 1\\right)}{\\beta \\left(e^{2 L \\beta} + 2 e^{L \\beta} \\sin{\\left(L \\beta \\right)} - 1\\right)}\\\\\\frac{q \\left(- \\frac{e^{2 L \\beta}}{2} + e^{L \\beta} \\sin{\\left(L \\beta \\right)} + \\frac{1}{2}\\right)}{\\beta^{2} \\left(e^{2 L \\beta} + 2 e^{L \\beta} \\sin{\\left(L \\beta \\right)} - 1\\right)}\\\\\\frac{q \\left(e^{2 L \\beta} - 2 e^{L \\beta} \\cos{\\left(L \\beta \\right)} + 1\\right)}{\\beta \\left(e^{2 L \\beta} + 2 e^{L \\beta} \\sin{\\left(L \\beta \\right)} - 1\\right)}\\\\\\frac{q \\left(e^{2 L \\beta} - 2 e^{L \\beta} \\sin{\\left(L \\beta \\right)} - 1\\right)}{2 \\beta^{2} \\left(e^{2 L \\beta} + 2 e^{L \\beta} \\sin{\\left(L \\beta \\right)} - 1\\right)}\\end{matrix}\\right]$"
      ],
      "text/plain": [
       "Matrix([\n",
       "[      q*(exp(2*L*beta) - 2*exp(L*beta)*cos(L*beta) + 1)/(beta*(exp(2*L*beta) + 2*exp(L*beta)*sin(L*beta) - 1))],\n",
       "[q*(-exp(2*L*beta)/2 + exp(L*beta)*sin(L*beta) + 1/2)/(beta**2*(exp(2*L*beta) + 2*exp(L*beta)*sin(L*beta) - 1))],\n",
       "[      q*(exp(2*L*beta) - 2*exp(L*beta)*cos(L*beta) + 1)/(beta*(exp(2*L*beta) + 2*exp(L*beta)*sin(L*beta) - 1))],\n",
       "[ q*(exp(2*L*beta) - 2*exp(L*beta)*sin(L*beta) - 1)/(2*beta**2*(exp(2*L*beta) + 2*exp(L*beta)*sin(L*beta) - 1))]])"
      ]
     },
     "metadata": {},
     "output_type": "display_data"
    }
   ],
   "source": [
    "f1 = sp.simplify(-Fz1.coeff(q))*q\n",
    "f2 = sp.simplify(-Ty1.coeff(q))*q\n",
    "f3 = sp.simplify(-Fz2.coeff(q))*q\n",
    "f4 = sp.simplify(-Ty2.coeff(q))*q\n",
    "Fsys = sp.Matrix([f1,f2,f3,f4])\n",
    "display(Fsys)"
   ]
  },
  {
   "cell_type": "code",
   "execution_count": 49,
   "id": "6af918a2",
   "metadata": {},
   "outputs": [
    {
     "data": {
      "text/latex": [
       "$\\displaystyle \\frac{4 EI \\beta^{3} \\left(e^{4 L \\beta} + 2 e^{2 L \\beta} \\sin{\\left(2 L \\beta \\right)} - 1\\right)}{e^{4 L \\beta} + 2 e^{2 L \\beta} \\cos{\\left(2 L \\beta \\right)} - 4 e^{2 L \\beta} + 1}$"
      ],
      "text/plain": [
       "4*EI*beta**3*(exp(4*L*beta) + 2*exp(2*L*beta)*sin(2*L*beta) - 1)/(exp(4*L*beta) + 2*exp(2*L*beta)*cos(2*L*beta) - 4*exp(2*L*beta) + 1)"
      ]
     },
     "execution_count": 49,
     "metadata": {},
     "output_type": "execute_result"
    }
   ],
   "source": [
    "k11#.rewrite(sp.cos).simplify()"
   ]
  },
  {
   "cell_type": "code",
   "execution_count": 60,
   "id": "7b70158a",
   "metadata": {},
   "outputs": [
    {
     "data": {
      "text/latex": [
       "$\\displaystyle \\frac{4 EI \\beta^{3} \\left(\\sin{\\left(2 L \\beta \\right)} + \\sinh{\\left(2 L \\beta \\right)}\\right)}{\\cos{\\left(2 L \\beta \\right)} + \\cosh{\\left(2 L \\beta \\right)} - 2}$"
      ],
      "text/plain": [
       "4*EI*beta**3*(sin(2*L*beta) + sinh(2*L*beta))/(cos(2*L*beta) + cosh(2*L*beta) - 2)"
      ]
     },
     "metadata": {},
     "output_type": "display_data"
    },
    {
     "data": {
      "text/latex": [
       "$\\displaystyle 2.0 \\cdot 10^{-119}$"
      ],
      "text/plain": [
       "0.e-119"
      ]
     },
     "execution_count": 60,
     "metadata": {},
     "output_type": "execute_result"
    }
   ],
   "source": [
    "K11=4*EI*beta**3*(sp.sin(2*beta*L)+sp.sinh(2*beta*L))/((sp.cos(2*beta*L)+sp.cosh(2*beta*L)-2))\n",
    "display(K11)\n",
    "check = K11-k11\n",
    "check.subs([(L,2),(EI,500),(beta,sp.pi**2)]).evalf()"
   ]
  },
  {
   "cell_type": "code",
   "execution_count": null,
   "id": "fdfce9c6",
   "metadata": {},
   "outputs": [],
   "source": []
  },
  {
   "cell_type": "code",
   "execution_count": null,
   "id": "0d26a043",
   "metadata": {},
   "outputs": [],
   "source": []
  }
 ],
 "metadata": {
  "kernelspec": {
   "display_name": "Python 3 (ipykernel)",
   "language": "python",
   "name": "python3"
  },
  "language_info": {
   "codemirror_mode": {
    "name": "ipython",
    "version": 3
   },
   "file_extension": ".py",
   "mimetype": "text/x-python",
   "name": "python",
   "nbconvert_exporter": "python",
   "pygments_lexer": "ipython3",
   "version": "3.9.13"
  }
 },
 "nbformat": 4,
 "nbformat_minor": 5
}