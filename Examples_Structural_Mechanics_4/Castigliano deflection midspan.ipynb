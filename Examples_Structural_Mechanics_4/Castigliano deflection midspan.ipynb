{
 "cells": [
  {
   "cell_type": "code",
   "execution_count": 2,
   "id": "d87ebaa2",
   "metadata": {},
   "outputs": [],
   "source": [
    "import sympy as sp\n",
    "Bv, x = sp.symbols('Bv, x')"
   ]
  },
  {
   "cell_type": "code",
   "execution_count": 6,
   "id": "c0b43496",
   "metadata": {},
   "outputs": [],
   "source": [
    "M1 = sp.nsimplify(Bv * ( 9 - x))\n",
    "M2 = sp.nsimplify(Bv * (4 - 4 / 5 * x))"
   ]
  },
  {
   "cell_type": "code",
   "execution_count": 7,
   "id": "b03c3142",
   "metadata": {},
   "outputs": [
    {
     "data": {
      "text/latex": [
       "$\\displaystyle Bv \\left(9 - x\\right)$"
      ],
      "text/plain": [
       "Bv*(9 - x)"
      ]
     },
     "metadata": {},
     "output_type": "display_data"
    },
    {
     "data": {
      "text/latex": [
       "$\\displaystyle Bv \\left(4 - \\frac{4 x}{5}\\right)$"
      ],
      "text/plain": [
       "Bv*(4 - 4*x/5)"
      ]
     },
     "metadata": {},
     "output_type": "display_data"
    }
   ],
   "source": [
    "display(M1)\n",
    "display(M2)"
   ]
  },
  {
   "cell_type": "code",
   "execution_count": 8,
   "id": "c645a70b",
   "metadata": {},
   "outputs": [
    {
     "data": {
      "text/latex": [
       "$\\displaystyle \\frac{745 Bv}{3} - 1950$"
      ],
      "text/plain": [
       "745*Bv/3 - 1950"
      ]
     },
     "execution_count": 8,
     "metadata": {},
     "output_type": "execute_result"
    }
   ],
   "source": [
    "sp.integrate((-60+M1)*M1.diff(Bv),(x,0,5))+sp.integrate(M2*M2.diff(Bv),(x,0,5))"
   ]
  },
  {
   "cell_type": "code",
   "execution_count": 9,
   "id": "99b896f8",
   "metadata": {},
   "outputs": [
    {
     "data": {
      "text/plain": [
       "7.852348993288591"
      ]
     },
     "execution_count": 9,
     "metadata": {},
     "output_type": "execute_result"
    }
   ],
   "source": [
    "1950*3/745"
   ]
  },
  {
   "cell_type": "code",
   "execution_count": 10,
   "id": "f7e9295d",
   "metadata": {},
   "outputs": [
    {
     "data": {
      "text/latex": [
       "$\\displaystyle \\frac{Bv x^{3}}{3} + x^{2} \\cdot \\left(30 - 9 Bv\\right) + x \\left(81 Bv - 540\\right)$"
      ],
      "text/plain": [
       "Bv*x**3/3 + x**2*(30 - 9*Bv) + x*(81*Bv - 540)"
      ]
     },
     "execution_count": 10,
     "metadata": {},
     "output_type": "execute_result"
    }
   ],
   "source": [
    "sp.integrate((-60+M1)*M1.diff(Bv),x)"
   ]
  },
  {
   "cell_type": "code",
   "execution_count": null,
   "id": "aec2025a",
   "metadata": {},
   "outputs": [],
   "source": []
  }
 ],
 "metadata": {
  "kernelspec": {
   "display_name": "Python 3 (ipykernel)",
   "language": "python",
   "name": "python3"
  },
  "language_info": {
   "codemirror_mode": {
    "name": "ipython",
    "version": 3
   },
   "file_extension": ".py",
   "mimetype": "text/x-python",
   "name": "python",
   "nbconvert_exporter": "python",
   "pygments_lexer": "ipython3",
   "version": "3.9.13"
  }
 },
 "nbformat": 4,
 "nbformat_minor": 5
}
