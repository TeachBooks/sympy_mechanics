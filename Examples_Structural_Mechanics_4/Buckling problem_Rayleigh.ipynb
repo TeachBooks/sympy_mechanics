{
 "cells": [
  {
   "cell_type": "code",
   "execution_count": 1,
   "id": "9a6bc5d7",
   "metadata": {},
   "outputs": [],
   "source": [
    "import sympy as sp"
   ]
  },
  {
   "cell_type": "code",
   "execution_count": 2,
   "id": "69745fa3",
   "metadata": {},
   "outputs": [],
   "source": [
    "a, x, L, EI = sp.symbols('a, x, L, EI')"
   ]
  },
  {
   "cell_type": "code",
   "execution_count": 3,
   "id": "583de99d",
   "metadata": {},
   "outputs": [],
   "source": [
    "w = a * (1 - 4 * x**2/L**2)"
   ]
  },
  {
   "cell_type": "code",
   "execution_count": 9,
   "id": "36aca8d9",
   "metadata": {},
   "outputs": [],
   "source": [
    "F = (sp.integrate(3*EI*w.diff(x,2)**2,(x,0,L/2)) + sp.integrate(EI*w.diff(x,2)**2,(x,L/2,L))) / sp.integrate(w.diff(x)**2,(x,0,L/2))"
   ]
  },
  {
   "cell_type": "code",
   "execution_count": 10,
   "id": "13a2fdae",
   "metadata": {},
   "outputs": [
    {
     "data": {
      "text/latex": [
       "$\\displaystyle \\frac{48 EI}{L^{2}}$"
      ],
      "text/plain": [
       "48*EI/L**2"
      ]
     },
     "metadata": {},
     "output_type": "display_data"
    }
   ],
   "source": [
    "display(F)"
   ]
  },
  {
   "cell_type": "code",
   "execution_count": null,
   "id": "8e2898ca",
   "metadata": {},
   "outputs": [],
   "source": []
  }
 ],
 "metadata": {
  "kernelspec": {
   "display_name": "Python 3 (ipykernel)",
   "language": "python",
   "name": "python3"
  },
  "language_info": {
   "codemirror_mode": {
    "name": "ipython",
    "version": 3
   },
   "file_extension": ".py",
   "mimetype": "text/x-python",
   "name": "python",
   "nbconvert_exporter": "python",
   "pygments_lexer": "ipython3",
   "version": "3.9.13"
  }
 },
 "nbformat": 4,
 "nbformat_minor": 5
}
