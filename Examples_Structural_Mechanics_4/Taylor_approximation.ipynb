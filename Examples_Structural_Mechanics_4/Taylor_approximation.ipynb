{
 "cells": [
  {
   "cell_type": "markdown",
   "id": "a40cee59",
   "metadata": {},
   "source": [
    "# Taylor approximation #"
   ]
  },
  {
   "cell_type": "code",
   "execution_count": 1,
   "id": "f4ffa88f",
   "metadata": {},
   "outputs": [],
   "source": [
    "import sympy as sp"
   ]
  },
  {
   "cell_type": "code",
   "execution_count": 2,
   "id": "c31a691a",
   "metadata": {},
   "outputs": [],
   "source": [
    "x = sp.symbols('x')"
   ]
  },
  {
   "cell_type": "code",
   "execution_count": 3,
   "id": "a045bfae",
   "metadata": {},
   "outputs": [],
   "source": [
    "z = 1 - sp.sqrt(1-x**2)"
   ]
  },
  {
   "cell_type": "code",
   "execution_count": 4,
   "id": "92602a6f",
   "metadata": {},
   "outputs": [
    {
     "data": {
      "text/latex": [
       "$\\displaystyle \\frac{x^{2}}{2} + O\\left(x^{3}\\right)$"
      ],
      "text/plain": [
       "x**2/2 + O(x**3)"
      ]
     },
     "metadata": {},
     "output_type": "display_data"
    }
   ],
   "source": [
    "display(z.series(x, n=3))"
   ]
  }
 ],
 "metadata": {
  "kernelspec": {
   "display_name": "Python 3 (ipykernel)",
   "language": "python",
   "name": "python3"
  },
  "language_info": {
   "codemirror_mode": {
    "name": "ipython",
    "version": 3
   },
   "file_extension": ".py",
   "mimetype": "text/x-python",
   "name": "python",
   "nbconvert_exporter": "python",
   "pygments_lexer": "ipython3",
   "version": "3.9.13"
  }
 },
 "nbformat": 4,
 "nbformat_minor": 5
}
