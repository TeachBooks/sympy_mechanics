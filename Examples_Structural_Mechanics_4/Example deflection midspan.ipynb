{
 "cells": [
  {
   "cell_type": "code",
   "execution_count": 1,
   "id": "c342aa15",
   "metadata": {},
   "outputs": [],
   "source": [
    "import sympy as sp"
   ]
  },
  {
   "cell_type": "code",
   "execution_count": 2,
   "id": "71e6a4a5",
   "metadata": {},
   "outputs": [],
   "source": [
    "q, L, x, F_c, B_v, EI = sp.symbols('q, L, x, F_c, B_v, EI')"
   ]
  },
  {
   "cell_type": "code",
   "execution_count": 3,
   "id": "56cf55fa",
   "metadata": {},
   "outputs": [
    {
     "data": {
      "text/latex": [
       "$\\displaystyle B_{v} \\left(L - x\\right) - F_{c} \\left(\\frac{L}{2} - x\\right) - \\frac{q \\left(L - x\\right)^{2}}{2}$"
      ],
      "text/plain": [
       "B_v*(L - x) - F_c*(L/2 - x) - q*(L - x)**2/2"
      ]
     },
     "metadata": {},
     "output_type": "display_data"
    },
    {
     "data": {
      "text/latex": [
       "$\\displaystyle B_{v} \\left(L - x\\right) - \\frac{q \\left(L - x\\right)^{2}}{2}$"
      ],
      "text/plain": [
       "B_v*(L - x) - q*(L - x)**2/2"
      ]
     },
     "metadata": {},
     "output_type": "display_data"
    }
   ],
   "source": [
    "M_1 = -q * (L - x)**2 / 2 - F_c * (L/2 - x) + B_v * (L-x)\n",
    "M_2 = -q * (L - x)**2 / 2 + B_v * (L-x)\n",
    "display(M_1)\n",
    "display(M_2)"
   ]
  },
  {
   "cell_type": "code",
   "execution_count": 4,
   "id": "4a0aab10",
   "metadata": {},
   "outputs": [
    {
     "data": {
      "text/latex": [
       "$\\displaystyle L - x$"
      ],
      "text/plain": [
       "L - x"
      ]
     },
     "metadata": {},
     "output_type": "display_data"
    },
    {
     "data": {
      "text/latex": [
       "$\\displaystyle L - x$"
      ],
      "text/plain": [
       "L - x"
      ]
     },
     "metadata": {},
     "output_type": "display_data"
    }
   ],
   "source": [
    "display(M_1.diff(B_v))\n",
    "display(M_2.diff(B_v))"
   ]
  },
  {
   "cell_type": "code",
   "execution_count": 5,
   "id": "e18fbe04",
   "metadata": {},
   "outputs": [
    {
     "data": {
      "text/latex": [
       "$\\displaystyle \\frac{5 F_{c}}{16} + \\frac{3 L q}{8}$"
      ],
      "text/plain": [
       "5*F_c/16 + 3*L*q/8"
      ]
     },
     "metadata": {},
     "output_type": "display_data"
    }
   ],
   "source": [
    "w = sp.integrate(M_1 * M_1.diff(B_v) / EI, (x,0,L/2)) + sp.integrate(M_2 * M_2.diff(B_v) / EI, (x,L/2,L))\n",
    "B_v_sol = sp.solve(w,B_v)[0]\n",
    "display(B_v_sol)"
   ]
  },
  {
   "cell_type": "code",
   "execution_count": 6,
   "id": "7fef109a",
   "metadata": {},
   "outputs": [
    {
     "data": {
      "text/latex": [
       "$\\displaystyle - F_{c} \\left(\\frac{L}{2} - x\\right) - \\frac{q \\left(L - x\\right)^{2}}{2} + \\left(\\frac{5 F_{c}}{16} + \\frac{3 L q}{8}\\right) \\left(L - x\\right)$"
      ],
      "text/plain": [
       "-F_c*(L/2 - x) - q*(L - x)**2/2 + (5*F_c/16 + 3*L*q/8)*(L - x)"
      ]
     },
     "metadata": {},
     "output_type": "display_data"
    },
    {
     "data": {
      "text/latex": [
       "$\\displaystyle - \\frac{q \\left(L - x\\right)^{2}}{2} + \\left(\\frac{5 F_{c}}{16} + \\frac{3 L q}{8}\\right) \\left(L - x\\right)$"
      ],
      "text/plain": [
       "-q*(L - x)**2/2 + (5*F_c/16 + 3*L*q/8)*(L - x)"
      ]
     },
     "metadata": {},
     "output_type": "display_data"
    }
   ],
   "source": [
    "M_1 = M_1.subs(B_v,B_v_sol)\n",
    "M_2 = M_2.subs(B_v,B_v_sol)\n",
    "display(M_1)\n",
    "display(M_2)"
   ]
  },
  {
   "cell_type": "code",
   "execution_count": 7,
   "id": "47b31345",
   "metadata": {},
   "outputs": [
    {
     "data": {
      "text/latex": [
       "$\\displaystyle \\frac{L^{4} q}{192 EI}$"
      ],
      "text/plain": [
       "L**4*q/(192*EI)"
      ]
     },
     "metadata": {},
     "output_type": "display_data"
    }
   ],
   "source": [
    "w_C = sp.integrate(M_1 * M_1.diff(F_c) / EI, (x,0,L/2)) + sp.integrate(M_2 * M_2.diff(F_c) / EI , (x , L/2, L))\n",
    "display(w_C.subs(F_c,0))"
   ]
  },
  {
   "cell_type": "code",
   "execution_count": null,
   "id": "12b757f6",
   "metadata": {},
   "outputs": [],
   "source": []
  }
 ],
 "metadata": {
  "kernelspec": {
   "display_name": "Python 3 (ipykernel)",
   "language": "python",
   "name": "python3"
  },
  "language_info": {
   "codemirror_mode": {
    "name": "ipython",
    "version": 3
   },
   "file_extension": ".py",
   "mimetype": "text/x-python",
   "name": "python",
   "nbconvert_exporter": "python",
   "pygments_lexer": "ipython3",
   "version": "3.9.13"
  }
 },
 "nbformat": 4,
 "nbformat_minor": 5
}
