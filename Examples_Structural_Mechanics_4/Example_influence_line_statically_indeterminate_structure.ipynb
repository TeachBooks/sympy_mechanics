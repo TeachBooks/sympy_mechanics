{
 "cells": [
  {
   "cell_type": "markdown",
   "id": "d3e7954f",
   "metadata": {
    "slideshow": {
     "slide_type": "slide"
    }
   },
   "source": [
    "# Influence lines statically indeterminate structure #"
   ]
  },
  {
   "cell_type": "code",
   "execution_count": 1,
   "id": "1da57dd6",
   "metadata": {
    "slideshow": {
     "slide_type": "fragment"
    }
   },
   "outputs": [],
   "source": [
    "import sympy as sp"
   ]
  },
  {
   "cell_type": "code",
   "execution_count": 2,
   "id": "bfbd4fb8",
   "metadata": {
    "slideshow": {
     "slide_type": "fragment"
    }
   },
   "outputs": [],
   "source": [
    "Bv = sp.symbols('Bv')\n",
    "a = sp.symbols('a')\n",
    "C1, C2, C3, C4 = sp.symbols('C1, C2, C3, C4')\n",
    "x = sp.symbols('x')"
   ]
  },
  {
   "cell_type": "code",
   "execution_count": 3,
   "id": "5a1bd7bf",
   "metadata": {
    "slideshow": {
     "slide_type": "fragment"
    }
   },
   "outputs": [],
   "source": [
    "EI = 5000\n",
    "L1 = 5\n",
    "L2 = 5"
   ]
  },
  {
   "cell_type": "code",
   "execution_count": 4,
   "id": "64f2d6a2",
   "metadata": {
    "slideshow": {
     "slide_type": "slide"
    }
   },
   "outputs": [],
   "source": [
    "#q = -Bv * sp.DiracDelta(x-L1) + 1 * sp.DiracDelta(x-a)\n",
    "q = -Bv * sp.SingularityFunction(x,L1,-1) + 1 * sp.SingularityFunction(x,a,-1)"
   ]
  },
  {
   "cell_type": "code",
   "execution_count": 5,
   "id": "f5434dae",
   "metadata": {
    "slideshow": {
     "slide_type": "fragment"
    }
   },
   "outputs": [
    {
     "data": {
      "text/latex": [
       "$\\displaystyle - \\frac{Bv {\\left\\langle x - 5 \\right\\rangle}^{3}}{30000} - \\frac{C_{1} x^{3}}{30000} - \\frac{C_{2} x^{2}}{10000} - C_{3} x + C_{4} + \\frac{{\\left\\langle - a + x \\right\\rangle}^{3}}{30000}$"
      ],
      "text/plain": [
       "-Bv*SingularityFunction(x, 5, 3)/30000 - C1*x**3/30000 - C2*x**2/10000 - C3*x + C4 + SingularityFunction(x, a, 3)/30000"
      ]
     },
     "metadata": {},
     "output_type": "display_data"
    }
   ],
   "source": [
    "V = -sp.integrate(q,x)+C1\n",
    "M = sp.integrate(V,x)+C2\n",
    "kappa = M / EI\n",
    "phi = sp.integrate(kappa,x)+C3\n",
    "w = -sp.integrate(phi,x)+C4\n",
    "display(w)"
   ]
  },
  {
   "cell_type": "code",
   "execution_count": 6,
   "id": "2f987633",
   "metadata": {
    "slideshow": {
     "slide_type": "slide"
    }
   },
   "outputs": [
    {
     "data": {
      "text/latex": [
       "$\\displaystyle \\begin{cases} - \\frac{Bv}{240} & \\text{for}\\: a < 0 \\\\\\frac{- 250 Bv - a^{3} + 75 a}{60000} & \\text{for}\\: a < 5 \\\\\\frac{- 250 Bv - 75 a + \\left(a - 10\\right)^{3} + 750}{60000} & \\text{for}\\: a < 10 \\\\- \\frac{Bv}{240} & \\text{otherwise} \\end{cases}$"
      ],
      "text/plain": [
       "Piecewise((-Bv/240, a < 0), ((-250*Bv - a**3 + 75*a)/60000, a < 5), ((-250*Bv - 75*a + (a - 10)**3 + 750)/60000, a < 10), (-Bv/240, True))"
      ]
     },
     "metadata": {},
     "output_type": "display_data"
    }
   ],
   "source": [
    "eq1 = sp.Eq(w.subs(x,0),0)\n",
    "eq2 = sp.Eq(w.subs(x,L1+L2),0)\n",
    "eq3 = sp.Eq(M.subs(x,0),0)\n",
    "eq4 = sp.Eq(M.subs(x,L1+L2),0)\n",
    "sol = sp.solve([eq1,eq2,eq3,eq4],[C1,C2,C3,C4])\n",
    "w_sol = w.subs(sol).rewrite(sp.Piecewise)\n",
    "w_halfway = w_sol.subs(x,L1).simplify()\n",
    "display(w_halfway)"
   ]
  },
  {
   "cell_type": "code",
   "execution_count": 7,
   "id": "9a9ace9e",
   "metadata": {
    "slideshow": {
     "slide_type": "fragment"
    }
   },
   "outputs": [
    {
     "data": {
      "text/latex": [
       "$\\displaystyle \\frac{a \\left(75 - a^{2}\\right)}{250}$"
      ],
      "text/plain": [
       "a*(75 - a**2)/250"
      ]
     },
     "metadata": {},
     "output_type": "display_data"
    },
    {
     "data": {
      "text/latex": [
       "$\\displaystyle - \\frac{3 a}{10} + \\frac{\\left(a - 10\\right)^{3}}{250} + 3$"
      ],
      "text/plain": [
       "-3*a/10 + (a - 10)**3/250 + 3"
      ]
     },
     "metadata": {},
     "output_type": "display_data"
    }
   ],
   "source": [
    "Bv_1 = sp.solve(sp.Eq(w_halfway.args[1][0],0),Bv)[0]\n",
    "display(Bv_1)\n",
    "Bv_2 = sp.solve(sp.Eq(w_halfway.args[2][0],0),Bv)[0]\n",
    "display(Bv_2)"
   ]
  },
  {
   "cell_type": "code",
   "execution_count": 8,
   "id": "c7b3cde9",
   "metadata": {
    "slideshow": {
     "slide_type": "slide"
    }
   },
   "outputs": [
    {
     "data": {
      "image/png": "[encoded data removed]",
      "text/plain": [
       "<Figure size 640x480 with 1 Axes>"
      ]
     },
     "metadata": {},
     "output_type": "display_data"
    }
   ],
   "source": [
    "sp.plot((Bv_1,(a,0,5)),(Bv_2,(a,5,10)));"
   ]
  },
  {
   "cell_type": "code",
   "execution_count": null,
   "id": "3e098edb",
   "metadata": {
    "slideshow": {
     "slide_type": "skip"
    }
   },
   "outputs": [],
   "source": []
  }
 ],
 "metadata": {
  "celltoolbar": "Geen",
  "kernelspec": {
   "display_name": "Python 3 (ipykernel)",
   "language": "python",
   "name": "python3"
  },
  "language_info": {
   "codemirror_mode": {
    "name": "ipython",
    "version": 3
   },
   "file_extension": ".py",
   "mimetype": "text/x-python",
   "name": "python",
   "nbconvert_exporter": "python",
   "pygments_lexer": "ipython3",
   "version": "3.9.13"
  }
 },
 "nbformat": 4,
 "nbformat_minor": 5
}
