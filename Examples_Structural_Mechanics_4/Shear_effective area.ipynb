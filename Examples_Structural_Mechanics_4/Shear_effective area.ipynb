{
 "cells": [
  {
   "cell_type": "code",
   "execution_count": 2,
   "id": "72f3620b",
   "metadata": {},
   "outputs": [],
   "source": [
    "import sympy as sp"
   ]
  },
  {
   "cell_type": "code",
   "execution_count": 3,
   "id": "71b14df3",
   "metadata": {},
   "outputs": [],
   "source": [
    "b, h, z = sp.symbols('b,h,z')"
   ]
  },
  {
   "cell_type": "code",
   "execution_count": 8,
   "id": "ae1f3fd0",
   "metadata": {},
   "outputs": [],
   "source": [
    "A = sp.nsimplify(1 / ( 1 / ((1/12)**2*b**2*h**6)* sp.integrate((b*(h/2-z)*(z+(h/2-z)/2))**2/b**2*b,(z,-h/2,h/2))))"
   ]
  },
  {
   "cell_type": "code",
   "execution_count": 9,
   "id": "93943db0",
   "metadata": {},
   "outputs": [
    {
     "data": {
      "text/latex": [
       "$\\displaystyle \\frac{5 b h}{6}$"
      ],
      "text/plain": [
       "5*b*h/6"
      ]
     },
     "metadata": {},
     "output_type": "display_data"
    }
   ],
   "source": [
    "display(A)"
   ]
  },
  {
   "cell_type": "code",
   "execution_count": null,
   "id": "bfd0119e",
   "metadata": {},
   "outputs": [],
   "source": []
  }
 ],
 "metadata": {
  "kernelspec": {
   "display_name": "Python 3 (ipykernel)",
   "language": "python",
   "name": "python3"
  },
  "language_info": {
   "codemirror_mode": {
    "name": "ipython",
    "version": 3
   },
   "file_extension": ".py",
   "mimetype": "text/x-python",
   "name": "python",
   "nbconvert_exporter": "python",
   "pygments_lexer": "ipython3",
   "version": "3.9.13"
  }
 },
 "nbformat": 4,
 "nbformat_minor": 5
}
