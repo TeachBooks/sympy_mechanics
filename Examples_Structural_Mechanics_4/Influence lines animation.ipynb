{
 "cells": [
  {
   "cell_type": "code",
   "execution_count": 85,
   "id": "67b2256c",
   "metadata": {},
   "outputs": [],
   "source": [
    "import sympy as sp"
   ]
  },
  {
   "cell_type": "code",
   "execution_count": 86,
   "id": "9833b193",
   "metadata": {},
   "outputs": [],
   "source": [
    "EI, x = sp.symbols('EI, x',real=True)"
   ]
  },
  {
   "cell_type": "code",
   "execution_count": 87,
   "id": "bde8c2e5",
   "metadata": {},
   "outputs": [
    {
     "data": {
      "text/latex": [
       "$\\displaystyle - Av {\\left\\langle x \\right\\rangle}^{-1} + Bv {\\left\\langle - L_{1} + x \\right\\rangle}^{-1} - Cv {\\left\\langle - L_{1} - L_{2} + x \\right\\rangle}^{-1}$"
      ],
      "text/plain": [
       "-Av*SingularityFunction(x, 0, -1) + Bv*SingularityFunction(x, L1, -1) - Cv*SingularityFunction(x, L1 + L2, -1)"
      ]
     },
     "metadata": {},
     "output_type": "display_data"
    }
   ],
   "source": [
    "Av, Bv, Cv = sp.symbols('Av, Bv, Cv',real=True)\n",
    "a, b, L1, L2 = sp.symbols('a, b, L1, L2',positive=True,real=True)\n",
    "q = Bv * sp.SingularityFunction(x,L1,-1) - Av * sp.SingularityFunction(x,0,-1) - Cv * sp.SingularityFunction(x,L1+L2,-1)\n",
    "display(q)"
   ]
  },
  {
   "cell_type": "code",
   "execution_count": 88,
   "id": "e4433693",
   "metadata": {},
   "outputs": [
    {
     "data": {
      "text/latex": [
       "$\\displaystyle Av {\\left\\langle x \\right\\rangle}^{0} - Bv {\\left\\langle - L_{1} + x \\right\\rangle}^{0} + C_{1} + Cv {\\left\\langle - L_{1} - L_{2} + x \\right\\rangle}^{0}$"
      ],
      "text/plain": [
       "Av*SingularityFunction(x, 0, 0) - Bv*SingularityFunction(x, L1, 0) + C1 + Cv*SingularityFunction(x, L1 + L2, 0)"
      ]
     },
     "metadata": {},
     "output_type": "display_data"
    },
    {
     "data": {
      "text/latex": [
       "$\\displaystyle Av {\\left\\langle x \\right\\rangle}^{1} - Bv {\\left\\langle - L_{1} + x \\right\\rangle}^{1} + C_{1} x + C_{2} + Cv {\\left\\langle - L_{1} - L_{2} + x \\right\\rangle}^{1}$"
      ],
      "text/plain": [
       "Av*SingularityFunction(x, 0, 1) - Bv*SingularityFunction(x, L1, 1) + C1*x + C2 + Cv*SingularityFunction(x, L1 + L2, 1)"
      ]
     },
     "metadata": {},
     "output_type": "display_data"
    },
    {
     "data": {
      "text/latex": [
       "$\\displaystyle C_{3} - {\\left\\langle - a + x \\right\\rangle}^{0} + \\frac{\\frac{Av {\\left\\langle x \\right\\rangle}^{2}}{2} - \\frac{Bv {\\left\\langle - L_{1} + x \\right\\rangle}^{2}}{2} + \\frac{C_{1} x^{2}}{2} + C_{2} x + \\frac{Cv {\\left\\langle - L_{1} - L_{2} + x \\right\\rangle}^{2}}{2}}{EI}$"
      ],
      "text/plain": [
       "C3 - SingularityFunction(x, a, 0) + (Av*SingularityFunction(x, 0, 2)/2 - Bv*SingularityFunction(x, L1, 2)/2 + C1*x**2/2 + C2*x + Cv*SingularityFunction(x, L1 + L2, 2)/2)/EI"
      ]
     },
     "metadata": {},
     "output_type": "display_data"
    },
    {
     "data": {
      "text/latex": [
       "$\\displaystyle C_{3} x + C_{4} - {\\left\\langle - a + x \\right\\rangle}^{1} + \\frac{\\frac{Av {\\left\\langle x \\right\\rangle}^{3}}{6} - \\frac{Bv {\\left\\langle - L_{1} + x \\right\\rangle}^{3}}{6} + \\frac{C_{1} x^{3}}{6} + \\frac{C_{2} x^{2}}{2} + \\frac{Cv {\\left\\langle - L_{1} - L_{2} + x \\right\\rangle}^{3}}{6}}{EI}$"
      ],
      "text/plain": [
       "C3*x + C4 - SingularityFunction(x, a, 1) + (Av*SingularityFunction(x, 0, 3)/6 - Bv*SingularityFunction(x, L1, 3)/6 + C1*x**3/6 + C2*x**2/2 + Cv*SingularityFunction(x, L1 + L2, 3)/6)/EI"
      ]
     },
     "metadata": {},
     "output_type": "display_data"
    }
   ],
   "source": [
    "C1, C2, C3, C4 = sp.symbols('C1, C2, C3, C4')\n",
    "#C5 = sp.symbols('C5')\n",
    "V = -sp.integrate(q,x)+C1\n",
    "M = sp.integrate(V,x)+C2\n",
    "kappa = M / EI\n",
    "phi = sp.integrate(kappa,x)+C3 - sp.SingularityFunction(x,a,0)# + C5 * sp.SingularityFunction(x,b,0)\n",
    "w = sp.integrate(phi,x)+C4\n",
    "display(V)\n",
    "display(M)\n",
    "display(phi)\n",
    "display(w)"
   ]
  },
  {
   "cell_type": "code",
   "execution_count": 91,
   "id": "7b2168b3",
   "metadata": {},
   "outputs": [
    {
     "data": {
      "text/plain": [
       "{C1: 0,\n",
       " C2: 0,\n",
       " C3: L1**2*SingularityFunction(L1, a, 1)/(2*L1**2*L2 + 2*L1*L2**2) - L1**2*SingularityFunction(L1 + L2, a, 1)/(2*L1**2*L2 + 2*L1*L2**2) + 3*L1*L2*SingularityFunction(L1, a, 1)/(2*L1**2*L2 + 2*L1*L2**2) + 2*L2**2*SingularityFunction(L1, a, 1)/(2*L1**2*L2 + 2*L1*L2**2),\n",
       " C4: 0,\n",
       " Av: -3*EI*L1*SingularityFunction(L1, a, 1)/(L1**3*L2 + L1**2*L2**2) + 3*EI*L1*SingularityFunction(L1 + L2, a, 1)/(L1**3*L2 + L1**2*L2**2) - 3*EI*L2*SingularityFunction(L1, a, 1)/(L1**3*L2 + L1**2*L2**2),\n",
       " Bv: -3*EI*SingularityFunction(L1, a, 1)/(L1*L2**2) + 3*EI*SingularityFunction(L1 + L2, a, 1)/(L1*L2**2) - 3*EI*SingularityFunction(L1, a, 1)/(L1**2*L2),\n",
       " Cv: -3*EI*L1*SingularityFunction(L1, a, 1)/(L1**2*L2**2 + L1*L2**3) + 3*EI*L1*SingularityFunction(L1 + L2, a, 1)/(L1**2*L2**2 + L1*L2**3) - 3*EI*L2*SingularityFunction(L1, a, 1)/(L1**2*L2**2 + L1*L2**3)}"
      ]
     },
     "metadata": {},
     "output_type": "display_data"
    },
    {
     "data": {
      "text/latex": [
       "$\\displaystyle \\begin{cases} \\frac{x}{10} - 1 & \\text{for}\\: x > 10 \\\\- \\frac{x^{3}}{250} + \\frac{3 x^{2}}{25} - \\frac{11 x}{10} + 3 & \\text{for}\\: x > 5 \\\\\\frac{x^{3}}{250} - \\frac{x}{2} + 2 & \\text{for}\\: x > 2 \\\\\\frac{x \\left(x^{2} + 125\\right)}{250} & \\text{for}\\: x > 0 \\\\\\frac{x}{2} & \\text{otherwise} \\end{cases}$"
      ],
      "text/plain": [
       "Piecewise((x/10 - 1, x > 10), (-x**3/250 + 3*x**2/25 - 11*x/10 + 3, x > 5), (x**3/250 - x/2 + 2, x > 2), (x*(x**2 + 125)/250, x > 0), (x/2, True))"
      ]
     },
     "metadata": {},
     "output_type": "display_data"
    },
    {
     "data": {
      "image/png": "[encoded data removed]",
      "text/plain": [
       "<Figure size 640x480 with 1 Axes>"
      ]
     },
     "metadata": {},
     "output_type": "display_data"
    },
    {
     "data": {
      "text/plain": [
       "<sympy.plotting.plot.Plot at 0x1dba61e9520>"
      ]
     },
     "execution_count": 91,
     "metadata": {},
     "output_type": "execute_result"
    }
   ],
   "source": [
    "eq1 = sp.Eq(w.subs(x,0),0)\n",
    "eq2 = sp.Eq(w.subs(x,L1),0)\n",
    "eq3 = sp.Eq(w.subs(x,L1+L2),0)\n",
    "eq4 = sp.Eq(M.subs(x,0),0)\n",
    "eq5 = sp.Eq(M.subs(x,L1+L2),0)\n",
    "eq6 = sp.Eq(V.subs(x,-1),0)\n",
    "eq7 = sp.Eq(V.subs(x,L1+L2+1),0)\n",
    "#eq8 = sp.Eq(M.subs(x,b),0)\n",
    "sol = sp.solve([eq1,eq2,eq3,eq4,eq5,eq6,eq7],[C1,C2,C3,C4,Av,Bv,Cv])\n",
    "display(sol)\n",
    "w_sol = w.subs(sol)\n",
    "w_subs = w_sol.subs([(L1,5),(L2,5),(a,2),(EI,5000)])\n",
    "display(sp.simplify(w_subs.rewrite(sp.Piecewise)))\n",
    "w_numpy = sp.lambdify([L1,L2,a,EI,x],w_sol.rewrite(sp.Piecewise))\n",
    "sp.plot(w_subs,(x,0,10));"
   ]
  },
  {
   "cell_type": "code",
   "execution_count": 92,
   "id": "f884113d",
   "metadata": {},
   "outputs": [
    {
     "data": {
      "text/latex": [
       "$\\displaystyle Av {\\left\\langle x \\right\\rangle}^{0} - Bv {\\left\\langle - L_{1} + x \\right\\rangle}^{0} + C_{1} + Cv {\\left\\langle - L_{1} - L_{2} + x \\right\\rangle}^{0} - {\\left\\langle - a + x \\right\\rangle}^{0}$"
      ],
      "text/plain": [
       "Av*SingularityFunction(x, 0, 0) - Bv*SingularityFunction(x, L1, 0) + C1 + Cv*SingularityFunction(x, L1 + L2, 0) - SingularityFunction(x, a, 0)"
      ]
     },
     "metadata": {},
     "output_type": "display_data"
    },
    {
     "data": {
      "text/latex": [
       "$\\displaystyle Av {\\left\\langle x \\right\\rangle}^{1} - Bv {\\left\\langle - L_{1} + x \\right\\rangle}^{1} + C_{1} x + C_{2} + Cv {\\left\\langle - L_{1} - L_{2} + x \\right\\rangle}^{1} - {\\left\\langle - a + x \\right\\rangle}^{1}$"
      ],
      "text/plain": [
       "Av*SingularityFunction(x, 0, 1) - Bv*SingularityFunction(x, L1, 1) + C1*x + C2 + Cv*SingularityFunction(x, L1 + L2, 1) - SingularityFunction(x, a, 1)"
      ]
     },
     "metadata": {},
     "output_type": "display_data"
    },
    {
     "data": {
      "text/latex": [
       "$\\displaystyle C_{3} + \\frac{\\frac{Av {\\left\\langle x \\right\\rangle}^{2}}{2} - \\frac{Bv {\\left\\langle - L_{1} + x \\right\\rangle}^{2}}{2} + \\frac{C_{1} x^{2}}{2} + C_{2} x + \\frac{Cv {\\left\\langle - L_{1} - L_{2} + x \\right\\rangle}^{2}}{2} - \\frac{{\\left\\langle - a + x \\right\\rangle}^{2}}{2}}{EI}$"
      ],
      "text/plain": [
       "C3 + (Av*SingularityFunction(x, 0, 2)/2 - Bv*SingularityFunction(x, L1, 2)/2 + C1*x**2/2 + C2*x + Cv*SingularityFunction(x, L1 + L2, 2)/2 - SingularityFunction(x, a, 2)/2)/EI"
      ]
     },
     "metadata": {},
     "output_type": "display_data"
    },
    {
     "data": {
      "text/latex": [
       "$\\displaystyle C_{3} x + C_{4} + \\frac{\\frac{Av {\\left\\langle x \\right\\rangle}^{3}}{6} - \\frac{Bv {\\left\\langle - L_{1} + x \\right\\rangle}^{3}}{6} + \\frac{C_{1} x^{3}}{6} + \\frac{C_{2} x^{2}}{2} + \\frac{Cv {\\left\\langle - L_{1} - L_{2} + x \\right\\rangle}^{3}}{6} - \\frac{{\\left\\langle - a + x \\right\\rangle}^{3}}{6}}{EI}$"
      ],
      "text/plain": [
       "C3*x + C4 + (Av*SingularityFunction(x, 0, 3)/6 - Bv*SingularityFunction(x, L1, 3)/6 + C1*x**3/6 + C2*x**2/2 + Cv*SingularityFunction(x, L1 + L2, 3)/6 - SingularityFunction(x, a, 3)/6)/EI"
      ]
     },
     "metadata": {},
     "output_type": "display_data"
    },
    {
     "data": {
      "text/plain": [
       "{C1: 0,\n",
       " C2: 0,\n",
       " C3: L1**2*L2**2*SingularityFunction(L1 + L2, a, 1)/(12*EI*L1**2*L2 + 12*EI*L1*L2**2) + L1**2*SingularityFunction(L1, a, 3)/(12*EI*L1**2*L2 + 12*EI*L1*L2**2) - L1**2*SingularityFunction(L1 + L2, a, 3)/(12*EI*L1**2*L2 + 12*EI*L1*L2**2) + 3*L1*L2*SingularityFunction(L1, a, 3)/(12*EI*L1**2*L2 + 12*EI*L1*L2**2) + 2*L2**2*SingularityFunction(L1, a, 3)/(12*EI*L1**2*L2 + 12*EI*L1*L2**2),\n",
       " C4: 0,\n",
       " Av: -L1*L2**2*SingularityFunction(L1 + L2, a, 1)/(2*L1**3*L2 + 2*L1**2*L2**2) - L1*SingularityFunction(L1, a, 3)/(2*L1**3*L2 + 2*L1**2*L2**2) + L1*SingularityFunction(L1 + L2, a, 3)/(2*L1**3*L2 + 2*L1**2*L2**2) - L2*SingularityFunction(L1, a, 3)/(2*L1**3*L2 + 2*L1**2*L2**2),\n",
       " Bv: -SingularityFunction(L1 + L2, a, 1)/L2 - SingularityFunction(L1 + L2, a, 1)/(2*L1) - SingularityFunction(L1, a, 3)/(2*L1*L2**2) + SingularityFunction(L1 + L2, a, 3)/(2*L1*L2**2) - SingularityFunction(L1, a, 3)/(2*L1**2*L2),\n",
       " Cv: 2*L1**2*L2**2*SingularityFunction(L1 + L2 + 1, a, 0)/(2*L1**2*L2**2 + 2*L1*L2**3) - 2*L1**2*L2*SingularityFunction(L1 + L2, a, 1)/(2*L1**2*L2**2 + 2*L1*L2**3) + 2*L1*L2**3*SingularityFunction(L1 + L2 + 1, a, 0)/(2*L1**2*L2**2 + 2*L1*L2**3) - 3*L1*L2**2*SingularityFunction(L1 + L2, a, 1)/(2*L1**2*L2**2 + 2*L1*L2**3) - L1*SingularityFunction(L1, a, 3)/(2*L1**2*L2**2 + 2*L1*L2**3) + L1*SingularityFunction(L1 + L2, a, 3)/(2*L1**2*L2**2 + 2*L1*L2**3) - L2*SingularityFunction(L1, a, 3)/(2*L1**2*L2**2 + 2*L1*L2**3)}"
      ]
     },
     "metadata": {},
     "output_type": "display_data"
    },
    {
     "data": {
      "text/latex": [
       "$\\displaystyle \\begin{cases} 0 & \\text{for}\\: x > 10 \\\\\\frac{21}{250} & \\text{for}\\: x > 5 \\\\- \\frac{121}{250} & \\text{for}\\: x > 2 \\\\\\frac{129}{250} & \\text{for}\\: x > 0 \\\\0 & \\text{otherwise} \\end{cases}$"
      ],
      "text/plain": [
       "Piecewise((0, x > 10), (21/250, x > 5), (-121/250, x > 2), (129/250, x > 0), (0, True))"
      ]
     },
     "metadata": {},
     "output_type": "display_data"
    },
    {
     "data": {
      "text/latex": [
       "$\\displaystyle \\begin{cases} 0 & \\text{for}\\: x > 10 \\\\\\frac{21 \\left(x - 10\\right)}{250} & \\text{for}\\: x > 5 \\\\2 - \\frac{121 x}{250} & \\text{for}\\: x > 2 \\\\\\frac{129 x}{250} & \\text{for}\\: x > 0 \\\\0 & \\text{otherwise} \\end{cases}$"
      ],
      "text/plain": [
       "Piecewise((0, x > 10), (21*(x - 10)/250, x > 5), (2 - 121*x/250, x > 2), (129*x/250, x > 0), (0, True))"
      ]
     },
     "metadata": {},
     "output_type": "display_data"
    },
    {
     "data": {
      "image/png": "[encoded data removed]",
      "text/plain": [
       "<Figure size 640x480 with 1 Axes>"
      ]
     },
     "metadata": {},
     "output_type": "display_data"
    },
    {
     "data": {
      "image/png": "[encoded data removed]",
      "text/plain": [
       "<Figure size 640x480 with 1 Axes>"
      ]
     },
     "metadata": {},
     "output_type": "display_data"
    },
    {
     "data": {
      "text/plain": [
       "<sympy.plotting.plot.Plot at 0x1dbaab4ff70>"
      ]
     },
     "execution_count": 92,
     "metadata": {},
     "output_type": "execute_result"
    }
   ],
   "source": [
    "q += 1 * sp.SingularityFunction(x,a,-1)\n",
    "V = -sp.integrate(q,x)+C1\n",
    "M = sp.integrate(V,x)+C2\n",
    "kappa = M / EI\n",
    "phi = sp.integrate(kappa,x)+C3\n",
    "w = sp.integrate(phi,x)+C4\n",
    "display(V)\n",
    "display(M)\n",
    "display(phi)\n",
    "display(w)\n",
    "eq1 = sp.Eq(w.subs(x,0),0)\n",
    "eq2 = sp.Eq(w.subs(x,L1),0)\n",
    "eq3 = sp.Eq(w.subs(x,L1+L2),0)\n",
    "eq4 = sp.Eq(M.subs(x,0),0)\n",
    "eq5 = sp.Eq(M.subs(x,L1+L2),0)\n",
    "eq6 = sp.Eq(V.subs(x,-1),0)\n",
    "eq7 = sp.Eq(V.subs(x,L1+L2+1),0)\n",
    "sol = sp.solve([eq1,eq2,eq3,eq4,eq5,eq6,eq7],[C1,C2,C3,C4,Av,Bv,Cv])\n",
    "display(sol)\n",
    "V_sol = V.subs(sol)\n",
    "V_subs = V_sol.subs([(L1,5),(L2,5),(a,2),(EI,5000)])\n",
    "display(sp.simplify(V_subs.rewrite(sp.Piecewise)))\n",
    "V_numpy = sp.lambdify([L1,L2,a,EI,x],V_sol.rewrite(sp.Piecewise))\n",
    "M_sol = M.subs(sol)\n",
    "M_subs = M_sol.subs([(L1,5),(L2,5),(a,2),(EI,5000)])\n",
    "display(sp.simplify(M_subs.rewrite(sp.Piecewise)))\n",
    "M_numpy = sp.lambdify([L1,L2,a,EI,x],M_sol.rewrite(sp.Piecewise))\n",
    "sp.plot(M_subs,(x,0,10))\n",
    "sp.plot(V_subs,(x,0,10))"
   ]
  },
  {
   "cell_type": "code",
   "execution_count": 66,
   "id": "f0b7643b",
   "metadata": {},
   "outputs": [
    {
     "data": {
      "application/vnd.jupyter.widget-view+json": {
       "model_id": "eb7d2729c6654466abc15ff20ba47234",
       "version_major": 2,
       "version_minor": 0
      },
      "text/plain": [
       "interactive(children=(FloatSlider(value=2.0, description='x (m)', max=10.0, readout_format='.1f', step=0.2), O…"
      ]
     },
     "metadata": {},
     "output_type": "display_data"
    }
   ],
   "source": [
    "import numpy as np\n",
    "import matplotlib.pylab as plt\n",
    "from ipywidgets import widgets, interact\n",
    "#x = np.linspace(0,10,100)\n",
    "#plt.plot(x,w_numpy(5,5,2,5000,x));\n",
    "\n",
    "def func(a):\n",
    "    x = np.linspace(0,10,500)\n",
    "    plt.plot([0,10],[0,0],color='black',linewidth=2)\n",
    "    plt.gcf().set_size_inches(7, 3)\n",
    "    plt.grid()\n",
    "    plt.axis('equal')\n",
    "    plt.plot(x,w_numpy(5,5,a,5000,x),color='blue')\n",
    "    plt.annotate('%.2f kNm' % w_numpy(5,5,a,5000,a),xy = [a,1.5*w_numpy(5,5,a,5000,a)])\n",
    "    plt.gca().invert_yaxis()\n",
    "    plt.title('Influence line for moment at x = %.1f m' % a)\n",
    "\n",
    "interact(func, a = widgets.FloatSlider(min=0, max=10, value=2, step=0.2, description=\"x (m)\",readout_format='.1f'));"
   ]
  },
  {
   "cell_type": "code",
   "execution_count": 131,
   "id": "2806cb4d",
   "metadata": {},
   "outputs": [
    {
     "data": {
      "application/vnd.jupyter.widget-view+json": {
       "model_id": "b5c6d57ad9234b6f88fd5af971497d4b",
       "version_major": 2,
       "version_minor": 0
      },
      "text/plain": [
       "interactive(children=(FloatSlider(value=2.0, description='Location moment x = ... (m)', layout=Layout(width='4…"
      ]
     },
     "metadata": {},
     "output_type": "display_data"
    }
   ],
   "source": [
    "import numpy as np\n",
    "import matplotlib.pylab as plt\n",
    "from ipywidgets import widgets, interact\n",
    "#x = np.linspace(0,10,100)\n",
    "#plt.plot(x,w_numpy(5,5,2,5000,x));\n",
    "\n",
    "def func(a,b):\n",
    "    x = np.linspace(0,10,500)\n",
    "    fig, axs = plt.subplots(2, 1, figsize=(7, 8))\n",
    "    axs[0].plot([0,10],[0,0],color='black',linewidth=2)\n",
    "    axs[0].grid()\n",
    "    axs[0].axis('equal')\n",
    "    axs[0].plot(x,M_numpy(5,5,b,5000,x),color='blue')\n",
    "    axs[0].plot(a,M_numpy(5,5,b,5000,a),marker='o')\n",
    "    axs[0].annotate('%.2f kNm' % M_numpy(5,5,b,5000,a),xy = [a,M_numpy(5,5,b,5000,a)+0.5])\n",
    "    axs[0].annotate(text='', xy=(b,0), xytext=(b,-1), arrowprops=dict(arrowstyle='simple'))\n",
    "    axs[0].invert_yaxis()\n",
    "    title0 = 'Moment distribution for force at $x = '+str(b)+'$, showing moment at $x = '+str(a)+'$'\n",
    "    axs[0].set_title(title0)\n",
    "    axs[1].plot([0,10],[0,0],color='black',linewidth=2)\n",
    "    axs[1].grid()\n",
    "    axs[1].axis('equal')\n",
    "    axs[1].plot(x,w_numpy(5,5,a,5000,x),color='blue')\n",
    "    axs[1].plot(b,w_numpy(5,5,a,5000,b),marker='o')\n",
    "    axs[1].annotate('%.2f kNm' % w_numpy(5,5,a,5000,b),xy = [b,w_numpy(5,5,a,5000,b)+0.5])\n",
    "    axs[1].invert_yaxis()\n",
    "    title1 = 'Influence line for moment at $x = '+str(a)+'$'\n",
    "    axs[1].set_title(title1)\n",
    "    \n",
    "interact(func, a = widgets.FloatSlider(min=0, max=10, value=2, step=0.2, description=\"Location moment x = ... (m)\",readout_format='.1f',style= {'description_width': '180px'},layout = {'width': '400px'}),\n",
    "         b = widgets.FloatSlider(min=0, max=10, value=2, step=0.2, description=\"Location force x = ... (m)\",readout_format='.1f',style= {'description_width': '180px'},layout = {'width': '400px'}) );"
   ]
  },
  {
   "cell_type": "code",
   "execution_count": null,
   "id": "f3a1656a",
   "metadata": {},
   "outputs": [],
   "source": []
  }
 ],
 "metadata": {
  "kernelspec": {
   "display_name": "Python 3 (ipykernel)",
   "language": "python",
   "name": "python3"
  },
  "language_info": {
   "codemirror_mode": {
    "name": "ipython",
    "version": 3
   },
   "file_extension": ".py",
   "mimetype": "text/x-python",
   "name": "python",
   "nbconvert_exporter": "python",
   "pygments_lexer": "ipython3",
   "version": "3.9.13"
  }
 },
 "nbformat": 4,
 "nbformat_minor": 5
}
