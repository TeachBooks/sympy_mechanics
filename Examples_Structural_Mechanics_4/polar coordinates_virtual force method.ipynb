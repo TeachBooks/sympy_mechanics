{
 "cells": [
  {
   "cell_type": "code",
   "execution_count": 1,
   "id": "fa722061",
   "metadata": {},
   "outputs": [],
   "source": [
    "import sympy as sp"
   ]
  },
  {
   "cell_type": "code",
   "execution_count": 3,
   "id": "d0758655",
   "metadata": {},
   "outputs": [],
   "source": [
    "F, r, theta, EI = sp.symbols(\"F,r,theta,EI\")"
   ]
  },
  {
   "cell_type": "code",
   "execution_count": 5,
   "id": "5bf779e4",
   "metadata": {},
   "outputs": [
    {
     "data": {
      "text/latex": [
       "$\\displaystyle \\frac{3 \\pi F r^{3}}{2 EI}$"
      ],
      "text/plain": [
       "3*pi*F*r**3/(2*EI)"
      ]
     },
     "execution_count": 5,
     "metadata": {},
     "output_type": "execute_result"
    }
   ],
   "source": [
    "sp.integrate(F*r**2*(1-sp.cos(theta))**2/EI*r,(theta,0,sp.pi))"
   ]
  },
  {
   "cell_type": "code",
   "execution_count": null,
   "id": "c340c74a",
   "metadata": {},
   "outputs": [],
   "source": []
  }
 ],
 "metadata": {
  "kernelspec": {
   "display_name": "Python 3 (ipykernel)",
   "language": "python",
   "name": "python3"
  },
  "language_info": {
   "codemirror_mode": {
    "name": "ipython",
    "version": 3
   },
   "file_extension": ".py",
   "mimetype": "text/x-python",
   "name": "python",
   "nbconvert_exporter": "python",
   "pygments_lexer": "ipython3",
   "version": "3.9.13"
  }
 },
 "nbformat": 4,
 "nbformat_minor": 5
}
