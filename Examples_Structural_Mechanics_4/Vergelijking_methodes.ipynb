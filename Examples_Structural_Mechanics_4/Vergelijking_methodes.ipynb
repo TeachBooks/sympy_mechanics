{
 "cells": [
  {
   "cell_type": "markdown",
   "id": "600ecdaa",
   "metadata": {},
   "source": [
    "# Vergelijking oplosmethodes #"
   ]
  },
  {
   "cell_type": "markdown",
   "id": "a7f3236a",
   "metadata": {},
   "source": [
    "![figuur 1](data/data_Vergelijking_methodes/Constructie.gif)\n",
    "\n",
    "- [Krachten](#Krachten)\n",
    "    - [Differentiaalvergelijking](#Differentiaalvergelijking)\n",
    "    - [Evenwichtsvergelijkingen](#Evenwichtsvergelijkingen)\n",
    "    - [Virtuele arbeid / virtuele verplaatsingenmethode](#Virtuelearbeid/virtueleverplaatsingenmethode)\n",
    "- [Verplaatsingen](#Verplaatsingen)\n",
    "    - [Differentiaalvergelijking](#Differentiaalvergelijking2)\n",
    "    - [Momentenvlakstelling](#Momentenvlakstelling)\n",
    "    - [Vergeet-me-nietjes](#Vergeet-me-nietjes)\n",
    "    - [Virtuele krachtmethode / Castigliano](#Virtuelekrachtmethode/Castigliano)\n",
    "    - [Potentiële energie](#Potentiëleenergie)"
   ]
  },
  {
   "cell_type": "code",
   "execution_count": 1,
   "id": "35b2b36c",
   "metadata": {},
   "outputs": [],
   "source": [
    "import sympy as sp"
   ]
  },
  {
   "cell_type": "markdown",
   "id": "6f815271",
   "metadata": {},
   "source": [
    "## <a id='Krachten'></a> Krachten ##"
   ]
  },
  {
   "cell_type": "markdown",
   "id": "d02b8d89",
   "metadata": {},
   "source": [
    "### <a id='Differentiaalvergelijking'></a>  Differentiaalvergelijking ###"
   ]
  },
  {
   "cell_type": "markdown",
   "id": "02841c65",
   "metadata": {},
   "source": [
    "$$q(x)= Am{\\left\\langle x \\right\\rangle ^{ - 2}} + Av{\\left\\langle x \\right\\rangle ^{ - 1}} + Bv{\\left\\langle {x - 6} \\right\\rangle ^{ - 1}} + F{\\left\\langle {x - 2.5} \\right\\rangle ^{ - 1}} + {q_0}$$\n",
    "$$\\eqalign{\n",
    "  & V\\left( x \\right) =  - \\int {q\\left( x \\right)dx}   \\cr \n",
    "  & M\\left( x \\right) = \\int {V\\left( x \\right)dx}   \\cr \n",
    "  & M\\left( 6 \\right) = 0  \\cr \n",
    "  & M\\left( {2.5} \\right) = 0 \\cr} $$"
   ]
  },
  {
   "cell_type": "code",
   "execution_count": 2,
   "id": "7a7e1316",
   "metadata": {},
   "outputs": [
    {
     "data": {
      "text/latex": [
       "$\\displaystyle 6 C_{1} + C_{2} - 3.5 F - 18 q_{0} = 0$"
      ],
      "text/plain": [
       "Eq(6*C1 + C2 - 3.5*F - 18*q0, 0)"
      ]
     },
     "metadata": {},
     "output_type": "display_data"
    },
    {
     "data": {
      "text/latex": [
       "$\\displaystyle 2.5 C_{1} + C_{2} - 3.125 q_{0} = 0$"
      ],
      "text/plain": [
       "Eq(2.5*C1 + C2 - 3.125*q0, 0)"
      ]
     },
     "metadata": {},
     "output_type": "display_data"
    },
    {
     "data": {
      "text/plain": [
       "{C1: F + 4.25*q0, C2: -2.5*F - 7.5*q0}"
      ]
     },
     "metadata": {},
     "output_type": "display_data"
    },
    {
     "data": {
      "text/latex": [
       "$\\displaystyle \\begin{cases} - 2.5 x^{2} + 21.25 x - 37.5 & \\text{for}\\: x > 2.5 \\\\- 2.5 x^{2} + 71.25 x - 162.5 & \\text{otherwise} \\end{cases}$"
      ],
      "text/plain": [
       "Piecewise((-2.5*x**2 + 21.25*x - 37.5, x > 2.5), (-2.5*x**2 + 71.25*x - 162.5, True))"
      ]
     },
     "metadata": {},
     "output_type": "display_data"
    },
    {
     "data": {
      "text/latex": [
       "$\\displaystyle -162.5$"
      ],
      "text/plain": [
       "-162.500000000000"
      ]
     },
     "metadata": {},
     "output_type": "display_data"
    }
   ],
   "source": [
    "x, q0, F= sp.symbols('x, q0, F')\n",
    "q = q0 + sp.SingularityFunction(x,2.5,-1)*F\n",
    "C1, C2 = sp.symbols('C1, C2')\n",
    "\n",
    "V = -sp.integrate(q,x) + C1\n",
    "M = sp.integrate(V,x) + C2\n",
    "eq1 = sp.Eq(M.subs(x,6),0)\n",
    "eq2 = sp.Eq(M.subs(x,2.5),0)\n",
    "display(eq1)\n",
    "display(eq2)\n",
    "sol = sp.solve((eq1,eq2),(C1,C2))\n",
    "display(sol)\n",
    "M_sol = M.subs(sol)\n",
    "M_subs = M_sol.subs(((F,50),(q0,5)))\n",
    "A_m_1 = M_subs.subs(x,0)\n",
    "M_subs_piecewise = sp.simplify(M_subs.rewrite(sp.Piecewise))\n",
    "display(M_subs_piecewise)\n",
    "display(A_m_1)"
   ]
  },
  {
   "cell_type": "markdown",
   "id": "84eafc69",
   "metadata": {},
   "source": [
    "### <a id='Evenwichtsvergelijkingen'></a> Evenwichtsvergelijkingen ###"
   ]
  },
  {
   "cell_type": "markdown",
   "id": "cc43543a",
   "metadata": {},
   "source": [
    "![figuur 1](data/data_Vergelijking_methodes/Oplegreacties.gif)\n",
    "$$\\sum M_C : - Am - 2.5 Av - 3.125 q_{0} = 0 $$\n",
    "$$\\sum F_v : - Av - Bv - F - 6 q_{0} = 0 $$\n",
    "$$\\sum M_B : - Am - 6 Av - 3.5 F - 18 q_{0} = 0$$"
   ]
  },
  {
   "cell_type": "code",
   "execution_count": 3,
   "id": "26fc8f8a",
   "metadata": {},
   "outputs": [
    {
     "data": {
      "text/latex": [
       "$\\displaystyle Am {\\left\\langle x \\right\\rangle}^{-2} + Av {\\left\\langle x \\right\\rangle}^{-1} + Bv {\\left\\langle x - 6 \\right\\rangle}^{-1} + F {\\left\\langle x - 2.5 \\right\\rangle}^{-1} + q_{0}$"
      ],
      "text/plain": [
       "Am*SingularityFunction(x, 0, -2) + Av*SingularityFunction(x, 0, -1) + Bv*SingularityFunction(x, 6, -1) + F*SingularityFunction(x, 2.5, -1) + q0"
      ]
     },
     "metadata": {},
     "output_type": "display_data"
    },
    {
     "data": {
      "text/latex": [
       "$\\displaystyle - Am - 2.5 Av - 3.125 q_{0} = 0$"
      ],
      "text/plain": [
       "Eq(-Am - 2.5*Av - 3.125*q0, 0)"
      ]
     },
     "metadata": {},
     "output_type": "display_data"
    },
    {
     "data": {
      "text/latex": [
       "$\\displaystyle - Av - Bv - F - 6 q_{0} = 0$"
      ],
      "text/plain": [
       "Eq(-Av - Bv - F - 6*q0, 0)"
      ]
     },
     "metadata": {},
     "output_type": "display_data"
    },
    {
     "data": {
      "text/latex": [
       "$\\displaystyle - Am - 6 Av - 3.5 F - 18 q_{0} = 0$"
      ],
      "text/plain": [
       "Eq(-Am - 6*Av - 3.5*F - 18*q0, 0)"
      ]
     },
     "metadata": {},
     "output_type": "display_data"
    },
    {
     "data": {
      "text/plain": [
       "{Am: 2.5*F + 7.5*q0, Av: -F - 4.25*q0, Bv: -1.75*q0}"
      ]
     },
     "metadata": {},
     "output_type": "display_data"
    },
    {
     "data": {
      "text/latex": [
       "$\\displaystyle 162.5$"
      ],
      "text/plain": [
       "162.500000000000"
      ]
     },
     "metadata": {},
     "output_type": "display_data"
    }
   ],
   "source": [
    "Am, Av, Bv= sp.symbols('Am Av Bv')\n",
    "q = sp.SingularityFunction(x,0,-2)*Am + sp.SingularityFunction(x,0,-1)*Av + q0 + sp.SingularityFunction(x,2.5,-1)*F + sp.SingularityFunction(x,6,-1)*Bv\n",
    "display(q)\n",
    "\n",
    "V = -sp.integrate(q,x)\n",
    "M = sp.integrate(V,x)\n",
    "eq3 = sp.Eq(M.subs(x,2.5),0)\n",
    "eq4 = sp.Eq(V.subs(x,6),0)\n",
    "eq5 = sp.Eq(M.subs(x,6),0)\n",
    "display(eq3)\n",
    "display(eq4)\n",
    "display(eq5)\n",
    "sol2 = sp.solve((eq3,eq4,eq5),(Am,Av,Bv))\n",
    "display(sol2)\n",
    "A_m_2 = sol2[Am].subs(((F,50),(q0,5)))\n",
    "display(A_m_2)"
   ]
  },
  {
   "cell_type": "markdown",
   "id": "00514a05",
   "metadata": {},
   "source": [
    "### <a id='Virtuelearbeid/virtueleverplaatsingenmethode'></a> Virtuele arbeidmethode / virtuele verplaatsingenmethode ###"
   ]
  },
  {
   "cell_type": "markdown",
   "id": "b8f5f7a8",
   "metadata": {},
   "source": [
    "![figuur 3](data/data_Vergelijking_methodes/Virtuele_arbeid.gif)\n",
    "$$\\delta A = 0 : \\frac{A_m\\delta u}{2.5} = 50\\delta u+5\\cdot2.5\\cdot\\frac{1}{2}\\delta u+5\\cdot3.5\\cdot \\frac{1}{2}\\delta u$$"
   ]
  },
  {
   "cell_type": "code",
   "execution_count": 4,
   "id": "0c37bb01",
   "metadata": {},
   "outputs": [
    {
     "data": {
      "text/plain": [
       "162.5"
      ]
     },
     "metadata": {},
     "output_type": "display_data"
    }
   ],
   "source": [
    "A_m_3 = 2.5*(50+5*2.5*0.5+5*3.5*0.5)\n",
    "display(A_m_3)"
   ]
  },
  {
   "cell_type": "markdown",
   "id": "69d39905",
   "metadata": {},
   "source": [
    "## <a id='Verplaatsingen'></a>Verplaatsingen ##"
   ]
  },
  {
   "cell_type": "code",
   "execution_count": 5,
   "id": "bac62f13",
   "metadata": {},
   "outputs": [
    {
     "data": {
      "text/latex": [
       "$\\displaystyle - F {\\left\\langle x - 2.5 \\right\\rangle}^{1} - \\frac{q_{0} x^{2}}{2} + 1.75 q_{0} {\\left\\langle x - 6 \\right\\rangle}^{1} - \\left(- F - 4.25 q_{0}\\right) {\\left\\langle x \\right\\rangle}^{1} - \\left(2.5 F + 7.5 q_{0}\\right) {\\left\\langle x \\right\\rangle}^{0}$"
      ],
      "text/plain": [
       "-F*SingularityFunction(x, 2.5, 1) - q0*x**2/2 + 1.75*q0*SingularityFunction(x, 6, 1) - (-F - 4.25*q0)*SingularityFunction(x, 0, 1) - (2.5*F + 7.5*q0)*SingularityFunction(x, 0, 0)"
      ]
     },
     "metadata": {},
     "output_type": "display_data"
    },
    {
     "data": {
      "text/latex": [
       "$\\displaystyle - \\frac{5 x^{2}}{2} - 162.5 {\\left\\langle x \\right\\rangle}^{0} + 71.25 {\\left\\langle x \\right\\rangle}^{1} - 50 {\\left\\langle x - 2.5 \\right\\rangle}^{1} + 8.75 {\\left\\langle x - 6 \\right\\rangle}^{1}$"
      ],
      "text/plain": [
       "-5*x**2/2 - 162.5*SingularityFunction(x, 0, 0) + 71.25*SingularityFunction(x, 0, 1) - 50*SingularityFunction(x, 2.5, 1) + 8.75*SingularityFunction(x, 6, 1)"
      ]
     },
     "metadata": {},
     "output_type": "display_data"
    },
    {
     "data": {
      "text/latex": [
       "$\\displaystyle \\begin{cases} q_{0} \\left(- 0.5 x^{2} + 6.0 x - 18.0\\right) & \\text{for}\\: x > 6 \\\\q_{0} \\left(- 0.5 x^{2} + 4.25 x - 7.5\\right) & \\text{for}\\: x > 2.5 \\\\- 2.5 F - \\frac{q_{0} x^{2}}{2} - 7.5 q_{0} + x \\left(F + 4.25 q_{0}\\right) & \\text{for}\\: x > 0 \\\\- \\frac{q_{0} x^{2}}{2} & \\text{otherwise} \\end{cases}$"
      ],
      "text/plain": [
       "Piecewise((q0*(-0.5*x**2 + 6.0*x - 18.0), x > 6), (q0*(-0.5*x**2 + 4.25*x - 7.5), x > 2.5), (-2.5*F - q0*x**2/2 - 7.5*q0 + x*(F + 4.25*q0), x > 0), (-q0*x**2/2, True))"
      ]
     },
     "metadata": {},
     "output_type": "display_data"
    },
    {
     "data": {
      "text/latex": [
       "$\\displaystyle \\begin{cases} - 2.5 x^{2} + 30.0 x - 90.0 & \\text{for}\\: x > 6 \\\\- 2.5 x^{2} + 21.25 x - 37.5 & \\text{for}\\: x > 2.5 \\\\- 2.5 x^{2} + 71.25 x - 162.5 & \\text{for}\\: x > 0 \\\\- \\frac{5 x^{2}}{2} & \\text{otherwise} \\end{cases}$"
      ],
      "text/plain": [
       "Piecewise((-2.5*x**2 + 30.0*x - 90.0, x > 6), (-2.5*x**2 + 21.25*x - 37.5, x > 2.5), (-2.5*x**2 + 71.25*x - 162.5, x > 0), (-5*x**2/2, True))"
      ]
     },
     "metadata": {},
     "output_type": "display_data"
    }
   ],
   "source": [
    "M_sol = M.subs(sol2)\n",
    "display(M_sol)\n",
    "M_subs = M_sol.subs(((F,50),(q0,5)))\n",
    "display(M_subs)\n",
    "M_sol_piecewise = sp.simplify(M_sol.rewrite(sp.Piecewise))\n",
    "display(M_sol_piecewise)\n",
    "M_subs_piecewise = sp.simplify(M_subs.rewrite(sp.Piecewise))\n",
    "display(M_subs_piecewise)"
   ]
  },
  {
   "cell_type": "markdown",
   "id": "7eb10087",
   "metadata": {},
   "source": [
    "### <a id='Differentiaalvergelijking2'></a>Differentiaalvergelijking ###"
   ]
  },
  {
   "cell_type": "markdown",
   "id": "ffe06f17",
   "metadata": {},
   "source": [
    "$$\\eqalign{\n",
    " & M\\left( x \\right) = \\begin{cases} - 2.5 x^{2} + 21.25 x - 37.5 & \\text{for}\\: x > 2.5 \\\\- 2.5 x^{2} + 71.25 x - 162.5 & \\text{for}\\: x > 0 \\end{cases}  \\cr \n",
    "  & \\kappa  = {M \\over {EI}}  \\cr \n",
    "  & \\varphi  = \\int {\\kappa dx}  + {C_4}{\\left\\langle {x - 2.5} \\right\\rangle ^0}  \\cr \n",
    "  & w =  - \\int {\\varphi dx}   \\cr \n",
    "  & w\\left( 0 \\right) = 0  \\cr \n",
    "  & \\varphi \\left( 0 \\right) = 0  \\cr \n",
    "  & w\\left( 6 \\right) = 6 \\cr} $$"
   ]
  },
  {
   "cell_type": "code",
   "execution_count": 8,
   "id": "700c5384",
   "metadata": {},
   "outputs": [
    {
     "data": {
      "text/latex": [
       "$\\displaystyle C_{3} = 0$"
      ],
      "text/plain": [
       "Eq(C3, 0)"
      ]
     },
     "metadata": {},
     "output_type": "display_data"
    },
    {
     "data": {
      "text/latex": [
       "$\\displaystyle C_{5} = 0$"
      ],
      "text/plain": [
       "Eq(C5, 0)"
      ]
     },
     "metadata": {},
     "output_type": "display_data"
    },
    {
     "data": {
      "text/latex": [
       "$\\displaystyle - 6 C_{3} - \\frac{7 C_{4}}{2} + C_{5} + \\frac{31 F}{38400} + \\frac{9 q_{0}}{5000} = 0$"
      ],
      "text/plain": [
       "Eq(-6*C3 - 7*C4/2 + C5 + 31*F/38400 + 9*q0/5000, 0)"
      ]
     },
     "metadata": {},
     "output_type": "display_data"
    },
    {
     "data": {
      "text/plain": [
       "{C3: 0, C4: 31*F/134400 + 9*q0/17500, C5: 0}"
      ]
     },
     "metadata": {},
     "output_type": "display_data"
    },
    {
     "data": {
      "text/latex": [
       "$\\displaystyle \\begin{cases} \\frac{x^{4} - 24 x^{3} + 216 x^{2} - 1360 x + 4272}{96000} & \\text{for}\\: x > 6 \\\\\\frac{x^{4} - 17 x^{3} + 90 x^{2} - 604 x + 2760}{96000} & \\text{for}\\: x > \\frac{5}{2} \\\\\\frac{x^{2} \\left(x^{2} - 57 x + 390\\right)}{96000} & \\text{for}\\: x > 0 \\\\\\frac{x^{4}}{96000} & \\text{otherwise} \\end{cases}$"
      ],
      "text/plain": [
       "Piecewise(((x**4 - 24*x**3 + 216*x**2 - 1360*x + 4272)/96000, x > 6), ((x**4 - 17*x**3 + 90*x**2 - 604*x + 2760)/96000, x > 5/2), (x**2*(x**2 - 57*x + 390)/96000, x > 0), (x**4/96000, True))"
      ]
     },
     "metadata": {},
     "output_type": "display_data"
    },
    {
     "data": {
      "text/latex": [
       "$\\displaystyle 0.0165201822916667$"
      ],
      "text/plain": [
       "0.0165201822916667"
      ]
     },
     "metadata": {},
     "output_type": "display_data"
    },
    {
     "data": {
      "image/png": "[encoded data removed]",
      "text/plain": [
       "<Figure size 640x480 with 1 Axes>"
      ]
     },
     "metadata": {},
     "output_type": "display_data"
    },
    {
     "data": {
      "text/plain": [
       "<sympy.plotting.plot.Plot at 0x2d5715cc0a0>"
      ]
     },
     "execution_count": 8,
     "metadata": {},
     "output_type": "execute_result"
    }
   ],
   "source": [
    "C3,C4,C5 = sp.symbols('C3, C4, C5')\n",
    "kappa = sp.nsimplify(M_sol / sp.nsimplify(2e4))\n",
    "phi = sp.integrate(kappa,x)+C3 + C4 * sp.SingularityFunction(x,sp.nsimplify(2.5),0)\n",
    "w = -sp.integrate(phi,x)+C5\n",
    "eq6 = sp.Eq(phi.subs(x,0),0)\n",
    "eq7 = sp.Eq(w.subs(x,0),0)\n",
    "eq8 = sp.Eq(w.subs(x,sp.S(6)),0)\n",
    "display(eq6)\n",
    "display(eq7)\n",
    "display(eq8)\n",
    "sol3 = sp.solve((eq6,eq7,eq8),(C3,C4,C5))\n",
    "display(sol3)\n",
    "w_sol = w.subs(sol3)\n",
    "w_subs = w_sol.subs(((F,50),(q0,5)))\n",
    "w_subs_piecewise = sp.simplify(w_subs.rewrite(sp.Piecewise))\n",
    "w_C_1 = w_subs.subs(x,2.5)\n",
    "display(w_subs_piecewise)\n",
    "display(w_C_1)\n",
    "\n",
    "sp.plot(-w_subs,(x,0,6))"
   ]
  },
  {
   "cell_type": "markdown",
   "id": "43cc2635",
   "metadata": {},
   "source": [
    "### <a id='Momentenvlakstelling'></a>Momentenvlakstelling ###"
   ]
  },
  {
   "cell_type": "markdown",
   "id": "68b9bf93",
   "metadata": {},
   "source": [
    "![figuur 4](data/data_Vergelijking_methodes/Momentenvlakstelling.gif)"
   ]
  },
  {
   "cell_type": "code",
   "execution_count": 9,
   "id": "e14c1108",
   "metadata": {},
   "outputs": [
    {
     "data": {
      "text/latex": [
       "$\\displaystyle - 0.000125 x^{2} + 0.0035625 x - 0.008125$"
      ],
      "text/plain": [
       "-0.000125*x**2 + 0.0035625*x - 0.008125"
      ]
     },
     "metadata": {},
     "output_type": "display_data"
    },
    {
     "name": "stdout",
     "output_type": "stream",
     "text": [
      "θ= -0.00983072916666667\n",
      "x_θ= 0.819536423841060\n",
      "w_C= 0.0165201822916667\n"
     ]
    }
   ],
   "source": [
    "M_EI = M_sol_piecewise.args[2][0]/2e4\n",
    "M_EI_subs = M_EI.subs([(F,50),(q0,5)])\n",
    "display(M_EI_subs)\n",
    "\n",
    "theta = sp.integrate(M_EI_subs,(x,0,2.5))\n",
    "print(\"θ=\",theta)\n",
    "x_theta = sp.integrate(M_EI_subs*x,(x,0,2.5))/theta\n",
    "print(\"x_θ=\",x_theta)\n",
    "w_C_5 = abs(theta)*(2.5-x_theta)\n",
    "print(\"w_C=\",w_C_5)"
   ]
  },
  {
   "cell_type": "markdown",
   "id": "a712e403",
   "metadata": {},
   "source": [
    "### <a id='Vergeet-me-nietjes'></a>Vergeet-me-nietjes ###"
   ]
  },
  {
   "cell_type": "markdown",
   "id": "e455f97f",
   "metadata": {},
   "source": [
    "![figuur 1](data/data_Vergelijking_methodes/VMNtjes.gif)\n",
    "\n",
    "$${w_C} = {{q{l^4}} \\over {8EI}} + {{F{l^3}} \\over {3EI}}$$"
   ]
  },
  {
   "cell_type": "code",
   "execution_count": 10,
   "id": "f4280254",
   "metadata": {},
   "outputs": [
    {
     "name": "stdout",
     "output_type": "stream",
     "text": [
      "0.016520182291666664\n"
     ]
    }
   ],
   "source": [
    "w_C_4 = 5 * 2.5 **4 / (8 * 2e4) + (50+8.75)*2.5**3/(3*2e4)\n",
    "print(w_C_4)"
   ]
  },
  {
   "cell_type": "markdown",
   "id": "b94f71a8",
   "metadata": {},
   "source": [
    "### Strain energy ###"
   ]
  },
  {
   "cell_type": "code",
   "execution_count": 11,
   "id": "83740b98",
   "metadata": {},
   "outputs": [
    {
     "data": {
      "text/latex": [
       "$\\displaystyle 0.52692578125$"
      ],
      "text/plain": [
       "0.526925781250000"
      ]
     },
     "metadata": {},
     "output_type": "display_data"
    },
    {
     "data": {
      "text/latex": [
       "$\\displaystyle - \\begin{cases} \\frac{x^{2}}{8000} - \\frac{3 x}{2000} + \\frac{9}{2000} & \\text{for}\\: x > 6 \\\\\\frac{x^{2}}{8000} - \\frac{17 x}{16000} + \\frac{3}{1600} & \\text{for}\\: x > \\frac{5}{2} \\\\\\frac{x^{2}}{24000} + \\frac{x \\left(2 x - 57\\right)}{24000} - \\frac{19 x}{16000} + \\frac{13}{1600} & \\text{for}\\: x > 0 \\\\\\frac{x^{2}}{8000} & \\text{otherwise} \\end{cases}$"
      ],
      "text/plain": [
       "-Piecewise((x**2/8000 - 3*x/2000 + 9/2000, x > 6), (x**2/8000 - 17*x/16000 + 3/1600, x > 5/2), (x**2/24000 + x*(2*x - 57)/24000 - 19*x/16000 + 13/1600, x > 0), (x**2/8000, True))"
      ]
     },
     "metadata": {},
     "output_type": "display_data"
    },
    {
     "data": {
      "text/latex": [
       "$\\displaystyle 0.52692578125$"
      ],
      "text/plain": [
       "0.526925781250000"
      ]
     },
     "metadata": {},
     "output_type": "display_data"
    }
   ],
   "source": [
    "Ec = sp.integrate(M_subs_piecewise**2/(2*20e3),(x,0,6))\n",
    "display(Ec)\n",
    "kappa = -w_subs_piecewise.diff(x).diff(x)\n",
    "display(kappa)\n",
    "Ev = sp.integrate(20e3*kappa**2/2,(x,0,6))\n",
    "display(Ev)"
   ]
  },
  {
   "cell_type": "markdown",
   "id": "ce702b3c",
   "metadata": {},
   "source": [
    "### <a id='Virtuelekrachtmethode/Castigliano'></a>Virtuele krachtenmethode / Castigliano ###"
   ]
  },
  {
   "cell_type": "markdown",
   "id": "7ad3228d",
   "metadata": {},
   "source": [
    "$$ \\text{Virtuele krachtenmethode} $$\n",
    "$$  M\\left( x \\right) = \\begin{cases} - 2.5 x^{2} + 21.25 x - 37.5 & \\text{for}\\: x > 2.5 \\\\- 2.5 x^{2} + 71.25 x - 162.5 & \\text{for}\\: x > 0 \\end{cases}  $$\n",
    "   \n",
    "   \n",
    "$$m(x):$$\n",
    "\n",
    "![figuur 1](data/data_Vergelijking_methodes/Virtuele_kracht.gif)\n",
    "\n",
    "$$\\eqalign{\n",
    "  & m\\left( x \\right) = \\left\\{ {\\matrix{\n",
    "   0 \\hfill & {{\\rm{for}}\\>x > 2.5} \\hfill  \\cr \n",
    "   {x - 2.5} \\hfill & {{\\rm{for}}\\>x > 0} \\hfill  \\cr \n",
    "   0 \\hfill & {{\\rm{otherwise}}} \\hfill  \\cr  } } \\right.  \\cr}$$\n",
    "\n",
    "  \n",
    "  \n",
    "  \n",
    "$$ \\text{Castigliano} $$\n",
    "$$ M\\left( x, F, q_0 \\right) = \\left\\{ {\\matrix{\n",
    "   {{q_0}\\left( { - 0.5{x^2} + 4.25x - 7.5} \\right)} & {{\\rm{for}}\\>x > 2.5}  \\cr \n",
    "   { - 2.5F - {{{q_0}{x^2}} \\over 2} - 7.5{q_0} + x\\left( {F + 4.25{q_0}} \\right)} & {{\\rm{for}}\\>x > 0}  \\cr  } } \\right. $$\n",
    "   \n",
    "$${{\\partial M\\left( x, F, q_0 \\right)} \\over {\\partial F}} = \\left\\{ {\\matrix{\n",
    "   0 & {{\\rm{for}}\\>x > 2.5}  \\cr \n",
    "   {x - 2.5} & {{\\rm{for}}\\>x > 0}  \\cr  } } \\right. $$\n",
    "   \n",
    "$$   {w_C} = \\int_0^{2.5} {{{\\partial M\\left( x, F, q_0 \\right)} \\over {\\partial F}}}{{M\\left( x, F, q_0 \\right)} \\over {2 EI}} dx = \\int_0^{2.5} {{{ m(x) M(x) } \\over {2 EI}}} dx $$\n",
    "\n",
    "$$ \\text{Virtuele krachtenmethode & Castigliano} $$\n",
    " $$ w_C = \\int_0^{2.5} {{{\\left( {x - 2.5} \\right)\\left( { - 2.5{x^2} + 71.25x - 162.5} \\right)} \\over {2 \\cdot {{10}^4}}}} dx$$"
   ]
  },
  {
   "cell_type": "code",
   "execution_count": 12,
   "id": "54d69e76",
   "metadata": {},
   "outputs": [
    {
     "data": {
      "image/png": "[encoded data removed]",
      "text/plain": [
       "<Figure size 640x480 with 1 Axes>"
      ]
     },
     "metadata": {},
     "output_type": "display_data"
    },
    {
     "data": {
      "text/latex": [
       "$\\displaystyle \\begin{cases} 0 & \\text{for}\\: x > 2.5 \\\\deltaF \\left(x - 2.5\\right) & \\text{for}\\: x > 0 \\\\0 & \\text{otherwise} \\end{cases}$"
      ],
      "text/plain": [
       "Piecewise((0, x > 2.5), (deltaF*(x - 2.5), x > 0), (0, True))"
      ]
     },
     "metadata": {},
     "output_type": "display_data"
    },
    {
     "data": {
      "text/latex": [
       "$\\displaystyle \\begin{cases} 0 & \\text{for}\\: x > 2.5 \\\\x - 2.5 & \\text{for}\\: x > 0 \\\\0 & \\text{otherwise} \\end{cases}$"
      ],
      "text/plain": [
       "Piecewise((0, x > 2.5), (x - 2.5, x > 0), (0, True))"
      ]
     },
     "metadata": {},
     "output_type": "display_data"
    }
   ],
   "source": [
    "deltaF = sp.symbols('deltaF')\n",
    "deltaq = sp.SingularityFunction(x,0,-2)*Am + sp.SingularityFunction(x,0,-1)*Av + sp.SingularityFunction(x,2.5,-1)*deltaF + sp.SingularityFunction(x,6,-1)*Bv\n",
    "deltaV = -sp.integrate(deltaq,x)\n",
    "deltaM = sp.integrate(deltaV,x)\n",
    "eq9 = sp.Eq(deltaM.subs(x,2.5),0)\n",
    "eq10 = sp.Eq(deltaV.subs(x,6),0)\n",
    "eq11 = sp.Eq(deltaM.subs(x,6),0)\n",
    "deltasol = sp.solve((eq9,eq10,eq11),(Am,Av,Bv))\n",
    "deltaM_sol = deltaM.subs(deltasol)\n",
    "deltaM_subs = deltaM_sol.subs(deltaF,1)\n",
    "sp.plot(-deltaM_subs,(x,0,6))\n",
    "deltaM_sol_piecewise = sp.simplify(deltaM_sol.rewrite(sp.Piecewise))\n",
    "display(deltaM_sol_piecewise)\n",
    "deltaM_subs_piecewise = sp.simplify(deltaM_subs.rewrite(sp.Piecewise))\n",
    "display(deltaM_subs_piecewise)"
   ]
  },
  {
   "cell_type": "code",
   "execution_count": 13,
   "id": "356ad4cc",
   "metadata": {},
   "outputs": [
    {
     "data": {
      "text/latex": [
       "$\\displaystyle 0.0165201822916667$"
      ],
      "text/plain": [
       "0.0165201822916667"
      ]
     },
     "metadata": {},
     "output_type": "display_data"
    }
   ],
   "source": [
    "w_C_2 = sp.integrate(deltaM_subs_piecewise.args[1][0]*M_subs_piecewise.args[2][0],(x,0,2.5)) / 2e4\n",
    "display(w_C_2)"
   ]
  },
  {
   "cell_type": "code",
   "execution_count": 14,
   "id": "b6a360e7",
   "metadata": {},
   "outputs": [
    {
     "data": {
      "text/latex": [
       "$\\displaystyle 0.0165201822916667$"
      ],
      "text/plain": [
       "0.0165201822916667"
      ]
     },
     "metadata": {},
     "output_type": "display_data"
    }
   ],
   "source": [
    "w_C_3 = sp.integrate(M_sol_piecewise.args[2][0]*M_sol_piecewise.args[2][0].diff(F),(x,0,2.5))/2e4\n",
    "display(w_C_3.subs(((F,50),(q0,5))))"
   ]
  },
  {
   "cell_type": "markdown",
   "id": "a4fac82e",
   "metadata": {},
   "source": [
    "### <a id='Potentiëleenergie'></a>Potentiële energie ###"
   ]
  },
  {
   "cell_type": "markdown",
   "id": "278b9357",
   "metadata": {},
   "source": [
    "$$\\eqalign{\n",
    "  & {w_1} = {a_1}{x^4} + {a_2}{x^3} + {a_3}{x^2} + {a_4}x + {a_5} & {\\rm{for 0}} \\le x \\le 2.5  \\cr \n",
    "  & {w_2} = {b_1}{x^4} + {b_2}{x^3} + {b_3}{x^2} + {b_4}x + {b_5} & {\\rm{for 2}}{\\rm{.5}} \\le x \\le 6  \\cr \n",
    "  & \\left. \\matrix{\n",
    "  {w_1}\\left( 0 \\right) = 0 \\hfill \\cr \n",
    "  {\\varphi _1}\\left( 0 \\right) = 0 \\hfill \\cr \n",
    "  {w_1}\\left( {2.5} \\right) = {w_2}\\left( {2.5} \\right) \\hfill \\cr \n",
    "  {w_2}\\left( 6 \\right) = 0 \\hfill \\cr}  \\right\\} \\to {a_4},{a_5},{b_4},{b_5}  \\cr \n",
    "  & \\kappa  =  - {{{d^2}w} \\over {d{x^2}}}  \\cr \n",
    "  & V = \\int_0^6 {{{EI{\\kappa ^2}} \\over 2}} dx - 50 \\cdot w\\left( {2.5} \\right) - \\int_0^6 {q \\cdot w\\left( x \\right)} dx  \\cr \n",
    "  & \\left. \\matrix{\n",
    "  {{\\partial V} \\over {\\partial {a_1}}} = 0 \\hfill \\cr \n",
    "  {{\\partial V} \\over {\\partial {a_2}}} = 0 \\hfill \\cr \n",
    "  {{\\partial V} \\over {\\partial {a_3}}} = 0 \\hfill \\cr \n",
    "  {{\\partial V} \\over {\\partial {b_1}}} = 0 \\hfill \\cr \n",
    "  {{\\partial V} \\over {\\partial {b_2}}} = 0 \\hfill \\cr \n",
    "  {{\\partial V} \\over {\\partial {b_3}}} = 0 \\hfill \\cr}  \\right\\} \\to {a_1},{a_2},{a_3},{b_1},{b_2},{b_3} \\cr} $$"
   ]
  },
  {
   "cell_type": "code",
   "execution_count": 15,
   "id": "9296a144",
   "metadata": {},
   "outputs": [],
   "source": [
    "a,b,c,d,e = sp.symbols('a,b,c,d,e')\n",
    "x = sp.symbols('x')\n",
    "wAC = -a * sp.cos(sp.pi/sp.nsimplify(5)*x)+a\n",
    "wBC = -b * sp.cos(sp.pi/sp.nsimplify(5)*x + c)\n",
    "\n",
    "eq1 = sp.Eq(wBC.subs(x,6),0)\n",
    "c_sol = sp.solve(eq1,c)\n",
    "wBC = wBC.subs(c,c_sol[0])\n",
    "eq2 = sp.Eq(wAC.subs(x,sp.nsimplify(2.5)),wBC.subs(x,sp.nsimplify(2.5)))\n",
    "b_sol = sp.solve(eq2,b)[0]\n",
    "wBC = sp.simplify(wBC.subs(b,b_sol))"
   ]
  },
  {
   "cell_type": "code",
   "execution_count": 16,
   "id": "e29280a5",
   "metadata": {},
   "outputs": [
    {
     "data": {
      "image/png": "[encoded data removed]",
      "text/plain": [
       "<Figure size 640x480 with 1 Axes>"
      ]
     },
     "metadata": {},
     "output_type": "display_data"
    }
   ],
   "source": [
    "import numpy as np\n",
    "import matplotlib.pyplot as plt\n",
    "x1_plot = np.linspace(0,  2.5, 50)\n",
    "x2_plot = np.linspace(2.5, 6, 70)\n",
    "w1_numpy = sp.lambdify(x, wAC.subs(a,1))\n",
    "w2_numpy = sp.lambdify(x, wBC.subs(a,1))\n",
    "w1_plot = w1_numpy(x1_plot)\n",
    "w2_plot = w2_numpy(x2_plot)\n",
    "plt.plot(x1_plot,w1_plot)\n",
    "plt.plot(x2_plot,w2_plot)\n",
    "plt.gca().invert_yaxis()\n",
    "plt.title(\"w-lijn\")\n",
    "plt.axhline(0 , color='black')\n",
    "plt.xlim(0 , 6)\n",
    "plt.annotate('a = %.0f m' % w1_numpy(2.5), xy = [2.5, w1_numpy(2.5)])\n",
    "plt.axis('off');"
   ]
  },
  {
   "cell_type": "code",
   "execution_count": 17,
   "id": "0315e7f1",
   "metadata": {},
   "outputs": [
    {
     "data": {
      "text/latex": [
       "$\\displaystyle - \\frac{\\pi^{2} a \\cos{\\left(\\frac{\\pi x}{5} \\right)}}{25}$"
      ],
      "text/plain": [
       "-pi**2*a*cos(pi*x/5)/25"
      ]
     },
     "metadata": {},
     "output_type": "display_data"
    },
    {
     "data": {
      "text/latex": [
       "$\\displaystyle \\frac{\\pi^{2} a \\left(1 - \\sqrt{5}\\right) \\cos{\\left(\\pi \\left(\\frac{x}{5} + \\frac{3}{10}\\right) \\right)}}{25}$"
      ],
      "text/plain": [
       "pi**2*a*(1 - sqrt(5))*cos(pi*(x/5 + 3/10))/25"
      ]
     },
     "metadata": {},
     "output_type": "display_data"
    },
    {
     "data": {
      "text/latex": [
       "$\\displaystyle \\pi^{3} a^{2} \\left(- 20.0 \\left(1 - \\sqrt{5}\\right)^{2} \\cos{\\left(1.1 \\pi \\right)} + 20.0 \\pi + 28.0 \\pi \\left(1 - \\sqrt{5}\\right)^{2}\\right)$"
      ],
      "text/plain": [
       "pi**3*a**2*(-20.0*(1 - sqrt(5))**2*cos(1.1*pi) + 20.0*pi + 28.0*pi*(1 - sqrt(5))**2)"
      ]
     },
     "metadata": {},
     "output_type": "display_data"
    },
    {
     "data": {
      "text/latex": [
       "$\\displaystyle 7016.4567061303 a^{2}$"
      ],
      "text/plain": [
       "7016.4567061303*a**2"
      ]
     },
     "metadata": {},
     "output_type": "display_data"
    },
    {
     "data": {
      "text/latex": [
       "$\\displaystyle \\frac{a \\left(-50 + \\left(-25 + 25 \\sqrt{5}\\right) \\sin{\\left(0.8 \\pi \\right)} + 25 \\sqrt{5} + 62.5 \\pi\\right)}{\\pi}$"
      ],
      "text/plain": [
       "a*(-50 + (-25 + 25*sqrt(5))*sin(0.8*pi) + 25*sqrt(5) + 62.5*pi)/pi"
      ]
     },
     "metadata": {},
     "output_type": "display_data"
    },
    {
     "data": {
      "text/latex": [
       "$\\displaystyle 70.1602110111666 a$"
      ],
      "text/plain": [
       "70.1602110111666*a"
      ]
     },
     "metadata": {},
     "output_type": "display_data"
    },
    {
     "data": {
      "text/latex": [
       "$\\displaystyle 14032.9134122606 a - 70.1602110111666 = 0$"
      ],
      "text/plain": [
       "Eq(14032.9134122606*a - 70.1602110111666, 0)"
      ]
     },
     "metadata": {},
     "output_type": "display_data"
    },
    {
     "data": {
      "text/latex": [
       "$\\displaystyle - \\frac{25 \\left(- 4 \\sqrt{2} - \\sqrt{5 - \\sqrt{5}} + \\sqrt{5} \\sqrt{5 - \\sqrt{5}} + 2 \\sqrt{10} + 5 \\sqrt{2} \\pi\\right) \\cos{\\left(\\frac{\\pi x}{5} \\right)}}{8 \\pi^{4} \\cdot \\left(5 \\left(1 - \\sqrt{5}\\right)^{2} \\sqrt{\\sqrt{5} + 5} + 10 \\sqrt{2} \\pi + 14 \\sqrt{2} \\pi \\left(1 - \\sqrt{5}\\right)^{2}\\right)} + \\frac{25 \\left(- 4 \\sqrt{2} - \\sqrt{5 - \\sqrt{5}} + \\sqrt{5} \\sqrt{5 - \\sqrt{5}} + 2 \\sqrt{10} + 5 \\sqrt{2} \\pi\\right)}{8 \\pi^{4} \\cdot \\left(5 \\left(1 - \\sqrt{5}\\right)^{2} \\sqrt{\\sqrt{5} + 5} + 10 \\sqrt{2} \\pi + 14 \\sqrt{2} \\pi \\left(1 - \\sqrt{5}\\right)^{2}\\right)}$"
      ],
      "text/plain": [
       "-25*(-4*sqrt(2) - sqrt(5 - sqrt(5)) + sqrt(5)*sqrt(5 - sqrt(5)) + 2*sqrt(10) + 5*sqrt(2)*pi)*cos(pi*x/5)/(8*pi**4*(5*(1 - sqrt(5))**2*sqrt(sqrt(5) + 5) + 10*sqrt(2)*pi + 14*sqrt(2)*pi*(1 - sqrt(5))**2)) + 25*(-4*sqrt(2) - sqrt(5 - sqrt(5)) + sqrt(5)*sqrt(5 - sqrt(5)) + 2*sqrt(10) + 5*sqrt(2)*pi)/(8*pi**4*(5*(1 - sqrt(5))**2*sqrt(sqrt(5) + 5) + 10*sqrt(2)*pi + 14*sqrt(2)*pi*(1 - sqrt(5))**2))"
      ]
     },
     "metadata": {},
     "output_type": "display_data"
    },
    {
     "data": {
      "text/latex": [
       "$\\displaystyle 0.00499968958333823$"
      ],
      "text/plain": [
       "0.00499968958333823"
      ]
     },
     "metadata": {},
     "output_type": "display_data"
    }
   ],
   "source": [
    "display(-wAC.diff(x,2))\n",
    "display(-wBC.diff(x,2))\n",
    "\n",
    "Ev = 2e4/2*(sp.integrate((-wAC.diff(x,2))**2,(x,0,2.5))+sp.integrate((-wBC.diff(x,2))**2,(x,2.5,6)) )\n",
    "\n",
    "display(sp.simplify(Ev))\n",
    "display(Ev.evalf())\n",
    "\n",
    "A = 50 * wAC.subs(x,2.5) + 5 * sp.integrate(wAC,(x,0,2.5)) + sp.integrate(5 * wBC,(x,2.5,6))\n",
    "\n",
    "display(sp.simplify(A))\n",
    "display(A.evalf())\n",
    "V = sp.simplify(Ev - A)\n",
    "eq1 = sp.nsimplify(sp.Eq(V.diff(a) ,0))\n",
    "display(eq1.evalf())\n",
    "sol = sp.solve(eq1,a)[0]\n",
    "wAC_sol = wAC.subs(a,sol)\n",
    "display(wAC_sol)\n",
    "display(wAC_sol.subs(x,2.5).evalf())"
   ]
  },
  {
   "cell_type": "code",
   "execution_count": 18,
   "id": "09b3c7de",
   "metadata": {},
   "outputs": [
    {
     "data": {
      "text/plain": [
       "{a4: 0,\n",
       " a5: 0,\n",
       " b4: -625*a1/56 - 125*a2/28 - 25*a3/14 - 2873*b1/8 - 229*b2/4 - 17*b3/2,\n",
       " b5: 1875*a1/28 + 375*a2/14 + 75*a3/7 + 3435*b1/4 + 255*b2/2 + 15*b3}"
      ]
     },
     "metadata": {},
     "output_type": "display_data"
    },
    {
     "data": {
      "text/latex": [
       "$\\displaystyle - 2 \\cdot \\left(6 a_{1} x^{2} + 3 a_{2} x + a_{3}\\right)$"
      ],
      "text/plain": [
       "-2*(6*a1*x**2 + 3*a2*x + a3)"
      ]
     },
     "metadata": {},
     "output_type": "display_data"
    },
    {
     "data": {
      "text/latex": [
       "$\\displaystyle - 2 \\cdot \\left(6 b_{1} x^{2} + 3 b_{2} x + b_{3}\\right)$"
      ],
      "text/plain": [
       "-2*(6*b1*x**2 + 3*b2*x + b3)"
      ]
     },
     "metadata": {},
     "output_type": "display_data"
    },
    {
     "data": {
      "text/latex": [
       "$\\displaystyle a_{1} x^{4} + a_{2} x^{3} + a_{3} x^{2}$"
      ],
      "text/plain": [
       "a1*x**4 + a2*x**3 + a3*x**2"
      ]
     },
     "metadata": {},
     "output_type": "display_data"
    },
    {
     "data": {
      "text/latex": [
       "$\\displaystyle \\frac{1875 a_{1}}{28} + \\frac{375 a_{2}}{14} + \\frac{75 a_{3}}{7} + b_{1} x^{4} + \\frac{3435 b_{1}}{4} + b_{2} x^{3} + \\frac{255 b_{2}}{2} + b_{3} x^{2} + 15 b_{3} + x \\left(- \\frac{625 a_{1}}{56} - \\frac{125 a_{2}}{28} - \\frac{25 a_{3}}{14} - \\frac{2873 b_{1}}{8} - \\frac{229 b_{2}}{4} - \\frac{17 b_{3}}{2}\\right)$"
      ],
      "text/plain": [
       "1875*a1/28 + 375*a2/14 + 75*a3/7 + b1*x**4 + 3435*b1/4 + b2*x**3 + 255*b2/2 + b3*x**2 + 15*b3 + x*(-625*a1/56 - 125*a2/28 - 25*a3/14 - 2873*b1/8 - 229*b2/4 - 17*b3/2)"
      ]
     },
     "metadata": {},
     "output_type": "display_data"
    },
    {
     "data": {
      "text/latex": [
       "$\\displaystyle 28125000.0 a_{1}^{2} + 14062500.0 a_{1} a_{2} + 2500000.0 a_{1} a_{3} + 1875000.0 a_{2}^{2} + 750000.0 a_{2} a_{3} + 100000.0 a_{3}^{2} + 2211363000.0 b_{1}^{2} + 452497500.0 b_{1} b_{2} + 32060000.0 b_{1} b_{3} + 24045000.0 b_{2}^{2} + 3570000.0 b_{2} b_{3} + 140000.0 b_{3}^{2}$"
      ],
      "text/plain": [
       "28125000.0*a1**2 + 14062500.0*a1*a2 + 2500000.0*a1*a3 + 1875000.0*a2**2 + 750000.0*a2*a3 + 100000.0*a3**2 + 2211363000.0*b1**2 + 452497500.0*b1*b2 + 32060000.0*b1*b3 + 24045000.0*b2**2 + 3570000.0*b2*b3 + 140000.0*b3**2"
      ]
     },
     "metadata": {},
     "output_type": "display_data"
    },
    {
     "data": {
      "text/latex": [
       "$\\displaystyle 2392.578125 a_{1} + 966.796875 a_{2} + 393.229166666667 a_{3} - 4003.453125 b_{1} - 455.546875 b_{2} - 35.7291666666667 b_{3}$"
      ],
      "text/plain": [
       "2392.578125*a1 + 966.796875*a2 + 393.229166666667*a3 - 4003.453125*b1 - 455.546875*b2 - 35.7291666666667*b3"
      ]
     },
     "metadata": {},
     "output_type": "display_data"
    },
    {
     "data": {
      "text/latex": [
       "$\\displaystyle 1.0416666666668 \\cdot 10^{-5}$"
      ],
      "text/plain": [
       "1.04166666666680e-5"
      ]
     },
     "metadata": {},
     "output_type": "display_data"
    },
    {
     "data": {
      "text/latex": [
       "$\\displaystyle -0.000593750000000008$"
      ],
      "text/plain": [
       "-0.000593750000000008"
      ]
     },
     "metadata": {},
     "output_type": "display_data"
    },
    {
     "data": {
      "text/latex": [
       "$\\displaystyle 0.00406250000000001$"
      ],
      "text/plain": [
       "0.00406250000000001"
      ]
     },
     "metadata": {},
     "output_type": "display_data"
    },
    {
     "data": {
      "text/latex": [
       "$\\displaystyle 1.04166666666667 \\cdot 10^{-5}$"
      ],
      "text/plain": [
       "1.04166666666667e-5"
      ]
     },
     "metadata": {},
     "output_type": "display_data"
    },
    {
     "data": {
      "text/latex": [
       "$\\displaystyle -0.000177083333333333$"
      ],
      "text/plain": [
       "-0.000177083333333333"
      ]
     },
     "metadata": {},
     "output_type": "display_data"
    },
    {
     "data": {
      "text/latex": [
       "$\\displaystyle 0.0009375$"
      ],
      "text/plain": [
       "0.000937500000000000"
      ]
     },
     "metadata": {},
     "output_type": "display_data"
    },
    {
     "data": {
      "text/latex": [
       "$\\displaystyle 1.0416666666668 \\cdot 10^{-5} x^{4} - 0.000593750000000008 x^{3} + 0.00406250000000001 x^{2}$"
      ],
      "text/plain": [
       "1.0416666666668e-5*x**4 - 0.000593750000000008*x**3 + 0.00406250000000001*x**2"
      ]
     },
     "metadata": {},
     "output_type": "display_data"
    },
    {
     "data": {
      "text/latex": [
       "$\\displaystyle 1.04166666666667 \\cdot 10^{-5} x^{4} - 0.000177083333333333 x^{3} + 0.0009375 x^{2} - 0.00629166666666667 x + 0.02875$"
      ],
      "text/plain": [
       "1.04166666666667e-5*x**4 - 0.000177083333333333*x**3 + 0.0009375*x**2 - 0.00629166666666667*x + 0.02875"
      ]
     },
     "metadata": {},
     "output_type": "display_data"
    },
    {
     "data": {
      "text/latex": [
       "$\\displaystyle 0.0165201822916667$"
      ],
      "text/plain": [
       "0.0165201822916667"
      ]
     },
     "metadata": {},
     "output_type": "display_data"
    }
   ],
   "source": [
    "a1, a2, a3, a4, a5, b1, b2, b3, b4, b5, x = sp.symbols('a1 a2 a3 a4 a5 b1 b2 b3 b4 b5 x')\n",
    "w1 = a1 * x **4 + a2 * x **3 + a3 * x **2 + a4 * x + a5\n",
    "w2 = b1 * x **4 + b2 * x **3 + b3 * x **2 + b4 * x + b5\n",
    "phi1 = -w1.diff(x)\n",
    "phi2 = -w2.diff(x)\n",
    "eq1 = sp.Eq(w1.subs(x,0),0)\n",
    "eq2 = sp.Eq(phi1.subs(x,0),0)\n",
    "eq3 = sp.nsimplify(sp.Eq(w1.subs(x,2.5),w2.subs(x,2.5)))\n",
    "eq4 = sp.nsimplify(sp.Eq(w2.subs(x,6),0))\n",
    "sol = sp.solve((eq1,eq2,eq3,eq4),(a4,a5,b4,b5))\n",
    "display(sol)\n",
    "w1 = w1.subs(sol)\n",
    "w2 = w2.subs(sol)\n",
    "\n",
    "display(-w1.diff(x,2))\n",
    "display(-w2.diff(x,2))\n",
    "\n",
    "display(w1)\n",
    "display(sp.nsimplify(w2))\n",
    "\n",
    "E_v = 2e4/2*(sp.integrate(sp.nsimplify((-w1.diff(x,2))**2),(x,0,2.5))+sp.integrate((-w2.diff(x,2))**2,(x,2.5,6)) )\n",
    "display(E_v)\n",
    "\n",
    "E_p = 50 * w1.subs(x,2.5) + sp.integrate(sp.nsimplify(5 * w1),(x,0,2.5))+ sp.integrate(5 * w2,(x,2.5,6))\n",
    "display(E_p)\n",
    "\n",
    "V = E_v - E_p\n",
    "eq5 = sp.Eq(V.diff(a1) ,0)\n",
    "eq6 = sp.Eq(V.diff(a2) ,0)\n",
    "eq7 = sp.Eq(V.diff(a3) ,0)\n",
    "eq8 = sp.Eq(V.diff(b1) ,0)\n",
    "eq9 = sp.Eq(V.diff(b2) ,0)\n",
    "eq10 = sp.Eq(V.diff(b3) ,0)\n",
    "\n",
    "sol = sp.solve((eq5,eq6,eq7,eq8,eq9,eq10),(a1,a2,a3,b1,b2,b3))\n",
    "display(sol[a1])\n",
    "display(sol[a2])\n",
    "display(sol[a3])\n",
    "display(sol[b1])\n",
    "display(sol[b2])\n",
    "display(sol[b3])\n",
    "\n",
    "w1_sol=w1.subs(sol)\n",
    "w2_sol=w2.subs(sol)\n",
    "display(w1_sol)\n",
    "display(w2_sol)\n",
    "display(w1_sol.subs(x,2.5))"
   ]
  },
  {
   "cell_type": "code",
   "execution_count": 22,
   "id": "c7121247",
   "metadata": {},
   "outputs": [
    {
     "data": {
      "image/png": "[encoded data removed]",
      "text/plain": [
       "<Figure size 640x480 with 1 Axes>"
      ]
     },
     "metadata": {},
     "output_type": "display_data"
    }
   ],
   "source": [
    "import numpy as np\n",
    "import matplotlib.pyplot as plt\n",
    "x1_plot = np.linspace(0,  2.5, 50)\n",
    "x2_plot = np.linspace(2.5, 6, 70)\n",
    "w1_numpy = sp.lambdify(x, w1.subs([(a1,1e-5),(a2,-1e-4),(a3,1e-2),(b1,1e-5),(b2,-1e-4),(b3,1e-3)]))\n",
    "w2_numpy = sp.lambdify(x, w2.subs([(a1,1e-5),(a2,-1e-4),(a3,1e-2),(b1,1e-5),(b2,-1e-4),(b3,1e-3)]))\n",
    "w1_plot = w1_numpy(x1_plot)\n",
    "w2_plot = w2_numpy(x2_plot)\n",
    "plt.plot(x1_plot,w1_plot)\n",
    "plt.plot(x2_plot,w2_plot)\n",
    "plt.gca().invert_yaxis()\n",
    "plt.title(\"w-lijn\")\n",
    "plt.axhline(0 , color='black')\n",
    "plt.xlim(0 , 6)\n",
    "plt.annotate('a = %.4f m' % w1_numpy(2.5), xy = [2.5, w1_numpy(2.5)])\n",
    "plt.axis('off');"
   ]
  },
  {
   "cell_type": "markdown",
   "id": "974cfa48",
   "metadata": {},
   "source": [
    "## Work method with Trial function"
   ]
  },
  {
   "cell_type": "code",
   "execution_count": 23,
   "id": "004bd6e2",
   "metadata": {},
   "outputs": [
    {
     "data": {
      "text/latex": [
       "$\\displaystyle - \\frac{\\pi^{2} a \\cos{\\left(\\frac{\\pi x}{5} \\right)}}{25}$"
      ],
      "text/plain": [
       "-pi**2*a*cos(pi*x/5)/25"
      ]
     },
     "metadata": {},
     "output_type": "display_data"
    },
    {
     "data": {
      "text/latex": [
       "$\\displaystyle \\frac{\\pi^{2} a \\left(1 - \\sqrt{5}\\right) \\cos{\\left(\\pi \\left(\\frac{x}{5} + \\frac{3}{10}\\right) \\right)}}{25}$"
      ],
      "text/plain": [
       "pi**2*a*(1 - sqrt(5))*cos(pi*(x/5 + 3/10))/25"
      ]
     },
     "metadata": {},
     "output_type": "display_data"
    },
    {
     "data": {
      "text/latex": [
       "$\\displaystyle 20.0 \\pi^{4} a^{2}$"
      ],
      "text/plain": [
       "20.0*pi**4*a**2"
      ]
     },
     "metadata": {},
     "output_type": "display_data"
    },
    {
     "data": {
      "text/latex": [
       "$\\displaystyle - 20 \\pi^{3} a^{2} \\left(1 - \\sqrt{5}\\right)^{2} \\cos{\\left(1.1 \\pi \\right)} + 28.0 \\pi^{4} a^{2} \\left(1 - \\sqrt{5}\\right)^{2}$"
      ],
      "text/plain": [
       "-20*pi**3*a**2*(1 - sqrt(5))**2*cos(1.1*pi) + 28.0*pi**4*a**2*(1 - sqrt(5))**2"
      ]
     },
     "metadata": {},
     "output_type": "display_data"
    },
    {
     "data": {
      "text/latex": [
       "$\\displaystyle \\pi^{3} a^{2} \\left(- 20 \\left(1 - \\sqrt{5}\\right)^{2} \\cos{\\left(1.1 \\pi \\right)} + 20.0 \\pi + 28.0 \\pi \\left(1 - \\sqrt{5}\\right)^{2}\\right)$"
      ],
      "text/plain": [
       "pi**3*a**2*(-20*(1 - sqrt(5))**2*cos(1.1*pi) + 20.0*pi + 28.0*pi*(1 - sqrt(5))**2)"
      ]
     },
     "metadata": {},
     "output_type": "display_data"
    },
    {
     "data": {
      "text/latex": [
       "$\\displaystyle 7016.4567061303 a^{2}$"
      ],
      "text/plain": [
       "7016.4567061303*a**2"
      ]
     },
     "metadata": {},
     "output_type": "display_data"
    },
    {
     "data": {
      "text/latex": [
       "$\\displaystyle \\frac{a \\left(-25.0 + \\left(-12.5 + 12.5 \\sqrt{5}\\right) \\sin{\\left(0.8 \\pi \\right)} + 12.5 \\sqrt{5} + 31.25 \\pi\\right)}{\\pi}$"
      ],
      "text/plain": [
       "a*(-25.0 + (-12.5 + 12.5*sqrt(5))*sin(0.8*pi) + 12.5*sqrt(5) + 31.25*pi)/pi"
      ]
     },
     "metadata": {},
     "output_type": "display_data"
    },
    {
     "data": {
      "text/latex": [
       "$\\displaystyle 35.0801055055833 a$"
      ],
      "text/plain": [
       "35.0801055055833*a"
      ]
     },
     "metadata": {},
     "output_type": "display_data"
    },
    {
     "data": {
      "text/latex": [
       "$\\displaystyle \\frac{25 \\left(-8 - \\sqrt{2} \\sqrt{5 - \\sqrt{5}} + \\sqrt{10} \\sqrt{5 - \\sqrt{5}} + 4 \\sqrt{5} + 10 \\pi\\right)}{16 \\pi^{4} \\left(- 28 \\sqrt{5} \\pi - 5 \\sqrt{10} \\sqrt{\\sqrt{5} + 5} + 15 \\sqrt{2} \\sqrt{\\sqrt{5} + 5} + 94 \\pi\\right)}$"
      ],
      "text/plain": [
       "25*(-8 - sqrt(2)*sqrt(5 - sqrt(5)) + sqrt(10)*sqrt(5 - sqrt(5)) + 4*sqrt(5) + 10*pi)/(16*pi**4*(-28*sqrt(5)*pi - 5*sqrt(10)*sqrt(sqrt(5) + 5) + 15*sqrt(2)*sqrt(sqrt(5) + 5) + 94*pi))"
      ]
     },
     "metadata": {},
     "output_type": "display_data"
    },
    {
     "data": {
      "text/latex": [
       "$\\displaystyle 0.00499968958333823$"
      ],
      "text/plain": [
       "0.00499968958333823"
      ]
     },
     "metadata": {},
     "output_type": "display_data"
    },
    {
     "data": {
      "text/latex": [
       "$\\displaystyle 0.00499968958333823$"
      ],
      "text/plain": [
       "0.00499968958333823"
      ]
     },
     "execution_count": 23,
     "metadata": {},
     "output_type": "execute_result"
    }
   ],
   "source": [
    "kappa1 = -sp.diff(wAC,x,2)\n",
    "kappa2 = -sp.diff(wBC,x,2)\n",
    "display(kappa1)\n",
    "display(kappa2)\n",
    "Ev1 = sp.integrate(sp.nsimplify(20e3*(-sp.diff(wAC,x,2))**2/2),(x,0,2.5))\n",
    "#display(sp.simplify(sp.integrate(20e3*sp.diff(wAC,x,2)**2/2,(x))))\n",
    "Ev2 = sp.integrate(sp.nsimplify(20e3*(-sp.diff(wBC,x,2))**2/2),(x,2.5,6))\n",
    "#display(sp.simplify(sp.integrate(20e3*sp.diff(wBC,x,2)**2/2,(x))))\n",
    "display(Ev1)\n",
    "display(Ev2)\n",
    "display(sp.simplify(Ev1+Ev2))\n",
    "display((Ev1+Ev2).evalf())\n",
    "\n",
    "A = 50 / 2 * wAC.subs(x,2.5) + 5 / 2*sp.integrate(wAC,(x,0,2.5)) + 5 / 2*sp.integrate(wBC,(x,2.5,6))\n",
    "display(sp.simplify(A))\n",
    "display(A.evalf())\n",
    "\n",
    "Eq1 = sp.nsimplify(sp.Eq(A,Ev1+Ev2))\n",
    "a_sol = sp.solve(Eq1,a)[1]\n",
    "display(a_sol)\n",
    "display(a_sol.evalf())\n",
    "wAC.subs(a,a_sol).subs(x,2.5).evalf()"
   ]
  },
  {
   "cell_type": "code",
   "execution_count": null,
   "id": "8b0e52f6",
   "metadata": {},
   "outputs": [],
   "source": []
  }
 ],
 "metadata": {
  "kernelspec": {
   "display_name": "Python 3 (ipykernel)",
   "language": "python",
   "name": "python3"
  },
  "language_info": {
   "codemirror_mode": {
    "name": "ipython",
    "version": 3
   },
   "file_extension": ".py",
   "mimetype": "text/x-python",
   "name": "python",
   "nbconvert_exporter": "python",
   "pygments_lexer": "ipython3",
   "version": "3.9.13"
  }
 },
 "nbformat": 4,
 "nbformat_minor": 5
}
