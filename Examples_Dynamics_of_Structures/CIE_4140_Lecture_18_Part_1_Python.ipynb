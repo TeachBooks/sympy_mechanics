{
 "cells": [
  {
   "cell_type": "markdown",
   "id": "2787086e",
   "metadata": {},
   "source": [
    "# CIE_4140_Lecture_18_Part_1_Python #"
   ]
  },
  {
   "cell_type": "markdown",
   "id": "f4cf2fd1",
   "metadata": {},
   "source": [
    "## Excitation of a rod by a point pulse-load $P_0 Dirac(x) Dirac(t)$ ##"
   ]
  },
  {
   "cell_type": "code",
   "execution_count": 1,
   "id": "f780f0b1",
   "metadata": {},
   "outputs": [],
   "source": [
    "import sympy as sp"
   ]
  },
  {
   "cell_type": "code",
   "execution_count": 49,
   "id": "9f4009c1",
   "metadata": {},
   "outputs": [],
   "source": [
    "u = sp.symbols('u',cls=sp.Function,real=True)\n",
    "x, t, k= sp.symbols('x, t, k',real=True)\n",
    "c, P_0 = sp.symbols('c P_0',real=True)"
   ]
  },
  {
   "cell_type": "code",
   "execution_count": 50,
   "id": "f125e059",
   "metadata": {},
   "outputs": [
    {
     "data": {
      "text/latex": [
       "$\\displaystyle - P_{0} \\delta\\left(t\\right) \\delta\\left(x\\right) - c^{2} \\frac{\\partial^{2}}{\\partial x^{2}} u{\\left(x,t \\right)} + \\frac{\\partial^{2}}{\\partial t^{2}} u{\\left(x,t \\right)}$"
      ],
      "text/plain": [
       "-P_0*DiracDelta(t)*DiracDelta(x) - c**2*Derivative(u(x, t), (x, 2)) + Derivative(u(x, t), (t, 2))"
      ]
     },
     "metadata": {},
     "output_type": "display_data"
    }
   ],
   "source": [
    "EM = sp.diff(u(x,t),t,2)-c**2*sp.diff(u(x,t),x,2)-P_0 * sp.DiracDelta(x)*sp.DiracDelta(t)\n",
    "display(EM)"
   ]
  },
  {
   "cell_type": "code",
   "execution_count": 56,
   "id": "76782fcf",
   "metadata": {},
   "outputs": [
    {
     "data": {
      "text/latex": [
       "$\\displaystyle - P_{0} \\delta\\left(t\\right) - c^{2} \\mathcal{F}_{x}\\left[\\frac{\\partial^{2}}{\\partial x^{2}} u{\\left(x,t \\right)}\\right]\\left(k\\right) + \\mathcal{F}_{x}\\left[\\frac{\\partial^{2}}{\\partial t^{2}} u{\\left(x,t \\right)}\\right]\\left(k\\right)$"
      ],
      "text/plain": [
       "-P_0*DiracDelta(t) - c**2*FourierTransform(Derivative(u(x, t), (x, 2)), x, k) + FourierTransform(Derivative(u(x, t), (t, 2)), x, k)"
      ]
     },
     "metadata": {},
     "output_type": "display_data"
    }
   ],
   "source": [
    "EM_fourier = sp.fourier_transform(EM,x,k)\n",
    "display(EM_fourier)"
   ]
  },
  {
   "cell_type": "code",
   "execution_count": 57,
   "id": "5d8d222b",
   "metadata": {},
   "outputs": [
    {
     "data": {
      "text/latex": [
       "$\\displaystyle - P_{0} \\delta\\left(t\\right) + c^{2} k^{2} U{\\left(t \\right)} + \\frac{d^{2}}{d t^{2}} U{\\left(t \\right)}$"
      ],
      "text/plain": [
       "-P_0*DiracDelta(t) + c**2*k**2*U(t) + Derivative(U(t), (t, 2))"
      ]
     },
     "metadata": {},
     "output_type": "display_data"
    },
    {
     "name": "stdout",
     "output_type": "stream",
     "text": [
      "-P_0*DiracDelta(t) + c**2*k**2*U(t) + Derivative(U(t), (t, 2))\n"
     ]
    }
   ],
   "source": [
    "U = sp.symbols('U',cls=sp.Function)\n",
    "EM_fourier = EM_fourier.subs(sp.FourierTransform(sp.Derivative(u(x, t), (x, 2)), x, k),-k**2*U(t))\n",
    "EM_fourier = EM_fourier.subs(sp.FourierTransform(sp.Derivative(u(x, t), (t, 2)), x, k),sp.Derivative(U(t), (t, 2)))\n",
    "display(EM_fourier)"
   ]
  },
  {
   "cell_type": "code",
   "execution_count": 61,
   "id": "4ce23138",
   "metadata": {},
   "outputs": [
    {
     "data": {
      "text/latex": [
       "$\\displaystyle U{\\left(t \\right)} = C_{1} \\sin{\\left(t \\left|{c k}\\right| \\right)} + C_{2} \\cos{\\left(c k t \\right)}$"
      ],
      "text/plain": [
       "Eq(U(t), C1*sin(t*Abs(c*k)) + C2*cos(c*k*t))"
      ]
     },
     "metadata": {},
     "output_type": "display_data"
    }
   ],
   "source": [
    "C1, C2 = sp.symbols('C1, C2')\n",
    "Solution_fourier = sp.dsolve(EM_fourier,U(t))\n",
    "display(Solution_fourier)"
   ]
  },
  {
   "cell_type": "markdown",
   "id": "1363d998",
   "metadata": {},
   "source": [
    "Why diracdelta not taken into account?"
   ]
  },
  {
   "cell_type": "code",
   "execution_count": 64,
   "id": "1e95075e",
   "metadata": {},
   "outputs": [
    {
     "data": {
      "text/latex": [
       "$\\displaystyle 0$"
      ],
      "text/plain": [
       "0"
      ]
     },
     "metadata": {},
     "output_type": "display_data"
    }
   ],
   "source": [
    "Solution_fourier = Solution_fourier.subs([(C1,0),(C2,0)]).rhs\n",
    "display(sp.simplify(Solution_fourier))"
   ]
  },
  {
   "cell_type": "code",
   "execution_count": 65,
   "id": "a94c9fed",
   "metadata": {},
   "outputs": [
    {
     "data": {
      "text/latex": [
       "$\\displaystyle 0$"
      ],
      "text/plain": [
       "0"
      ]
     },
     "metadata": {},
     "output_type": "display_data"
    }
   ],
   "source": [
    "Solution = sp.integrate(Solution_fourier.subs([(P_0,1),(c,1)]),(k,0,sp.oo))/sp.pi\n",
    "display(Solution)"
   ]
  },
  {
   "cell_type": "code",
   "execution_count": null,
   "id": "b530a26a",
   "metadata": {},
   "outputs": [],
   "source": []
  }
 ],
 "metadata": {
  "kernelspec": {
   "display_name": "Python 3 (ipykernel)",
   "language": "python",
   "name": "python3"
  },
  "language_info": {
   "codemirror_mode": {
    "name": "ipython",
    "version": 3
   },
   "file_extension": ".py",
   "mimetype": "text/x-python",
   "name": "python",
   "nbconvert_exporter": "python",
   "pygments_lexer": "ipython3",
   "version": "3.9.13"
  }
 },
 "nbformat": 4,
 "nbformat_minor": 5
}
