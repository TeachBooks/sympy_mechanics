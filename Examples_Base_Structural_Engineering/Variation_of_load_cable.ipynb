{
 "cells": [
  {
   "cell_type": "markdown",
   "id": "ee99b7af",
   "metadata": {},
   "source": [
    "# Variation of load cable #"
   ]
  },
  {
   "cell_type": "code",
   "execution_count": 1,
   "id": "337076e7",
   "metadata": {},
   "outputs": [],
   "source": [
    "import sympy as sp"
   ]
  },
  {
   "cell_type": "code",
   "execution_count": 2,
   "id": "56c8cabd",
   "metadata": {},
   "outputs": [],
   "source": [
    "q, p, H, dH, q1, q2, L = sp.symbols('q p H dH q1 q2 L',positive=True,real=True)\n",
    "x = sp.symbols('x')\n",
    "C1, C2, C3, C4 = sp.symbols('C1 C2 C3 C4')\n",
    "q1 = q + p\n",
    "q2 = q - p"
   ]
  },
  {
   "cell_type": "code",
   "execution_count": 3,
   "id": "3b44436f",
   "metadata": {},
   "outputs": [],
   "source": [
    "z1 = sp.nsimplify((-1/(H+dH))*((1/2)*q1*x**2+C1+C2*x))\n",
    "z2 = sp.nsimplify((-1/(H+dH))*((1/2)*q2*x**2+C3+C4*x))"
   ]
  },
  {
   "cell_type": "code",
   "execution_count": 4,
   "id": "774c0de0",
   "metadata": {},
   "outputs": [
    {
     "data": {
      "text/plain": [
       "{C1: 0, C2: -L*p/4 - L*q/2, C3: -L**2*p/4, C4: 3*L*p/4 - L*q/2}"
      ]
     },
     "metadata": {},
     "output_type": "display_data"
    }
   ],
   "source": [
    "V1 = (H+dH)*sp.diff(z1,x)\n",
    "V2 = (H+dH)*sp.diff(z2,x)\n",
    "eq1= sp.Eq(z1.subs(x,0),0)\n",
    "eq2= sp.Eq(z1.subs(x,L/2),z2.subs(x,L/2))\n",
    "eq3= sp.Eq(V1.subs(x,L/2),V2.subs(x,L/2))\n",
    "eq4= sp.Eq(z2.subs(x,L),0)\n",
    "sol = sp.solve((eq1,eq2,eq3,eq4),(C1,C2,C3,C4))\n",
    "display(sol)"
   ]
  },
  {
   "cell_type": "code",
   "execution_count": 5,
   "id": "b2bd20dd",
   "metadata": {},
   "outputs": [
    {
     "data": {
      "text/latex": [
       "$\\displaystyle - \\frac{x^{2} \\left(\\frac{p}{2} + \\frac{q}{2}\\right) + x \\left(- \\frac{L p}{4} - \\frac{L q}{2}\\right)}{H + dH}$"
      ],
      "text/plain": [
       "-(x**2*(p/2 + q/2) + x*(-L*p/4 - L*q/2))/(H + dH)"
      ]
     },
     "metadata": {},
     "output_type": "display_data"
    },
    {
     "data": {
      "text/latex": [
       "$\\displaystyle - \\frac{- \\frac{L^{2} p}{4} + x^{2} \\left(- \\frac{p}{2} + \\frac{q}{2}\\right) + x \\left(\\frac{3 L p}{4} - \\frac{L q}{2}\\right)}{H + dH}$"
      ],
      "text/plain": [
       "-(-L**2*p/4 + x**2*(-p/2 + q/2) + x*(3*L*p/4 - L*q/2))/(H + dH)"
      ]
     },
     "metadata": {},
     "output_type": "display_data"
    }
   ],
   "source": [
    "z1 = z1.subs(sol)\n",
    "z2 = z2.subs(sol)\n",
    "display(z1)\n",
    "display(z2)"
   ]
  },
  {
   "cell_type": "code",
   "execution_count": 6,
   "id": "7f8ba807",
   "metadata": {},
   "outputs": [
    {
     "data": {
      "text/latex": [
       "$\\displaystyle \\frac{- 2 H q + H \\sqrt{p^{2} + 4 q^{2}}}{2 q}$"
      ],
      "text/plain": [
       "(-2*H*q + H*sqrt(p**2 + 4*q**2))/(2*q)"
      ]
     },
     "execution_count": 6,
     "metadata": {},
     "output_type": "execute_result"
    }
   ],
   "source": [
    "eq5 = sp.Eq(sp.integrate(1+sp.diff(z1,x)**2/2,(x,0,L/2)) + sp.integrate(1+sp.diff(z2,x)**2/2,(x,L/2,L)),L+q**2*L**3/(24*H**2))\n",
    "dH_sol = sp.solve(eq5,dH)[0]\n",
    "dH_sol"
   ]
  },
  {
   "cell_type": "code",
   "execution_count": 7,
   "id": "2d63f511",
   "metadata": {},
   "outputs": [
    {
     "data": {
      "text/latex": [
       "$\\displaystyle \\frac{- q + \\frac{\\sqrt{p^{2} + 4 q^{2}}}{2}}{q}$"
      ],
      "text/plain": [
       "(-q + sqrt(p**2 + 4*q**2)/2)/q"
      ]
     },
     "execution_count": 7,
     "metadata": {},
     "output_type": "execute_result"
    }
   ],
   "source": [
    "beta=dH_sol/H\n",
    "sp.simplify(beta)"
   ]
  },
  {
   "cell_type": "code",
   "execution_count": 8,
   "id": "14d21c00",
   "metadata": {},
   "outputs": [
    {
     "data": {
      "text/latex": [
       "$\\displaystyle 0.00778221853731864$"
      ],
      "text/plain": [
       "0.00778221853731864"
      ]
     },
     "execution_count": 8,
     "metadata": {},
     "output_type": "execute_result"
    }
   ],
   "source": [
    "beta.subs(p,1/4*q)"
   ]
  },
  {
   "cell_type": "code",
   "execution_count": 9,
   "id": "849ff96a",
   "metadata": {},
   "outputs": [
    {
     "data": {
      "text/latex": [
       "$\\displaystyle 1.07496769977314$"
      ],
      "text/plain": [
       "1.07496769977314"
      ]
     },
     "execution_count": 9,
     "metadata": {},
     "output_type": "execute_result"
    }
   ],
   "source": [
    "zk1 = z1\n",
    "pp1 = zk1.subs([(x,L/4),(dH,dH_sol),(p,q/4)])/((3/32)*q*L**2/H)\n",
    "sp.simplify(pp1.evalf())"
   ]
  },
  {
   "cell_type": "code",
   "execution_count": null,
   "id": "20d5b743",
   "metadata": {},
   "outputs": [],
   "source": []
  }
 ],
 "metadata": {
  "kernelspec": {
   "display_name": "Python 3 (ipykernel)",
   "language": "python",
   "name": "python3"
  },
  "language_info": {
   "codemirror_mode": {
    "name": "ipython",
    "version": 3
   },
   "file_extension": ".py",
   "mimetype": "text/x-python",
   "name": "python",
   "nbconvert_exporter": "python",
   "pygments_lexer": "ipython3",
   "version": "3.9.13"
  }
 },
 "nbformat": 4,
 "nbformat_minor": 5
}
