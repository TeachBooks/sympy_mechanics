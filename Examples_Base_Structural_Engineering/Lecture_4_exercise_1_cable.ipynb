{
 "cells": [
  {
   "cell_type": "markdown",
   "id": "97514c88",
   "metadata": {},
   "source": [
    "# Lecture 4 exercise 1 cable #"
   ]
  },
  {
   "cell_type": "code",
   "execution_count": 1,
   "id": "32e0ee96",
   "metadata": {},
   "outputs": [],
   "source": [
    "%reset -f\n",
    "import sympy as sp"
   ]
  },
  {
   "cell_type": "code",
   "execution_count": 2,
   "id": "65c4aa47",
   "metadata": {},
   "outputs": [],
   "source": [
    "L = sp.S(6)\n",
    "a = sp.S(2)\n",
    "b = sp.S(2)\n",
    "c = L - a - b\n",
    "q1 = sp.S(5)\n",
    "q2 = sp.S(0)\n",
    "q3 = sp.S(0)\n",
    "F = sp.S(15)"
   ]
  },
  {
   "cell_type": "code",
   "execution_count": 3,
   "id": "5196c10a",
   "metadata": {},
   "outputs": [
    {
     "data": {
      "text/latex": [
       "$\\displaystyle \\frac{35}{3}$"
      ],
      "text/plain": [
       "35/3"
      ]
     },
     "metadata": {},
     "output_type": "display_data"
    },
    {
     "data": {
      "text/latex": [
       "$\\displaystyle \\frac{175}{6}$"
      ],
      "text/plain": [
       "175/6"
      ]
     },
     "metadata": {},
     "output_type": "display_data"
    },
    {
     "data": {
      "text/latex": [
       "$\\displaystyle 29.1666666666667$"
      ],
      "text/plain": [
       "29.1666666666667"
      ]
     },
     "metadata": {},
     "output_type": "display_data"
    }
   ],
   "source": [
    "Bv = (q1*a*a/2+F*(a+b))/(a+b+c)\n",
    "display(Bv)\n",
    "H = Bv*c*5/4\n",
    "display(H)\n",
    "display(H.evalf())"
   ]
  },
  {
   "cell_type": "code",
   "execution_count": 4,
   "id": "d1165c95",
   "metadata": {},
   "outputs": [
    {
     "data": {
      "text/latex": [
       "$\\displaystyle - \\frac{5 x^{2}}{2 H} + \\frac{40 x}{3 H}$"
      ],
      "text/plain": [
       "-5*x**2/(2*H) + 40*x/(3*H)"
      ]
     },
     "metadata": {},
     "output_type": "display_data"
    },
    {
     "data": {
      "text/latex": [
       "$\\displaystyle \\frac{10 x}{3 H} + \\frac{10}{H}$"
      ],
      "text/plain": [
       "10*x/(3*H) + 10/H"
      ]
     },
     "metadata": {},
     "output_type": "display_data"
    },
    {
     "data": {
      "text/latex": [
       "$\\displaystyle - \\frac{35 x}{3 H} + \\frac{70}{H}$"
      ],
      "text/plain": [
       "-35*x/(3*H) + 70/H"
      ]
     },
     "metadata": {},
     "output_type": "display_data"
    }
   ],
   "source": [
    "H= sp.symbols('H',real=True,positive=True)\n",
    "x = sp.symbols('x',real=True)\n",
    "C1, C2, C3, C4, C5, C6 = sp.symbols('C1 C2 C3 C4 C5 C6')\n",
    "z1, z2, z3 = sp.symbols('z1 z2 z3',cls=sp.Function)\n",
    "ODE1 = sp.Eq(H * sp.diff(z1(x),x,2) , -q1)\n",
    "ODE2 = sp.Eq(H * sp.diff(z2(x),x,2) , -q2)\n",
    "ODE3 = sp.Eq(H * sp.diff(z3(x),x,2) , -q3)\n",
    "sol = sp.dsolve([ODE1,ODE2,ODE3],[z1(x),z2(x),z3(x)])\n",
    "z1 = sol[0].rhs\n",
    "z2 = sol[1].rhs\n",
    "z3 = sol[2].rhs\n",
    "\n",
    "V1 = H * sp.diff(z1,x)\n",
    "V2 = H * sp.diff(z2,x)\n",
    "V3 = H * sp.diff(z3,x)\n",
    "\n",
    "eq1 = sp.Eq(z1.subs(x,0),0)\n",
    "eq2 = sp.Eq(z3.subs(x,L),0)\n",
    "eq3 = sp.Eq(z1.subs(x,a),z2.subs(x,a))\n",
    "eq4 = sp.Eq(V1.subs(x,a),V2.subs(x,b))\n",
    "eq5 = sp.Eq(z2.subs(x,a+b),z3.subs(x,a+b))\n",
    "eq6 = sp.Eq(V2.subs(x,a+b),V3.subs(x,a+b)+F)\n",
    "\n",
    "sol = sp.solve([eq1,eq2,eq3,eq4,eq5,eq6],[C1,C2,C3,C4,C5,C6])\n",
    "z1 = z1.subs(sol)\n",
    "z2 = z2.subs(sol)\n",
    "z3 = z3.subs(sol)\n",
    "display(z1)\n",
    "display(z2)\n",
    "display(z3)"
   ]
  },
  {
   "cell_type": "markdown",
   "id": "4169ea4d",
   "metadata": {},
   "source": [
    "exact"
   ]
  },
  {
   "cell_type": "code",
   "execution_count": 5,
   "id": "ee084997",
   "metadata": {},
   "outputs": [
    {
     "name": "stdout",
     "output_type": "stream",
     "text": [
      "sqrt((-5*x/H + 40/(3*H))**2 + 1)\n",
      "sqrt(1 + 100/(9*H**2))\n",
      "sqrt(1 + 1225/(9*H**2))\n"
     ]
    }
   ],
   "source": [
    "ds1 = sp.sqrt(1+sp.diff(z1,x)**2)\n",
    "ds2 = sp.sqrt(1+sp.diff(z2,x)**2)\n",
    "ds3 = sp.sqrt(1+sp.diff(z3,x)**2)\n",
    "print(ds1)\n",
    "print(ds2)\n",
    "print(ds3)"
   ]
  },
  {
   "cell_type": "markdown",
   "id": "805cc754",
   "metadata": {},
   "source": [
    "Taylor option 1"
   ]
  },
  {
   "cell_type": "code",
   "execution_count": 6,
   "id": "e9f4ce4c",
   "metadata": {},
   "outputs": [],
   "source": [
    "# ds1 = 1 + sp.diff(z1,x)**2/2\n",
    "# ds2 = 1 + sp.diff(z2,x)**2/2\n",
    "# ds3 = 1 + sp.diff(z3,x)**2/2"
   ]
  },
  {
   "cell_type": "markdown",
   "id": "14ca908f",
   "metadata": {},
   "source": [
    "Taylor option 2"
   ]
  },
  {
   "cell_type": "code",
   "execution_count": 7,
   "id": "65e2d5fa",
   "metadata": {},
   "outputs": [
    {
     "data": {
      "text/latex": [
       "$\\displaystyle \\sqrt{\\left(- \\frac{5 x}{H} + \\frac{40}{3 H}\\right)^{2} + 1}$"
      ],
      "text/plain": [
       "sqrt((-5*x/H + 40/(3*H))**2 + 1)"
      ]
     },
     "metadata": {},
     "output_type": "display_data"
    },
    {
     "data": {
      "text/latex": [
       "$\\displaystyle \\sqrt{1 + \\frac{100}{9 H^{2}}}$"
      ],
      "text/plain": [
       "sqrt(1 + 100/(9*H**2))"
      ]
     },
     "metadata": {},
     "output_type": "display_data"
    },
    {
     "data": {
      "text/latex": [
       "$\\displaystyle \\sqrt{1 + \\frac{1225}{9 H^{2}}}$"
      ],
      "text/plain": [
       "sqrt(1 + 1225/(9*H**2))"
      ]
     },
     "metadata": {},
     "output_type": "display_data"
    }
   ],
   "source": [
    "#ds1 = 1 + sp.diff(z1,x)**2/2 - sp.diff(z1,x)**4/8\n",
    "#ds2 = 1 + sp.diff(z2,x)**2/2 - sp.diff(z2,x)**4/8\n",
    "#ds3 = 1 + sp.diff(z3,x)**2/2 - sp.diff(z3,x)**4/8\n",
    "display(ds1)\n",
    "display(ds2)\n",
    "display(ds3)"
   ]
  },
  {
   "cell_type": "markdown",
   "id": "cbd00a44",
   "metadata": {},
   "source": [
    "Length of cable"
   ]
  },
  {
   "cell_type": "code",
   "execution_count": 8,
   "id": "fb6d894d",
   "metadata": {},
   "outputs": [],
   "source": [
    "ds1 = sp.nsimplify(ds1)\n",
    "ds2 = sp.nsimplify(ds2)\n",
    "ds3 = sp.nsimplify(ds3)"
   ]
  },
  {
   "cell_type": "code",
   "execution_count": 9,
   "id": "9ae2e929",
   "metadata": {},
   "outputs": [
    {
     "data": {
      "text/latex": [
       "$\\displaystyle - \\frac{35 \\operatorname{asinh}{\\left(\\frac{4}{35} \\right)}}{12} + \\frac{35 \\operatorname{asinh}{\\left(\\frac{16}{35} \\right)}}{12} + \\frac{4 \\sqrt{1481}}{105} + \\frac{\\sqrt{1241}}{21} + \\frac{2 \\sqrt{29}}{5}$"
      ],
      "text/plain": [
       "-35*asinh(4/35)/12 + 35*asinh(16/35)/12 + 4*sqrt(1481)/105 + sqrt(1241)/21 + 2*sqrt(29)/5"
      ]
     },
     "metadata": {},
     "output_type": "display_data"
    },
    {
     "data": {
      "text/latex": [
       "$\\displaystyle 6.25580223961325$"
      ],
      "text/plain": [
       "6.25580223961325"
      ]
     },
     "metadata": {},
     "output_type": "display_data"
    },
    {
     "data": {
      "text/latex": [
       "$\\displaystyle \\frac{- 9 H^{2} \\operatorname{asinh}{\\left(\\frac{10}{3 H} \\right)} + 9 H^{2} \\operatorname{asinh}{\\left(\\frac{40}{3 H} \\right)} + 50 \\sqrt{9 H^{2} + 100} + 60 \\sqrt{9 H^{2} + 1225} + 40 \\sqrt{9 H^{2} + 1600}}{90 H} = \\frac{31279}{5000}$"
      ],
      "text/plain": [
       "Eq((-9*H**2*asinh(10/(3*H)) + 9*H**2*asinh(40/(3*H)) + 50*sqrt(9*H**2 + 100) + 60*sqrt(9*H**2 + 1225) + 40*sqrt(9*H**2 + 1600))/(90*H), 31279/5000)"
      ]
     },
     "metadata": {},
     "output_type": "display_data"
    },
    {
     "data": {
      "text/latex": [
       "$\\displaystyle 29.1667985144668$"
      ],
      "text/plain": [
       "29.1667985144668"
      ]
     },
     "metadata": {},
     "output_type": "display_data"
    },
    {
     "data": {
      "text/latex": [
       "$\\displaystyle \\frac{72916996286167}{2500000000000}$"
      ],
      "text/plain": [
       "72916996286167/2500000000000"
      ]
     },
     "metadata": {},
     "output_type": "display_data"
    },
    {
     "data": {
      "text/latex": [
       "$\\displaystyle 6.2558$"
      ],
      "text/plain": [
       "6.25580000000000"
      ]
     },
     "metadata": {},
     "output_type": "display_data"
    }
   ],
   "source": [
    "#LL = sp.integrate(ds1,(x,sp.S(0),a))+sp.integrate(ds2,(x,a,a+b))+sp.integrate(ds3,(x,a+b,L))\n",
    "LL = sp.integrate(ds1.subs(H,sp.nsimplify(175/6)),(x,0,a))+sp.integrate(ds2.subs(H,sp.nsimplify(175/6)),(x,a,a+b))+sp.integrate(ds3.subs(H,sp.nsimplify(175/6)),(x,a+b,L))\n",
    "display(LL)\n",
    "display(LL.evalf())\n",
    "eq7 = sp.Eq(sp.integrate(ds1,(x,0,a))+sp.integrate(ds2,(x,a,a+b))+sp.integrate(ds3,(x,a+b,L)),sp.nsimplify(6.2558)) #same issue as in Examples_Base_Structural_Engineering/Exact_length_parabolic_cable.ipynb\n",
    "display(sp.simplify(eq7))\n",
    "H_sol = sp.nsolve(eq7,H,30)\n",
    "display(H_sol)\n",
    "H_sol = sp.nsimplify(H_sol)\n",
    "display(H_sol)\n",
    "LL  = sp.integrate(ds1.subs(H,H_sol),(x,0,a))+sp.integrate(ds2.subs(H,H_sol),(x,a,a+b))+sp.integrate(ds3.subs(H,H_sol),(x,a+b,L))\n",
    "display(LL.evalf())"
   ]
  },
  {
   "cell_type": "code",
   "execution_count": 10,
   "id": "fca304ca",
   "metadata": {},
   "outputs": [
    {
     "data": {
      "image/png": "[encoded data removed]",
      "text/plain": [
       "<Figure size 640x480 with 1 Axes>"
      ]
     },
     "metadata": {},
     "output_type": "display_data"
    }
   ],
   "source": [
    "z1_sol = z1.subs(H,H_sol)\n",
    "z2_sol = z2.subs(H,H_sol)\n",
    "z3_sol = z3.subs(H,H_sol)\n",
    "sp.plot((-z1_sol,(x,0,a)),(-z2_sol,(x,a,a+b)),(-z3_sol,(x,a+b,L)));"
   ]
  },
  {
   "cell_type": "markdown",
   "id": "88af43d4",
   "metadata": {},
   "source": [
    "Alternative"
   ]
  },
  {
   "cell_type": "code",
   "execution_count": 11,
   "id": "77fcf133",
   "metadata": {},
   "outputs": [],
   "source": [
    "%reset -f\n",
    "import sympy as sp"
   ]
  },
  {
   "cell_type": "code",
   "execution_count": 12,
   "id": "cb751a82",
   "metadata": {},
   "outputs": [
    {
     "data": {
      "image/png": "[encoded data removed]",
      "text/plain": [
       "<Figure size 640x480 with 1 Axes>"
      ]
     },
     "metadata": {},
     "output_type": "display_data"
    },
    {
     "data": {
      "text/plain": [
       "<sympy.plotting.plot.Plot at 0x1d7dbba1f40>"
      ]
     },
     "execution_count": 12,
     "metadata": {},
     "output_type": "execute_result"
    }
   ],
   "source": [
    "L = sp.Integer(6)\n",
    "a = sp.Integer(2)\n",
    "b = sp.Integer(2)\n",
    "c = L - a - b\n",
    "F = sp.Integer(15)\n",
    "q0 = sp.Integer(5)\n",
    "\n",
    "H, x= sp.symbols('H x')\n",
    "C1, C2 = sp.symbols('C1 C2')\n",
    "z = sp.symbols('z',cls=sp.Function)\n",
    "\n",
    "q = q0*(sp.Integer(1)-sp.Heaviside(x-a))+F*sp.DiracDelta(x-(a+b))\n",
    "sp.plot(q,(x,0,L))"
   ]
  },
  {
   "cell_type": "code",
   "execution_count": 13,
   "id": "65dd5c1a",
   "metadata": {},
   "outputs": [
    {
     "data": {
      "text/latex": [
       "$\\displaystyle C_{1} - 5 x + 5 \\left(x - 2\\right) \\theta\\left(x - 2\\right) - 15 \\theta\\left(x - 4\\right)$"
      ],
      "text/plain": [
       "C1 - 5*x + 5*(x - 2)*Heaviside(x - 2) - 15*Heaviside(x - 4)"
      ]
     },
     "metadata": {},
     "output_type": "display_data"
    },
    {
     "data": {
      "text/latex": [
       "$\\displaystyle C_{2} + \\frac{C_{1} x - \\frac{5 x^{2}}{2} - 15 \\left(x - 4\\right) \\theta\\left(x - 4\\right) + 5 \\left(\\frac{x^{2}}{2} - 2 x + 2\\right) \\theta\\left(x - 2\\right)}{H}$"
      ],
      "text/plain": [
       "C2 + (C1*x - 5*x**2/2 - 15*(x - 4)*Heaviside(x - 4) + 5*(x**2/2 - 2*x + 2)*Heaviside(x - 2))/H"
      ]
     },
     "metadata": {},
     "output_type": "display_data"
    },
    {
     "data": {
      "text/latex": [
       "$\\displaystyle \\frac{- \\frac{5 x^{2}}{2} + \\frac{40 x}{3} - 15 \\left(x - 4\\right) \\theta\\left(x - 4\\right) + 5 \\left(\\frac{x^{2}}{2} - 2 x + 2\\right) \\theta\\left(x - 2\\right)}{H}$"
      ],
      "text/plain": [
       "(-5*x**2/2 + 40*x/3 - 15*(x - 4)*Heaviside(x - 4) + 5*(x**2/2 - 2*x + 2)*Heaviside(x - 2))/H"
      ]
     },
     "metadata": {},
     "output_type": "display_data"
    }
   ],
   "source": [
    "V = sp.integrate(-q,x, meijerg=False)+C1\n",
    "z = sp.integrate(V/H,x,  meijerg=False)+C2\n",
    "\n",
    "display(V)\n",
    "display(z)\n",
    "\n",
    "eq1 = sp.Eq(z.subs(x,0),0)\n",
    "eq2 = sp.Eq(z.subs(x,L),0)\n",
    "\n",
    "sol = sp.solve([eq1,eq2,],[C1,C2])\n",
    "z = z.subs(sol)\n",
    "\n",
    "display(z)"
   ]
  },
  {
   "cell_type": "code",
   "execution_count": 14,
   "id": "7d9caba2",
   "metadata": {},
   "outputs": [
    {
     "data": {
      "text/latex": [
       "$\\displaystyle \\frac{175}{6}$"
      ],
      "text/plain": [
       "175/6"
      ]
     },
     "metadata": {},
     "output_type": "display_data"
    }
   ],
   "source": [
    "eq3 = sp.Eq(z.subs(x,a+b),4/5)\n",
    "H_sol = sp.solve(eq3,H)[0]\n",
    "H_sol = sp.nsimplify(H_sol)\n",
    "display(H_sol)"
   ]
  },
  {
   "cell_type": "code",
   "execution_count": 15,
   "id": "d77039fa",
   "metadata": {},
   "outputs": [
    {
     "data": {
      "image/png": "[encoded data removed]",
      "text/plain": [
       "<Figure size 640x480 with 1 Axes>"
      ]
     },
     "metadata": {},
     "output_type": "display_data"
    },
    {
     "data": {
      "text/plain": [
       "<sympy.plotting.plot.Plot at 0x1d7de3e1e20>"
      ]
     },
     "execution_count": 15,
     "metadata": {},
     "output_type": "execute_result"
    }
   ],
   "source": [
    "z_sol = z.subs(H,H_sol)\n",
    "sp.plot(-z_sol,(x,0,L))"
   ]
  },
  {
   "cell_type": "code",
   "execution_count": 16,
   "id": "55b53350",
   "metadata": {
    "scrolled": false
   },
   "outputs": [
    {
     "data": {
      "text/latex": [
       "$\\displaystyle - \\frac{35 \\operatorname{asinh}{\\left(\\frac{4}{35} \\right)}}{12} + \\frac{35 \\operatorname{asinh}{\\left(\\frac{16}{35} \\right)}}{12} + \\frac{4 \\sqrt{1481}}{105} + \\frac{\\sqrt{1241}}{21} + \\frac{2 \\sqrt{29}}{5}$"
      ],
      "text/plain": [
       "-35*asinh(4/35)/12 + 35*asinh(16/35)/12 + 4*sqrt(1481)/105 + sqrt(1241)/21 + 2*sqrt(29)/5"
      ]
     },
     "metadata": {},
     "output_type": "display_data"
    },
    {
     "data": {
      "text/latex": [
       "$\\displaystyle 6.25580223961325$"
      ],
      "text/plain": [
       "6.25580223961325"
      ]
     },
     "metadata": {},
     "output_type": "display_data"
    }
   ],
   "source": [
    "z_piecewise = z_sol.rewrite(sp.Piecewise) #direct gives wrong result, seems to do with https://github.com/sympy/sympy/issues/24274\n",
    "LL = sp.integrate(sp.sqrt(1+sp.diff(z_piecewise,x)**2),(x,0,6))\n",
    "display(LL)\n",
    "display(LL.evalf())"
   ]
  },
  {
   "cell_type": "code",
   "execution_count": null,
   "id": "56e98db4",
   "metadata": {},
   "outputs": [],
   "source": []
  },
  {
   "cell_type": "code",
   "execution_count": null,
   "id": "3eff0e22",
   "metadata": {},
   "outputs": [],
   "source": []
  },
  {
   "cell_type": "code",
   "execution_count": null,
   "id": "721f789c",
   "metadata": {},
   "outputs": [],
   "source": []
  },
  {
   "cell_type": "code",
   "execution_count": null,
   "id": "a633a42f",
   "metadata": {},
   "outputs": [],
   "source": []
  }
 ],
 "metadata": {
  "kernelspec": {
   "display_name": "Python 3 (ipykernel)",
   "language": "python",
   "name": "python3"
  },
  "language_info": {
   "codemirror_mode": {
    "name": "ipython",
    "version": 3
   },
   "file_extension": ".py",
   "mimetype": "text/x-python",
   "name": "python",
   "nbconvert_exporter": "python",
   "pygments_lexer": "ipython3",
   "version": "3.9.13"
  }
 },
 "nbformat": 4,
 "nbformat_minor": 5
}
