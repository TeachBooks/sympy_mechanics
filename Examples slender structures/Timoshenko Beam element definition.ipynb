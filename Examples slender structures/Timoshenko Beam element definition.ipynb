{
 "cells": [
  {
   "cell_type": "code",
   "execution_count": 1,
   "id": "1b36bb2e",
   "metadata": {},
   "outputs": [
    {
     "data": {
      "text/latex": [
       "$\\displaystyle EI \\frac{d^{2}}{d x^{2}} \\phi{\\left(x \\right)} - \\frac{12 EI \\left(\\phi{\\left(x \\right)} + \\frac{d}{d x} w{\\left(x \\right)}\\right)}{L^{2} \\beta} = 0$"
      ],
      "text/plain": [
       "Eq(EI*Derivative(phi(x), (x, 2)) - 12*EI*(phi(x) + Derivative(w(x), x))/(L**2*beta), 0)"
      ]
     },
     "metadata": {},
     "output_type": "display_data"
    },
    {
     "data": {
      "text/latex": [
       "$\\displaystyle \\frac{12 EI \\left(\\frac{d}{d x} \\phi{\\left(x \\right)} + \\frac{d^{2}}{d x^{2}} w{\\left(x \\right)}\\right)}{L^{2} \\beta} = - q$"
      ],
      "text/plain": [
       "Eq(12*EI*(Derivative(phi(x), x) + Derivative(w(x), (x, 2)))/(L**2*beta), -q)"
      ]
     },
     "metadata": {},
     "output_type": "display_data"
    },
    {
     "data": {
      "text/latex": [
       "$\\displaystyle C_{1} - \\frac{2 C_{2} x^{3}}{L^{2} \\beta} - \\frac{12 C_{3}}{L^{2} \\beta} - x^{2} \\cdot \\left(\\frac{6 C_{1}}{L^{2} \\beta} + \\frac{L^{2} \\beta q}{24 EI}\\right) + x \\left(C_{2} - \\frac{12 C_{4}}{L^{2} \\beta}\\right) + \\frac{q x^{4}}{24 EI}$"
      ],
      "text/plain": [
       "C1 - 2*C2*x**3/(L**2*beta) - 12*C3/(L**2*beta) - x**2*(6*C1/(L**2*beta) + L**2*beta*q/(24*EI)) + x*(C2 - 12*C4/(L**2*beta)) + q*x**4/(24*EI)"
      ]
     },
     "metadata": {},
     "output_type": "display_data"
    },
    {
     "data": {
      "text/latex": [
       "$\\displaystyle \\frac{12 C_{1} x}{L^{2} \\beta} + \\frac{6 C_{2} x^{2}}{L^{2} \\beta} + \\frac{12 C_{4}}{L^{2} \\beta} - \\frac{q x^{3}}{6 EI}$"
      ],
      "text/plain": [
       "12*C1*x/(L**2*beta) + 6*C2*x**2/(L**2*beta) + 12*C4/(L**2*beta) - q*x**3/(6*EI)"
      ]
     },
     "metadata": {},
     "output_type": "display_data"
    }
   ],
   "source": [
    "import sympy as sp\n",
    "w, phi = sp.symbols('w phi', cls=sp.Function)\n",
    "C1, C2, C3, C4 = sp.symbols('C1 C2 C3 C4')\n",
    "x, EI, GA, L, q, beta = sp.symbols('x EI GA L q beta')\n",
    "w1, w2, phi1, phi2 = sp.symbols('phi1 phi2 w1 w2')\n",
    "\n",
    "GA = 12*EI / (beta*L**2)\n",
    "\n",
    "diffeq1 = sp.Eq(EI*sp.diff(phi(x),x,2)-GA*(sp.diff(w(x),x,1)+phi(x)),0)\n",
    "diffeq2 = sp.Eq(GA*(sp.diff(w(x),x,2)+sp.diff(phi(x),x,1)),-q)\n",
    "display(diffeq1)\n",
    "display(diffeq2)\n",
    "\n",
    "w,phi = sp.dsolve([diffeq1, diffeq2],[w(x),phi(x)])\n",
    "w = w.rhs\n",
    "phi = phi.rhs\n",
    "\n",
    "display(w,phi)"
   ]
  },
  {
   "cell_type": "code",
   "execution_count": 2,
   "id": "7359355f",
   "metadata": {},
   "outputs": [],
   "source": [
    "phi_bending = -sp.diff(w, x)\n",
    "gamma_shear = phi + sp.diff(w, x)\n",
    "kappa = sp.diff(phi, x)\n",
    "M = EI * kappa\n",
    "V = GA*gamma_shear\n",
    "\n",
    "eq1  = sp.Eq(w.subs(x , 0) , w1)\n",
    "eq2  = sp.Eq(phi.subs(x , 0) , phi1)\n",
    "eq3  = sp.Eq(w.subs(x , L) , w2)\n",
    "eq4  = sp.Eq(phi.subs(x , L) , phi2)\n",
    "\n",
    "sol = sp.solve((eq1,eq2,eq3,eq4) ,\n",
    "               (C1 ,C2 ,C3 ,C4))\n",
    "w_sol = w.subs(sol)\n",
    "M_sol = M.subs(sol)\n",
    "\n",
    "Fz1 = sp.expand(sp.simplify(-V.subs(sol).subs(x,0)))\n",
    "Fz2 = sp.expand(sp.simplify(V.subs(sol).subs(x,L)))\n",
    "Ty1 = sp.expand(sp.simplify(-M.subs(sol).subs(x,0)))\n",
    "Ty2 = sp.expand(sp.simplify(M.subs(sol).subs(x,L)))"
   ]
  },
  {
   "cell_type": "code",
   "execution_count": 3,
   "id": "8c7ff356",
   "metadata": {},
   "outputs": [
    {
     "data": {
      "text/latex": [
       "$\\displaystyle \\left[\\begin{matrix}\\frac{12 EI}{L^{3} \\left(\\beta + 1\\right)} & - \\frac{6 EI}{L^{2} \\left(\\beta + 1\\right)} & - \\frac{12 EI}{L^{3} \\left(\\beta + 1\\right)} & - \\frac{6 EI}{L^{2} \\left(\\beta + 1\\right)}\\\\- \\frac{6 EI}{L^{2} \\left(\\beta + 1\\right)} & \\frac{EI \\left(\\beta + 4\\right)}{L \\left(\\beta + 1\\right)} & \\frac{6 EI}{L^{2} \\left(\\beta + 1\\right)} & \\frac{EI \\left(2 - \\beta\\right)}{L \\left(\\beta + 1\\right)}\\\\- \\frac{12 EI}{L^{3} \\left(\\beta + 1\\right)} & \\frac{6 EI}{L^{2} \\left(\\beta + 1\\right)} & \\frac{12 EI}{L^{3} \\left(\\beta + 1\\right)} & \\frac{6 EI}{L^{2} \\left(\\beta + 1\\right)}\\\\- \\frac{6 EI}{L^{2} \\left(\\beta + 1\\right)} & \\frac{EI \\left(2 - \\beta\\right)}{L \\left(\\beta + 1\\right)} & \\frac{6 EI}{L^{2} \\left(\\beta + 1\\right)} & \\frac{EI \\left(\\beta + 4\\right)}{L \\left(\\beta + 1\\right)}\\end{matrix}\\right]$"
      ],
      "text/plain": [
       "Matrix([\n",
       "[ 12*EI/(L**3*(beta + 1)),      -6*EI/(L**2*(beta + 1)), -12*EI/(L**3*(beta + 1)),      -6*EI/(L**2*(beta + 1))],\n",
       "[ -6*EI/(L**2*(beta + 1)), EI*(beta + 4)/(L*(beta + 1)),   6*EI/(L**2*(beta + 1)), EI*(2 - beta)/(L*(beta + 1))],\n",
       "[-12*EI/(L**3*(beta + 1)),       6*EI/(L**2*(beta + 1)),  12*EI/(L**3*(beta + 1)),       6*EI/(L**2*(beta + 1))],\n",
       "[ -6*EI/(L**2*(beta + 1)), EI*(2 - beta)/(L*(beta + 1)),   6*EI/(L**2*(beta + 1)), EI*(beta + 4)/(L*(beta + 1))]])"
      ]
     },
     "metadata": {},
     "output_type": "display_data"
    }
   ],
   "source": [
    "k11 = sp.simplify(Fz1.coeff(w1))\n",
    "k12 = sp.simplify(Fz1.coeff(phi1))\n",
    "k13 = sp.simplify(Fz1.coeff(w2))\n",
    "k14 = sp.simplify(Fz1.coeff(phi2))\n",
    "k21 = sp.simplify(Ty1.coeff(w1))\n",
    "k22 = sp.simplify(Ty1.coeff(phi1))\n",
    "k23 = sp.simplify(Ty1.coeff(w2))\n",
    "k24 = sp.simplify(Ty1.coeff(phi2))\n",
    "k31 = sp.simplify(Fz2.coeff(w1))\n",
    "k32 = sp.simplify(Fz2.coeff(phi1))\n",
    "k33 = sp.simplify(Fz2.coeff(w2))\n",
    "k34 = sp.simplify(Fz2.coeff(phi2))\n",
    "k41 = sp.simplify(Ty2.coeff(w1))\n",
    "k42 = sp.simplify(Ty2.coeff(phi1))\n",
    "k43 = sp.simplify(Ty2.coeff(w2))\n",
    "k44 = sp.simplify(Ty2.coeff(phi2))\n",
    "\n",
    "Ksys = sp.Matrix([[k11,k12,k13,k14],\n",
    "        [k21,k22,k23,k24],\n",
    "        [k31,k32,k33,k34],\n",
    "        [k41,k42,k43,k44]])\n",
    "display(Ksys)"
   ]
  },
  {
   "cell_type": "code",
   "execution_count": 4,
   "id": "21fc17ca",
   "metadata": {},
   "outputs": [
    {
     "data": {
      "text/latex": [
       "$\\displaystyle \\left[\\begin{matrix}\\frac{L q}{2}\\\\- \\frac{L^{2} q}{12}\\\\\\frac{L q}{2}\\\\\\frac{L^{2} q}{12}\\end{matrix}\\right]$"
      ],
      "text/plain": [
       "Matrix([\n",
       "[     L*q/2],\n",
       "[-L**2*q/12],\n",
       "[     L*q/2],\n",
       "[ L**2*q/12]])"
      ]
     },
     "metadata": {},
     "output_type": "display_data"
    }
   ],
   "source": [
    "f1 = sp.simplify(-Fz1.coeff(q))*q\n",
    "f2 = sp.simplify(-Ty1.coeff(q))*q\n",
    "f3 = sp.simplify(-Fz2.coeff(q))*q\n",
    "f4 = sp.simplify(-Ty2.coeff(q))*q\n",
    "Fsys = sp.Matrix([f1,f2,f3,f4])\n",
    "display(Fsys)"
   ]
  }
 ],
 "metadata": {
  "kernelspec": {
   "display_name": "Python 3 (ipykernel)",
   "language": "python",
   "name": "python3"
  },
  "language_info": {
   "codemirror_mode": {
    "name": "ipython",
    "version": 3
   },
   "file_extension": ".py",
   "mimetype": "text/x-python",
   "name": "python",
   "nbconvert_exporter": "python",
   "pygments_lexer": "ipython3",
   "version": "3.9.13"
  }
 },
 "nbformat": 4,
 "nbformat_minor": 5
}
