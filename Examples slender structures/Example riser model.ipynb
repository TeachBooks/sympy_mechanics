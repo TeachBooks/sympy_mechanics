{
 "cells": [
  {
   "cell_type": "code",
   "execution_count": 1,
   "id": "25e5aaef",
   "metadata": {},
   "outputs": [
    {
     "data": {
      "text/latex": [
       "$\\displaystyle - 12000000 \\frac{d^{2}}{d x^{2}} \\operatorname{w_{1}}{\\left(x \\right)} + \\frac{202209199875 \\pi \\frac{d^{4}}{d x^{4}} \\operatorname{w_{1}}{\\left(x \\right)}}{4} = 1800$"
      ],
      "text/plain": [
       "Eq(-12000000*Derivative(w1(x), (x, 2)) + 202209199875*pi*Derivative(w1(x), (x, 4))/4, 1800)"
      ]
     },
     "metadata": {},
     "output_type": "display_data"
    },
    {
     "data": {
      "text/latex": [
       "$\\displaystyle C_{1} + C_{2} x + C_{3} e^{- \\frac{160 \\sqrt{3698385} x}{19971279 \\sqrt{\\pi}}} + C_{4} e^{\\frac{160 \\sqrt{3698385} x}{19971279 \\sqrt{\\pi}}} - \\frac{3 x^{2}}{40000}$"
      ],
      "text/plain": [
       "C1 + C2*x + C3*exp(-160*sqrt(3698385)*x/(19971279*sqrt(pi))) + C4*exp(160*sqrt(3698385)*x/(19971279*sqrt(pi))) - 3*x**2/40000"
      ]
     },
     "metadata": {},
     "output_type": "display_data"
    },
    {
     "data": {
      "image/png": "[encoded data removed]",
      "text/plain": [
       "<Figure size 640x480 with 1 Axes>"
      ]
     },
     "metadata": {},
     "output_type": "display_data"
    }
   ],
   "source": [
    "import sympy as sp\n",
    "w1 = sp.symbols('w1', cls=sp.Function)\n",
    "C1, C2, C3, C4 = sp.symbols('C1 C2 C3 C4')\n",
    "x = sp.symbols('x')\n",
    "\n",
    "g = 10\n",
    "R = sp.nsimplify(3.6/2)\n",
    "t = sp.nsimplify(45/1000)\n",
    "Area = sp.pi*R**2-sp.pi*(R-t)**2\n",
    "Volume = Area*1\n",
    "rho = 7850\n",
    "p = rho*g*Area-1000*g*Volume\n",
    "EI = sp.nsimplify(2e11*1/4*sp.pi*(R**4-(R-t)**4))\n",
    "\n",
    "q = 1800\n",
    "Ho = 12*1000000\n",
    "L = 300\n",
    "\n",
    "H1 = Ho\n",
    "diffeq1 = sp.Eq(EI*sp.diff(w1(x),x,4)-H1*sp.diff(w1(x),x,2),q)\n",
    "display(diffeq1)\n",
    "\n",
    "w1 = sp.dsolve(diffeq1)\n",
    "w1 = w1.rhs\n",
    "display(w1)\n",
    "\n",
    "phi1 = -sp.diff(w1, x)\n",
    "kappa1 = sp.diff(phi1, x)\n",
    "M1 = EI * kappa1\n",
    "V1 = sp.diff(M1, x)\n",
    "\n",
    "eq1 = sp.Eq(w1.subs(x,0),0)\n",
    "eq2 = sp.Eq(M1.subs(x,0),0)\n",
    "eq3 = sp.Eq(M1.subs(x,L),0)\n",
    "eq4 = sp.Eq(V1.subs(x,L)-phi1.subs(x,L)*H1,0)\n",
    "\n",
    "sol = sp.solve((eq1, eq2, eq3, eq4),\n",
    "               (C1 , C2 , C3 , C4 ))\n",
    "w1_sol = w1.subs(sol)\n",
    "sp.plotting.plot(w1_sol,(x,0,L));"
   ]
  },
  {
   "cell_type": "code",
   "execution_count": 2,
   "id": "aa5546d4",
   "metadata": {},
   "outputs": [
    {
     "data": {
      "text/latex": [
       "$\\displaystyle - 12000000 \\frac{d^{2}}{d x^{2}} \\operatorname{w_{1}}{\\left(x \\right)} + \\frac{202209199875 \\pi \\frac{d^{4}}{d x^{4}} \\operatorname{w_{1}}{\\left(x \\right)}}{4} = 1800$"
      ],
      "text/plain": [
       "Eq(-12000000*Derivative(w1(x), (x, 2)) + 202209199875*pi*Derivative(w1(x), (x, 4))/4, 1800)"
      ]
     },
     "metadata": {},
     "output_type": "display_data"
    },
    {
     "ename": "ValueError",
     "evalue": "Enter valid boundary conditions for Derivatives",
     "output_type": "error",
     "traceback": [
      "\u001b[1;31m---------------------------------------------------------------------------\u001b[0m",
      "\u001b[1;31mValueError\u001b[0m                                Traceback (most recent call last)",
      "\u001b[1;32m~\\AppData\\Local\\Temp\\ipykernel_272\\636833250.py\u001b[0m in \u001b[0;36m<module>\u001b[1;34m\u001b[0m\n\u001b[0;32m     26\u001b[0m      \u001b[0mw1\u001b[0m\u001b[1;33m(\u001b[0m\u001b[0mx\u001b[0m\u001b[1;33m)\u001b[0m\u001b[1;33m.\u001b[0m\u001b[0mdiff\u001b[0m\u001b[1;33m(\u001b[0m\u001b[0mx\u001b[0m \u001b[1;33m,\u001b[0m \u001b[1;36m2\u001b[0m\u001b[1;33m)\u001b[0m\u001b[1;33m.\u001b[0m\u001b[0msubs\u001b[0m\u001b[1;33m(\u001b[0m\u001b[0mx\u001b[0m \u001b[1;33m,\u001b[0m \u001b[0mL\u001b[0m\u001b[1;33m)\u001b[0m \u001b[1;33m:\u001b[0m \u001b[1;36m0\u001b[0m \u001b[1;33m,\u001b[0m\u001b[1;33m\u001b[0m\u001b[1;33m\u001b[0m\u001b[0m\n\u001b[0;32m     27\u001b[0m      w1(x).diff(x , 3).subs(x , L) : 1/EI * H1 * w1(x).diff(x , 1).subs(x , L)}\n\u001b[1;32m---> 28\u001b[1;33m \u001b[0mw1\u001b[0m \u001b[1;33m=\u001b[0m \u001b[0msp\u001b[0m\u001b[1;33m.\u001b[0m\u001b[0mdsolve\u001b[0m\u001b[1;33m(\u001b[0m\u001b[0mdiffeq1\u001b[0m\u001b[1;33m,\u001b[0m \u001b[0mw1\u001b[0m\u001b[1;33m(\u001b[0m\u001b[0mx\u001b[0m\u001b[1;33m)\u001b[0m\u001b[1;33m,\u001b[0m\u001b[0mics\u001b[0m\u001b[1;33m=\u001b[0m\u001b[0mbcs\u001b[0m\u001b[1;33m)\u001b[0m\u001b[1;33m\u001b[0m\u001b[1;33m\u001b[0m\u001b[0m\n\u001b[0m\u001b[0;32m     29\u001b[0m \u001b[0mw1\u001b[0m \u001b[1;33m=\u001b[0m \u001b[0mw1\u001b[0m\u001b[1;33m.\u001b[0m\u001b[0mrhs\u001b[0m\u001b[1;33m\u001b[0m\u001b[1;33m\u001b[0m\u001b[0m\n\u001b[0;32m     30\u001b[0m \u001b[0mdisplay\u001b[0m\u001b[1;33m(\u001b[0m\u001b[0mw1\u001b[0m\u001b[1;33m)\u001b[0m\u001b[1;33m\u001b[0m\u001b[1;33m\u001b[0m\u001b[0m\n",
      "\u001b[1;32m~\\Anaconda3\\lib\\site-packages\\sympy\\solvers\\ode\\ode.py\u001b[0m in \u001b[0;36mdsolve\u001b[1;34m(eq, func, hint, simplify, ics, xi, eta, x0, n, **kwargs)\u001b[0m\n\u001b[0;32m    603\u001b[0m \u001b[1;33m\u001b[0m\u001b[0m\n\u001b[0;32m    604\u001b[0m         \u001b[1;31m# See the docstring of _desolve for more details.\u001b[0m\u001b[1;33m\u001b[0m\u001b[1;33m\u001b[0m\u001b[0m\n\u001b[1;32m--> 605\u001b[1;33m         hints = _desolve(eq, func=func,\n\u001b[0m\u001b[0;32m    606\u001b[0m             \u001b[0mhint\u001b[0m\u001b[1;33m=\u001b[0m\u001b[0mhint\u001b[0m\u001b[1;33m,\u001b[0m \u001b[0msimplify\u001b[0m\u001b[1;33m=\u001b[0m\u001b[1;32mTrue\u001b[0m\u001b[1;33m,\u001b[0m \u001b[0mxi\u001b[0m\u001b[1;33m=\u001b[0m\u001b[0mxi\u001b[0m\u001b[1;33m,\u001b[0m \u001b[0meta\u001b[0m\u001b[1;33m=\u001b[0m\u001b[0meta\u001b[0m\u001b[1;33m,\u001b[0m \u001b[0mtype\u001b[0m\u001b[1;33m=\u001b[0m\u001b[1;34m'ode'\u001b[0m\u001b[1;33m,\u001b[0m \u001b[0mics\u001b[0m\u001b[1;33m=\u001b[0m\u001b[0mics\u001b[0m\u001b[1;33m,\u001b[0m\u001b[1;33m\u001b[0m\u001b[1;33m\u001b[0m\u001b[0m\n\u001b[0;32m    607\u001b[0m             x0=x0, n=n, **kwargs)\n",
      "\u001b[1;32m~\\Anaconda3\\lib\\site-packages\\sympy\\solvers\\deutils.py\u001b[0m in \u001b[0;36m_desolve\u001b[1;34m(eq, func, hint, ics, simplify, prep, **kwargs)\u001b[0m\n\u001b[0;32m    207\u001b[0m     \u001b[1;31m# recursive calls.\u001b[0m\u001b[1;33m\u001b[0m\u001b[1;33m\u001b[0m\u001b[0m\n\u001b[0;32m    208\u001b[0m     \u001b[1;32mif\u001b[0m \u001b[0mkwargs\u001b[0m\u001b[1;33m.\u001b[0m\u001b[0mget\u001b[0m\u001b[1;33m(\u001b[0m\u001b[1;34m'classify'\u001b[0m\u001b[1;33m,\u001b[0m \u001b[1;32mTrue\u001b[0m\u001b[1;33m)\u001b[0m\u001b[1;33m:\u001b[0m\u001b[1;33m\u001b[0m\u001b[1;33m\u001b[0m\u001b[0m\n\u001b[1;32m--> 209\u001b[1;33m         hints = classifier(eq, func, dict=True, ics=ics, xi=xi, eta=eta,\n\u001b[0m\u001b[0;32m    210\u001b[0m         n=terms, x0=x0, hint=hint, prep=prep)\n\u001b[0;32m    211\u001b[0m \u001b[1;33m\u001b[0m\u001b[0m\n",
      "\u001b[1;32m~\\Anaconda3\\lib\\site-packages\\sympy\\solvers\\ode\\ode.py\u001b[0m in \u001b[0;36mclassify_ode\u001b[1;34m(eq, func, dict, ics, prep, xi, eta, n, **kwargs)\u001b[0m\n\u001b[0;32m   1002\u001b[0m                     \u001b[0mboundary\u001b[0m\u001b[1;33m.\u001b[0m\u001b[0mupdate\u001b[0m\u001b[1;33m(\u001b[0m\u001b[1;33m{\u001b[0m\u001b[0mtemp\u001b[0m\u001b[1;33m:\u001b[0m \u001b[0mnew\u001b[0m\u001b[1;33m,\u001b[0m \u001b[0mtemp\u001b[0m \u001b[1;33m+\u001b[0m \u001b[1;34m'val'\u001b[0m\u001b[1;33m:\u001b[0m \u001b[0mics\u001b[0m\u001b[1;33m[\u001b[0m\u001b[0mfuncarg\u001b[0m\u001b[1;33m]\u001b[0m\u001b[1;33m}\u001b[0m\u001b[1;33m)\u001b[0m\u001b[1;33m\u001b[0m\u001b[1;33m\u001b[0m\u001b[0m\n\u001b[0;32m   1003\u001b[0m                 \u001b[1;32melse\u001b[0m\u001b[1;33m:\u001b[0m\u001b[1;33m\u001b[0m\u001b[1;33m\u001b[0m\u001b[0m\n\u001b[1;32m-> 1004\u001b[1;33m                     \u001b[1;32mraise\u001b[0m \u001b[0mValueError\u001b[0m\u001b[1;33m(\u001b[0m\u001b[1;34m\"Enter valid boundary conditions for Derivatives\"\u001b[0m\u001b[1;33m)\u001b[0m\u001b[1;33m\u001b[0m\u001b[1;33m\u001b[0m\u001b[0m\n\u001b[0m\u001b[0;32m   1005\u001b[0m \u001b[1;33m\u001b[0m\u001b[0m\n\u001b[0;32m   1006\u001b[0m \u001b[1;33m\u001b[0m\u001b[0m\n",
      "\u001b[1;31mValueError\u001b[0m: Enter valid boundary conditions for Derivatives"
     ]
    }
   ],
   "source": [
    "%reset -f\n",
    "import sympy as sp\n",
    "w1 = sp.symbols('w1', cls=sp.Function)\n",
    "C1, C2, C3, C4 = sp.symbols('C1 C2 C3 C4')\n",
    "x = sp.symbols('x')\n",
    "\n",
    "g = 10\n",
    "R = sp.nsimplify(3.6/2)\n",
    "t = sp.nsimplify(45/1000)\n",
    "Area = sp.pi*R**2-sp.pi*(R-t)**2\n",
    "Volume = Area*1\n",
    "rho = 7850\n",
    "p = rho*g*Area-1000*g*Volume\n",
    "EI = sp.nsimplify(2e11*1/4*sp.pi*(R**4-(R-t)**4))\n",
    "\n",
    "q = 1800\n",
    "Ho = 12*1000000\n",
    "L = 300\n",
    "\n",
    "H1 = Ho\n",
    "diffeq1 = sp.Eq(EI*sp.diff(w1(x),x,4)-H1*sp.diff(w1(x),x,2),q)\n",
    "display(diffeq1)\n",
    "\n",
    "bcs={w1(0): 0 ,\n",
    "     w1(x).diff(x , 2).subs(x , 0) : 0 ,\n",
    "     w1(x).diff(x , 2).subs(x , L) : 0 ,\n",
    "     w1(x).diff(x , 3).subs(x , L) : 1/EI * H1 * w1(x).diff(x , 1).subs(x , L)}\n",
    "w1 = sp.dsolve(diffeq1, w1(x),ics=bcs)\n",
    "w1 = w1.rhs\n",
    "display(w1)\n",
    "\n",
    "sp.plotting.plot(w1,(x,0,L));\n",
    "\n"
   ]
  },
  {
   "cell_type": "code",
   "execution_count": 3,
   "id": "a2170074",
   "metadata": {},
   "outputs": [
    {
     "data": {
      "text/latex": [
       "$\\displaystyle - \\left(\\frac{876663 \\pi x}{80} - \\frac{13149945 \\pi}{4} + 12000000\\right) \\frac{d^{2}}{d x^{2}} \\operatorname{w_{2}}{\\left(x \\right)} - \\frac{876663 \\pi \\frac{d}{d x} \\operatorname{w_{2}}{\\left(x \\right)}}{80} + \\frac{202209199875 \\pi \\frac{d^{4}}{d x^{4}} \\operatorname{w_{2}}{\\left(x \\right)}}{4} = 1800$"
      ],
      "text/plain": [
       "Eq(-(876663*pi*x/80 - 13149945*pi/4 + 12000000)*Derivative(w2(x), (x, 2)) - 876663*pi*Derivative(w2(x), x)/80 + 202209199875*pi*Derivative(w2(x), (x, 4))/4, 1800)"
      ]
     },
     "metadata": {},
     "output_type": "display_data"
    },
    {
     "ename": "NotImplementedError",
     "evalue": "The given ODE -(2133*pi*(-137*x*Derivative(w2(x), (x, 2)) + 41100*Derivative(w2(x), (x, 2)) + 632002500*Derivative(w2(x), (x, 4))) - 320000000*Derivative(w2(x), (x, 2)) - 48000)/(292221*pi) + Derivative(w2(x), x) cannot be solved by the factorable group method",
     "output_type": "error",
     "traceback": [
      "\u001b[1;31m---------------------------------------------------------------------------\u001b[0m",
      "\u001b[1;31mNotImplementedError\u001b[0m                       Traceback (most recent call last)",
      "\u001b[1;32m~\\AppData\\Local\\Temp\\ipykernel_272\\2748669779.py\u001b[0m in \u001b[0;36m<module>\u001b[1;34m\u001b[0m\n\u001b[0;32m      6\u001b[0m \u001b[0mdisplay\u001b[0m\u001b[1;33m(\u001b[0m\u001b[0mdiffeq2\u001b[0m\u001b[1;33m)\u001b[0m\u001b[1;33m\u001b[0m\u001b[1;33m\u001b[0m\u001b[0m\n\u001b[0;32m      7\u001b[0m \u001b[1;33m\u001b[0m\u001b[0m\n\u001b[1;32m----> 8\u001b[1;33m \u001b[0mw2\u001b[0m \u001b[1;33m=\u001b[0m \u001b[0msp\u001b[0m\u001b[1;33m.\u001b[0m\u001b[0mdsolve\u001b[0m\u001b[1;33m(\u001b[0m\u001b[0mdiffeq2\u001b[0m\u001b[1;33m,\u001b[0m\u001b[0mw2\u001b[0m\u001b[1;33m(\u001b[0m\u001b[0mx\u001b[0m\u001b[1;33m)\u001b[0m\u001b[1;33m)\u001b[0m\u001b[1;33m\u001b[0m\u001b[1;33m\u001b[0m\u001b[0m\n\u001b[0m\u001b[0;32m      9\u001b[0m \u001b[0mw2\u001b[0m \u001b[1;33m=\u001b[0m \u001b[0mw2\u001b[0m\u001b[1;33m.\u001b[0m\u001b[0mrhs\u001b[0m\u001b[1;33m\u001b[0m\u001b[1;33m\u001b[0m\u001b[0m\n\u001b[0;32m     10\u001b[0m \u001b[0mdisplay\u001b[0m\u001b[1;33m(\u001b[0m\u001b[0mw2\u001b[0m\u001b[1;33m)\u001b[0m\u001b[1;33m\u001b[0m\u001b[1;33m\u001b[0m\u001b[0m\n",
      "\u001b[1;32m~\\Anaconda3\\lib\\site-packages\\sympy\\solvers\\ode\\ode.py\u001b[0m in \u001b[0;36mdsolve\u001b[1;34m(eq, func, hint, simplify, ics, xi, eta, x0, n, **kwargs)\u001b[0m\n\u001b[0;32m    638\u001b[0m             \u001b[1;31m# The key 'hint' stores the hint needed to be solved for.\u001b[0m\u001b[1;33m\u001b[0m\u001b[1;33m\u001b[0m\u001b[0m\n\u001b[0;32m    639\u001b[0m             \u001b[0mhint\u001b[0m \u001b[1;33m=\u001b[0m \u001b[0mhints\u001b[0m\u001b[1;33m[\u001b[0m\u001b[1;34m'hint'\u001b[0m\u001b[1;33m]\u001b[0m\u001b[1;33m\u001b[0m\u001b[1;33m\u001b[0m\u001b[0m\n\u001b[1;32m--> 640\u001b[1;33m             \u001b[1;32mreturn\u001b[0m \u001b[0m_helper_simplify\u001b[0m\u001b[1;33m(\u001b[0m\u001b[0meq\u001b[0m\u001b[1;33m,\u001b[0m \u001b[0mhint\u001b[0m\u001b[1;33m,\u001b[0m \u001b[0mhints\u001b[0m\u001b[1;33m,\u001b[0m \u001b[0msimplify\u001b[0m\u001b[1;33m,\u001b[0m \u001b[0mics\u001b[0m\u001b[1;33m=\u001b[0m\u001b[0mics\u001b[0m\u001b[1;33m)\u001b[0m\u001b[1;33m\u001b[0m\u001b[1;33m\u001b[0m\u001b[0m\n\u001b[0m\u001b[0;32m    641\u001b[0m \u001b[1;33m\u001b[0m\u001b[0m\n\u001b[0;32m    642\u001b[0m \u001b[1;32mdef\u001b[0m \u001b[0m_helper_simplify\u001b[0m\u001b[1;33m(\u001b[0m\u001b[0meq\u001b[0m\u001b[1;33m,\u001b[0m \u001b[0mhint\u001b[0m\u001b[1;33m,\u001b[0m \u001b[0mmatch\u001b[0m\u001b[1;33m,\u001b[0m \u001b[0msimplify\u001b[0m\u001b[1;33m=\u001b[0m\u001b[1;32mTrue\u001b[0m\u001b[1;33m,\u001b[0m \u001b[0mics\u001b[0m\u001b[1;33m=\u001b[0m\u001b[1;32mNone\u001b[0m\u001b[1;33m,\u001b[0m \u001b[1;33m**\u001b[0m\u001b[0mkwargs\u001b[0m\u001b[1;33m)\u001b[0m\u001b[1;33m:\u001b[0m\u001b[1;33m\u001b[0m\u001b[1;33m\u001b[0m\u001b[0m\n",
      "\u001b[1;32m~\\Anaconda3\\lib\\site-packages\\sympy\\solvers\\ode\\ode.py\u001b[0m in \u001b[0;36m_helper_simplify\u001b[1;34m(eq, hint, match, simplify, ics, **kwargs)\u001b[0m\n\u001b[0;32m    667\u001b[0m         \u001b[1;31m# simplifications\u001b[0m\u001b[1;33m\u001b[0m\u001b[1;33m\u001b[0m\u001b[0m\n\u001b[0;32m    668\u001b[0m         \u001b[1;32mif\u001b[0m \u001b[0misinstance\u001b[0m\u001b[1;33m(\u001b[0m\u001b[0msolvefunc\u001b[0m\u001b[1;33m,\u001b[0m \u001b[0mSingleODESolver\u001b[0m\u001b[1;33m)\u001b[0m\u001b[1;33m:\u001b[0m\u001b[1;33m\u001b[0m\u001b[1;33m\u001b[0m\u001b[0m\n\u001b[1;32m--> 669\u001b[1;33m             \u001b[0msols\u001b[0m \u001b[1;33m=\u001b[0m \u001b[0msolvefunc\u001b[0m\u001b[1;33m.\u001b[0m\u001b[0mget_general_solution\u001b[0m\u001b[1;33m(\u001b[0m\u001b[1;33m)\u001b[0m\u001b[1;33m\u001b[0m\u001b[1;33m\u001b[0m\u001b[0m\n\u001b[0m\u001b[0;32m    670\u001b[0m         \u001b[1;32melse\u001b[0m\u001b[1;33m:\u001b[0m\u001b[1;33m\u001b[0m\u001b[1;33m\u001b[0m\u001b[0m\n\u001b[0;32m    671\u001b[0m             \u001b[0msols\u001b[0m \u001b[1;33m=\u001b[0m \u001b[0msolvefunc\u001b[0m\u001b[1;33m(\u001b[0m\u001b[0meq\u001b[0m\u001b[1;33m,\u001b[0m \u001b[0mfunc\u001b[0m\u001b[1;33m,\u001b[0m \u001b[0morder\u001b[0m\u001b[1;33m,\u001b[0m \u001b[0mmatch\u001b[0m\u001b[1;33m)\u001b[0m\u001b[1;33m\u001b[0m\u001b[1;33m\u001b[0m\u001b[0m\n",
      "\u001b[1;32m~\\Anaconda3\\lib\\site-packages\\sympy\\solvers\\ode\\single.py\u001b[0m in \u001b[0;36mget_general_solution\u001b[1;34m(self, simplify)\u001b[0m\n\u001b[0;32m    294\u001b[0m             \u001b[0mmsg\u001b[0m \u001b[1;33m=\u001b[0m \u001b[1;34m\"%s solver cannot solve:\\n%s\"\u001b[0m\u001b[1;33m\u001b[0m\u001b[1;33m\u001b[0m\u001b[0m\n\u001b[0;32m    295\u001b[0m             \u001b[1;32mraise\u001b[0m \u001b[0mODEMatchError\u001b[0m\u001b[1;33m(\u001b[0m\u001b[0mmsg\u001b[0m \u001b[1;33m%\u001b[0m \u001b[1;33m(\u001b[0m\u001b[0mself\u001b[0m\u001b[1;33m.\u001b[0m\u001b[0mhint\u001b[0m\u001b[1;33m,\u001b[0m \u001b[0mself\u001b[0m\u001b[1;33m.\u001b[0m\u001b[0mode_problem\u001b[0m\u001b[1;33m.\u001b[0m\u001b[0meq\u001b[0m\u001b[1;33m)\u001b[0m\u001b[1;33m)\u001b[0m\u001b[1;33m\u001b[0m\u001b[1;33m\u001b[0m\u001b[0m\n\u001b[1;32m--> 296\u001b[1;33m         \u001b[1;32mreturn\u001b[0m \u001b[0mself\u001b[0m\u001b[1;33m.\u001b[0m\u001b[0m_get_general_solution\u001b[0m\u001b[1;33m(\u001b[0m\u001b[0msimplify_flag\u001b[0m\u001b[1;33m=\u001b[0m\u001b[0msimplify\u001b[0m\u001b[1;33m)\u001b[0m\u001b[1;33m\u001b[0m\u001b[1;33m\u001b[0m\u001b[0m\n\u001b[0m\u001b[0;32m    297\u001b[0m \u001b[1;33m\u001b[0m\u001b[0m\n\u001b[0;32m    298\u001b[0m     \u001b[1;32mdef\u001b[0m \u001b[0m_matches\u001b[0m\u001b[1;33m(\u001b[0m\u001b[0mself\u001b[0m\u001b[1;33m)\u001b[0m \u001b[1;33m->\u001b[0m \u001b[0mbool\u001b[0m\u001b[1;33m:\u001b[0m\u001b[1;33m\u001b[0m\u001b[1;33m\u001b[0m\u001b[0m\n",
      "\u001b[1;32m~\\Anaconda3\\lib\\site-packages\\sympy\\solvers\\ode\\single.py\u001b[0m in \u001b[0;36m_get_general_solution\u001b[1;34m(self, simplify_flag)\u001b[0m\n\u001b[0;32m    918\u001b[0m \u001b[1;33m\u001b[0m\u001b[0m\n\u001b[0;32m    919\u001b[0m         \u001b[1;32mif\u001b[0m \u001b[0msols\u001b[0m \u001b[1;33m==\u001b[0m \u001b[1;33m[\u001b[0m\u001b[1;33m]\u001b[0m\u001b[1;33m:\u001b[0m\u001b[1;33m\u001b[0m\u001b[1;33m\u001b[0m\u001b[0m\n\u001b[1;32m--> 920\u001b[1;33m             raise NotImplementedError(\"The given ODE \" + str(eq) + \" cannot be solved by\"\n\u001b[0m\u001b[0;32m    921\u001b[0m                 + \" the factorable group method\")\n\u001b[0;32m    922\u001b[0m         \u001b[1;32mreturn\u001b[0m \u001b[0msols\u001b[0m\u001b[1;33m\u001b[0m\u001b[1;33m\u001b[0m\u001b[0m\n",
      "\u001b[1;31mNotImplementedError\u001b[0m: The given ODE -(2133*pi*(-137*x*Derivative(w2(x), (x, 2)) + 41100*Derivative(w2(x), (x, 2)) + 632002500*Derivative(w2(x), (x, 4))) - 320000000*Derivative(w2(x), (x, 2)) - 48000)/(292221*pi) + Derivative(w2(x), x) cannot be solved by the factorable group method"
     ]
    }
   ],
   "source": [
    "w2 = sp.symbols('w2', cls=sp.Function)\n",
    "C5, C6, C7, C8 = sp.symbols('C5 C6 C7 C8')\n",
    "\n",
    "H2 = (Ho-p*L)+p*x\n",
    "diffeq2 = sp.Eq(EI*sp.diff(w2(x),x,4)-H2*sp.diff(w2(x),x,2)-p*sp.diff(w2(x),x,1),q)\n",
    "display(diffeq2)\n",
    "\n",
    "w2 = sp.dsolve(diffeq2,w2(x))\n",
    "w2 = w2.rhs\n",
    "display(w2)"
   ]
  },
  {
   "cell_type": "markdown",
   "id": "aa3c175e",
   "metadata": {},
   "source": [
    "# Finite differences"
   ]
  },
  {
   "cell_type": "markdown",
   "id": "af8dcd5c",
   "metadata": {},
   "source": [
    "Differential equation:\n",
    "$$EI \\frac{d^{4}}{d x^{4}} w{\\left(x \\right)} - p \\frac{d}{d x} w{\\left(x \\right)} - \\left(Ho - L p + p x\\right) \\frac{d^{2}}{d x^{2}} w{\\left(x \\right)} = q$$\n",
    "\n",
    "Boundary conditions:\n",
    "- $w(0)=0$\n",
    "- ${\\left. {d^2w\\over dx^2} \\right|_{x = 0}} = 0$\n",
    "- ${\\left. {d^2w\\over dx^2} \\right|_{x = L}} = 0$\n",
    "- ${\\left. {d^3w\\over dx^2} \\right|_{x = L}} = {H_1 \\over EI} {\\left. {dw\\over dx} \\right|_{x = L}} $"
   ]
  },
  {
   "cell_type": "code",
   "execution_count": 4,
   "id": "d5d3c478",
   "metadata": {},
   "outputs": [
    {
     "data": {
      "text/latex": [
       "$\\displaystyle \\frac{EI \\left(6 w_{n} - 4 w_{n+1} + w_{n+2} - 4 w_{n-1} + w_{n-2}\\right)}{h^{4}} - \\frac{p \\left(0.5 w_{n+1} - 0.5 w_{n-1}\\right)}{h} - \\frac{\\left(Ho - L p + p x\\right) \\left(- 2 w_{n} + w_{n+1} + w_{n-1}\\right)}{h^{2}} = q$"
      ],
      "text/plain": [
       "Eq(EI*(6*w_n - 4*w_n+1 + w_n+2 - 4*w_n-1 + w_n-2)/h**4 - p*(0.5*w_n+1 - 0.5*w_n-1)/h - (Ho - L*p + p*x)*(-2*w_n + w_n+1 + w_n-1)/h**2, q)"
      ]
     },
     "metadata": {},
     "output_type": "display_data"
    }
   ],
   "source": [
    "%reset -f\n",
    "import sympy as sp\n",
    "\n",
    "w = sp.symbols('w', cls=sp.Function)\n",
    "w_n2nev,w_n1nev,w_n,w_n1pos,w_n2pos = sp.symbols('w_n-2 w_n-1 w_n w_n+1 w_n+2')\n",
    "h = sp.symbols('h')\n",
    "x, EI, p, L, Ho, q = sp.symbols('x EI p L Ho q')\n",
    "H = (Ho-p*L)+p*x\n",
    "diffeq = sp.Eq(EI*sp.diff(w(x),x,4)-H*sp.diff(w(x),x,2)-p*sp.diff(w(x),x,1),q)\n",
    "diffeq_fdiff = diffeq.subs(sp.diff(w(x),x,4),(w_n2nev -4*w_n1nev+6*w_n-4*w_n1pos+w_n2pos)/h**4).subs(sp.diff(w(x),x,2),(w_n1nev-2*w_n+1*w_n1pos)/h**2).subs(sp.diff(w(x),x,1),(-1/2*w_n1nev+1/2*w_n1pos)/h)\n",
    "display(diffeq_fdiff)"
   ]
  },
  {
   "cell_type": "markdown",
   "id": "c7ee4e5b",
   "metadata": {},
   "source": [
    "Finite difference coefficients:\n",
    "$${dw\\over dx}={-{1 \\over 2}w_{i-1}+{1 \\over 2}w_{i+1} \\over h}$$\n",
    "\n",
    "$${d^2w\\over dx^2}={w_{i-1}−2w_i+w_{i+1} \\over h^2}$$\n",
    "\n",
    "$${d^3w\\over dx^3}={-{1 \\over 2}w_{i-2}+w_{i-1}-w_{i+1}+{1 \\over 2} w_{i+2} \\over h^3}$$\n",
    "\n",
    "$${d^4w\\over dx^4}={w_{i-2}−4w_{i-1}+6w_i-4w_{i+1}+w_{i+2} \\over h^4}$$\n",
    "\n",
    "Finite difference approximation:\n",
    "$$EI {w_{i-2}−4w_{i-1}+6w_i-4w_{i+1}+w_{i+2} \\over h^4} - p {-{1 \\over 2}w_{i-1}+{1 \\over 2}w_{i+1} \\over h} - \\left(Ho - L p + p x_{i}\\right) {w_{i-1}−2w_i+w_{i+1} \\over h^2} = q$$\n",
    "\n",
    "Boundary conditions:\n",
    "- $w_0=0$\n",
    "- ${{w_{-1}−2w_0+w_1} \\over h^2} = 0$\n",
    "- ${w_{n-1}−2w_n+w_{n+1} \\over h^2} = 0$\n",
    "- ${-{1 \\over 2}w_{n-2}+w_{n-1}-w_{n+1}+{1 \\over 2} w_{n+2} \\over h^3} = {H_1(x_n) \\over EI} {-{1 \\over 2}w_{n-1}+{1 \\over 2}w_{n+1} \\over h} $"
   ]
  },
  {
   "cell_type": "code",
   "execution_count": 11,
   "id": "c84ae1b0",
   "metadata": {},
   "outputs": [],
   "source": [
    "import numpy as np\n",
    "import matplotlib.pyplot as plt\n",
    "\n",
    "g = 10\n",
    "R = 3.6/2\n",
    "t = 45/1000\n",
    "Area = R**2-np.pi*(R-t)**2\n",
    "Volume = Area*1\n",
    "rho = 7850\n",
    "p = rho*g*Area-1000*g*Volume\n",
    "EI = 2e11*1/4*np.pi*(R**4-(R-t)**4)\n",
    "\n",
    "q = 1800\n",
    "Ho = 12*1000000\n",
    "L = 300"
   ]
  },
  {
   "cell_type": "code",
   "execution_count": 22,
   "id": "30a6f529",
   "metadata": {},
   "outputs": [
    {
     "data": {
      "image/png": "[encoded data removed]",
      "text/plain": [
       "<Figure size 640x480 with 1 Axes>"
      ]
     },
     "metadata": {},
     "output_type": "display_data"
    }
   ],
   "source": [
    "import numpy as np\n",
    "import matplotlib.pyplot as plt\n",
    "\n",
    "n = 1000\n",
    "h = L / n\n",
    "A = np.zeros((n+4, n+4))\n",
    "x = np.linspace(0,L,n+1)\n",
    "H = (Ho-p*L)+p*x\n",
    "A[0, 1] = +1\n",
    "\n",
    "A[1, 0] = +1/(h**2)\n",
    "A[1, 1] = -2/(h**2)\n",
    "A[1, 2] = +1/(h**2)\n",
    "\n",
    "A[n+2, n+0] = +1/(h**2)\n",
    "A[n+2, n+1] = -2/(h**2)\n",
    "A[n+2, n+2] = +1/(h**2)\n",
    "\n",
    "A[n+3, n-1] = -1/2/(h**3)\n",
    "A[n+3, n+0] = +1/(h**3)-H[-1]/EI*-1/2/h\n",
    "A[n+3, n+2] = -1/(h**3)-H[-1]/EI*+1/2/h\n",
    "A[n+3, n+3] = +1/2/(h**3)\n",
    "\n",
    "for i in range(2, n+2):\n",
    "    A[i, i-2] += EI*+1/(h**4)\n",
    "    A[i, i-1] += EI*-4/(h**4)\n",
    "    A[i, i  ] += EI*+6/(h**4)\n",
    "    A[i, i+1] += EI*-4/(h**4)\n",
    "    A[i, i+2] += EI*+1/(h**4)\n",
    "\n",
    "    A[i, i-1] += -p*-1/2/(h)\n",
    "    A[i, i+1] += -p*+1/2/(h)\n",
    "    \n",
    "    A[i, i-1] += -H[i-2]*-2/(h**2)\n",
    "    A[i, i  ] += -H[i-2]*-2/(h**2)\n",
    "    A[i, i+1] += -H[i-2]*-2/(h**2)\n",
    "\n",
    "b = np.zeros(n+4)\n",
    "b[1:-2] = q\n",
    "\n",
    "w = np.linalg.solve(A,b);\n",
    "plt.plot(x,w[1:-2]); #not correct yet"
   ]
  },
  {
   "cell_type": "code",
   "execution_count": null,
   "id": "1d82df0a",
   "metadata": {},
   "outputs": [],
   "source": []
  }
 ],
 "metadata": {
  "kernelspec": {
   "display_name": "Python 3 (ipykernel)",
   "language": "python",
   "name": "python3"
  },
  "language_info": {
   "codemirror_mode": {
    "name": "ipython",
    "version": 3
   },
   "file_extension": ".py",
   "mimetype": "text/x-python",
   "name": "python",
   "nbconvert_exporter": "python",
   "pygments_lexer": "ipython3",
   "version": "3.9.13"
  }
 },
 "nbformat": 4,
 "nbformat_minor": 5
}
