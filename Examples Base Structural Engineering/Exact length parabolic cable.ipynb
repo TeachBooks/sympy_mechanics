{
 "cells": [
  {
   "cell_type": "code",
   "execution_count": 1,
   "id": "32518b82",
   "metadata": {},
   "outputs": [],
   "source": [
    "import sympy as sp"
   ]
  },
  {
   "cell_type": "code",
   "execution_count": 2,
   "id": "1ba6a559",
   "metadata": {},
   "outputs": [],
   "source": [
    "q, L, H = sp.symbols('q L H',positive=True,real=True,nonzero=True)\n",
    "C1, C2 = sp.symbols('C1 C2')\n",
    "x = sp.symbols('x',real=True,positive=True,nonzero=True)\n",
    "z = sp.symbols('z',cls=sp.Function)"
   ]
  },
  {
   "cell_type": "code",
   "execution_count": 3,
   "id": "b3d0a305",
   "metadata": {},
   "outputs": [],
   "source": [
    "ODE = sp.Eq(H * sp.diff(z(x),x,2), -q)"
   ]
  },
  {
   "cell_type": "code",
   "execution_count": 4,
   "id": "ca4a3046",
   "metadata": {},
   "outputs": [],
   "source": [
    "z = sp.dsolve(ODE,z(x)).rhs"
   ]
  },
  {
   "cell_type": "code",
   "execution_count": 5,
   "id": "33a29f87",
   "metadata": {},
   "outputs": [
    {
     "data": {
      "text/latex": [
       "$\\displaystyle \\frac{L q x}{2 H} - \\frac{q x^{2}}{2 H}$"
      ],
      "text/plain": [
       "L*q*x/(2*H) - q*x**2/(2*H)"
      ]
     },
     "metadata": {},
     "output_type": "display_data"
    }
   ],
   "source": [
    "eq1 = sp.Eq(z.subs(x,0),0)\n",
    "eq2 = sp.Eq(z.subs(x,L),0)\n",
    "sol = sp.solve((eq1,eq2),(C1,C2))\n",
    "z = z.subs(sol)\n",
    "display(z)"
   ]
  },
  {
   "cell_type": "markdown",
   "id": "e649e4b1",
   "metadata": {},
   "source": [
    "Length based on Taylor approximation"
   ]
  },
  {
   "cell_type": "code",
   "execution_count": 6,
   "id": "254fc5f6",
   "metadata": {},
   "outputs": [
    {
     "data": {
      "text/latex": [
       "$\\displaystyle L + \\frac{L^{3} q^{2}}{24 H^{2}}$"
      ],
      "text/plain": [
       "L + L**3*q**2/(24*H**2)"
      ]
     },
     "metadata": {},
     "output_type": "display_data"
    }
   ],
   "source": [
    "Ltaylor = sp.integrate(sp.nsimplify(1+1/2*sp.diff(z,x)**2),(x,0,L))\n",
    "display(sp.simplify(Ltaylor))"
   ]
  },
  {
   "cell_type": "markdown",
   "id": "22e02d51",
   "metadata": {},
   "source": [
    "Length based on archlength"
   ]
  },
  {
   "cell_type": "code",
   "execution_count": 7,
   "id": "c1d4661e",
   "metadata": {},
   "outputs": [
    {
     "data": {
      "text/latex": [
       "$\\displaystyle \\frac{L q x}{2 H} - \\frac{q x^{2}}{2 H}$"
      ],
      "text/plain": [
       "L*q*x/(2*H) - q*x**2/(2*H)"
      ]
     },
     "metadata": {},
     "output_type": "display_data"
    },
    {
     "data": {
      "text/latex": [
       "$\\displaystyle \\frac{\\int\\limits_{0}^{L} \\sqrt{4 H^{2} + L^{2} q^{2} - 4 L q^{2} x + 4 q^{2} x^{2}}\\, dx}{2 H}$"
      ],
      "text/plain": [
       "Integral(sqrt(4*H**2 + L**2*q**2 - 4*L*q**2*x + 4*q**2*x**2), (x, 0, L))/(2*H)"
      ]
     },
     "metadata": {},
     "output_type": "display_data"
    },
    {
     "data": {
      "text/latex": [
       "$\\displaystyle 12 \\operatorname{asinh}{\\left(\\frac{5}{12} \\right)} + \\frac{65}{12}$"
      ],
      "text/plain": [
       "12*asinh(5/12) + 65/12"
      ]
     },
     "metadata": {},
     "output_type": "display_data"
    }
   ],
   "source": [
    "display(z)\n",
    "Lexact = sp.integrate(sp.sqrt(1+sp.diff(z,x)**2),(x,0,L))\n",
    "display(Lexact) #cannot evaluate integral, sympy needs some manual help here? dz/dx = sinh z'\n",
    "Lexact = sp.integrate(sp.sqrt(1+sp.diff(z.subs([(q,5),(L,10),(H,60)]),x)**2),(x,0,10))\n",
    "display(Lexact)"
   ]
  },
  {
   "cell_type": "code",
   "execution_count": 8,
   "id": "9c06abc9",
   "metadata": {},
   "outputs": [
    {
     "data": {
      "text/latex": [
       "$\\displaystyle 10.2893518518519$"
      ],
      "text/plain": [
       "10.2893518518519"
      ]
     },
     "metadata": {},
     "output_type": "display_data"
    },
    {
     "data": {
      "text/latex": [
       "$\\displaystyle 10.2822479639646$"
      ],
      "text/plain": [
       "10.2822479639646"
      ]
     },
     "metadata": {},
     "output_type": "display_data"
    }
   ],
   "source": [
    "display(Ltaylor.subs([(q,5),(L,10),(H,60)]).evalf())\n",
    "display(Lexact.subs([(q,5),(L,10),(H,60)]).evalf())"
   ]
  },
  {
   "cell_type": "code",
   "execution_count": null,
   "id": "6be47c46",
   "metadata": {},
   "outputs": [],
   "source": []
  }
 ],
 "metadata": {
  "kernelspec": {
   "display_name": "Python 3 (ipykernel)",
   "language": "python",
   "name": "python3"
  },
  "language_info": {
   "codemirror_mode": {
    "name": "ipython",
    "version": 3
   },
   "file_extension": ".py",
   "mimetype": "text/x-python",
   "name": "python",
   "nbconvert_exporter": "python",
   "pygments_lexer": "ipython3",
   "version": "3.9.13"
  }
 },
 "nbformat": 4,
 "nbformat_minor": 5
}
