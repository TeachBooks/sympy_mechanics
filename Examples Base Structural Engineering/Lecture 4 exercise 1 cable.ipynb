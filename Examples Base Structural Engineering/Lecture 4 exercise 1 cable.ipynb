{
 "cells": [
  {
   "cell_type": "code",
   "execution_count": 1,
   "id": "32e0ee96",
   "metadata": {},
   "outputs": [],
   "source": [
    "%reset -f\n",
    "import sympy as sp"
   ]
  },
  {
   "cell_type": "code",
   "execution_count": 2,
   "id": "65c4aa47",
   "metadata": {},
   "outputs": [],
   "source": [
    "L = sp.S(6)\n",
    "a = sp.S(2)\n",
    "b = sp.S(2)\n",
    "c = L - a - b\n",
    "q1 = sp.S(5)\n",
    "q2 = sp.S(0)\n",
    "q3 = sp.S(0)\n",
    "F = sp.S(15)"
   ]
  },
  {
   "cell_type": "code",
   "execution_count": 3,
   "id": "5196c10a",
   "metadata": {},
   "outputs": [
    {
     "data": {
      "text/latex": [
       "$\\displaystyle \\frac{35}{3}$"
      ],
      "text/plain": [
       "35/3"
      ]
     },
     "metadata": {},
     "output_type": "display_data"
    },
    {
     "data": {
      "text/latex": [
       "$\\displaystyle \\frac{175}{6}$"
      ],
      "text/plain": [
       "175/6"
      ]
     },
     "metadata": {},
     "output_type": "display_data"
    },
    {
     "data": {
      "text/latex": [
       "$\\displaystyle 29.1666666666667$"
      ],
      "text/plain": [
       "29.1666666666667"
      ]
     },
     "metadata": {},
     "output_type": "display_data"
    }
   ],
   "source": [
    "Bv = (q1*a*a/2+F*(a+b))/(a+b+c)\n",
    "display(Bv)\n",
    "H = Bv*c*5/4\n",
    "display(H)\n",
    "display(H.evalf())"
   ]
  },
  {
   "cell_type": "code",
   "execution_count": 4,
   "id": "d1165c95",
   "metadata": {},
   "outputs": [
    {
     "data": {
      "text/latex": [
       "$\\displaystyle - \\frac{5 x^{2}}{2 H} + \\frac{40 x}{3 H}$"
      ],
      "text/plain": [
       "-5*x**2/(2*H) + 40*x/(3*H)"
      ]
     },
     "metadata": {},
     "output_type": "display_data"
    },
    {
     "data": {
      "text/latex": [
       "$\\displaystyle \\frac{10 x}{3 H} + \\frac{10}{H}$"
      ],
      "text/plain": [
       "10*x/(3*H) + 10/H"
      ]
     },
     "metadata": {},
     "output_type": "display_data"
    },
    {
     "data": {
      "text/latex": [
       "$\\displaystyle - \\frac{35 x}{3 H} + \\frac{70}{H}$"
      ],
      "text/plain": [
       "-35*x/(3*H) + 70/H"
      ]
     },
     "metadata": {},
     "output_type": "display_data"
    }
   ],
   "source": [
    "H, x= sp.symbols('H x')\n",
    "C1, C2, C3, C4, C5, C6 = sp.symbols('C1 C2 C3 C4 C5 C6')\n",
    "z1, z2, z3 = sp.symbols('z1 z2 z3',cls=sp.Function)\n",
    "ODE1 = sp.Eq(H * sp.diff(z1(x),x,2) , -q1)\n",
    "ODE2 = sp.Eq(H * sp.diff(z2(x),x,2) , -q2)\n",
    "ODE3 = sp.Eq(H * sp.diff(z3(x),x,2) , -q3)\n",
    "sol = sp.dsolve([ODE1,ODE2,ODE3],[z1(x),z2(x),z3(x)])\n",
    "z1 = sol[0].rhs\n",
    "z2 = sol[1].rhs\n",
    "z3 = sol[2].rhs\n",
    "\n",
    "V1 = H * sp.diff(z1,x)\n",
    "V2 = H * sp.diff(z2,x)\n",
    "V3 = H * sp.diff(z3,x)\n",
    "\n",
    "eq1 = sp.Eq(z1.subs(x,0),0)\n",
    "eq2 = sp.Eq(z3.subs(x,L),0)\n",
    "eq3 = sp.Eq(z1.subs(x,a),z2.subs(x,a))\n",
    "eq4 = sp.Eq(V1.subs(x,a),V2.subs(x,b))\n",
    "eq5 = sp.Eq(z2.subs(x,a+b),z3.subs(x,a+b))\n",
    "eq6 = sp.Eq(V2.subs(x,a+b),V3.subs(x,a+b)+F)\n",
    "\n",
    "sol = sp.solve([eq1,eq2,eq3,eq4,eq5,eq6],[C1,C2,C3,C4,C5,C6])\n",
    "z1 = z1.subs(sol)\n",
    "z2 = z2.subs(sol)\n",
    "z3 = z3.subs(sol)\n",
    "display(z1)\n",
    "display(z2)\n",
    "display(z3)"
   ]
  },
  {
   "cell_type": "markdown",
   "id": "4169ea4d",
   "metadata": {},
   "source": [
    "exact"
   ]
  },
  {
   "cell_type": "code",
   "execution_count": 5,
   "id": "ee084997",
   "metadata": {},
   "outputs": [],
   "source": [
    "ds1 = sp.sqrt(1+sp.diff(z1,x)**2)\n",
    "ds2 = sp.sqrt(1+sp.diff(z2,x)**2)\n",
    "ds3 = sp.sqrt(1+sp.diff(z3,x)**2)"
   ]
  },
  {
   "cell_type": "markdown",
   "id": "805cc754",
   "metadata": {},
   "source": [
    "Taylor option 1"
   ]
  },
  {
   "cell_type": "code",
   "execution_count": 6,
   "id": "e9f4ce4c",
   "metadata": {},
   "outputs": [],
   "source": [
    "#ds1 = 1 + sp.diff(z1,x)**2/2\n",
    "#ds2 = 1 + sp.diff(z2,x)**2/2\n",
    "#ds3 = 1 + sp.diff(z3,x)**2/2"
   ]
  },
  {
   "cell_type": "markdown",
   "id": "14ca908f",
   "metadata": {},
   "source": [
    "Taylor option 1"
   ]
  },
  {
   "cell_type": "code",
   "execution_count": 7,
   "id": "65e2d5fa",
   "metadata": {},
   "outputs": [],
   "source": [
    "#ds1 = 1 + sp.diff(z1,x)**2/2 - sp.diff(z1,x)**4/8\n",
    "#ds2 = 1 + sp.diff(z2,x)**2/2 - sp.diff(z2,x)**4/8\n",
    "#ds3 = 1 + sp.diff(z3,x)**2/2 - sp.diff(z3,x)**4/8"
   ]
  },
  {
   "cell_type": "markdown",
   "id": "cbd00a44",
   "metadata": {},
   "source": [
    "Length of cable"
   ]
  },
  {
   "cell_type": "code",
   "execution_count": 10,
   "id": "9ae2e929",
   "metadata": {},
   "outputs": [
    {
     "data": {
      "text/latex": [
       "$\\displaystyle 6.39684931060322$"
      ],
      "text/plain": [
       "6.39684931060322"
      ]
     },
     "metadata": {},
     "output_type": "display_data"
    },
    {
     "data": {
      "text/latex": [
       "$\\displaystyle 29.1666666666667$"
      ],
      "text/plain": [
       "29.1666666666667"
      ]
     },
     "execution_count": 10,
     "metadata": {},
     "output_type": "execute_result"
    }
   ],
   "source": [
    "LL = sp.integrate(ds1.subs(H,sp.S(175/6)),(x,sp.S(0),a))+sp.integrate(ds2.subs(H,sp.S(175/6)),(x,a,b))+sp.integrate(ds3.subs(H,sp.S(175/6)),(x,b,L))\n",
    "display(LL)\n",
    "eq7 = sp.Eq(sp.integrate(ds1,(x,0,a))+sp.integrate(ds2,(x,a,b))+sp.integrate(ds3,(x,b,L)),LL)\n",
    "H_sol = sp.nsolve(eq7,H,30)\n",
    "H_sol"
   ]
  },
  {
   "cell_type": "code",
   "execution_count": 11,
   "id": "fca304ca",
   "metadata": {},
   "outputs": [
    {
     "data": {
      "image/png": "[encoded data removed]",
      "text/plain": [
       "<Figure size 640x480 with 1 Axes>"
      ]
     },
     "metadata": {},
     "output_type": "display_data"
    }
   ],
   "source": [
    "z1_sol = z1.subs(H,H_sol)\n",
    "z2_sol = z2.subs(H,H_sol)\n",
    "z3_sol = z3.subs(H,H_sol)\n",
    "sp.plot((-z1_sol,(x,0,a)),(-z2_sol,(x,a,a+b)),(-z3_sol,(x,a+b,L)));"
   ]
  },
  {
   "cell_type": "markdown",
   "id": "88af43d4",
   "metadata": {},
   "source": [
    "Alternative"
   ]
  },
  {
   "cell_type": "code",
   "execution_count": 12,
   "id": "77fcf133",
   "metadata": {},
   "outputs": [],
   "source": [
    "%reset -f\n",
    "import sympy as sp"
   ]
  },
  {
   "cell_type": "code",
   "execution_count": 13,
   "id": "cb751a82",
   "metadata": {},
   "outputs": [
    {
     "data": {
      "image/png": "[encoded data removed]",
      "text/plain": [
       "<Figure size 640x480 with 1 Axes>"
      ]
     },
     "metadata": {},
     "output_type": "display_data"
    },
    {
     "data": {
      "text/latex": [
       "$\\displaystyle 25.0$"
      ],
      "text/plain": [
       "25.0000000000000"
      ]
     },
     "execution_count": 13,
     "metadata": {},
     "output_type": "execute_result"
    }
   ],
   "source": [
    "L = sp.S(6)\n",
    "a = sp.S(2)\n",
    "b = sp.S(2)\n",
    "c = L - a - b\n",
    "F = sp.S(15)\n",
    "q0 = sp.S(5)\n",
    "\n",
    "H, x= sp.symbols('H x')\n",
    "C1, C2 = sp.symbols('C1 C2')\n",
    "z = sp.symbols('z',cls=sp.Function)\n",
    "\n",
    "q = q0*(sp.S(1)-sp.Heaviside(x-a))+F*sp.DiracDelta(x-(a+b))\n",
    "sp.plot(q,(x,0,L))\n",
    "sp.integrate(q,(x,0,L)).evalf()"
   ]
  },
  {
   "cell_type": "code",
   "execution_count": 14,
   "id": "65dd5c1a",
   "metadata": {},
   "outputs": [],
   "source": [
    "ODE = sp.Eq(H * sp.diff(z(x),x,2) , -q)\n",
    "sol = sp.dsolve(ODE,z(x))\n",
    "z = sol.rhs\n",
    "\n",
    "V = H * sp.diff(z,x)\n",
    "\n",
    "eq1 = sp.Eq(z.subs(x,0),0)\n",
    "eq2 = sp.Eq(z.subs(x,L),0)\n",
    "\n",
    "sol = sp.solve([eq1,eq2,],[C1,C2])\n",
    "z = z.subs(sol)\n",
    "\n"
   ]
  },
  {
   "cell_type": "code",
   "execution_count": 15,
   "id": "7d9caba2",
   "metadata": {},
   "outputs": [
    {
     "data": {
      "text/latex": [
       "$\\displaystyle 29.1666666666667$"
      ],
      "text/plain": [
       "29.1666666666667"
      ]
     },
     "metadata": {},
     "output_type": "display_data"
    }
   ],
   "source": [
    "eq3 = sp.Eq(z.subs(x,a+b),sp.S(0.8))\n",
    "H_sol = sp.nsolve(eq3,H,30)\n",
    "display(H_sol)"
   ]
  },
  {
   "cell_type": "code",
   "execution_count": 16,
   "id": "d77039fa",
   "metadata": {},
   "outputs": [
    {
     "data": {
      "image/png": "[encoded data removed]",
      "text/plain": [
       "<Figure size 640x480 with 1 Axes>"
      ]
     },
     "metadata": {},
     "output_type": "display_data"
    },
    {
     "data": {
      "text/plain": [
       "<sympy.plotting.plot.Plot at 0x2671d9fd670>"
      ]
     },
     "execution_count": 16,
     "metadata": {},
     "output_type": "execute_result"
    }
   ],
   "source": [
    "z_sol = z.subs(H,H_sol)\n",
    "sp.plot(-z_sol,(x,0,L))"
   ]
  },
  {
   "cell_type": "code",
   "execution_count": null,
   "id": "aa99ddf6",
   "metadata": {},
   "outputs": [],
   "source": [
    "ds = sp.sqrt(1+sp.diff(z.subs(H,sp.S(175/6)),x)**2)\n",
    "LL = sp.integrate(ds,(x,0,L))\n",
    "display(LL)"
   ]
  },
  {
   "cell_type": "code",
   "execution_count": null,
   "id": "55b53350",
   "metadata": {
    "scrolled": false
   },
   "outputs": [],
   "source": []
  },
  {
   "cell_type": "code",
   "execution_count": null,
   "id": "f5ba7e0b",
   "metadata": {},
   "outputs": [],
   "source": []
  }
 ],
 "metadata": {
  "kernelspec": {
   "display_name": "Python 3 (ipykernel)",
   "language": "python",
   "name": "python3"
  },
  "language_info": {
   "codemirror_mode": {
    "name": "ipython",
    "version": 3
   },
   "file_extension": ".py",
   "mimetype": "text/x-python",
   "name": "python",
   "nbconvert_exporter": "python",
   "pygments_lexer": "ipython3",
   "version": "3.9.13"
  }
 },
 "nbformat": 4,
 "nbformat_minor": 5
}
