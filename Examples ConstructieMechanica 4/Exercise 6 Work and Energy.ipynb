{
 "cells": [
  {
   "cell_type": "code",
   "execution_count": 1,
   "id": "2441eddc",
   "metadata": {},
   "outputs": [],
   "source": [
    "import sympy as sp"
   ]
  },
  {
   "cell_type": "code",
   "execution_count": 27,
   "id": "989f7349",
   "metadata": {},
   "outputs": [
    {
     "data": {
      "text/latex": [
       "$\\displaystyle \\frac{5 \\rho + 24}{\\rho + 3}$"
      ],
      "text/plain": [
       "(5*rho + 24)/(rho + 3)"
      ]
     },
     "metadata": {},
     "output_type": "display_data"
    },
    {
     "data": {
      "text/latex": [
       "$\\displaystyle - \\frac{120 \\rho \\left(8 - \\frac{25 \\rho + 120}{5 \\left(\\rho + 3\\right)}\\right)}{8 \\rho + 24} + \\frac{5 \\left(8 - \\frac{25 \\rho + 120}{5 \\left(\\rho + 3\\right)}\\right)^{2}}{2}$"
      ],
      "text/plain": [
       "-120*rho*(8 - (25*rho + 120)/(5*(rho + 3)))/(8*rho + 24) + 5*(8 - (25*rho + 120)/(5*(rho + 3)))**2/2"
      ]
     },
     "metadata": {},
     "output_type": "display_data"
    },
    {
     "data": {
      "text/latex": [
       "$\\displaystyle - \\frac{24}{11}$"
      ],
      "text/plain": [
       "-24/11"
      ]
     },
     "metadata": {},
     "output_type": "display_data"
    },
    {
     "data": {
      "text/latex": [
       "$\\displaystyle \\frac{3 L^{2} q}{2}$"
      ],
      "text/plain": [
       "3*L**2*q/2"
      ]
     },
     "metadata": {},
     "output_type": "display_data"
    },
    {
     "data": {
      "text/latex": [
       "$\\displaystyle - \\frac{3 L^{2} q}{2}$"
      ],
      "text/plain": [
       "-3*L**2*q/2"
      ]
     },
     "metadata": {},
     "output_type": "display_data"
    },
    {
     "data": {
      "text/latex": [
       "$\\displaystyle 480.0$"
      ],
      "text/plain": [
       "480.000000000000"
      ]
     },
     "metadata": {},
     "output_type": "display_data"
    },
    {
     "data": {
      "text/latex": [
       "$\\displaystyle -160.0$"
      ],
      "text/plain": [
       "-160.000000000000"
      ]
     },
     "metadata": {},
     "output_type": "display_data"
    },
    {
     "data": {
      "text/latex": [
       "$\\displaystyle - 40 x + \\frac{5 \\left(8 - x\\right)^{2}}{2} + 320$"
      ],
      "text/plain": [
       "-40*x + 5*(8 - x)**2/2 + 320"
      ]
     },
     "metadata": {},
     "output_type": "display_data"
    },
    {
     "data": {
      "image/png": "[encoded data removed]",
      "text/plain": [
       "<Figure size 640x480 with 1 Axes>"
      ]
     },
     "metadata": {},
     "output_type": "display_data"
    }
   ],
   "source": [
    "rho, EI, L, q, x, Fv, Q = sp.symbols('rho EI L q x Fv Q')\n",
    "numset = {EI : 10000, L : 8, q : 5, Q : 0}\n",
    "k = rho * EI / L**3\n",
    "M = q * (L-x)**2 / 2 - (Q-Fv)*(L-x)\n",
    "Ev1 = sp.integrate(M**2/(2*EI),(x,0,L))\n",
    "Ev2 = Fv**2 / (2 * k)\n",
    "w1 = sp.diff(Ev1, Q)\n",
    "w2 = sp.diff(Ev2, Fv)\n",
    "eq1 = sp.Eq(w1.subs(Q,0),w2.subs(Q,0))\n",
    "Fv_sol = sp.solve(eq1,Fv)[0]\n",
    "M_sol = M.subs(Fv,Fv_sol)\n",
    "V = sp.diff(M_sol,x)\n",
    "xmax = sp.solve(V,x)[0]\n",
    "display(sp.simplify(xmax.subs(numset)))\n",
    "Mmax = M_sol.subs(x,xmax)\n",
    "display(Mmax.subs(numset))\n",
    "Mi = M_sol.subs(x,0)\n",
    "Eq2 = sp.Eq(Mi,-3*Mmax)\n",
    "rho_sol = sp.solve(Eq2,rho)[0]\n",
    "display(rho_sol.subs(numset))\n",
    "Mi_sol = Mi.subs(rho,rho_sol)\n",
    "Mmax_sol = Mmax.subs(rho,rho_sol)\n",
    "display(sp.simplify(Mi_sol))\n",
    "display(sp.simplify(3*Mmax_sol))\n",
    "Mi_sub = Mi_sol.subs(numset)\n",
    "Mmax_sub = Mmax_sol.subs(numset)\n",
    "display(Mi_sub.evalf())\n",
    "display(Mmax_sub.evalf())\n",
    "M_sub = M_sol.subs(rho,rho_sol).subs(numset)\n",
    "display(M_sub)\n",
    "sp.plot(-M_sub,(x,0,8));"
   ]
  },
  {
   "cell_type": "code",
   "execution_count": null,
   "id": "db34ceaf",
   "metadata": {},
   "outputs": [],
   "source": []
  },
  {
   "cell_type": "code",
   "execution_count": null,
   "id": "98021471",
   "metadata": {},
   "outputs": [],
   "source": []
  }
 ],
 "metadata": {
  "kernelspec": {
   "display_name": "Python 3 (ipykernel)",
   "language": "python",
   "name": "python3"
  },
  "language_info": {
   "codemirror_mode": {
    "name": "ipython",
    "version": 3
   },
   "file_extension": ".py",
   "mimetype": "text/x-python",
   "name": "python",
   "nbconvert_exporter": "python",
   "pygments_lexer": "ipython3",
   "version": "3.9.13"
  }
 },
 "nbformat": 4,
 "nbformat_minor": 5
}
