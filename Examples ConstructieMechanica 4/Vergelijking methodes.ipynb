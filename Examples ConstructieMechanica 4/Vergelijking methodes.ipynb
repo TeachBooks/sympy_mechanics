{
 "cells": [
  {
   "cell_type": "markdown",
   "id": "a7f3236a",
   "metadata": {},
   "source": [
    "<div>\n",
    "<img src=\"data\\data_Vergelijking methodes\\Constructie.gif\" width=\"500\"/>\n",
    "</div>"
   ]
  },
  {
   "cell_type": "code",
   "execution_count": 1,
   "id": "35b2b36c",
   "metadata": {},
   "outputs": [],
   "source": [
    "import sympy as sp"
   ]
  },
  {
   "cell_type": "markdown",
   "id": "6f815271",
   "metadata": {},
   "source": [
    "## Krachten ##"
   ]
  },
  {
   "cell_type": "code",
   "execution_count": 2,
   "id": "ec637e75",
   "metadata": {},
   "outputs": [
    {
     "data": {
      "text/latex": [
       "$\\displaystyle Am {\\left\\langle x \\right\\rangle}^{-2} + Av {\\left\\langle x \\right\\rangle}^{-1} + Bv {\\left\\langle x - 6 \\right\\rangle}^{-1} + F {\\left\\langle x - 2.5 \\right\\rangle}^{-1} + q_{0}$"
      ],
      "text/plain": [
       "Am*SingularityFunction(x, 0, -2) + Av*SingularityFunction(x, 0, -1) + Bv*SingularityFunction(x, 6, -1) + F*SingularityFunction(x, 2.5, -1) + q0"
      ]
     },
     "metadata": {},
     "output_type": "display_data"
    }
   ],
   "source": [
    "Am, Av, Bv, x, q0, F = sp.symbols('Am Av Bv x q0 F')\n",
    "q = sp.SingularityFunction(x,0,-2)*Am + sp.SingularityFunction(x,0,-1)*Av + q0 + sp.SingularityFunction(x,2.5,-1)*F + sp.SingularityFunction(x,6,-1)*Bv\n",
    "display(q)"
   ]
  },
  {
   "cell_type": "markdown",
   "id": "02841c65",
   "metadata": {},
   "source": [
    "### Differentiaalvergelijking ###\n",
    "$$q(x)= Am{\\left\\langle x \\right\\rangle ^{ - 2}} + Av{\\left\\langle x \\right\\rangle ^{ - 1}} + Bv{\\left\\langle {x - 6} \\right\\rangle ^{ - 1}} + F{\\left\\langle {x - 2.5} \\right\\rangle ^{ - 1}} + {q_0}$$\n",
    "$$\\eqalign{\n",
    "  & V\\left( x \\right) =  - \\int {q\\left( x \\right)dx}   \\cr \n",
    "  & M\\left( x \\right) = \\int {V\\left( x \\right)dx}   \\cr \n",
    "  & M\\left( 6 \\right) = 0  \\cr \n",
    "  & M\\left( {2.5} \\right) = 0 \\cr} $$"
   ]
  },
  {
   "cell_type": "code",
   "execution_count": 3,
   "id": "7a7e1316",
   "metadata": {},
   "outputs": [
    {
     "data": {
      "text/latex": [
       "$\\displaystyle - Am - 6 Av + 6 C_{1} + C_{2} - 3.5 F - 18 q_{0} = 0$"
      ],
      "text/plain": [
       "Eq(-Am - 6*Av + 6*C1 + C2 - 3.5*F - 18*q0, 0)"
      ]
     },
     "metadata": {},
     "output_type": "display_data"
    },
    {
     "data": {
      "text/latex": [
       "$\\displaystyle - Am - 2.5 Av + 2.5 C_{1} + C_{2} - 3.125 q_{0} = 0$"
      ],
      "text/plain": [
       "Eq(-Am - 2.5*Av + 2.5*C1 + C2 - 3.125*q0, 0)"
      ]
     },
     "metadata": {},
     "output_type": "display_data"
    },
    {
     "data": {
      "text/plain": [
       "{C1: Av + F + 4.25*q0, C2: Am - 2.5*F - 7.5*q0}"
      ]
     },
     "metadata": {},
     "output_type": "display_data"
    },
    {
     "data": {
      "text/latex": [
       "$\\displaystyle -162.5$"
      ],
      "text/plain": [
       "-162.500000000000"
      ]
     },
     "metadata": {},
     "output_type": "display_data"
    }
   ],
   "source": [
    "C1, C2 = sp.symbols('C1, C2')\n",
    "V = -sp.integrate(q,x) + C1\n",
    "M = sp.integrate(V,x) + C2\n",
    "eq1 = sp.Eq(M.subs(x,6),0)\n",
    "eq2 = sp.Eq(M.subs(x,2.5),0)\n",
    "display(eq1)\n",
    "display(eq2)\n",
    "sol = sp.solve((eq1,eq2),(C1,C2))\n",
    "display(sol)\n",
    "M_sol = M.subs(sol)\n",
    "M_subs = M_sol.subs(((F,50),(q0,5)))\n",
    "A_m_1 = M_subs.subs(x,0)\n",
    "display(A_m_1)"
   ]
  },
  {
   "attachments": {},
   "cell_type": "markdown",
   "id": "cc43543a",
   "metadata": {},
   "source": [
    "### Evenwichtsvergelijkingen ###\n",
    "<div>\n",
    "<img src=\"data\\data_Vergelijking methodes\\Oplegreacties.gif\" width=\"500\"/>\n",
    "</div>\n",
    "$$\\sum M_C : - Am - 2.5 Av - 3.125 q_{0} = 0 $$\n",
    "$$\\sum F_v : - Av - Bv - F - 6 q_{0} = 0 $$\n",
    "$$\\sum M_B : - Am - 6 Av - 3.5 F - 18 q_{0} = 0$$"
   ]
  },
  {
   "cell_type": "code",
   "execution_count": 4,
   "id": "26fc8f8a",
   "metadata": {},
   "outputs": [
    {
     "data": {
      "text/latex": [
       "$\\displaystyle - Am - 2.5 Av - 3.125 q_{0} = 0$"
      ],
      "text/plain": [
       "Eq(-Am - 2.5*Av - 3.125*q0, 0)"
      ]
     },
     "metadata": {},
     "output_type": "display_data"
    },
    {
     "data": {
      "text/latex": [
       "$\\displaystyle - Av - Bv - F - 6 q_{0} = 0$"
      ],
      "text/plain": [
       "Eq(-Av - Bv - F - 6*q0, 0)"
      ]
     },
     "metadata": {},
     "output_type": "display_data"
    },
    {
     "data": {
      "text/latex": [
       "$\\displaystyle - Am - 6 Av - 3.5 F - 18 q_{0} = 0$"
      ],
      "text/plain": [
       "Eq(-Am - 6*Av - 3.5*F - 18*q0, 0)"
      ]
     },
     "metadata": {},
     "output_type": "display_data"
    },
    {
     "data": {
      "text/plain": [
       "{Am: 2.5*F + 7.5*q0, Av: -F - 4.25*q0, Bv: -1.75*q0}"
      ]
     },
     "metadata": {},
     "output_type": "display_data"
    },
    {
     "data": {
      "text/latex": [
       "$\\displaystyle 162.5$"
      ],
      "text/plain": [
       "162.500000000000"
      ]
     },
     "metadata": {},
     "output_type": "display_data"
    }
   ],
   "source": [
    "V = -sp.integrate(q,x)\n",
    "M = sp.integrate(V,x)\n",
    "eq3 = sp.Eq(M.subs(x,2.5),0)\n",
    "eq4 = sp.Eq(V.subs(x,6),0)\n",
    "eq5 = sp.Eq(M.subs(x,6),0)\n",
    "display(eq3)\n",
    "display(eq4)\n",
    "display(eq5)\n",
    "sol2 = sp.solve((eq3,eq4,eq5),(Am,Av,Bv))\n",
    "display(sol2)\n",
    "A_m_2 = sol2[Am].subs(((F,50),(q0,5)))\n",
    "display(A_m_2)"
   ]
  },
  {
   "attachments": {},
   "cell_type": "markdown",
   "id": "b8f5f7a8",
   "metadata": {},
   "source": [
    "### Virtuele arbeidmethode / virtuele verplaatsingenmethode ###\n",
    "<div>\n",
    "<img src=\"data\\data_Vergelijking methodes\\Virtuele arbeid.gif\" width=\"500\"/>\n",
    "</div>\n",
    "$$\\delta A = 0 : \\frac{A_m\\delta u}{2.5} = 50\\delta u+5\\cdot2.5\\cdot\\frac{1}{2}\\delta u+5\\cdot3.5\\cdot \\frac{1}{2}\\delta u$$"
   ]
  },
  {
   "cell_type": "code",
   "execution_count": 5,
   "id": "0c37bb01",
   "metadata": {},
   "outputs": [
    {
     "data": {
      "text/plain": [
       "162.5"
      ]
     },
     "metadata": {},
     "output_type": "display_data"
    }
   ],
   "source": [
    "A_m_3 = 2.5*(50+5*2.5*0.5+5*3.5*0.5)\n",
    "display(A_m_3)"
   ]
  },
  {
   "cell_type": "markdown",
   "id": "69d39905",
   "metadata": {},
   "source": [
    "## Verplaatsingen ##"
   ]
  },
  {
   "cell_type": "code",
   "execution_count": 6,
   "id": "bac62f13",
   "metadata": {},
   "outputs": [
    {
     "data": {
      "text/latex": [
       "$\\displaystyle \\begin{cases} q_{0} \\left(- 0.5 x^{2} + 6.0 x - 18.0\\right) & \\text{for}\\: x > 6 \\\\q_{0} \\left(- 0.5 x^{2} + 4.25 x - 7.5\\right) & \\text{for}\\: x > 2.5 \\\\- 2.5 F - \\frac{q_{0} x^{2}}{2} - 7.5 q_{0} + x \\left(F + 4.25 q_{0}\\right) & \\text{for}\\: x > 0 \\\\- \\frac{q_{0} x^{2}}{2} & \\text{otherwise} \\end{cases}$"
      ],
      "text/plain": [
       "Piecewise((q0*(-0.5*x**2 + 6.0*x - 18.0), x > 6), (q0*(-0.5*x**2 + 4.25*x - 7.5), x > 2.5), (-2.5*F - q0*x**2/2 - 7.5*q0 + x*(F + 4.25*q0), x > 0), (-q0*x**2/2, True))"
      ]
     },
     "metadata": {},
     "output_type": "display_data"
    },
    {
     "data": {
      "text/latex": [
       "$\\displaystyle \\begin{cases} - 2.5 x^{2} + 30.0 x - 90.0 & \\text{for}\\: x > 6 \\\\- 2.5 x^{2} + 21.25 x - 37.5 & \\text{for}\\: x > 2.5 \\\\- 2.5 x^{2} + 71.25 x - 162.5 & \\text{for}\\: x > 0 \\\\- \\frac{5 x^{2}}{2} & \\text{otherwise} \\end{cases}$"
      ],
      "text/plain": [
       "Piecewise((-2.5*x**2 + 30.0*x - 90.0, x > 6), (-2.5*x**2 + 21.25*x - 37.5, x > 2.5), (-2.5*x**2 + 71.25*x - 162.5, x > 0), (-5*x**2/2, True))"
      ]
     },
     "metadata": {},
     "output_type": "display_data"
    }
   ],
   "source": [
    "M_sol = M.subs(sol2)\n",
    "M_subs = M_sol.subs(((F,50),(q0,5)))\n",
    "M_sol_piecewise = sp.simplify(M_sol.rewrite(sp.Piecewise))\n",
    "display(M_sol_piecewise)\n",
    "M_subs_piecewise = sp.simplify(M_subs.rewrite(sp.Piecewise))\n",
    "display(M_subs_piecewise)"
   ]
  },
  {
   "cell_type": "markdown",
   "id": "ffe06f17",
   "metadata": {},
   "source": [
    "### Differentiaalvergelijking ###\n",
    "\n",
    "$$\\eqalign{\n",
    "  & M\\left( x \\right) = \\left\\{ {\\matrix{\n",
    "   {{q_0}\\left( { - 0.5{x^2} + 4.25x - 7.5} \\right)} & {{\\rm{for}}\\>x > 2.5}  \\cr \n",
    "   { - 2.5F - {{{q_0}{x^2}} \\over 2} - 7.5{q_0} + x\\left( {F + 4.25{q_0}} \\right)} & {{\\rm{for}}\\>x > 0}  \\cr  } } \\right.  \\cr \n",
    "  & \\kappa  = {M \\over {EI}}  \\cr \n",
    "  & \\varphi  = \\int {\\kappa dx}  + {C_4}{\\left\\langle {x - 2.5} \\right\\rangle ^0}  \\cr \n",
    "  & w =  - \\int {\\varphi dx}   \\cr \n",
    "  & w\\left( 0 \\right) = 0  \\cr \n",
    "  & \\varphi \\left( 0 \\right) = 0  \\cr \n",
    "  & w\\left( 6 \\right) = 6 \\cr} $$"
   ]
  },
  {
   "cell_type": "code",
   "execution_count": 7,
   "id": "700c5384",
   "metadata": {},
   "outputs": [
    {
     "data": {
      "text/plain": [
       "{C3: 0.0, C4: 0.000230654761904762*F + 0.000514285714285714*q0, C5: 0.0}"
      ]
     },
     "metadata": {},
     "output_type": "display_data"
    },
    {
     "data": {
      "text/latex": [
       "$\\displaystyle 0.0165201822916667$"
      ],
      "text/plain": [
       "0.0165201822916667"
      ]
     },
     "metadata": {},
     "output_type": "display_data"
    }
   ],
   "source": [
    "C3,C4,C5 = sp.symbols('C3, C4, C5')\n",
    "kappa = M_sol / 2e4\n",
    "phi = sp.integrate(kappa,x)+C3 + C4 * sp.SingularityFunction(x,2.5,0)\n",
    "w = -sp.integrate(phi,x)+C5\n",
    "eq6 = sp.Eq(phi.subs(x,0),0)\n",
    "eq7 = sp.Eq(w.subs(x,0),0)\n",
    "eq8 = sp.Eq(w.subs(x,6),0)\n",
    "sol3 = sp.solve((eq6,eq7,eq8),(C3,C4,C5))\n",
    "display(sol3)\n",
    "w_sol = w.subs(sol3)\n",
    "w_subs = w_sol.subs(((F,50),(q0,5)))\n",
    "w_subs_piecewise = sp.simplify(w_subs.rewrite(sp.Piecewise))\n",
    "w_C_1 = w_subs.subs(x,2.5)\n",
    "display(w_C_1)"
   ]
  },
  {
   "cell_type": "markdown",
   "id": "7ad3228d",
   "metadata": {},
   "source": [
    "### Virtuele krachtenmethode ###\n",
    "$$M\\left( x \\right) = \\left\\{ {\\matrix{\n",
    "   {{q_0}\\left( { - 0.5{x^2} + 4.25x - 7.5} \\right)} & {{\\rm{for}}\\>x > 2.5}  \\cr \n",
    "   { - 2.5F - {{{q_0}{x^2}} \\over 2} - 7.5{q_0} + x\\left( {F + 4.25{q_0}} \\right)} & {{\\rm{for}}\\>x > 0}  \\cr  } } \\right.$$\n",
    "   \n",
    "   \n",
    "$$m(x):$$\n",
    "<div>\n",
    "<img src=\"data\\data_Vergelijking methodes\\Virtuele kracht.gif\" width=\"500\"/>\n",
    "</div>\n",
    "\n",
    "$$\\eqalign{\n",
    "  & m\\left( x \\right) = \\left\\{ {\\matrix{\n",
    "   0 \\hfill & {{\\rm{for}}\\>x > 2.5} \\hfill  \\cr \n",
    "   {x - 2.5} \\hfill & {{\\rm{for}}\\>x > 0} \\hfill  \\cr \n",
    "   0 \\hfill & {{\\rm{otherwise}}} \\hfill  \\cr  } } \\right.  \\cr \n",
    "  & w_C = \\int_0^{2.5} {{{\\left( {x - 2.5} \\right)\\left( { - 2.5{x^2} + 71.25x - 162.5} \\right)} \\over {2 \\cdot {{10}^4}}}} dx \\cr}$$"
   ]
  },
  {
   "cell_type": "code",
   "execution_count": 8,
   "id": "54d69e76",
   "metadata": {},
   "outputs": [
    {
     "data": {
      "text/plain": [
       "{Am: 2.5*deltaF, Av: -deltaF, Bv: 0.0}"
      ]
     },
     "metadata": {},
     "output_type": "display_data"
    },
    {
     "data": {
      "image/png": "[encoded data removed]",
      "text/plain": [
       "<Figure size 640x480 with 1 Axes>"
      ]
     },
     "metadata": {},
     "output_type": "display_data"
    },
    {
     "data": {
      "text/latex": [
       "$\\displaystyle \\begin{cases} 0 & \\text{for}\\: x > 2.5 \\\\deltaF \\left(x - 2.5\\right) & \\text{for}\\: x > 0 \\\\0 & \\text{otherwise} \\end{cases}$"
      ],
      "text/plain": [
       "Piecewise((0, x > 2.5), (deltaF*(x - 2.5), x > 0), (0, True))"
      ]
     },
     "metadata": {},
     "output_type": "display_data"
    },
    {
     "data": {
      "text/latex": [
       "$\\displaystyle \\begin{cases} 0 & \\text{for}\\: x > 2.5 \\\\x - 2.5 & \\text{for}\\: x > 0 \\\\0 & \\text{otherwise} \\end{cases}$"
      ],
      "text/plain": [
       "Piecewise((0, x > 2.5), (x - 2.5, x > 0), (0, True))"
      ]
     },
     "metadata": {},
     "output_type": "display_data"
    }
   ],
   "source": [
    "deltaF = sp.symbols('deltaF')\n",
    "deltaq = sp.SingularityFunction(x,0,-2)*Am + sp.SingularityFunction(x,0,-1)*Av + sp.SingularityFunction(x,2.5,-1)*deltaF + sp.SingularityFunction(x,6,-1)*Bv\n",
    "deltaV = -sp.integrate(deltaq,x)\n",
    "deltaM = sp.integrate(deltaV,x)\n",
    "eq9 = sp.Eq(deltaM.subs(x,2.5),0)\n",
    "eq10 = sp.Eq(deltaV.subs(x,6),0)\n",
    "eq11 = sp.Eq(deltaM.subs(x,6),0)\n",
    "deltasol = sp.solve((eq9,eq10,eq11),(Am,Av,Bv))\n",
    "display(deltasol)\n",
    "deltaM_sol = deltaM.subs(deltasol)\n",
    "deltaM_subs = deltaM_sol.subs(deltaF,1)\n",
    "sp.plot(-deltaM_subs,(x,0,6))\n",
    "deltaM_sol_piecewise = sp.simplify(deltaM_sol.rewrite(sp.Piecewise))\n",
    "display(deltaM_sol_piecewise)\n",
    "deltaM_subs_piecewise = sp.simplify(deltaM_subs.rewrite(sp.Piecewise))\n",
    "display(deltaM_subs_piecewise)"
   ]
  },
  {
   "cell_type": "code",
   "execution_count": 9,
   "id": "356ad4cc",
   "metadata": {},
   "outputs": [
    {
     "data": {
      "text/latex": [
       "$\\displaystyle 0.0165201822916667$"
      ],
      "text/plain": [
       "0.0165201822916667"
      ]
     },
     "metadata": {},
     "output_type": "display_data"
    }
   ],
   "source": [
    "w_C_2 = sp.integrate(deltaM_subs_piecewise.args[1][0]*M_subs_piecewise.args[2][0],(x,0,2.5)) / 2e4\n",
    "display(w_C_2)"
   ]
  },
  {
   "cell_type": "markdown",
   "id": "d7956f96",
   "metadata": {},
   "source": [
    "### Castigliano ### "
   ]
  },
  {
   "cell_type": "markdown",
   "id": "c74b9ef1",
   "metadata": {},
   "source": [
    "\n",
    "$$\\eqalign{\n",
    "  & M\\left( x \\right) = \\left\\{ {\\matrix{\n",
    "   {{q_0}\\left( { - 0.5{x^2} + 4.25x - 7.5} \\right)} & {{\\rm{for}}\\>x > 2.5}  \\cr \n",
    "   { - 2.5F - {{{q_0}{x^2}} \\over 2} - 7.5{q_0} + x\\left( {F + 4.25{q_0}} \\right)} & {{\\rm{for}}\\>x > 0}  \\cr  } } \\right.  \\cr \n",
    "  & {{M\\left( x \\right)} \\over {dF}} = \\left\\{ {\\matrix{\n",
    "   0 & {{\\rm{for}}\\>x > 2.5}  \\cr \n",
    "   {x - 2.5} & {{\\rm{for}}\\>x > 0}  \\cr  } } \\right.  \\cr \n",
    "  & {w_C} = \\int_0^{2.5} {{{M\\left( x \\right)} \\over {2 \\cdot {{10}^4}}}{{M\\left( x \\right)} \\over {dF}}} dx \\cr} $$"
   ]
  },
  {
   "cell_type": "code",
   "execution_count": 10,
   "id": "b6a360e7",
   "metadata": {},
   "outputs": [
    {
     "data": {
      "text/latex": [
       "$\\displaystyle 0.0165201822916667$"
      ],
      "text/plain": [
       "0.0165201822916667"
      ]
     },
     "metadata": {},
     "output_type": "display_data"
    }
   ],
   "source": [
    "w_C_3 = sp.integrate(M_sol_piecewise.args[2][0]*M_sol_piecewise.args[2][0].diff(F),(x,0,2.5))/2e4\n",
    "display(w_C_3.subs(((F,50),(q0,5))))"
   ]
  },
  {
   "cell_type": "markdown",
   "id": "278b9357",
   "metadata": {},
   "source": [
    "### Potentiële energie ###\n",
    "\n",
    "$$\\eqalign{\n",
    "  & {w_1} = {a_1}{x^4} + {a_2}{x^3} + {a_3}{x^2} + {a_4}x + {a_5} & {\\rm{for 0}} \\le x \\le 2.5  \\cr \n",
    "  & {w_2} = {b_1}{x^4} + {b_2}{x^3} + {b_3}{x^2} + {b_4}x + {b_5} & {\\rm{for 2}}{\\rm{.5}} \\le x \\le 6  \\cr \n",
    "  & \\left. \\matrix{\n",
    "  {w_1}\\left( 0 \\right) = 0 \\hfill \\cr \n",
    "  {\\varphi _1}\\left( 0 \\right) = 0 \\hfill \\cr \n",
    "  {w_1}\\left( {2.5} \\right) = {w_2}\\left( {2.5} \\right) \\hfill \\cr \n",
    "  {w_2}\\left( 6 \\right) = 0 \\hfill \\cr}  \\right\\} \\to {a_4},{a_5},{b_4},{b_5}  \\cr \n",
    "  & \\kappa  =  - {{{d^2}w} \\over {d{x^2}}}  \\cr \n",
    "  & V = \\int_0^6 {{{EI{\\kappa ^2}} \\over 2}} dx - 50 \\cdot w\\left( {2.5} \\right) - \\int_0^6 {q \\cdot w\\left( x \\right)} dx  \\cr \n",
    "  & \\left. \\matrix{\n",
    "  {{\\partial V} \\over {\\partial {a_1}}} = 0 \\hfill \\cr \n",
    "  {{\\partial V} \\over {\\partial {a_2}}} = 0 \\hfill \\cr \n",
    "  {{\\partial V} \\over {\\partial {a_3}}} = 0 \\hfill \\cr \n",
    "  {{\\partial V} \\over {\\partial {b_1}}} = 0 \\hfill \\cr \n",
    "  {{\\partial V} \\over {\\partial {b_2}}} = 0 \\hfill \\cr \n",
    "  {{\\partial V} \\over {\\partial {b_3}}} = 0 \\hfill \\cr}  \\right\\} \\to {a_1},{a_2},{a_3},{b_1},{b_2},{b_3} \\cr} $$"
   ]
  },
  {
   "cell_type": "code",
   "execution_count": 11,
   "id": "09b3c7de",
   "metadata": {},
   "outputs": [
    {
     "data": {
      "text/plain": [
       "{a4: 0.0,\n",
       " a5: 0.0,\n",
       " b4: -11.1607142857143*a1 - 4.46428571428571*a2 - 1.78571428571429*a3 - 359.125*b1 - 57.25*b2 - 8.5*b3,\n",
       " b5: 66.9642857142857*a1 + 26.7857142857143*a2 + 10.7142857142857*a3 + 858.75*b1 + 127.5*b2 + 15.0*b3}"
      ]
     },
     "metadata": {},
     "output_type": "display_data"
    },
    {
     "data": {
      "text/latex": [
       "$\\displaystyle 28125000.0 a_{1}^{2} + 14062500.0 a_{1} a_{2} + 2500000.0 a_{1} a_{3} - 2392.578125 a_{1} + 1875000.0 a_{2}^{2} + 750000.0 a_{2} a_{3} - 966.796875 a_{2} + 100000.0 a_{3}^{2} - 393.229166666667 a_{3} + 2211363000.0 b_{1}^{2} + 452497500.0 b_{1} b_{2} + 32060000.0 b_{1} b_{3} + 4003.453125 b_{1} + 24045000.0 b_{2}^{2} + 3570000.0 b_{2} b_{3} + 455.546875 b_{2} + 140000.0 b_{3}^{2} + 35.7291666666667 b_{3}$"
      ],
      "text/plain": [
       "28125000.0*a1**2 + 14062500.0*a1*a2 + 2500000.0*a1*a3 - 2392.578125*a1 + 1875000.0*a2**2 + 750000.0*a2*a3 - 966.796875*a2 + 100000.0*a3**2 - 393.229166666667*a3 + 2211363000.0*b1**2 + 452497500.0*b1*b2 + 32060000.0*b1*b3 + 4003.453125*b1 + 24045000.0*b2**2 + 3570000.0*b2*b3 + 455.546875*b2 + 140000.0*b3**2 + 35.7291666666667*b3"
      ]
     },
     "metadata": {},
     "output_type": "display_data"
    },
    {
     "data": {
      "text/plain": [
       "{a1: 1.04166666666680e-5,\n",
       " a2: -0.000593750000000008,\n",
       " a3: 0.00406250000000001,\n",
       " b1: 1.04166666666667e-5,\n",
       " b2: -0.000177083333333333,\n",
       " b3: 0.000937500000000000}"
      ]
     },
     "metadata": {},
     "output_type": "display_data"
    },
    {
     "data": {
      "text/latex": [
       "$\\displaystyle 0.0165201822916667$"
      ],
      "text/plain": [
       "0.0165201822916667"
      ]
     },
     "metadata": {},
     "output_type": "display_data"
    }
   ],
   "source": [
    "a1, a2, a3, a4, a5, b1, b2, b3, b4, b5, x = sp.symbols('a1 a2 a3 a4 a5 b1 b2 b3 b4 b5 x')\n",
    "w1 = a1 * x **4 + a2 * x **3 + a3 * x **2 + a4 * x + a5\n",
    "w2 = b1 * x **4 + b2 * x **3 + b3 * x **2 + b4 * x + b5\n",
    "phi1 = -w1.diff(x)\n",
    "phi2 = -w2.diff(x)\n",
    "eq1 = sp.Eq(w1.subs(x,0),0)\n",
    "eq2 = sp.Eq(phi1.subs(x,0),0)\n",
    "eq3 = sp.Eq(w1.subs(x,2.5),w2.subs(x,2.5))\n",
    "eq4 = sp.Eq(w2.subs(x,6),0)\n",
    "sol = sp.solve((eq1,eq2,eq3,eq4),(a4,a5,b4,b5))\n",
    "display(sol)\n",
    "w1 = w1.subs(sol)\n",
    "w2 = w2.subs(sol)\n",
    "\n",
    "V = 2e4/2*(sp.integrate((-w1.diff(x,2))**2,(x,0,2.5))+sp.integrate((-w2.diff(x,2))**2,(x,2.5,6)) ) - 50 * w1.subs(x,2.5) - sp.integrate(5 * w1,(x,0,2.5))- sp.integrate(5 * w2,(x,2.5,6))\n",
    "display(V)\n",
    "\n",
    "eq5 = sp.Eq(V.diff(a1) ,0)\n",
    "eq6 = sp.Eq(V.diff(a2) ,0)\n",
    "eq7 = sp.Eq(V.diff(a3) ,0)\n",
    "eq8 = sp.Eq(V.diff(b1) ,0)\n",
    "eq9 = sp.Eq(V.diff(b2) ,0)\n",
    "eq10 = sp.Eq(V.diff(b3) ,0)\n",
    "\n",
    "sol = sp.solve((eq5,eq6,eq7,eq8,eq9,eq10),(a1,a2,a3,b1,b2,b3))\n",
    "display(sol)\n",
    "\n",
    "w1_sol=w1.subs(sol)\n",
    "w2_sol=w2.subs(sol)\n",
    "display(w1_sol.subs(x,2.5))"
   ]
  },
  {
   "cell_type": "code",
   "execution_count": null,
   "id": "6a354a21",
   "metadata": {},
   "outputs": [],
   "source": []
  }
 ],
 "metadata": {
  "kernelspec": {
   "display_name": "Python 3 (ipykernel)",
   "language": "python",
   "name": "python3"
  },
  "language_info": {
   "codemirror_mode": {
    "name": "ipython",
    "version": 3
   },
   "file_extension": ".py",
   "mimetype": "text/x-python",
   "name": "python",
   "nbconvert_exporter": "python",
   "pygments_lexer": "ipython3",
   "version": "3.9.13"
  }
 },
 "nbformat": 4,
 "nbformat_minor": 5
}
