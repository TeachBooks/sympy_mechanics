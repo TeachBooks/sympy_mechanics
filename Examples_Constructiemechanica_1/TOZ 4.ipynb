{
 "cells": [
  {
   "cell_type": "code",
   "execution_count": null,
   "id": "ccde71cc",
   "metadata": {},
   "outputs": [],
   "source": []
  },
  {
   "cell_type": "code",
   "execution_count": 1,
   "id": "54fe7c24",
   "metadata": {},
   "outputs": [],
   "source": [
    "import numpy as np\n",
    "import matplotlib.pylab as plt\n",
    "from matplotlib.patches import Arc,StepPatch\n",
    "from ipywidgets import widgets, interact, interactive, fixed, interact_manual"
   ]
  },
  {
   "cell_type": "code",
   "execution_count": 2,
   "id": "c6fdd314",
   "metadata": {},
   "outputs": [],
   "source": [
    "def vervormingV(locationx,locationy,scale,flip=0,rotation=0):\n",
    "    vx = [-0.5,0,0,0.5]\n",
    "    if flip==0:\n",
    "        vy = [0.25,0.25,-0.25,-0.25]\n",
    "    elif flip==1:\n",
    "        vy = [-0.25,-0.25,0.25,0.25]\n",
    "    vxr= np.add(np.multiply(np.cos(rotation/180*np.pi),vx),np.multiply(np.sin(rotation/180*np.pi),vy))\n",
    "    vyr= np.add(np.multiply(np.sin(rotation/180*np.pi),vx),-np.multiply(np.cos(rotation/180*np.pi),vy))\n",
    "    vxscaled = np.add(locationx,np.multiply(scale,vxr))\n",
    "    vyscaled = np.add(locationy,np.multiply(scale,vyr))\n",
    "    plt.plot(vxscaled,vyscaled,color='black',linewidth=1)\n",
    "    plt.axis('equal')\n",
    "def vervormingN(locationx,locationy,scale,sign=1,rotation=0):\n",
    "    if sign==1:\n",
    "        nx = [-0.5,0,0,0,0.5,0,0]\n",
    "        ny = [0,0,0.5,0,0,0,-0.5]\n",
    "    elif sign==0:\n",
    "        nx = [-0.5,0.5]\n",
    "        ny = [0,0]\n",
    "    nxr= np.add(np.multiply(np.cos(rotation/180*np.pi),nx),np.multiply(np.sin(rotation/180*np.pi),ny))\n",
    "    nyr= np.add(np.multiply(np.sin(rotation/180*np.pi),nx),-np.multiply(np.cos(rotation/180*np.pi),ny))\n",
    "    nxscaled = np.add(locationx,np.multiply(scale,nxr))\n",
    "    nyscaled = np.add(locationy,np.multiply(scale,nyr))\n",
    "    plt.plot(nxscaled,nyscaled,color='black',linewidth=1)\n",
    "    plt.axis('equal')\n",
    "#vervormingV(1,1,1,flip=0,rotation=45)\n",
    "#plt.figure()\n",
    "#vervormingN(1,1,1,sign=0,rotation=45)"
   ]
  },
  {
   "cell_type": "markdown",
   "id": "931a4cfb",
   "metadata": {},
   "source": [
    "5.01a"
   ]
  },
  {
   "cell_type": "code",
   "execution_count": 3,
   "id": "241cb84d",
   "metadata": {},
   "outputs": [
    {
     "data": {
      "application/vnd.jupyter.widget-view+json": {
       "model_id": "54859033ba3d40ce90f2ce327b92786d",
       "version_major": 2,
       "version_minor": 0
      },
      "text/plain": [
       "interactive(children=(IntSlider(value=5, description='a (m)', max=10, min=2), IntSlider(value=200, description…"
      ]
     },
     "metadata": {},
     "output_type": "display_data"
    },
    {
     "data": {
      "text/plain": [
       "<function __main__.func(a, F, MVN)>"
      ]
     },
     "execution_count": 3,
     "metadata": {},
     "output_type": "execute_result"
    }
   ],
   "source": [
    "def func(a,F,MVN):\n",
    "    x=[0,a,a+a,a+a+a/2,a+a+a/2+a/2,a+a+a/2+a/2,a+a]\n",
    "    y=[0,0,0,0,0,a,a]\n",
    "    plt.plot(x,y,color='black',linewidth=2)\n",
    "    Av = F/4\n",
    "    Bv = F*2.5/2\n",
    "    print('Oplegreactie Aᵥ = %.2f kN (\\u2193)' % Av)\n",
    "    print('Oplegreactie Bᵥ = %.2f kN (\\u2191)' % Bv)\n",
    "    print('Oplegreactie Bₕ = %.0f kN (-)' % 0)\n",
    "    if MVN == 'M-lijn':\n",
    "        M_b = F*a/2\n",
    "        scale = a/M_b/2\n",
    "        M = np.multiply(scale,[0,M_b/2,M_b,0,0,0,0])\n",
    "        My=np.add(y,M)\n",
    "        plt.plot(x,My,color='blue')\n",
    "        plt.annotate('%.0f kNm' % M_b,xy = [x[2],My[2]])\n",
    "        ax = plt.gca()\n",
    "        vervormingsteken = Arc(xy = [3.5*a/2,a/6],width = a/5, height = a/5,angle=180,theta1=180,theta2=360)\n",
    "        ax.add_patch(vervormingsteken)\n",
    "    elif MVN =='V-lijn':\n",
    "        V_AB = -Av\n",
    "        V_BF = F\n",
    "        scale = a/max(V_AB,V_BF)/2\n",
    "        V = [0,V_AB,V_AB,V_BF,V_BF,0,0,0,0]\n",
    "        y=[0,0,0,0,0,0,0,a,a]\n",
    "        Vy = np.add(y,np.multiply(scale,V))\n",
    "        x=[0,0,a+a,a+a,a+a+a/2,a+a+a/2,a+a+a/2+a/2,a+a+a/2+a/2,a+a]\n",
    "        plt.plot(x,Vy,color='blue')\n",
    "        for i in range(1,5):\n",
    "            plt.annotate('%.0f kN' % abs(V[i]),xy = [x[i],Vy[i]])\n",
    "        vervormingV(a,Vy[1]/2,Vy[1]/2,0)\n",
    "        vervormingV(a+a+a/4,Vy[3]/2,Vy[3]/2,1,0)\n",
    "    elif MVN =='N-lijn':\n",
    "        plt.plot(x,y,color='blue')\n",
    "    plt.grid()\n",
    "    plt.axis('equal')\n",
    "\n",
    "\n",
    "interact(func, a = widgets.IntSlider(min=2, max=10, value=5, step=1, description=\"a (m)\"),\n",
    "        F = widgets.IntSlider(min=10, max=200, value=200, step=1, description=\"F (kN)\"),\n",
    "        MVN = widgets.ToggleButtons(options=['N-lijn', 'V-lijn', 'M-lijn']))"
   ]
  },
  {
   "cell_type": "markdown",
   "id": "52813692",
   "metadata": {},
   "source": [
    "5.02a-d"
   ]
  },
  {
   "cell_type": "code",
   "execution_count": 4,
   "id": "7a37947d",
   "metadata": {},
   "outputs": [
    {
     "data": {
      "application/vnd.jupyter.widget-view+json": {
       "model_id": "a3aac0ceace1465ab95d15bad0db0dd3",
       "version_major": 2,
       "version_minor": 0
      },
      "text/plain": [
       "interactive(children=(IntSlider(value=5, description='a (m)', max=10, min=1), IntSlider(value=5, description='…"
      ]
     },
     "metadata": {},
     "output_type": "display_data"
    },
    {
     "data": {
      "text/plain": [
       "<function __main__.func(a, b, c, d, F1, F2, MVN)>"
      ]
     },
     "execution_count": 4,
     "metadata": {},
     "output_type": "execute_result"
    }
   ],
   "source": [
    "def func(a,b,c,d,F1,F2,MVN):\n",
    "    x1=[0,0,a,a,a+b,a+b]\n",
    "    y1=[0,0,0,0,0,0]\n",
    "    x2=[a,a,a,a]\n",
    "    y2=[0,0,c,c]\n",
    "    x3=[a,a,a+d,a+d]\n",
    "    y3=[c,c,c,c]\n",
    "    plt.plot(x1,y1,color='black',linewidth=2)\n",
    "    plt.plot(x2,y2,color='black',linewidth=2)\n",
    "    plt.plot(x3,y3,color='black',linewidth=2)\n",
    "    B_v = (F1*(a+d)+F2*c)/(a+b)\n",
    "    A_v = F1-B_v\n",
    "    A_h = F2\n",
    "    if A_v<0:\n",
    "        print('Oplegreactie Aᵥ = %.2f kN (\\u2193)' % abs(A_v))\n",
    "    elif A_v==0:\n",
    "        print('Oplegreactie Aᵥ = %.0f kN (-)' % A_v)\n",
    "    else:\n",
    "        print('Oplegreactie Aᵥ = %.2f kN (\\u2191)' % A_v)\n",
    "    print('Oplegreactie Aₕ = %.2f kN (\\u2190)' % A_h)\n",
    "    print('Oplegreactie Bᵥ = %.2f kN (\\u2191)' % B_v)\n",
    "    if MVN == 'M-lijn':\n",
    "        M_E = F1*d\n",
    "        M_C_CE = F1*d+F2*c\n",
    "        M_C_CB = -B_v*b\n",
    "        M_C_AC = -A_v*a\n",
    "        M1 = [0,0,M_C_AC,M_C_CB,0,0]\n",
    "        M2 = [0,-M_C_CE,-M_E,0]\n",
    "        M3 = [0,M_E,0,0]\n",
    "        scale = 0.5*b/max(M1+M3)\n",
    "        My1=np.add(y1,np.multiply(scale,M1))\n",
    "        Mx2=np.add(x2,np.multiply(scale,M2))\n",
    "        My3=np.add(y3,np.multiply(scale,M3))\n",
    "        plt.plot(x1,My1,color='blue')\n",
    "        plt.plot(Mx2,y2,color='blue')\n",
    "        plt.plot(x3,My3,color='blue')\n",
    "        plt.annotate('%.2f kNm' % M_E,xy = [x3[1],My3[1]])\n",
    "        plt.annotate('%.2f kNm' % M_E,xy = [Mx2[2],y2[2]])\n",
    "        plt.annotate('%.2f kNm' % M_C_CE,xy = [Mx2[1],y2[1]])\n",
    "        plt.annotate('%.2f kNm' % M_C_CB,xy = [x1[3],My1[3]])\n",
    "        plt.annotate('%.2f kNm' % abs(M_C_AC),xy = [x1[2],My1[2]])\n",
    "        vervormingstekenAC = Arc(xy = [a*0.8,My1[2]/3],width = My1[2]/2, height = My1[2]/2,theta1=0,theta2=180)\n",
    "        vervormingstekenBC = Arc(xy = [a+0.25*b,My1[3]/3],width = My1[3]/2, height = My1[3]/2,theta1=0,theta2=180)\n",
    "        vervormingstekenCE = Arc(xy = [a+(M2[1]+M2[2])/2*scale/3,c/2],width = (M2[1]+M2[2])/2*scale/2, height = (M2[1]+M2[2])*scale/2/2,theta1=-90,theta2=90)\n",
    "        vervormingstekenED = Arc(xy = [a+0.25*d,c+M3[1]*scale/3],width = M3[1]*scale/2, height = M3[1]*scale/2,theta1=0,theta2=180)\n",
    "        ax = plt.gca()\n",
    "        ax.add_patch(vervormingstekenAC)\n",
    "        ax.add_patch(vervormingstekenBC)\n",
    "        ax.add_patch(vervormingstekenCE)\n",
    "        ax.add_patch(vervormingstekenED)\n",
    "    elif MVN == 'V-lijn':\n",
    "        V_E = F1\n",
    "        V3 = [0,V_E,V_E,0]\n",
    "        V_C_CE = F2\n",
    "        V2 = [0,V_C_CE,V_C_CE,0]\n",
    "        V_C_AC = A_v\n",
    "        V_C_CB = -B_v\n",
    "        V1 = [0,V_C_AC,V_C_AC,V_C_CB,V_C_CB,0]\n",
    "        scale = 0.5*b/max(V1+V3)\n",
    "        Vy1=np.add(y1,np.multiply(scale,V1))\n",
    "        Vx2=np.add(x2,np.multiply(scale,V2))\n",
    "        Vy3=np.add(y3,np.multiply(scale,V3))\n",
    "        plt.plot(x1,Vy1,color='blue')\n",
    "        plt.plot(Vx2,y2,color='blue')\n",
    "        plt.plot(x3,Vy3,color='blue')\n",
    "        plt.annotate('%.2f kN' % V_E,xy = [x3[1],Vy3[1]])\n",
    "        plt.annotate('%.2f kN' % V_E,xy = [x3[2],Vy3[2]])\n",
    "        plt.annotate('%.2f kN' % V_C_CE,xy = [Vx2[1],y2[1]])\n",
    "        plt.annotate('%.2f kN' % V_C_CE,xy = [Vx2[2],y2[2]])\n",
    "        plt.annotate('%.2f kN' % abs(V_C_AC),xy = [x1[1],Vy1[1]])\n",
    "        plt.annotate('%.2f kN' % abs(V_C_AC),xy = [x1[2],Vy1[2]])\n",
    "        plt.annotate('%.2f kN' % abs(V_C_CB),xy = [x1[3],Vy1[3]])\n",
    "        plt.annotate('%.2f kN' % abs(V_C_CB),xy = [x1[4],Vy1[4]])\n",
    "        if V_C_AC>0:\n",
    "            vervormingV(a/2,V1[1]/2*scale,V1[1]/3*scale,flip=1,rotation=0)\n",
    "        else:\n",
    "            vervormingV(a/2,V1[1]/2*scale,V1[1]/3*scale,flip=0,rotation=0)\n",
    "        vervormingV(a+b/2,V1[3]/2*scale,V1[3]/3*scale,flip=0,rotation=0)\n",
    "        vervormingV(a+V2[1]/2*scale,c/2,V2[1]/3*scale,flip=1,rotation=90)\n",
    "        vervormingV(a+d/2,c+V3[1]/2*scale,V3[1]/3*scale,flip=1,rotation=0)\n",
    "    elif MVN == 'N-lijn':\n",
    "        N_E = F2\n",
    "        N_C_CE = F1\n",
    "        N_C_AC = F2\n",
    "        N_C_CB = 0\n",
    "        N3 = [0,N_E,N_E,0]\n",
    "        N2 = [0,N_C_CE,N_C_CE,0]\n",
    "        N1 = [0,N_C_AC,N_C_AC,N_C_CB,N_C_CB,0]\n",
    "        scale = 0.5*b/max(N1+N3)\n",
    "        Ny1=np.add(y1,np.multiply(scale,N1))\n",
    "        Nx2=np.add(x2,np.multiply(scale,N2))\n",
    "        Ny3=np.add(y3,np.multiply(scale,N3))\n",
    "        plt.plot(x1,Ny1,color='blue')\n",
    "        plt.plot(Nx2,y2,color='blue')\n",
    "        plt.plot(x3,Ny3,color='blue')\n",
    "        plt.annotate('%.2f kN' % N_E,xy = [x3[1],Ny3[1]])\n",
    "        plt.annotate('%.2f kN' % N_E,xy = [x3[2],Ny3[2]])\n",
    "        plt.annotate('%.2f kN' % N_C_CE,xy = [Nx2[1],y2[1]])\n",
    "        plt.annotate('%.2f kN' % N_C_CE,xy = [Nx2[2],y2[2]])\n",
    "        plt.annotate('%.2f kN' % N_C_AC,xy = [x1[1],Ny1[1]])\n",
    "        plt.annotate('%.2f kN' % N_C_AC,xy = [x1[2],Ny1[2]])\n",
    "        vervormingN(a/2,N1[1]/2*scale,N1[1]/3*scale,sign=0,rotation=0)\n",
    "        vervormingN(a+N2[1]/2*scale,c/2,N2[1]/3*scale,sign=0,rotation=90)\n",
    "        vervormingN(a+d/2,c+N3[1]/2*scale,N3[1]/3*scale,sign=0,rotation=0)\n",
    "    plt.grid()\n",
    "    plt.axis('equal')\n",
    "\n",
    "\n",
    "interact(func, \n",
    "         a = widgets.IntSlider(min=1, max=10, value=5, step=1, description=\"a (m)\"),\n",
    "         b = widgets.IntSlider(min=1, max=10, value=5, step=1, description=\"b (m)\"),\n",
    "         c = widgets.IntSlider(min=1, max=10, value=5, step=1, description=\"c (m)\"),\n",
    "         d = widgets.IntSlider(min=1, max=10, value=5, step=1, description=\"d (m)\"),\n",
    "        F1 = widgets.IntSlider(min=0, max=200, value=200, step=1, description=\"F1 (kN)\"),\n",
    "        F2 = widgets.IntSlider(min=0, max=200, value=200, step=1, description=\"F2 (kN)\"),\n",
    "         MVN = widgets.ToggleButtons(options=['N-lijn', 'V-lijn', 'M-lijn']))"
   ]
  },
  {
   "cell_type": "markdown",
   "id": "32d969b9",
   "metadata": {},
   "source": [
    "5.3"
   ]
  },
  {
   "cell_type": "code",
   "execution_count": 5,
   "id": "61a125c8",
   "metadata": {},
   "outputs": [
    {
     "data": {
      "application/vnd.jupyter.widget-view+json": {
       "model_id": "7919189915ee486992f6da12d192210a",
       "version_major": 2,
       "version_minor": 0
      },
      "text/plain": [
       "interactive(children=(FloatSlider(value=4.0, description='a (m)', max=7.9, min=0.1, readout_format='.1f'), Int…"
      ]
     },
     "metadata": {},
     "output_type": "display_data"
    },
    {
     "data": {
      "text/plain": [
       "<function __main__.func(a, F, MVN)>"
      ]
     },
     "execution_count": 5,
     "metadata": {},
     "output_type": "execute_result"
    }
   ],
   "source": [
    "def func(a,F,MVN):\n",
    "    x1=[0,0,a,a,a,8,8]\n",
    "    y1=[0,0,a*6/8,a*6/8,a*6/8,6,6]\n",
    "    x2=[8,8,8,8]\n",
    "    y2=[3,3,6,6]\n",
    "    plt.plot(x1,y1,color='black',linewidth=2)\n",
    "    plt.plot(x2,y2,color='black',linewidth=2)\n",
    "    B_v = (F*4*a-F*1*a*3/4)/8\n",
    "    A_v = F*4-B_v\n",
    "    A_h = F\n",
    "    print('Oplegreactie Aᵥ = %.2f kN (\\u2191)' % A_v)\n",
    "    print('Oplegreactie Aₕ = %.2f kN (\\u2192)' % A_h)\n",
    "    print('Oplegreactie Bᵥ = %.2f kN (\\u2191)' % B_v)\n",
    "    plt.grid()\n",
    "    plt.axis('equal')\n",
    "    rotation=np.arctan(3/4)/np.pi*180\n",
    "    if MVN == 'M-lijn':\n",
    "        M_F = -B_v*(8-a)\n",
    "        M1 = [0,0,M_F,M_F,M_F,0,0]\n",
    "        M2 = [0,0,0,0]\n",
    "        scale = 0.5*8/M_F\n",
    "        Mxr= np.add(x1,np.multiply(np.sin(rotation/180*np.pi),np.multiply(scale,M1)))\n",
    "        Myr= np.add(y1,-np.multiply(np.cos(rotation/180*np.pi),np.multiply(scale,M1)))\n",
    "        Mx2 = np.add(M2,x2)\n",
    "        My2 = y2\n",
    "        plt.plot(Mxr,Myr,color='blue')\n",
    "        plt.plot(Mx2,My2,color='blue')\n",
    "        plt.annotate('%.2f kNm' % abs(M_F),xy = [Mxr[3],Myr[3]])\n",
    "        ax = plt.gca()\n",
    "        Vervx = max(min(6,a),2) + np.sin(rotation/180*np.pi)*M_F*scale/2\n",
    "        Vervy = max(min(4.5,a*6/8),1.5) - np.cos(rotation/180*np.pi)*M_F*scale/3\n",
    "        vervormingsteken = Arc(xy = [Vervx,Vervy],width = M_F*scale/3, height = M_F*scale/3,angle=rotation,theta1=180,theta2=360)\n",
    "        ax.add_patch(vervormingsteken)\n",
    "    elif MVN == 'N-lijn':\n",
    "        N_SC = B_v*3/5\n",
    "        N_AC = -A_v*3/5-A_h*4/5\n",
    "        N1 = [0,N_AC,N_AC,0,N_SC,N_SC,0]\n",
    "        N2 = [0,B_v,B_v,0]\n",
    "        scale = 0.5*8/max(abs(N_SC),abs(N_AC))\n",
    "        Nxr = np.add(x1,np.multiply(np.sin(rotation/180*np.pi),np.multiply(scale,N1)))\n",
    "        Nyr = np.add(y1,-np.multiply(np.cos(rotation/180*np.pi),np.multiply(scale,N1)))\n",
    "        Nx2 = np.add(np.multiply(scale,N2),x2)\n",
    "        Ny2 = y2\n",
    "        plt.plot(Nxr,Nyr,color='blue')\n",
    "        plt.plot(Nx2,Ny2,color='blue')\n",
    "        plt.annotate('%.2f kN' % abs(N_AC),xy = [Nxr[1],Nyr[1]])\n",
    "        plt.annotate('%.2f kN' % abs(N_AC),xy = [Nxr[2],Nyr[2]])\n",
    "        plt.annotate('%.2f kN' % N_SC,xy = [Nxr[4],Nyr[4]])\n",
    "        plt.annotate('%.2f kN' % N_SC,xy = [Nxr[5],Nyr[5]])\n",
    "        plt.annotate('%.2f kN' % abs(B_v),xy = [Nx2[1],Ny2[1]])\n",
    "        plt.annotate('%.2f kN' % abs(B_v),xy = [Nx2[2],Ny2[2]])\n",
    "        vervormingN(np.mean(Nxr[0:4]),np.mean(Nyr[0:4]),N1[1]/3*scale,sign=0,rotation=rotation)\n",
    "        vervormingN(np.mean(Nxr[3:7]),np.mean(Nyr[3:7]),N1[4]/3*scale,sign=1,rotation=rotation)\n",
    "        vervormingN(8+B_v*scale/2,4.5,B_v/3*scale,sign=0,rotation=0)\n",
    "    elif MVN == 'V-lijn':\n",
    "        V_SC = B_v*4/5\n",
    "        V_AC = -A_v*4/5+A_h*3/5\n",
    "        V1 = [0,V_AC,V_AC,0,V_SC,V_SC,0]\n",
    "        V2 = [0,0,0,0]\n",
    "        scale = 0.5*8/max(abs(V_SC),abs(V_AC))\n",
    "        Vxr = np.add(x1,np.multiply(np.sin(rotation/180*np.pi),np.multiply(scale,V1)))\n",
    "        Vyr = np.add(y1,-np.multiply(np.cos(rotation/180*np.pi),np.multiply(scale,V1)))\n",
    "        Vx2 = np.add(np.multiply(scale,V2),x2)\n",
    "        Vy2 = y2\n",
    "        plt.plot(Vxr,Vyr,color='blue')\n",
    "        plt.plot(Vx2,Vy2,color='blue')\n",
    "        plt.annotate('%.2f kN' % abs(V_AC),xy = [Vxr[1],Vyr[1]])\n",
    "        plt.annotate('%.2f kN' % abs(V_AC),xy = [Vxr[2],Vyr[2]])\n",
    "        plt.annotate('%.2f kN' % V_SC,xy = [Vxr[4],Vyr[4]])\n",
    "        plt.annotate('%.2f kN' % V_SC,xy = [Vxr[5],Vyr[5]])\n",
    "        vervormingV(np.mean(Vxr[0:4]),np.mean(Vyr[0:4]),V1[1]/3*scale,flip=1,rotation=rotation)\n",
    "        vervormingV(np.mean(Vxr[3:7]),np.mean(Vyr[3:7]),V1[4]/3*scale,flip=0,rotation=rotation)\n",
    "interact(func, \n",
    "         a = widgets.FloatSlider(min=.1, max=7.9, value=4, step=0.1, description=\"a (m)\",readout_format='.1f'),\n",
    "        F = widgets.IntSlider(min=0, max=200, value=200, step=1, description=\"F (kN)\"),\n",
    "         MVN = widgets.ToggleButtons(options=['N-lijn', 'V-lijn', 'M-lijn']))"
   ]
  },
  {
   "cell_type": "code",
   "execution_count": 6,
   "id": "f766f44b",
   "metadata": {},
   "outputs": [
    {
     "data": {
      "application/vnd.jupyter.widget-view+json": {
       "model_id": "5d27e8075120479aa059256105f0eca9",
       "version_major": 2,
       "version_minor": 0
      },
      "text/plain": [
       "interactive(children=(FloatSlider(value=4.0, description='a (m)', max=7.9, min=0.1, readout_format='.1f'), Int…"
      ]
     },
     "metadata": {},
     "output_type": "display_data"
    },
    {
     "data": {
      "text/plain": [
       "<function __main__.func(a, q1, q2, MVN)>"
      ]
     },
     "execution_count": 6,
     "metadata": {},
     "output_type": "execute_result"
    }
   ],
   "source": [
    "def func(a,q1,q2,MVN):\n",
    "    x1=np.linspace(0,2*a,201)\n",
    "    print(x1)\n",
    "interact(func, \n",
    "         a = widgets.FloatSlider(min=.1, max=7.9, value=4, step=0.1, description=\"a (m)\",readout_format='.1f'),\n",
    "        q1 = widgets.IntSlider(min=0, max=200, value=200, step=1, description=\"q1 (kN/m)\"),\n",
    "        q2 = widgets.IntSlider(min=0, max=200, value=200, step=1, description=\"q2 (kN/m)\"),\n",
    "         MVN = widgets.ToggleButtons(options=['N-lijn', 'V-lijn', 'M-lijn']))"
   ]
  }
 ],
 "metadata": {
  "celltoolbar": "Geen",
  "kernelspec": {
   "display_name": "Python 3 (ipykernel)",
   "language": "python",
   "name": "python3"
  },
  "language_info": {
   "codemirror_mode": {
    "name": "ipython",
    "version": 3
   },
   "file_extension": ".py",
   "mimetype": "text/x-python",
   "name": "python",
   "nbconvert_exporter": "python",
   "pygments_lexer": "ipython3",
   "version": "3.9.13"
  }
 },
 "nbformat": 4,
 "nbformat_minor": 5
}
