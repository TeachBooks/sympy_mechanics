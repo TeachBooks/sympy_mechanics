{
 "cells": [
  {
   "cell_type": "code",
   "execution_count": 1,
   "id": "508c1e47",
   "metadata": {},
   "outputs": [],
   "source": [
    "import sympy as sp"
   ]
  },
  {
   "cell_type": "code",
   "execution_count": 2,
   "id": "f4aa2036",
   "metadata": {},
   "outputs": [],
   "source": [
    "L, x, q, GA_s, EI = sp.symbols('L, x, q, GA_s, EI')"
   ]
  },
  {
   "cell_type": "code",
   "execution_count": 3,
   "id": "1d8c5b2f",
   "metadata": {},
   "outputs": [
    {
     "data": {
      "text/latex": [
       "$\\displaystyle \\frac{L^{5} q^{2}}{40 EI}$"
      ],
      "text/plain": [
       "L**5*q**2/(40*EI)"
      ]
     },
     "metadata": {},
     "output_type": "display_data"
    }
   ],
   "source": [
    "M = -q * (L-x)**2 / 2\n",
    "Ec_b = sp.integrate(M**2/EI/2,(x,0,L))\n",
    "display(Ec_b)"
   ]
  },
  {
   "cell_type": "code",
   "execution_count": 4,
   "id": "3e9cfebc",
   "metadata": {},
   "outputs": [
    {
     "data": {
      "text/latex": [
       "$\\displaystyle \\frac{L^{3} q^{2}}{6 GA_{s}}$"
      ],
      "text/plain": [
       "L**3*q**2/(6*GA_s)"
      ]
     },
     "metadata": {},
     "output_type": "display_data"
    }
   ],
   "source": [
    "V = (L-x)*q\n",
    "Ec_s = sp.integrate(V**2/GA_s/2,(x,0,L))\n",
    "display(Ec_s)"
   ]
  },
  {
   "cell_type": "code",
   "execution_count": null,
   "id": "f4e75e3f",
   "metadata": {},
   "outputs": [],
   "source": []
  }
 ],
 "metadata": {
  "kernelspec": {
   "display_name": "Python 3 (ipykernel)",
   "language": "python",
   "name": "python3"
  },
  "language_info": {
   "codemirror_mode": {
    "name": "ipython",
    "version": 3
   },
   "file_extension": ".py",
   "mimetype": "text/x-python",
   "name": "python",
   "nbconvert_exporter": "python",
   "pygments_lexer": "ipython3",
   "version": "3.9.13"
  }
 },
 "nbformat": 4,
 "nbformat_minor": 5
}
