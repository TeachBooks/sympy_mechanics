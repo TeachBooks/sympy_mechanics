{
 "cells": [
  {
   "cell_type": "code",
   "execution_count": 1,
   "id": "6b5449d9",
   "metadata": {},
   "outputs": [],
   "source": [
    "import sympy as sp"
   ]
  },
  {
   "cell_type": "code",
   "execution_count": 5,
   "id": "e78b26e2",
   "metadata": {},
   "outputs": [],
   "source": [
    "a, b, F, G, H = sp.symbols('a,b,F,G, H')"
   ]
  },
  {
   "cell_type": "code",
   "execution_count": 6,
   "id": "c55f984f",
   "metadata": {},
   "outputs": [
    {
     "data": {
      "text/latex": [
       "$\\displaystyle \\frac{F a b}{\\left(a + b\\right) \\sqrt{- \\frac{F^{2} a^{2}}{\\left(a + b\\right)^{2}} + G^{2}}}$"
      ],
      "text/plain": [
       "F*a*b/((a + b)*sqrt(-F**2*a**2/(a + b)**2 + G**2))"
      ]
     },
     "metadata": {},
     "output_type": "display_data"
    },
    {
     "data": {
      "text/latex": [
       "$\\displaystyle \\frac{F a b}{\\sqrt{\\frac{- F^{2} a^{2} + G^{2} \\left(a + b\\right)^{2}}{\\left(a + b\\right)^{2}}} \\left(a + b\\right)}$"
      ],
      "text/plain": [
       "F*a*b/(sqrt((-F**2*a**2 + G**2*(a + b)**2)/(a + b)**2)*(a + b))"
      ]
     },
     "metadata": {},
     "output_type": "display_data"
    }
   ],
   "source": [
    "w_sol1 = (F*a*b/(a+b))/sp.sqrt(G**2-(F*a/(a+b))**2)\n",
    "display(w_sol1)\n",
    "display(sp.simplify(w_sol1))"
   ]
  },
  {
   "cell_type": "code",
   "execution_count": 7,
   "id": "7cfc9142",
   "metadata": {},
   "outputs": [],
   "source": [
    "w, h = sp.symbols('w, h')"
   ]
  },
  {
   "cell_type": "code",
   "execution_count": 8,
   "id": "d58a055c",
   "metadata": {},
   "outputs": [
    {
     "data": {
      "text/latex": [
       "$\\displaystyle h + \\frac{15}{2} = \\frac{7 \\sqrt{\\frac{4 w^{2}}{49} + 1}}{2} + \\sqrt{w^{2} + 16}$"
      ],
      "text/plain": [
       "Eq(h + 15/2, 7*sqrt(4*w**2/49 + 1)/2 + sqrt(w**2 + 16))"
      ]
     },
     "metadata": {},
     "output_type": "display_data"
    },
    {
     "data": {
      "text/latex": [
       "$\\displaystyle \\sqrt{w^{2} + 16} + \\frac{\\sqrt{4 w^{2} + 49}}{2} - \\frac{15}{2}$"
      ],
      "text/plain": [
       "sqrt(w**2 + 16) + sqrt(4*w**2 + 49)/2 - 15/2"
      ]
     },
     "metadata": {},
     "output_type": "display_data"
    },
    {
     "name": "stdout",
     "output_type": "stream",
     "text": [
      "sqrt(w**2 + 16) + sqrt(4*w**2 + 49)/2 - 15/2\n"
     ]
    }
   ],
   "source": [
    "Eq1 = sp.nsimplify(sp.Eq(7.5+h, sp.sqrt(3.5**2+w**2)+sp.sqrt(4**2+w**2)))\n",
    "display(Eq1)\n",
    "sol = sp.solve(Eq1,h)[0]\n",
    "display(sol)\n",
    "print(sol)"
   ]
  },
  {
   "cell_type": "code",
   "execution_count": 13,
   "id": "2b1de438",
   "metadata": {},
   "outputs": [],
   "source": [
    "w = sp.symbols('w')"
   ]
  },
  {
   "cell_type": "code",
   "execution_count": 14,
   "id": "44ede2d8",
   "metadata": {},
   "outputs": [
    {
     "data": {
      "text/latex": [
       "$\\displaystyle \\sqrt{w^{2} + 16} + \\frac{\\sqrt{4 w^{2} + 49}}{2} - 7.5$"
      ],
      "text/plain": [
       "sqrt(w**2 + 16) + sqrt(4*w**2 + 49)/2 - 7.5"
      ]
     },
     "metadata": {},
     "output_type": "display_data"
    }
   ],
   "source": [
    "h = sp.sqrt(w**2 + 16) + sp.sqrt(4*w**2 + 49)/2 - 15/2\n",
    "display(h)"
   ]
  },
  {
   "cell_type": "code",
   "execution_count": 15,
   "id": "ef023b2b",
   "metadata": {},
   "outputs": [
    {
     "data": {
      "text/latex": [
       "$\\displaystyle \\frac{w}{2} = 10 \\sqrt{w^{2} + 16} + 5 \\sqrt{4 w^{2} + 49} - 75.0$"
      ],
      "text/plain": [
       "Eq(w/2, 10*sqrt(w**2 + 16) + 5*sqrt(4*w**2 + 49) - 75.0)"
      ]
     },
     "metadata": {},
     "output_type": "display_data"
    }
   ],
   "source": [
    "eq2 = sp.Eq(w/2,h*10)\n",
    "display(eq2)"
   ]
  },
  {
   "cell_type": "code",
   "execution_count": 16,
   "id": "5268ba90",
   "metadata": {},
   "outputs": [
    {
     "data": {
      "text/plain": [
       "[0.0, 0.186784961228452 + 0.e-21*I]"
      ]
     },
     "metadata": {},
     "output_type": "display_data"
    }
   ],
   "source": [
    "sol2 = sp.solve(eq2,w)\n",
    "display(sol2)"
   ]
  },
  {
   "cell_type": "code",
   "execution_count": null,
   "id": "1ff71333",
   "metadata": {},
   "outputs": [],
   "source": []
  },
  {
   "cell_type": "code",
   "execution_count": null,
   "id": "6c6b7c92",
   "metadata": {},
   "outputs": [],
   "source": []
  }
 ],
 "metadata": {
  "kernelspec": {
   "display_name": "Python 3 (ipykernel)",
   "language": "python",
   "name": "python3"
  },
  "language_info": {
   "codemirror_mode": {
    "name": "ipython",
    "version": 3
   },
   "file_extension": ".py",
   "mimetype": "text/x-python",
   "name": "python",
   "nbconvert_exporter": "python",
   "pygments_lexer": "ipython3",
   "version": "3.9.13"
  }
 },
 "nbformat": 4,
 "nbformat_minor": 5
}
