{
 "cells": [
  {
   "cell_type": "markdown",
   "id": "3b184786",
   "metadata": {},
   "source": [
    "# Exercise 1 work and energy #"
   ]
  },
  {
   "cell_type": "code",
   "execution_count": 1,
   "id": "a2b2b45c",
   "metadata": {},
   "outputs": [],
   "source": [
    "import sympy as sp"
   ]
  },
  {
   "cell_type": "code",
   "execution_count": 2,
   "id": "d6b2aff2",
   "metadata": {},
   "outputs": [],
   "source": [
    "x, q, L = sp.symbols('x q L')"
   ]
  },
  {
   "cell_type": "code",
   "execution_count": 3,
   "id": "c902afe1",
   "metadata": {},
   "outputs": [],
   "source": [
    "M1 = 0\n",
    "M2 = -q*x**2/2\n",
    "M3 = -q*(L-x)**2/2\n",
    "m1 = -x/2\n",
    "m2 = -L/2 - x/2\n",
    "m3 = -L + x"
   ]
  },
  {
   "cell_type": "code",
   "execution_count": 4,
   "id": "562c40fc",
   "metadata": {},
   "outputs": [
    {
     "data": {
      "text/latex": [
       "$\\displaystyle \\frac{13 L^{4} q}{48}$"
      ],
      "text/plain": [
       "13*L**4*q/48"
      ]
     },
     "metadata": {},
     "output_type": "display_data"
    }
   ],
   "source": [
    "w = sp.integrate(M1*m1,(x,0,L))+ sp.integrate(M2*m2,(x,0,L)) + sp.integrate(M3*m3,(x,0,L))\n",
    "display(w)"
   ]
  },
  {
   "cell_type": "code",
   "execution_count": null,
   "id": "51cbbcc0",
   "metadata": {},
   "outputs": [],
   "source": []
  }
 ],
 "metadata": {
  "kernelspec": {
   "display_name": "Python 3 (ipykernel)",
   "language": "python",
   "name": "python3"
  },
  "language_info": {
   "codemirror_mode": {
    "name": "ipython",
    "version": 3
   },
   "file_extension": ".py",
   "mimetype": "text/x-python",
   "name": "python",
   "nbconvert_exporter": "python",
   "pygments_lexer": "ipython3",
   "version": "3.9.13"
  }
 },
 "nbformat": 4,
 "nbformat_minor": 5
}
