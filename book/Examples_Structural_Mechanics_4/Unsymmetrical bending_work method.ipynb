{
 "cells": [
  {
   "cell_type": "code",
   "execution_count": 41,
   "id": "36b87266",
   "metadata": {},
   "outputs": [],
   "source": [
    "import sympy as sp"
   ]
  },
  {
   "cell_type": "code",
   "execution_count": 42,
   "id": "c06d9fc0",
   "metadata": {},
   "outputs": [],
   "source": [
    "x, L = sp.symbols('x L',real=True,nonnegative=True)"
   ]
  },
  {
   "cell_type": "code",
   "execution_count": null,
   "id": "3753aab9",
   "metadata": {},
   "outputs": [],
   "source": []
  },
  {
   "cell_type": "code",
   "execution_count": null,
   "id": "5e9d6c7d",
   "metadata": {},
   "outputs": [],
   "source": []
  },
  {
   "cell_type": "code",
   "execution_count": null,
   "id": "89020fbe",
   "metadata": {},
   "outputs": [],
   "source": []
  },
  {
   "cell_type": "code",
   "execution_count": 107,
   "id": "87d7fc48",
   "metadata": {},
   "outputs": [
    {
     "data": {
      "text/latex": [
       "$\\displaystyle \\frac{821}{20000000}$"
      ],
      "text/plain": [
       "821/20000000"
      ]
     },
     "metadata": {},
     "output_type": "display_data"
    },
    {
     "data": {
      "text/latex": [
       "$\\displaystyle 4.105 \\cdot 10^{-5}$"
      ],
      "text/plain": [
       "4.10500000000000e-5"
      ]
     },
     "metadata": {},
     "output_type": "display_data"
    }
   ],
   "source": [
    "Izz = sp.nsimplify((1/12*15*320**3+1/12*320*15**3)/1e12)\n",
    "display(Izz)\n",
    "display(Izz.evalf())"
   ]
  },
  {
   "cell_type": "code",
   "execution_count": 108,
   "id": "5ad14a21",
   "metadata": {},
   "outputs": [
    {
     "data": {
      "text/latex": [
       "$\\displaystyle \\frac{16393}{100000000}$"
      ],
      "text/plain": [
       "16393/100000000"
      ]
     },
     "metadata": {},
     "output_type": "display_data"
    },
    {
     "data": {
      "text/latex": [
       "$\\displaystyle 0.00016393$"
      ],
      "text/plain": [
       "0.000163930000000000"
      ]
     },
     "metadata": {},
     "output_type": "display_data"
    }
   ],
   "source": [
    "Iyy = sp.nsimplify((1/12*15*320**3+2*(1/12*160*15**3+160*15*160**2))/1e12)\n",
    "display(Iyy)\n",
    "display(Iyy.evalf())"
   ]
  },
  {
   "cell_type": "code",
   "execution_count": 109,
   "id": "6c898694",
   "metadata": {},
   "outputs": [
    {
     "data": {
      "text/latex": [
       "$\\displaystyle - \\frac{24}{390625}$"
      ],
      "text/plain": [
       "-24/390625"
      ]
     },
     "metadata": {},
     "output_type": "display_data"
    },
    {
     "data": {
      "text/latex": [
       "$\\displaystyle -6.144 \\cdot 10^{-5}$"
      ],
      "text/plain": [
       "-6.14400000000000e-5"
      ]
     },
     "metadata": {},
     "output_type": "display_data"
    }
   ],
   "source": [
    "Iyz = sp.nsimplify((160*15*160*-80*2)/1e12)\n",
    "display(Iyz)\n",
    "display(Iyz.evalf())"
   ]
  },
  {
   "cell_type": "code",
   "execution_count": 110,
   "id": "3687d859",
   "metadata": {},
   "outputs": [
    {
     "data": {
      "text/latex": [
       "$\\displaystyle 7170 x - 14340$"
      ],
      "text/plain": [
       "7170*x - 14340"
      ]
     },
     "metadata": {},
     "output_type": "display_data"
    }
   ],
   "source": [
    "M = sp.nsimplify(-1000*(7.17*2-7.17*x))\n",
    "display(M)"
   ]
  },
  {
   "cell_type": "code",
   "execution_count": 120,
   "id": "a8a3db97",
   "metadata": {},
   "outputs": [],
   "source": [
    "E = 200e9"
   ]
  },
  {
   "cell_type": "code",
   "execution_count": 121,
   "id": "6b1210dc",
   "metadata": {},
   "outputs": [
    {
     "data": {
      "text/latex": [
       "$\\displaystyle -19.0164050948316$"
      ],
      "text/plain": [
       "-19.0164050948316"
      ]
     },
     "metadata": {},
     "output_type": "display_data"
    }
   ],
   "source": [
    "Ec = sp.integrate(-Iyy*M**2/2/(E*Iyy*Izz-E*Iyz**2),(x,0,2))\n",
    "display(Ec)"
   ]
  },
  {
   "cell_type": "code",
   "execution_count": 122,
   "id": "128483c5",
   "metadata": {},
   "outputs": [],
   "source": [
    "w = Ec/7.17e3*2"
   ]
  },
  {
   "cell_type": "code",
   "execution_count": 123,
   "id": "237ac39b",
   "metadata": {},
   "outputs": [
    {
     "data": {
      "text/latex": [
       "$\\displaystyle -0.00530443656759598$"
      ],
      "text/plain": [
       "-0.00530443656759598"
      ]
     },
     "metadata": {},
     "output_type": "display_data"
    }
   ],
   "source": [
    "display(w)"
   ]
  },
  {
   "cell_type": "code",
   "execution_count": null,
   "id": "db72fddf",
   "metadata": {},
   "outputs": [],
   "source": []
  },
  {
   "cell_type": "code",
   "execution_count": null,
   "id": "d4ca2aaf",
   "metadata": {},
   "outputs": [],
   "source": []
  },
  {
   "cell_type": "code",
   "execution_count": null,
   "id": "b966ccab",
   "metadata": {},
   "outputs": [],
   "source": []
  },
  {
   "cell_type": "code",
   "execution_count": null,
   "id": "b51c10eb",
   "metadata": {},
   "outputs": [],
   "source": []
  }
 ],
 "metadata": {
  "kernelspec": {
   "display_name": "Python 3 (ipykernel)",
   "language": "python",
   "name": "python3"
  },
  "language_info": {
   "codemirror_mode": {
    "name": "ipython",
    "version": 3
   },
   "file_extension": ".py",
   "mimetype": "text/x-python",
   "name": "python",
   "nbconvert_exporter": "python",
   "pygments_lexer": "ipython3",
   "version": "3.9.13"
  }
 },
 "nbformat": 4,
 "nbformat_minor": 5
}
