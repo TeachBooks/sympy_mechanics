{
 "cells": [
  {
   "cell_type": "markdown",
   "id": "2006250b",
   "metadata": {},
   "source": [
    "# Timoshenko beam #"
   ]
  },
  {
   "cell_type": "code",
   "execution_count": 2,
   "id": "1b36bb2e",
   "metadata": {},
   "outputs": [
    {
     "data": {
      "text/latex": [
       "$\\displaystyle EI \\frac{d^{2}}{d x^{2}} \\phi{\\left(x \\right)} - GA \\left(\\phi{\\left(x \\right)} + \\frac{d}{d x} w{\\left(x \\right)}\\right) = 0$"
      ],
      "text/plain": [
       "Eq(EI*Derivative(phi(x), (x, 2)) - GA*(phi(x) + Derivative(w(x), x)), 0)"
      ]
     },
     "metadata": {},
     "output_type": "display_data"
    },
    {
     "data": {
      "text/latex": [
       "$\\displaystyle GA \\left(\\frac{d}{d x} \\phi{\\left(x \\right)} + \\frac{d^{2}}{d x^{2}} w{\\left(x \\right)}\\right) = - q$"
      ],
      "text/plain": [
       "Eq(GA*(Derivative(phi(x), x) + Derivative(w(x), (x, 2))), -q)"
      ]
     },
     "metadata": {},
     "output_type": "display_data"
    }
   ],
   "source": [
    "import sympy as sp\n",
    "w, phi = sp.symbols('w phi', cls=sp.Function)\n",
    "C1, C2, C3, C4 = sp.symbols('C1 C2 C3 C4')\n",
    "x, EI, GA, L, q = sp.symbols('x EI GA L q')\n",
    "\n",
    "diffeq1 = sp.Eq(EI*sp.diff(phi(x),x,2)-GA*(sp.diff(w(x),x,1)+phi(x)),0)\n",
    "diffeq2 = sp.Eq(GA*(sp.diff(w(x),x,2)+sp.diff(phi(x),x,1)),-q)\n",
    "display(diffeq1)\n",
    "display(diffeq2)\n",
    "\n",
    "w,phi = sp.dsolve([diffeq1, diffeq2],[w(x),phi(x)])\n",
    "w = w.rhs\n",
    "phi = phi.rhs"
   ]
  },
  {
   "cell_type": "code",
   "execution_count": 4,
   "id": "7359355f",
   "metadata": {},
   "outputs": [
    {
     "data": {
      "text/latex": [
       "$\\displaystyle \\frac{L^{2} q}{8 GA} + \\frac{5 L^{4} q}{384 EI}$"
      ],
      "text/plain": [
       "L**2*q/(8*GA) + 5*L**4*q/(384*EI)"
      ]
     },
     "metadata": {},
     "output_type": "display_data"
    }
   ],
   "source": [
    "gamma_shear = phi + sp.diff(w, x)\n",
    "kappa = sp.diff(phi, x)\n",
    "M = EI * kappa\n",
    "V = GA*gamma_shear\n",
    "\n",
    "eq1  = sp.Eq(w.subs(x , 0) , 0)\n",
    "eq2  = sp.Eq(M.subs(x , 0) , 0)\n",
    "eq3  = sp.Eq(w.subs(x , L) , 0)\n",
    "eq4  = sp.Eq(M.subs(x , L) , 0)\n",
    "\n",
    "sol = sp.solve((eq1,eq2,eq3,eq4) ,\n",
    "               (C1 ,C2 ,C3 ,C4))\n",
    "w_sol = w.subs(sol)\n",
    "M_sol = M.subs(sol)\n",
    "\n",
    "display(sp.simplify(w_sol.subs(x,L/2)))"
   ]
  }
 ],
 "metadata": {
  "kernelspec": {
   "display_name": "Python 3 (ipykernel)",
   "language": "python",
   "name": "python3"
  },
  "language_info": {
   "codemirror_mode": {
    "name": "ipython",
    "version": 3
   },
   "file_extension": ".py",
   "mimetype": "text/x-python",
   "name": "python",
   "nbconvert_exporter": "python",
   "pygments_lexer": "ipython3",
   "version": "3.9.13"
  }
 },
 "nbformat": 4,
 "nbformat_minor": 5
}
