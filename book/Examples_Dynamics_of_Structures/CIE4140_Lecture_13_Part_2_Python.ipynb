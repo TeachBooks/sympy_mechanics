{
 "cells": [
  {
   "cell_type": "markdown",
   "id": "4cee568b",
   "metadata": {},
   "source": [
    "# CIE4140_Lecture_13_Part_2_Python #"
   ]
  },
  {
   "cell_type": "markdown",
   "id": "24b09f9e",
   "metadata": {},
   "source": [
    "## Let us calculate the natural and resonanse frequencies of a string with arbitrary (though linear) boundary conditions ##"
   ]
  },
  {
   "cell_type": "markdown",
   "id": "ad0d1651",
   "metadata": {},
   "source": [
    "The universal recipe is to substitute $w(x,t)=W(x) e^{i \\omega t})"
   ]
  },
  {
   "cell_type": "markdown",
   "id": "eed648d8",
   "metadata": {},
   "source": [
    "Strictly speaking, the natural frequencies are defined for undamped systems only. Therefore, we assume that there is no damping along the string nor in the boundaries."
   ]
  },
  {
   "cell_type": "code",
   "execution_count": 208,
   "id": "10355cb7",
   "metadata": {},
   "outputs": [],
   "source": [
    "import sympy as sp"
   ]
  },
  {
   "cell_type": "markdown",
   "id": "9791eff6",
   "metadata": {},
   "source": [
    "The equation of motion in this case reads"
   ]
  },
  {
   "cell_type": "code",
   "execution_count": 209,
   "id": "69bd4532",
   "metadata": {},
   "outputs": [
    {
     "data": {
      "text/latex": [
       "$\\displaystyle - c^{2} \\frac{\\partial^{2}}{\\partial x^{2}} w{\\left(x,t \\right)} + \\frac{\\partial^{2}}{\\partial t^{2}} w{\\left(x,t \\right)}$"
      ],
      "text/plain": [
       "-c**2*Derivative(w(x, t), (x, 2)) + Derivative(w(x, t), (t, 2))"
      ]
     },
     "metadata": {},
     "output_type": "display_data"
    }
   ],
   "source": [
    "w = sp.symbols('w',cls=sp.Function,real=True)\n",
    "x,t = sp.symbols('x,t',real=True)\n",
    "c = sp.symbols('c',real=True)\n",
    "EQM = sp.diff(w(x,t),t,2)-c**2*sp.diff(w(x,t),x,2)\n",
    "display(EQM)"
   ]
  },
  {
   "cell_type": "markdown",
   "id": "13cfcdba",
   "metadata": {},
   "source": [
    "Substituting $w(x,t)=W(x) e^{i \\omega t}$, we obtain the following ordinary differential equation, in which $\\omega$ is one of the natural frequencies\n"
   ]
  },
  {
   "cell_type": "code",
   "execution_count": 210,
   "id": "7e672f54",
   "metadata": {},
   "outputs": [
    {
     "data": {
      "text/latex": [
       "$\\displaystyle - c^{2} e^{i \\omega t} \\frac{d^{2}}{d x^{2}} W{\\left(x \\right)} - \\omega^{2} W{\\left(x \\right)} e^{i \\omega t}$"
      ],
      "text/plain": [
       "-c**2*exp(I*omega*t)*Derivative(W(x), (x, 2)) - omega**2*W(x)*exp(I*omega*t)"
      ]
     },
     "metadata": {},
     "output_type": "display_data"
    }
   ],
   "source": [
    "W = sp.symbols('W',cls=sp.Function,real=True)\n",
    "omega = sp.symbols('omega',real=True)\n",
    "EQM_Fr = sp.simplify(EQM.subs(w(x,t),W(x)*sp.exp(sp.I*omega*t)))\n",
    "display(EQM_Fr)"
   ]
  },
  {
   "cell_type": "markdown",
   "id": "eca87761",
   "metadata": {},
   "source": [
    "The general solution to this equation reads"
   ]
  },
  {
   "cell_type": "code",
   "execution_count": 211,
   "id": "0e2977d3",
   "metadata": {},
   "outputs": [
    {
     "data": {
      "text/latex": [
       "$\\displaystyle C_{1} \\sin{\\left(x \\left|{\\frac{\\omega}{c}}\\right| \\right)} + C_{2} \\cos{\\left(\\frac{\\omega x}{c} \\right)}$"
      ],
      "text/plain": [
       "C1*sin(x*Abs(omega/c)) + C2*cos(omega*x/c)"
      ]
     },
     "metadata": {},
     "output_type": "display_data"
    },
    {
     "data": {
      "text/latex": [
       "$\\displaystyle C_{1} \\sin{\\left(\\frac{\\omega x}{c} \\right)} + C_{2} \\cos{\\left(\\frac{\\omega x}{c} \\right)}$"
      ],
      "text/plain": [
       "C1*sin(omega*x/c) + C2*cos(omega*x/c)"
      ]
     },
     "metadata": {},
     "output_type": "display_data"
    }
   ],
   "source": [
    "C1, C2 = sp.symbols('C1, C2',real=True)\n",
    "W_sol = sp.dsolve(EQM_Fr,W(x)).rhs\n",
    "display(W_sol)\n",
    "W_sol = C1*sp.sin(omega*x/c)+C2*sp.cos(omega*x/c)\n",
    "display(W_sol)"
   ]
  },
  {
   "cell_type": "markdown",
   "id": "9deba28b",
   "metadata": {},
   "source": [
    "Now we will consider different boundary conditions"
   ]
  },
  {
   "cell_type": "markdown",
   "id": "2f70a142",
   "metadata": {},
   "source": [
    "1: Fixed-fixed string: $W(0)=0$, $W(L)=L$"
   ]
  },
  {
   "cell_type": "code",
   "execution_count": 212,
   "id": "3c121a85",
   "metadata": {},
   "outputs": [
    {
     "data": {
      "text/latex": [
       "$\\displaystyle C_{2}$"
      ],
      "text/plain": [
       "C2"
      ]
     },
     "metadata": {},
     "output_type": "display_data"
    },
    {
     "data": {
      "text/latex": [
       "$\\displaystyle C_{1} \\sin{\\left(\\frac{L \\omega}{c} \\right)} + C_{2} \\cos{\\left(\\frac{L \\omega}{c} \\right)}$"
      ],
      "text/plain": [
       "C1*sin(L*omega/c) + C2*cos(L*omega/c)"
      ]
     },
     "metadata": {},
     "output_type": "display_data"
    }
   ],
   "source": [
    "L = sp.symbols('L',real=True)\n",
    "BC_left =  W_sol.subs(x,0)\n",
    "BC_right = W_sol.subs(x,L)\n",
    "display(BC_left)\n",
    "display(BC_right)"
   ]
  },
  {
   "cell_type": "markdown",
   "id": "92c3ef40",
   "metadata": {},
   "source": [
    "When $\\omega$ equals one of the natural frequencies, the determinant of the coefficient matrix composed of the two boundary conditions (i.e., the frequency equation) should be zero. "
   ]
  },
  {
   "cell_type": "markdown",
   "id": "b04431c8",
   "metadata": {},
   "source": [
    "Let us compose the coefficient matrix"
   ]
  },
  {
   "cell_type": "code",
   "execution_count": 213,
   "id": "6cbd23c0",
   "metadata": {},
   "outputs": [
    {
     "data": {
      "text/latex": [
       "$\\displaystyle \\left[\\begin{matrix}0 & 1\\\\\\sin{\\left(\\frac{L \\omega}{c} \\right)} & \\cos{\\left(\\frac{L \\omega}{c} \\right)}\\end{matrix}\\right]$"
      ],
      "text/plain": [
       "Matrix([\n",
       "[             0,              1],\n",
       "[sin(L*omega/c), cos(L*omega/c)]])"
      ]
     },
     "metadata": {},
     "output_type": "display_data"
    }
   ],
   "source": [
    "Coeff_Matrix= sp.Matrix([[BC_left.diff(C1),BC_left.diff(C2)],\n",
    "                         [BC_right.diff(C1),BC_right.diff(C2)]])\n",
    "display(Coeff_Matrix)"
   ]
  },
  {
   "cell_type": "code",
   "execution_count": 214,
   "id": "c337e016",
   "metadata": {},
   "outputs": [
    {
     "data": {
      "text/latex": [
       "$\\displaystyle - \\sin{\\left(\\frac{L \\omega}{c} \\right)}$"
      ],
      "text/plain": [
       "-sin(L*omega/c)"
      ]
     },
     "metadata": {},
     "output_type": "display_data"
    }
   ],
   "source": [
    "Frequency_Equation = sp.det(Coeff_Matrix)\n",
    "display(Frequency_Equation)"
   ]
  },
  {
   "cell_type": "markdown",
   "id": "1bec49b5",
   "metadata": {},
   "source": [
    "Now we search for the roots of the frequency equation, which, by definition, are the natural frequencies (in the undamped case these frequencies coincide with the resonance frequencies) "
   ]
  },
  {
   "cell_type": "markdown",
   "id": "0f69929b",
   "metadata": {},
   "source": [
    "Often, especially in the case of more complex boundary conditions, we introduce $\\Omega_{dl}= {\\Omega \\over L} C$. For this dimensionless parameter, the roots of the frequency equation can be always found numerically "
   ]
  },
  {
   "cell_type": "code",
   "execution_count": 216,
   "id": "8186e79f",
   "metadata": {},
   "outputs": [
    {
     "data": {
      "text/latex": [
       "$\\displaystyle - \\sin{\\left(\\Omega_{dl} \\right)}$"
      ],
      "text/plain": [
       "-sin(Omega_dl)"
      ]
     },
     "metadata": {},
     "output_type": "display_data"
    }
   ],
   "source": [
    "Omega_dl = sp.symbols('Omega_dl',real=True)\n",
    "Frequency_Equation_DL = Frequency_Equation.subs(omega,Omega_dl/L*c)\n",
    "display(Frequency_Equation_DL)"
   ]
  },
  {
   "cell_type": "markdown",
   "id": "419178c9",
   "metadata": {},
   "source": [
    "Obviously, independently of the wave speed and the string length $\\Omega_{dl}=\\pi n$, where $n$ is an integer\n"
   ]
  },
  {
   "cell_type": "code",
   "execution_count": 217,
   "id": "5d441dbf",
   "metadata": {},
   "outputs": [
    {
     "data": {
      "text/latex": [
       "$\\displaystyle \\left\\{2 n \\pi\\; \\middle|\\; n \\in \\mathbb{Z}\\right\\} \\cup \\left\\{2 n \\pi + \\pi\\; \\middle|\\; n \\in \\mathbb{Z}\\right\\}$"
      ],
      "text/plain": [
       "Union(ImageSet(Lambda(_n, 2*_n*pi + pi), Integers), ImageSet(Lambda(_n, 2*_n*pi), Integers))"
      ]
     },
     "metadata": {},
     "output_type": "display_data"
    }
   ],
   "source": [
    "sol = sp.solveset(sp.Eq(Frequency_Equation_DL,0),Omega_dl)\n",
    "display(sol)"
   ]
  },
  {
   "cell_type": "markdown",
   "id": "6e0ce559",
   "metadata": {},
   "source": [
    "Leta us find values of $\\beta$ also numerically"
   ]
  },
  {
   "cell_type": "code",
   "execution_count": 218,
   "id": "80eb05e5",
   "metadata": {},
   "outputs": [
    {
     "data": {
      "text/plain": [
       "[3.145,\n",
       " 6.285,\n",
       " 9.425,\n",
       " 12.565000000000001,\n",
       " 15.705000000000002,\n",
       " 18.845,\n",
       " 21.995,\n",
       " 25.134999999999998,\n",
       " 28.275,\n",
       " 31.415,\n",
       " 34.55500000000001,\n",
       " 37.695,\n",
       " 40.845000000000006,\n",
       " 43.98500000000001,\n",
       " 47.125]"
      ]
     },
     "metadata": {},
     "output_type": "display_data"
    }
   ],
   "source": [
    "Dimensionless_Natural_Frequency = []\n",
    "step = 0.01\n",
    "for i in range(5000):\n",
    "    xi = i * step\n",
    "    left_value = Frequency_Equation_DL.subs(Omega_dl,xi)\n",
    "    right_value = Frequency_Equation_DL.subs(Omega_dl,xi+step)\n",
    "    if left_value*right_value < 0:\n",
    "        Dimensionless_Natural_Frequency.append(xi+step/2)\n",
    "        \n",
    "display(Dimensionless_Natural_Frequency)"
   ]
  },
  {
   "cell_type": "markdown",
   "id": "fdd60c91",
   "metadata": {},
   "source": [
    "2: Fixed-free string: $W(0)=0, {\\left. {{{dW\\left( x \\right)} \\over {dx}}} \\right|_{x = L}} = 0$"
   ]
  },
  {
   "cell_type": "code",
   "execution_count": 219,
   "id": "176bbf4e",
   "metadata": {},
   "outputs": [
    {
     "data": {
      "text/latex": [
       "$\\displaystyle C_{2}$"
      ],
      "text/plain": [
       "C2"
      ]
     },
     "metadata": {},
     "output_type": "display_data"
    },
    {
     "data": {
      "text/latex": [
       "$\\displaystyle \\frac{C_{1} \\omega \\cos{\\left(\\frac{L \\omega}{c} \\right)}}{c} - \\frac{C_{2} \\omega \\sin{\\left(\\frac{L \\omega}{c} \\right)}}{c}$"
      ],
      "text/plain": [
       "C1*omega*cos(L*omega/c)/c - C2*omega*sin(L*omega/c)/c"
      ]
     },
     "metadata": {},
     "output_type": "display_data"
    }
   ],
   "source": [
    "BC_left =  W_sol.subs(x,0)\n",
    "BC_right = W_sol.diff(x).subs(x,L)\n",
    "display(BC_left)\n",
    "display(BC_right)"
   ]
  },
  {
   "cell_type": "code",
   "execution_count": 220,
   "id": "4c77f550",
   "metadata": {},
   "outputs": [
    {
     "data": {
      "text/latex": [
       "$\\displaystyle \\left[\\begin{matrix}0 & 1\\\\\\frac{\\omega \\cos{\\left(\\frac{L \\omega}{c} \\right)}}{c} & - \\frac{\\omega \\sin{\\left(\\frac{L \\omega}{c} \\right)}}{c}\\end{matrix}\\right]$"
      ],
      "text/plain": [
       "Matrix([\n",
       "[                     0,                       1],\n",
       "[omega*cos(L*omega/c)/c, -omega*sin(L*omega/c)/c]])"
      ]
     },
     "metadata": {},
     "output_type": "display_data"
    }
   ],
   "source": [
    "Coeff_Matrix= sp.Matrix([[BC_left.diff(C1),BC_left.diff(C2)],\n",
    "                         [BC_right.diff(C1),BC_right.diff(C2)]])\n",
    "display(Coeff_Matrix)"
   ]
  },
  {
   "cell_type": "code",
   "execution_count": 221,
   "id": "2c1fa035",
   "metadata": {},
   "outputs": [
    {
     "data": {
      "text/latex": [
       "$\\displaystyle - \\frac{\\omega \\cos{\\left(\\frac{L \\omega}{c} \\right)}}{c}$"
      ],
      "text/plain": [
       "-omega*cos(L*omega/c)/c"
      ]
     },
     "metadata": {},
     "output_type": "display_data"
    }
   ],
   "source": [
    "Frequency_Equation = sp.det(Coeff_Matrix)\n",
    "display(Frequency_Equation)"
   ]
  },
  {
   "cell_type": "code",
   "execution_count": 222,
   "id": "7dea058f",
   "metadata": {},
   "outputs": [
    {
     "data": {
      "text/latex": [
       "$\\displaystyle - \\frac{\\Omega_{dl} \\cos{\\left(\\Omega_{dl} \\right)}}{L}$"
      ],
      "text/plain": [
       "-Omega_dl*cos(Omega_dl)/L"
      ]
     },
     "metadata": {},
     "output_type": "display_data"
    }
   ],
   "source": [
    "Frequency_Equation_DL = Frequency_Equation.subs(omega,Omega_dl/L*c)\n",
    "display(Frequency_Equation_DL)"
   ]
  },
  {
   "cell_type": "code",
   "execution_count": 223,
   "id": "8260bc18",
   "metadata": {},
   "outputs": [
    {
     "data": {
      "text/latex": [
       "$\\displaystyle \\left\\{0\\right\\} \\cup \\left\\{2 n \\pi + \\frac{\\pi}{2}\\; \\middle|\\; n \\in \\mathbb{Z}\\right\\} \\cup \\left\\{2 n \\pi + \\frac{3 \\pi}{2}\\; \\middle|\\; n \\in \\mathbb{Z}\\right\\}$"
      ],
      "text/plain": [
       "Union({0}, ImageSet(Lambda(_n, 2*_n*pi + pi/2), Integers), ImageSet(Lambda(_n, 2*_n*pi + 3*pi/2), Integers))"
      ]
     },
     "metadata": {},
     "output_type": "display_data"
    }
   ],
   "source": [
    "sol = sp.solveset(sp.Eq(Frequency_Equation_DL,0),Omega_dl)\n",
    "display(sol)"
   ]
  },
  {
   "cell_type": "markdown",
   "id": "7c649ccd",
   "metadata": {},
   "source": [
    "3: Fixed-{Elastically Supported Inertial End}: \n",
    "- ${w\\left( {0,t} \\right) = 0}$\n",
    "- ${\\left. {T{{\\delta w\\left( {x,t} \\right)} \\over {\\delta x}}} \\right|_{x = L}} =  - m{\\left. {{{{\\delta ^2}w\\left( {x,t} \\right)} \\over {\\delta {x^2}}}} \\right|_{x = L}} + kw\\left( {x,t} \\right)$"
   ]
  },
  {
   "cell_type": "code",
   "execution_count": 257,
   "id": "f735cf49",
   "metadata": {},
   "outputs": [
    {
     "data": {
      "text/latex": [
       "$\\displaystyle C_{2}$"
      ],
      "text/plain": [
       "C2"
      ]
     },
     "metadata": {},
     "output_type": "display_data"
    },
    {
     "data": {
      "text/latex": [
       "$\\displaystyle T \\frac{\\partial}{\\partial x} w{\\left(x,t \\right)} + k w{\\left(x,t \\right)} + m \\frac{\\partial^{2}}{\\partial t^{2}} w{\\left(x,t \\right)}$"
      ],
      "text/plain": [
       "T*Derivative(w(x, t), x) + k*w(x, t) + m*Derivative(w(x, t), (t, 2))"
      ]
     },
     "metadata": {},
     "output_type": "display_data"
    }
   ],
   "source": [
    "T, m, k = sp.symbols('T, m, k',real=True)\n",
    "BC_left =  W_sol.subs(x,0)\n",
    "BC_right = T*sp.diff(w(x,t),x)+m*sp.diff(w(x,t),t,2)+k*w(x,t)\n",
    "display(BC_left)\n",
    "display(BC_right)"
   ]
  },
  {
   "cell_type": "code",
   "execution_count": 258,
   "id": "31515e29",
   "metadata": {},
   "outputs": [
    {
     "data": {
      "text/latex": [
       "$\\displaystyle T \\left(\\frac{C_{1} \\omega \\cos{\\left(\\frac{L \\omega}{c} \\right)}}{c} - \\frac{C_{2} \\omega \\sin{\\left(\\frac{L \\omega}{c} \\right)}}{c}\\right) e^{i \\omega t} + k \\left(C_{1} \\sin{\\left(\\frac{L \\omega}{c} \\right)} + C_{2} \\cos{\\left(\\frac{L \\omega}{c} \\right)}\\right) e^{i \\omega t} - m \\omega^{2} \\left(C_{1} \\sin{\\left(\\frac{L \\omega}{c} \\right)} + C_{2} \\cos{\\left(\\frac{L \\omega}{c} \\right)}\\right) e^{i \\omega t}$"
      ],
      "text/plain": [
       "T*(C1*omega*cos(L*omega/c)/c - C2*omega*sin(L*omega/c)/c)*exp(I*omega*t) + k*(C1*sin(L*omega/c) + C2*cos(L*omega/c))*exp(I*omega*t) - m*omega**2*(C1*sin(L*omega/c) + C2*cos(L*omega/c))*exp(I*omega*t)"
      ]
     },
     "metadata": {},
     "output_type": "display_data"
    }
   ],
   "source": [
    "BC_right = sp.simplify(BC_right.subs(w(x,t),W_sol*sp.exp(sp.I*omega*t))).subs(x,L)\n",
    "display(BC_right)"
   ]
  },
  {
   "cell_type": "markdown",
   "id": "4a601a28",
   "metadata": {},
   "source": [
    "$e^{i \\Omega t}$ is not dropped, so can dropped manually, not necessary:"
   ]
  },
  {
   "cell_type": "code",
   "execution_count": 259,
   "id": "bcc8a260",
   "metadata": {},
   "outputs": [
    {
     "data": {
      "text/latex": [
       "$\\displaystyle T \\left(\\frac{C_{1} \\omega \\cos{\\left(\\frac{L \\omega}{c} \\right)}}{c} - \\frac{C_{2} \\omega \\sin{\\left(\\frac{L \\omega}{c} \\right)}}{c}\\right) + k \\left(C_{1} \\sin{\\left(\\frac{L \\omega}{c} \\right)} + C_{2} \\cos{\\left(\\frac{L \\omega}{c} \\right)}\\right) - m \\omega^{2} \\left(C_{1} \\sin{\\left(\\frac{L \\omega}{c} \\right)} + C_{2} \\cos{\\left(\\frac{L \\omega}{c} \\right)}\\right)$"
      ],
      "text/plain": [
       "T*(C1*omega*cos(L*omega/c)/c - C2*omega*sin(L*omega/c)/c) + k*(C1*sin(L*omega/c) + C2*cos(L*omega/c)) - m*omega**2*(C1*sin(L*omega/c) + C2*cos(L*omega/c))"
      ]
     },
     "metadata": {},
     "output_type": "display_data"
    }
   ],
   "source": [
    "BC_right = BC_right.subs(sp.exp(sp.I*omega*t),1)\n",
    "display(BC_right)"
   ]
  },
  {
   "cell_type": "code",
   "execution_count": 260,
   "id": "1bf2ae4a",
   "metadata": {},
   "outputs": [
    {
     "data": {
      "text/latex": [
       "$\\displaystyle \\left[\\begin{matrix}0 & 1\\\\\\frac{T \\omega \\cos{\\left(\\frac{L \\omega}{c} \\right)}}{c} + k \\sin{\\left(\\frac{L \\omega}{c} \\right)} - m \\omega^{2} \\sin{\\left(\\frac{L \\omega}{c} \\right)} & - \\frac{T \\omega \\sin{\\left(\\frac{L \\omega}{c} \\right)}}{c} + k \\cos{\\left(\\frac{L \\omega}{c} \\right)} - m \\omega^{2} \\cos{\\left(\\frac{L \\omega}{c} \\right)}\\end{matrix}\\right]$"
      ],
      "text/plain": [
       "Matrix([\n",
       "[                                                                      0,                                                                        1],\n",
       "[T*omega*cos(L*omega/c)/c + k*sin(L*omega/c) - m*omega**2*sin(L*omega/c), -T*omega*sin(L*omega/c)/c + k*cos(L*omega/c) - m*omega**2*cos(L*omega/c)]])"
      ]
     },
     "metadata": {},
     "output_type": "display_data"
    }
   ],
   "source": [
    "Coeff_Matrix= sp.Matrix([[BC_left.diff(C1),BC_left.diff(C2)],\n",
    "                         [BC_right.diff(C1),BC_right.diff(C2)]])\n",
    "display(Coeff_Matrix)"
   ]
  },
  {
   "cell_type": "code",
   "execution_count": 261,
   "id": "4916701e",
   "metadata": {},
   "outputs": [
    {
     "data": {
      "text/latex": [
       "$\\displaystyle \\frac{- T \\omega \\cos{\\left(\\frac{L \\omega}{c} \\right)} - c k \\sin{\\left(\\frac{L \\omega}{c} \\right)} + c m \\omega^{2} \\sin{\\left(\\frac{L \\omega}{c} \\right)}}{c}$"
      ],
      "text/plain": [
       "(-T*omega*cos(L*omega/c) - c*k*sin(L*omega/c) + c*m*omega**2*sin(L*omega/c))/c"
      ]
     },
     "metadata": {},
     "output_type": "display_data"
    }
   ],
   "source": [
    "Frequency_Equation = sp.det(Coeff_Matrix)\n",
    "display(Frequency_Equation)"
   ]
  },
  {
   "cell_type": "markdown",
   "id": "588e6ca5",
   "metadata": {},
   "source": [
    "This equation should be solved numerically. The natural frequencies depend both on the string parameters and the mass and stiffness of the boundary"
   ]
  },
  {
   "cell_type": "code",
   "execution_count": 269,
   "id": "3a3b3370",
   "metadata": {},
   "outputs": [],
   "source": [
    "Frequency_Equation_subs = Frequency_Equation.subs([(L,1),(c,2),(T,10),(k,20),(m,7)])"
   ]
  },
  {
   "cell_type": "code",
   "execution_count": 270,
   "id": "1290cb62",
   "metadata": {},
   "outputs": [
    {
     "data": {
      "text/latex": [
       "$\\displaystyle \\left\\{\\omega\\; \\middle|\\; \\omega \\in \\mathbb{C} \\wedge 7 \\omega^{2} \\sin{\\left(\\frac{\\omega}{2} \\right)} - 5 \\omega \\cos{\\left(\\frac{\\omega}{2} \\right)} - 20 \\sin{\\left(\\frac{\\omega}{2} \\right)} = 0 \\right\\}$"
      ],
      "text/plain": [
       "ConditionSet(omega, Eq(7*omega**2*sin(omega/2) - 5*omega*cos(omega/2) - 20*sin(omega/2), 0), Complexes)"
      ]
     },
     "metadata": {},
     "output_type": "display_data"
    }
   ],
   "source": [
    "sol = sp.solveset(sp.Eq(Frequency_Equation_subs,0),omega)\n",
    "display(sol)"
   ]
  },
  {
   "cell_type": "code",
   "execution_count": 271,
   "id": "e4924cf7",
   "metadata": {},
   "outputs": [
    {
     "data": {
      "text/plain": [
       "[1.9449999999999998,\n",
       " 6.515,\n",
       " 12.685,\n",
       " 18.925,\n",
       " 25.185,\n",
       " 31.465,\n",
       " 37.73500000000001,\n",
       " 44.015]"
      ]
     },
     "metadata": {},
     "output_type": "display_data"
    }
   ],
   "source": [
    "Dimensionless_Natural_Frequency = []\n",
    "step = 0.01\n",
    "for i in range(5000):\n",
    "    xi = i * step\n",
    "    left_value = Frequency_Equation_subs.subs(omega,xi)\n",
    "    right_value = Frequency_Equation_subs.subs(omega,xi+step)\n",
    "    if left_value*right_value < 0:\n",
    "        Dimensionless_Natural_Frequency.append(xi+step/2)\n",
    "        \n",
    "display(Dimensionless_Natural_Frequency)"
   ]
  },
  {
   "cell_type": "code",
   "execution_count": null,
   "id": "00b27c12",
   "metadata": {},
   "outputs": [],
   "source": []
  }
 ],
 "metadata": {
  "kernelspec": {
   "display_name": "Python 3 (ipykernel)",
   "language": "python",
   "name": "python3"
  },
  "language_info": {
   "codemirror_mode": {
    "name": "ipython",
    "version": 3
   },
   "file_extension": ".py",
   "mimetype": "text/x-python",
   "name": "python",
   "nbconvert_exporter": "python",
   "pygments_lexer": "ipython3",
   "version": "3.9.13"
  }
 },
 "nbformat": 4,
 "nbformat_minor": 5
}
